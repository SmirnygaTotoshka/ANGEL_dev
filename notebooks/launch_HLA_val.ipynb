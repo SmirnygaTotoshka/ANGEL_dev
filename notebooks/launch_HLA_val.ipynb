{
 "cells": [
  {
   "cell_type": "code",
   "execution_count": 1,
   "metadata": {
    "collapsed": true,
    "ExecuteTime": {
     "end_time": "2023-05-18T06:40:19.651792325Z",
     "start_time": "2023-05-18T06:40:19.453042382Z"
    }
   },
   "outputs": [
    {
     "name": "stderr",
     "output_type": "stream",
     "text": [
      "/home/stotoshka/Soft/anaconda3/envs/research/lib/python3.9/site-packages/paramiko/transport.py:219: CryptographyDeprecationWarning: Blowfish has been deprecated\n",
      "  \"class\": algorithms.Blowfish,\n"
     ]
    }
   ],
   "source": [
    "import os\n",
    "from glob import glob\n",
    "\n",
    "import numpy as np\n",
    "import pandas as pd\n",
    "import re\n",
    "import paramiko\n",
    "from getpass import getpass\n",
    "import traceback\n",
    "import numpy as np\n",
    "import matplotlib.pyplot as plt\n",
    "from sklearn import metrics"
   ]
  },
  {
   "cell_type": "code",
   "execution_count": 2,
   "outputs": [],
   "source": [
    "os.chdir(\"/home/stotoshka/Documents/ANGEL_dev\")"
   ],
   "metadata": {
    "collapsed": false,
    "ExecuteTime": {
     "end_time": "2023-05-18T06:40:19.654130218Z",
     "start_time": "2023-05-18T06:40:19.652512784Z"
    }
   }
  },
  {
   "cell_type": "code",
   "execution_count": 48,
   "outputs": [
    {
     "name": "stdout",
     "output_type": "stream",
     "text": [
      "Success\n",
      "Convertation\n",
      "Something went wrong\n",
      "\n",
      "Traceback (most recent call last):\n",
      "  File \"/home/stotoshka/Documents/ANGEL_dev/tools/SeqToSDF.py\", line 209, in <module>\n",
      "    for proc, start in zip(range(number_threads), range(0, total, size_part)):\n",
      "ValueError: range() arg 3 must not be zero\n",
      "--- 0.003021717071533203 seconds ---\n",
      "Success\n",
      "Convertation\n",
      "Something went wrong\n",
      "\n",
      "Traceback (most recent call last):\n",
      "  File \"/home/stotoshka/Documents/ANGEL_dev/tools/SeqToSDF.py\", line 209, in <module>\n",
      "    for proc, start in zip(range(number_threads), range(0, total, size_part)):\n",
      "ValueError: range() arg 3 must not be zero\n",
      "--- 0.0027680397033691406 seconds ---\n",
      "Success\n",
      "Convertation\n",
      "Something went wrong\n",
      "\n",
      "Traceback (most recent call last):\n",
      "  File \"/home/stotoshka/Documents/ANGEL_dev/tools/SeqToSDF.py\", line 209, in <module>\n",
      "    for proc, start in zip(range(number_threads), range(0, total, size_part)):\n",
      "ValueError: range() arg 3 must not be zero\n",
      "--- 0.0027244091033935547 seconds ---\n",
      "Success\n",
      "Convertation\n",
      "Something went wrong\n",
      "\n",
      "Traceback (most recent call last):\n",
      "  File \"/home/stotoshka/Documents/ANGEL_dev/tools/SeqToSDF.py\", line 209, in <module>\n",
      "    for proc, start in zip(range(number_threads), range(0, total, size_part)):\n",
      "ValueError: range() arg 3 must not be zero\n",
      "--- 0.0026509761810302734 seconds ---\n",
      "Success\n",
      "Convertation\n",
      "Success\n",
      "--- 0.11769890785217285 seconds ---\n",
      "Success\n",
      "Convertation\n",
      "Success\n",
      "--- 0.0663290023803711 seconds ---\n",
      "Success\n",
      "Convertation\n",
      "Success\n",
      "--- 0.05006980895996094 seconds ---\n",
      "Success\n",
      "Convertation\n",
      "Something went wrong\n",
      "\n",
      "Traceback (most recent call last):\n",
      "  File \"/home/stotoshka/Documents/ANGEL_dev/tools/SeqToSDF.py\", line 209, in <module>\n",
      "    for proc, start in zip(range(number_threads), range(0, total, size_part)):\n",
      "ValueError: range() arg 3 must not be zero\n",
      "--- 0.0027205944061279297 seconds ---\n",
      "Success\n",
      "Convertation\n",
      "Something went wrong\n",
      "\n",
      "Traceback (most recent call last):\n",
      "  File \"/home/stotoshka/Documents/ANGEL_dev/tools/SeqToSDF.py\", line 209, in <module>\n",
      "    for proc, start in zip(range(number_threads), range(0, total, size_part)):\n",
      "ValueError: range() arg 3 must not be zero\n",
      "--- 0.0029973983764648438 seconds ---\n",
      "Success\n",
      "Convertation\n",
      "Something went wrong\n",
      "\n",
      "Traceback (most recent call last):\n",
      "  File \"/home/stotoshka/Documents/ANGEL_dev/tools/SeqToSDF.py\", line 209, in <module>\n",
      "    for proc, start in zip(range(number_threads), range(0, total, size_part)):\n",
      "ValueError: range() arg 3 must not be zero\n",
      "--- 0.003084421157836914 seconds ---\n",
      "Success\n",
      "Convertation\n",
      "Success\n",
      "--- 0.04324960708618164 seconds ---\n",
      "Success\n",
      "Convertation\n",
      "Success\n",
      "--- 0.10001850128173828 seconds ---\n",
      "Success\n",
      "Convertation\n",
      "Success\n",
      "--- 0.08792829513549805 seconds ---\n",
      "Success\n",
      "Convertation\n",
      "Success\n",
      "--- 0.0723879337310791 seconds ---\n",
      "Success\n",
      "Convertation\n",
      "Something went wrong\n",
      "\n",
      "Traceback (most recent call last):\n",
      "  File \"/home/stotoshka/Documents/ANGEL_dev/tools/SeqToSDF.py\", line 209, in <module>\n",
      "    for proc, start in zip(range(number_threads), range(0, total, size_part)):\n",
      "ValueError: range() arg 3 must not be zero\n",
      "--- 0.0027015209197998047 seconds ---\n",
      "Success\n",
      "Convertation\n",
      "Something went wrong\n",
      "\n",
      "Traceback (most recent call last):\n",
      "  File \"/home/stotoshka/Documents/ANGEL_dev/tools/SeqToSDF.py\", line 209, in <module>\n",
      "    for proc, start in zip(range(number_threads), range(0, total, size_part)):\n",
      "ValueError: range() arg 3 must not be zero\n",
      "--- 0.002676725387573242 seconds ---\n",
      "Success\n",
      "Convertation\n",
      "Success\n",
      "--- 0.0420684814453125 seconds ---\n",
      "Success\n",
      "Convertation\n",
      "Success\n",
      "--- 0.11758041381835938 seconds ---\n",
      "Success\n",
      "Convertation\n",
      "Something went wrong\n",
      "\n",
      "Traceback (most recent call last):\n",
      "  File \"/home/stotoshka/Documents/ANGEL_dev/tools/SeqToSDF.py\", line 209, in <module>\n",
      "    for proc, start in zip(range(number_threads), range(0, total, size_part)):\n",
      "ValueError: range() arg 3 must not be zero\n",
      "--- 0.0027589797973632812 seconds ---\n",
      "Success\n",
      "Convertation\n",
      "Success\n",
      "--- 0.14397811889648438 seconds ---\n",
      "Success\n",
      "Convertation\n",
      "Something went wrong\n",
      "\n",
      "Traceback (most recent call last):\n",
      "  File \"/home/stotoshka/Documents/ANGEL_dev/tools/SeqToSDF.py\", line 209, in <module>\n",
      "    for proc, start in zip(range(number_threads), range(0, total, size_part)):\n",
      "ValueError: range() arg 3 must not be zero\n",
      "--- 0.002669811248779297 seconds ---\n",
      "Success\n",
      "Convertation\n",
      "Something went wrong\n",
      "\n",
      "Traceback (most recent call last):\n",
      "  File \"/home/stotoshka/Documents/ANGEL_dev/tools/SeqToSDF.py\", line 209, in <module>\n",
      "    for proc, start in zip(range(number_threads), range(0, total, size_part)):\n",
      "ValueError: range() arg 3 must not be zero\n",
      "--- 0.0029761791229248047 seconds ---\n",
      "Success\n",
      "Convertation\n",
      "Something went wrong\n",
      "\n",
      "Traceback (most recent call last):\n",
      "  File \"/home/stotoshka/Documents/ANGEL_dev/tools/SeqToSDF.py\", line 209, in <module>\n",
      "    for proc, start in zip(range(number_threads), range(0, total, size_part)):\n",
      "ValueError: range() arg 3 must not be zero\n",
      "--- 0.003081083297729492 seconds ---\n",
      "Success\n",
      "Convertation\n",
      "Something went wrong\n",
      "\n",
      "Traceback (most recent call last):\n",
      "  File \"/home/stotoshka/Documents/ANGEL_dev/tools/SeqToSDF.py\", line 209, in <module>\n",
      "    for proc, start in zip(range(number_threads), range(0, total, size_part)):\n",
      "ValueError: range() arg 3 must not be zero\n",
      "--- 0.0029458999633789062 seconds ---\n",
      "Success\n",
      "Convertation\n",
      "Success\n",
      "--- 0.06281375885009766 seconds ---\n",
      "Success\n",
      "Convertation\n",
      "Something went wrong\n",
      "\n",
      "Traceback (most recent call last):\n",
      "  File \"/home/stotoshka/Documents/ANGEL_dev/tools/SeqToSDF.py\", line 209, in <module>\n",
      "    for proc, start in zip(range(number_threads), range(0, total, size_part)):\n",
      "ValueError: range() arg 3 must not be zero\n",
      "--- 0.0026569366455078125 seconds ---\n",
      "Success\n",
      "Convertation\n",
      "Success\n",
      "--- 0.04814505577087402 seconds ---\n",
      "Success\n",
      "Convertation\n",
      "Something went wrong\n",
      "\n",
      "Traceback (most recent call last):\n",
      "  File \"/home/stotoshka/Documents/ANGEL_dev/tools/SeqToSDF.py\", line 209, in <module>\n",
      "    for proc, start in zip(range(number_threads), range(0, total, size_part)):\n",
      "ValueError: range() arg 3 must not be zero\n",
      "--- 0.002657175064086914 seconds ---\n",
      "Success\n",
      "Convertation\n",
      "Success\n",
      "--- 0.0737159252166748 seconds ---\n",
      "Success\n",
      "Convertation\n",
      "Something went wrong\n",
      "\n",
      "Traceback (most recent call last):\n",
      "  File \"/home/stotoshka/Documents/ANGEL_dev/tools/SeqToSDF.py\", line 209, in <module>\n",
      "    for proc, start in zip(range(number_threads), range(0, total, size_part)):\n",
      "ValueError: range() arg 3 must not be zero\n",
      "--- 0.002791881561279297 seconds ---\n",
      "Success\n",
      "Convertation\n",
      "Success\n",
      "--- 0.05475926399230957 seconds ---\n",
      "Success\n",
      "Convertation\n",
      "Success\n",
      "--- 0.06802105903625488 seconds ---\n",
      "CPU times: user 19.5 ms, sys: 7.79 ms, total: 27.2 ms\n",
      "Wall time: 11.4 s\n"
     ]
    }
   ],
   "source": [
    "%%time\n",
    "for file in os.listdir(\"HLA/data/validation/9mer\"):\n",
    "\tpath_to_config = \"HLA/data/converter_config.json\"\n",
    "\tcommand = f\"python tools/generateConfigForConverter.py -i {os.path.join(os.getcwd(),'HLA/data/validation/9mer',file)} -o {os.path.join(os.getcwd(),'HLA/data/sdf')} -c peptide -u -t 10 {path_to_config}\"\n",
    "\tos.system(command)\n",
    "\tprint(\"Convertation\")\n",
    "\tconvert_command = f\"python tools/SeqToSDF.py {path_to_config}\"\n",
    "\tos.system(convert_command)"
   ],
   "metadata": {
    "collapsed": false,
    "ExecuteTime": {
     "end_time": "2023-05-18T07:30:09.086792456Z",
     "start_time": "2023-05-18T07:29:57.733038169Z"
    }
   }
  },
  {
   "cell_type": "code",
   "execution_count": null,
   "outputs": [],
   "source": [
    "%%time\n",
    "for file in os.listdir(\"HLA/data/validation/10mer\"):\n",
    "\tpath_to_config = \"HLA/data/converter_config.json\"\n",
    "\tcommand = f\"python tools/generateConfigForConverter.py -i {os.path.join(os.getcwd(),'HLA/data/validation/10mer',file)} -o {os.path.join(os.getcwd(),'HLA/data/sdf')} -c peptide -u -t 10 {path_to_config}\"\n",
    "\tos.system(command)\n",
    "\tprint(\"Convertation\")\n",
    "\tconvert_command = f\"python tools/SeqToSDF.py {path_to_config}\"\n",
    "\tos.system(convert_command)"
   ],
   "metadata": {
    "collapsed": false
   }
  },
  {
   "cell_type": "code",
   "execution_count": 4,
   "outputs": [
    {
     "name": "stdout",
     "output_type": "stream",
     "text": [
      "Success\n",
      "Convertation\n",
      "Success\n",
      "--- 882.5747103691101 seconds ---\n",
      "CPU times: user 19.4 ms, sys: 2.82 ms, total: 22.2 ms\n",
      "Wall time: 14min 42s\n"
     ]
    },
    {
     "data": {
      "text/plain": "0"
     },
     "execution_count": 4,
     "metadata": {},
     "output_type": "execute_result"
    }
   ],
   "source": [
    "%%time\n",
    "path_to_config = \"TAP/data/converter_config.json\"\n",
    "command = f\"python tools/generateConfigForConverter.py -i {os.path.join(os.getcwd(),'HLA/data/train/total_train_HLA.csv')} -o {os.path.join(os.getcwd(),'HLA/data/sdf')} -c epitope -u -t 10 {path_to_config}\"\n",
    "os.system(command)\n",
    "print(\"Convertation\")\n",
    "convert_command = f\"python tools/SeqToSDF.py {path_to_config}\"\n",
    "os.system(convert_command)"
   ],
   "metadata": {
    "collapsed": false,
    "ExecuteTime": {
     "end_time": "2023-05-16T08:32:20.831033996Z",
     "start_time": "2023-05-16T08:17:37.819685917Z"
    }
   }
  },
  {
   "cell_type": "code",
   "execution_count": 5,
   "outputs": [],
   "source": [
    "%%bash\n",
    "cd /home/stotoshka/Documents/ANGEL_dev\n",
    "rm HLA/data/sdf/*.txt"
   ],
   "metadata": {
    "collapsed": false,
    "ExecuteTime": {
     "end_time": "2023-05-16T08:32:20.844421547Z",
     "start_time": "2023-05-16T08:32:20.820633545Z"
    }
   }
  },
  {
   "cell_type": "code",
   "execution_count": 4,
   "outputs": [
    {
     "name": "stdout",
     "output_type": "stream",
     "text": [
      "['/run/user/1000/gvfs/smb-share:server=192.168.0.10,share=diplom/ANGEL/HLA/HLA-A0101.sdf', '/run/user/1000/gvfs/smb-share:server=192.168.0.10,share=diplom/ANGEL/HLA/HLA-A0201.sdf', '/run/user/1000/gvfs/smb-share:server=192.168.0.10,share=diplom/ANGEL/HLA/HLA-A0202.sdf', '/run/user/1000/gvfs/smb-share:server=192.168.0.10,share=diplom/ANGEL/HLA/HLA-A0205.sdf', '/run/user/1000/gvfs/smb-share:server=192.168.0.10,share=diplom/ANGEL/HLA/HLA-A0206.sdf', '/run/user/1000/gvfs/smb-share:server=192.168.0.10,share=diplom/ANGEL/HLA/HLA-A0220.sdf', '/run/user/1000/gvfs/smb-share:server=192.168.0.10,share=diplom/ANGEL/HLA/HLA-A0301.sdf', '/run/user/1000/gvfs/smb-share:server=192.168.0.10,share=diplom/ANGEL/HLA/HLA-A1101.sdf', '/run/user/1000/gvfs/smb-share:server=192.168.0.10,share=diplom/ANGEL/HLA/HLA-A2301.sdf', '/run/user/1000/gvfs/smb-share:server=192.168.0.10,share=diplom/ANGEL/HLA/HLA-A2402.sdf', '/run/user/1000/gvfs/smb-share:server=192.168.0.10,share=diplom/ANGEL/HLA/HLA-A2501.sdf', '/run/user/1000/gvfs/smb-share:server=192.168.0.10,share=diplom/ANGEL/HLA/HLA-A2601.sdf', '/run/user/1000/gvfs/smb-share:server=192.168.0.10,share=diplom/ANGEL/HLA/HLA-A2901.sdf', '/run/user/1000/gvfs/smb-share:server=192.168.0.10,share=diplom/ANGEL/HLA/HLA-A2902.sdf', '/run/user/1000/gvfs/smb-share:server=192.168.0.10,share=diplom/ANGEL/HLA/HLA-A3001.sdf', '/run/user/1000/gvfs/smb-share:server=192.168.0.10,share=diplom/ANGEL/HLA/HLA-A3101.sdf', '/run/user/1000/gvfs/smb-share:server=192.168.0.10,share=diplom/ANGEL/HLA/HLA-A3201.sdf', '/run/user/1000/gvfs/smb-share:server=192.168.0.10,share=diplom/ANGEL/HLA/HLA-A6801.sdf', '/run/user/1000/gvfs/smb-share:server=192.168.0.10,share=diplom/ANGEL/HLA/HLA-A6802.sdf', '/run/user/1000/gvfs/smb-share:server=192.168.0.10,share=diplom/ANGEL/HLA/HLA-B0702.sdf', '/run/user/1000/gvfs/smb-share:server=192.168.0.10,share=diplom/ANGEL/HLA/HLA-B0801.sdf', '/run/user/1000/gvfs/smb-share:server=192.168.0.10,share=diplom/ANGEL/HLA/HLA-B1302.sdf', '/run/user/1000/gvfs/smb-share:server=192.168.0.10,share=diplom/ANGEL/HLA/HLA-B1401.sdf', '/run/user/1000/gvfs/smb-share:server=192.168.0.10,share=diplom/ANGEL/HLA/HLA-B1402.sdf', '/run/user/1000/gvfs/smb-share:server=192.168.0.10,share=diplom/ANGEL/HLA/HLA-B1501.sdf', '/run/user/1000/gvfs/smb-share:server=192.168.0.10,share=diplom/ANGEL/HLA/HLA-B1503.sdf', '/run/user/1000/gvfs/smb-share:server=192.168.0.10,share=diplom/ANGEL/HLA/HLA-B1510.sdf', '/run/user/1000/gvfs/smb-share:server=192.168.0.10,share=diplom/ANGEL/HLA/HLA-B1511.sdf', '/run/user/1000/gvfs/smb-share:server=192.168.0.10,share=diplom/ANGEL/HLA/HLA-B1518.sdf', '/run/user/1000/gvfs/smb-share:server=192.168.0.10,share=diplom/ANGEL/HLA/HLA-B1801.sdf', '/run/user/1000/gvfs/smb-share:server=192.168.0.10,share=diplom/ANGEL/HLA/HLA-B1803.sdf', '/run/user/1000/gvfs/smb-share:server=192.168.0.10,share=diplom/ANGEL/HLA/HLA-B2705.sdf', '/run/user/1000/gvfs/smb-share:server=192.168.0.10,share=diplom/ANGEL/HLA/HLA-B3501.sdf', '/run/user/1000/gvfs/smb-share:server=192.168.0.10,share=diplom/ANGEL/HLA/HLA-B3502.sdf', '/run/user/1000/gvfs/smb-share:server=192.168.0.10,share=diplom/ANGEL/HLA/HLA-B3503.sdf', '/run/user/1000/gvfs/smb-share:server=192.168.0.10,share=diplom/ANGEL/HLA/HLA-B3508.sdf', '/run/user/1000/gvfs/smb-share:server=192.168.0.10,share=diplom/ANGEL/HLA/HLA-B3701.sdf', '/run/user/1000/gvfs/smb-share:server=192.168.0.10,share=diplom/ANGEL/HLA/HLA-B3801.sdf', '/run/user/1000/gvfs/smb-share:server=192.168.0.10,share=diplom/ANGEL/HLA/HLA-B3901.sdf', '/run/user/1000/gvfs/smb-share:server=192.168.0.10,share=diplom/ANGEL/HLA/HLA-B3906.sdf', '/run/user/1000/gvfs/smb-share:server=192.168.0.10,share=diplom/ANGEL/HLA/HLA-B3924.sdf', '/run/user/1000/gvfs/smb-share:server=192.168.0.10,share=diplom/ANGEL/HLA/HLA-B4001.sdf', '/run/user/1000/gvfs/smb-share:server=192.168.0.10,share=diplom/ANGEL/HLA/HLA-B4002.sdf', '/run/user/1000/gvfs/smb-share:server=192.168.0.10,share=diplom/ANGEL/HLA/HLA-B4101.sdf', '/run/user/1000/gvfs/smb-share:server=192.168.0.10,share=diplom/ANGEL/HLA/HLA-B4402.sdf', '/run/user/1000/gvfs/smb-share:server=192.168.0.10,share=diplom/ANGEL/HLA/HLA-B4403.sdf', '/run/user/1000/gvfs/smb-share:server=192.168.0.10,share=diplom/ANGEL/HLA/HLA-B4501.sdf', '/run/user/1000/gvfs/smb-share:server=192.168.0.10,share=diplom/ANGEL/HLA/HLA-B4701.sdf', '/run/user/1000/gvfs/smb-share:server=192.168.0.10,share=diplom/ANGEL/HLA/HLA-B5001.sdf', '/run/user/1000/gvfs/smb-share:server=192.168.0.10,share=diplom/ANGEL/HLA/HLA-B5101.sdf', '/run/user/1000/gvfs/smb-share:server=192.168.0.10,share=diplom/ANGEL/HLA/HLA-B5501.sdf', '/run/user/1000/gvfs/smb-share:server=192.168.0.10,share=diplom/ANGEL/HLA/HLA-B5601.sdf', '/run/user/1000/gvfs/smb-share:server=192.168.0.10,share=diplom/ANGEL/HLA/HLA-B5701.sdf', '/run/user/1000/gvfs/smb-share:server=192.168.0.10,share=diplom/ANGEL/HLA/HLA-B5801.sdf', '/run/user/1000/gvfs/smb-share:server=192.168.0.10,share=diplom/ANGEL/HLA/HLA-B7301.sdf', '/run/user/1000/gvfs/smb-share:server=192.168.0.10,share=diplom/ANGEL/HLA/HLA-C0102.sdf', '/run/user/1000/gvfs/smb-share:server=192.168.0.10,share=diplom/ANGEL/HLA/HLA-C0202.sdf', '/run/user/1000/gvfs/smb-share:server=192.168.0.10,share=diplom/ANGEL/HLA/HLA-C0210.sdf', '/run/user/1000/gvfs/smb-share:server=192.168.0.10,share=diplom/ANGEL/HLA/HLA-C0303.sdf', '/run/user/1000/gvfs/smb-share:server=192.168.0.10,share=diplom/ANGEL/HLA/HLA-C0304.sdf', '/run/user/1000/gvfs/smb-share:server=192.168.0.10,share=diplom/ANGEL/HLA/HLA-C0401.sdf', '/run/user/1000/gvfs/smb-share:server=192.168.0.10,share=diplom/ANGEL/HLA/HLA-C0501.sdf', '/run/user/1000/gvfs/smb-share:server=192.168.0.10,share=diplom/ANGEL/HLA/HLA-C0602.sdf', '/run/user/1000/gvfs/smb-share:server=192.168.0.10,share=diplom/ANGEL/HLA/HLA-C0701.sdf', '/run/user/1000/gvfs/smb-share:server=192.168.0.10,share=diplom/ANGEL/HLA/HLA-C0702.sdf', '/run/user/1000/gvfs/smb-share:server=192.168.0.10,share=diplom/ANGEL/HLA/HLA-C0704.sdf', '/run/user/1000/gvfs/smb-share:server=192.168.0.10,share=diplom/ANGEL/HLA/HLA-C0802.sdf', '/run/user/1000/gvfs/smb-share:server=192.168.0.10,share=diplom/ANGEL/HLA/HLA-C1203.sdf', '/run/user/1000/gvfs/smb-share:server=192.168.0.10,share=diplom/ANGEL/HLA/HLA-C1402.sdf', '/run/user/1000/gvfs/smb-share:server=192.168.0.10,share=diplom/ANGEL/HLA/HLA-C1505.sdf', '/run/user/1000/gvfs/smb-share:server=192.168.0.10,share=diplom/ANGEL/HLA/HLA-C1601.sdf']\n"
     ]
    }
   ],
   "source": [
    "test_files = glob(\"/run/user/1000/gvfs/smb-share:server=192.168.0.10,share=diplom/ANGEL/HLA/HLA*.sdf\")\n",
    "print(test_files)"
   ],
   "metadata": {
    "collapsed": false,
    "ExecuteTime": {
     "end_time": "2023-05-16T10:53:12.065717040Z",
     "start_time": "2023-05-16T10:53:11.997826197Z"
    }
   }
  },
  {
   "cell_type": "code",
   "execution_count": 6,
   "outputs": [
    {
     "name": "stdout",
     "output_type": "stream",
     "text": [
      "HLA-A0101\n",
      "Success\n",
      "HLA-A0201\n",
      "Success\n",
      "HLA-A0202\n",
      "Success\n",
      "HLA-A0205\n",
      "Success\n",
      "HLA-A0206\n",
      "Success\n",
      "HLA-A0220\n",
      "Success\n",
      "HLA-A0301\n",
      "Success\n",
      "HLA-A1101\n",
      "Success\n",
      "HLA-A2301\n",
      "Success\n",
      "HLA-A2402\n",
      "Success\n",
      "HLA-A2501\n",
      "Success\n",
      "HLA-A2601\n",
      "Success\n",
      "HLA-A2901\n",
      "Success\n",
      "HLA-A2902\n",
      "Success\n",
      "HLA-A3001\n",
      "Success\n",
      "HLA-A3101\n",
      "Success\n",
      "HLA-A3201\n",
      "Success\n",
      "HLA-A6801\n",
      "Success\n",
      "HLA-A6802\n",
      "Success\n",
      "HLA-B0702\n",
      "Success\n",
      "HLA-B0801\n",
      "Success\n",
      "HLA-B1302\n",
      "Success\n",
      "HLA-B1401\n",
      "Success\n",
      "HLA-B1402\n",
      "Success\n",
      "HLA-B1501\n",
      "Success\n",
      "HLA-B1503\n",
      "Success\n",
      "HLA-B1510\n",
      "Success\n",
      "HLA-B1511\n",
      "Success\n",
      "HLA-B1518\n",
      "Success\n",
      "HLA-B1801\n",
      "Success\n",
      "HLA-B1803\n",
      "Success\n",
      "HLA-B2705\n",
      "Success\n",
      "HLA-B3501\n",
      "Success\n",
      "HLA-B3502\n",
      "Success\n",
      "HLA-B3503\n",
      "Success\n",
      "HLA-B3508\n",
      "Success\n",
      "HLA-B3701\n",
      "Success\n",
      "HLA-B3801\n",
      "Success\n",
      "HLA-B3901\n",
      "Success\n",
      "HLA-B3906\n",
      "Success\n",
      "HLA-B3924\n",
      "Success\n",
      "HLA-B4001\n",
      "Success\n",
      "HLA-B4002\n",
      "Success\n",
      "HLA-B4101\n",
      "Success\n",
      "HLA-B4402\n",
      "Success\n",
      "HLA-B4403\n",
      "Success\n",
      "HLA-B4501\n",
      "Success\n",
      "HLA-B4701\n",
      "Success\n",
      "HLA-B5001\n",
      "Success\n",
      "HLA-B5101\n",
      "Success\n",
      "HLA-B5501\n",
      "Success\n",
      "HLA-B5601\n",
      "Success\n",
      "HLA-B5701\n",
      "Success\n",
      "HLA-B5801\n",
      "Success\n",
      "HLA-B7301\n",
      "Success\n",
      "HLA-C0102\n",
      "Success\n",
      "HLA-C0202\n",
      "Success\n",
      "HLA-C0210\n",
      "Success\n",
      "HLA-C0303\n",
      "Success\n",
      "HLA-C0304\n",
      "Success\n",
      "HLA-C0401\n",
      "Success\n",
      "HLA-C0501\n",
      "Success\n",
      "HLA-C0602\n",
      "Success\n",
      "HLA-C0701\n",
      "Success\n",
      "HLA-C0702\n",
      "Success\n",
      "HLA-C0704\n",
      "Success\n",
      "HLA-C0802\n",
      "Success\n",
      "HLA-C1203\n",
      "Success\n",
      "HLA-C1402\n",
      "Success\n",
      "HLA-C1505\n",
      "Success\n",
      "HLA-C1601\n",
      "Success\n"
     ]
    }
   ],
   "source": [
    "for file in test_files:\n",
    "\tname = os.path.splitext(os.path.basename(file))[0]\n",
    "\tprint(f\"{name}\")\n",
    "\tcommand = f\"python tools/generateConfigForPrediction.py -m models/total_HLA_6.MSAR -s {os.path.basename(file)} -a activity -p results /run/user/1000/gvfs/smb-share:server=192.168.0.10,share=diplom/ANGEL/HLA/{name}_val.txt\"\n",
    "\tos.system(command)"
   ],
   "metadata": {
    "collapsed": false,
    "ExecuteTime": {
     "end_time": "2023-05-16T10:55:55.561753796Z",
     "start_time": "2023-05-16T10:55:49.342597823Z"
    }
   }
  },
  {
   "cell_type": "code",
   "execution_count": 7,
   "outputs": [],
   "source": [
    "def checkValidation(path):\n",
    "\ttry:\n",
    "\t\tf=False\n",
    "\t\twith open(path,\"r\",encoding=\"cp1252\") as log:\n",
    "\t\t\tfor line in log:\n",
    "\t\t\t\tif \"are predicted\" in line:\n",
    "\t\t\t\t\tcomps = line.strip().split(\" \")\n",
    "\t\t\t\t\tif int(comps[0]) == int(comps[2]):\n",
    "\t\t\t\t\t\tf = True\n",
    "\t\t\t\t\telse:\n",
    "\t\t\t\t\t\tf = False\n",
    "\texcept:\n",
    "\t\ttraceback.print_exc()\n",
    "\tfinally:\n",
    "\t\treturn f"
   ],
   "metadata": {
    "collapsed": false,
    "ExecuteTime": {
     "end_time": "2023-05-16T10:57:31.469102510Z",
     "start_time": "2023-05-16T10:57:31.463284027Z"
    }
   }
  },
  {
   "cell_type": "code",
   "execution_count": 8,
   "outputs": [
    {
     "name": "stdout",
     "output_type": "stream",
     "text": [
      "['HLA-A0101_val.txt', 'HLA-A0201_val.txt', 'HLA-A0202_val.txt', 'HLA-A0205_val.txt', 'HLA-A0206_val.txt', 'HLA-A0220_val.txt', 'HLA-A0301_val.txt', 'HLA-A1101_val.txt', 'HLA-A2301_val.txt', 'HLA-A2402_val.txt', 'HLA-A2501_val.txt', 'HLA-A2601_val.txt', 'HLA-A2901_val.txt', 'HLA-A2902_val.txt', 'HLA-A3001_val.txt', 'HLA-A3101_val.txt', 'HLA-A3201_val.txt', 'HLA-A6801_val.txt', 'HLA-A6802_val.txt', 'HLA-B0702_val.txt', 'HLA-B0801_val.txt', 'HLA-B1302_val.txt', 'HLA-B1401_val.txt', 'HLA-B1402_val.txt', 'HLA-B1501_val.txt', 'HLA-B1503_val.txt', 'HLA-B1510_val.txt', 'HLA-B1511_val.txt', 'HLA-B1518_val.txt', 'HLA-B1801_val.txt', 'HLA-B1803_val.txt', 'HLA-B2705_val.txt', 'HLA-B3501_val.txt', 'HLA-B3502_val.txt', 'HLA-B3503_val.txt', 'HLA-B3508_val.txt', 'HLA-B3701_val.txt', 'HLA-B3801_val.txt', 'HLA-B3901_val.txt', 'HLA-B3906_val.txt', 'HLA-B3924_val.txt', 'HLA-B4001_val.txt', 'HLA-B4002_val.txt', 'HLA-B4101_val.txt', 'HLA-B4402_val.txt', 'HLA-B4403_val.txt', 'HLA-B4501_val.txt', 'HLA-B4701_val.txt', 'HLA-B5001_val.txt', 'HLA-B5101_val.txt', 'HLA-B5501_val.txt', 'HLA-B5601_val.txt', 'HLA-B5701_val.txt', 'HLA-B5801_val.txt', 'HLA-B7301_val.txt', 'HLA-C0102_val.txt', 'HLA-C0202_val.txt', 'HLA-C0210_val.txt', 'HLA-C0303_val.txt', 'HLA-C0304_val.txt', 'HLA-C0401_val.txt', 'HLA-C0501_val.txt', 'HLA-C0602_val.txt', 'HLA-C0701_val.txt', 'HLA-C0702_val.txt', 'HLA-C0704_val.txt', 'HLA-C0802_val.txt', 'HLA-C1203_val.txt', 'HLA-C1402_val.txt', 'HLA-C1505_val.txt', 'HLA-C1601_val.txt']\n"
     ]
    }
   ],
   "source": [
    "val_tasks =[os.path.basename(p) for p in glob(\"/run/user/1000/gvfs/smb-share:server=192.168.0.10,share=diplom/ANGEL/HLA/HLA*.txt\")]\n",
    "val_tasks.sort(key=len)\n",
    "print(val_tasks)"
   ],
   "metadata": {
    "collapsed": false,
    "ExecuteTime": {
     "end_time": "2023-05-16T10:57:54.553931913Z",
     "start_time": "2023-05-16T10:57:54.469703704Z"
    }
   }
  },
  {
   "cell_type": "code",
   "execution_count": 10,
   "outputs": [
    {
     "name": "stderr",
     "output_type": "stream",
     "text": [
      "Traceback (most recent call last):\n",
      "  File \"/tmp/ipykernel_6162/10625338.py\", line 4, in checkValidation\n",
      "    with open(path,\"r\",encoding=\"cp1252\") as log:\n",
      "  File \"/home/stotoshka/Soft/anaconda3/envs/research/lib/python3.9/site-packages/IPython/core/interactiveshell.py\", line 282, in _modified_open\n",
      "    return io_open(file, *args, **kwargs)\n",
      "FileNotFoundError: [Errno 2] No such file or directory: '/run/user/1000/gvfs/smb-share:server=192.168.0.10,share=diplom/ANGEL/HLA/results/HLA-A0101-total_HLA_6.HST'\n",
      "Traceback (most recent call last):\n",
      "  File \"/tmp/ipykernel_6162/10625338.py\", line 4, in checkValidation\n",
      "    with open(path,\"r\",encoding=\"cp1252\") as log:\n",
      "  File \"/home/stotoshka/Soft/anaconda3/envs/research/lib/python3.9/site-packages/IPython/core/interactiveshell.py\", line 282, in _modified_open\n",
      "    return io_open(file, *args, **kwargs)\n",
      "FileNotFoundError: [Errno 2] No such file or directory: '/run/user/1000/gvfs/smb-share:server=192.168.0.10,share=diplom/ANGEL/HLA/results/HLA-A0201-total_HLA_6.HST'\n",
      "Traceback (most recent call last):\n",
      "  File \"/tmp/ipykernel_6162/10625338.py\", line 4, in checkValidation\n",
      "    with open(path,\"r\",encoding=\"cp1252\") as log:\n",
      "  File \"/home/stotoshka/Soft/anaconda3/envs/research/lib/python3.9/site-packages/IPython/core/interactiveshell.py\", line 282, in _modified_open\n",
      "    return io_open(file, *args, **kwargs)\n",
      "FileNotFoundError: [Errno 2] No such file or directory: '/run/user/1000/gvfs/smb-share:server=192.168.0.10,share=diplom/ANGEL/HLA/results/HLA-A0202-total_HLA_6.HST'\n",
      "Traceback (most recent call last):\n",
      "  File \"/tmp/ipykernel_6162/10625338.py\", line 4, in checkValidation\n",
      "    with open(path,\"r\",encoding=\"cp1252\") as log:\n",
      "  File \"/home/stotoshka/Soft/anaconda3/envs/research/lib/python3.9/site-packages/IPython/core/interactiveshell.py\", line 282, in _modified_open\n",
      "    return io_open(file, *args, **kwargs)\n",
      "FileNotFoundError: [Errno 2] No such file or directory: '/run/user/1000/gvfs/smb-share:server=192.168.0.10,share=diplom/ANGEL/HLA/results/HLA-A0205-total_HLA_6.HST'\n",
      "Traceback (most recent call last):\n",
      "  File \"/tmp/ipykernel_6162/10625338.py\", line 4, in checkValidation\n",
      "    with open(path,\"r\",encoding=\"cp1252\") as log:\n",
      "  File \"/home/stotoshka/Soft/anaconda3/envs/research/lib/python3.9/site-packages/IPython/core/interactiveshell.py\", line 282, in _modified_open\n",
      "    return io_open(file, *args, **kwargs)\n",
      "FileNotFoundError: [Errno 2] No such file or directory: '/run/user/1000/gvfs/smb-share:server=192.168.0.10,share=diplom/ANGEL/HLA/results/HLA-A0206-total_HLA_6.HST'\n",
      "Traceback (most recent call last):\n",
      "  File \"/tmp/ipykernel_6162/10625338.py\", line 4, in checkValidation\n",
      "    with open(path,\"r\",encoding=\"cp1252\") as log:\n",
      "  File \"/home/stotoshka/Soft/anaconda3/envs/research/lib/python3.9/site-packages/IPython/core/interactiveshell.py\", line 282, in _modified_open\n",
      "    return io_open(file, *args, **kwargs)\n",
      "FileNotFoundError: [Errno 2] No such file or directory: '/run/user/1000/gvfs/smb-share:server=192.168.0.10,share=diplom/ANGEL/HLA/results/HLA-A0220-total_HLA_6.HST'\n",
      "Traceback (most recent call last):\n",
      "  File \"/tmp/ipykernel_6162/10625338.py\", line 4, in checkValidation\n",
      "    with open(path,\"r\",encoding=\"cp1252\") as log:\n",
      "  File \"/home/stotoshka/Soft/anaconda3/envs/research/lib/python3.9/site-packages/IPython/core/interactiveshell.py\", line 282, in _modified_open\n",
      "    return io_open(file, *args, **kwargs)\n",
      "FileNotFoundError: [Errno 2] No such file or directory: '/run/user/1000/gvfs/smb-share:server=192.168.0.10,share=diplom/ANGEL/HLA/results/HLA-A0301-total_HLA_6.HST'\n",
      "Traceback (most recent call last):\n",
      "  File \"/tmp/ipykernel_6162/10625338.py\", line 4, in checkValidation\n",
      "    with open(path,\"r\",encoding=\"cp1252\") as log:\n",
      "  File \"/home/stotoshka/Soft/anaconda3/envs/research/lib/python3.9/site-packages/IPython/core/interactiveshell.py\", line 282, in _modified_open\n",
      "    return io_open(file, *args, **kwargs)\n",
      "FileNotFoundError: [Errno 2] No such file or directory: '/run/user/1000/gvfs/smb-share:server=192.168.0.10,share=diplom/ANGEL/HLA/results/HLA-A1101-total_HLA_6.HST'\n",
      "Traceback (most recent call last):\n",
      "  File \"/tmp/ipykernel_6162/10625338.py\", line 4, in checkValidation\n",
      "    with open(path,\"r\",encoding=\"cp1252\") as log:\n",
      "  File \"/home/stotoshka/Soft/anaconda3/envs/research/lib/python3.9/site-packages/IPython/core/interactiveshell.py\", line 282, in _modified_open\n",
      "    return io_open(file, *args, **kwargs)\n",
      "FileNotFoundError: [Errno 2] No such file or directory: '/run/user/1000/gvfs/smb-share:server=192.168.0.10,share=diplom/ANGEL/HLA/results/HLA-A2301-total_HLA_6.HST'\n",
      "Traceback (most recent call last):\n",
      "  File \"/tmp/ipykernel_6162/10625338.py\", line 4, in checkValidation\n",
      "    with open(path,\"r\",encoding=\"cp1252\") as log:\n",
      "  File \"/home/stotoshka/Soft/anaconda3/envs/research/lib/python3.9/site-packages/IPython/core/interactiveshell.py\", line 282, in _modified_open\n",
      "    return io_open(file, *args, **kwargs)\n",
      "FileNotFoundError: [Errno 2] No such file or directory: '/run/user/1000/gvfs/smb-share:server=192.168.0.10,share=diplom/ANGEL/HLA/results/HLA-A2402-total_HLA_6.HST'\n",
      "Traceback (most recent call last):\n",
      "  File \"/tmp/ipykernel_6162/10625338.py\", line 4, in checkValidation\n",
      "    with open(path,\"r\",encoding=\"cp1252\") as log:\n",
      "  File \"/home/stotoshka/Soft/anaconda3/envs/research/lib/python3.9/site-packages/IPython/core/interactiveshell.py\", line 282, in _modified_open\n",
      "    return io_open(file, *args, **kwargs)\n",
      "FileNotFoundError: [Errno 2] No such file or directory: '/run/user/1000/gvfs/smb-share:server=192.168.0.10,share=diplom/ANGEL/HLA/results/HLA-A2501-total_HLA_6.HST'\n",
      "Traceback (most recent call last):\n",
      "  File \"/tmp/ipykernel_6162/10625338.py\", line 4, in checkValidation\n",
      "    with open(path,\"r\",encoding=\"cp1252\") as log:\n",
      "  File \"/home/stotoshka/Soft/anaconda3/envs/research/lib/python3.9/site-packages/IPython/core/interactiveshell.py\", line 282, in _modified_open\n",
      "    return io_open(file, *args, **kwargs)\n",
      "FileNotFoundError: [Errno 2] No such file or directory: '/run/user/1000/gvfs/smb-share:server=192.168.0.10,share=diplom/ANGEL/HLA/results/HLA-A2601-total_HLA_6.HST'\n",
      "Traceback (most recent call last):\n",
      "  File \"/tmp/ipykernel_6162/10625338.py\", line 4, in checkValidation\n",
      "    with open(path,\"r\",encoding=\"cp1252\") as log:\n",
      "  File \"/home/stotoshka/Soft/anaconda3/envs/research/lib/python3.9/site-packages/IPython/core/interactiveshell.py\", line 282, in _modified_open\n",
      "    return io_open(file, *args, **kwargs)\n",
      "FileNotFoundError: [Errno 2] No such file or directory: '/run/user/1000/gvfs/smb-share:server=192.168.0.10,share=diplom/ANGEL/HLA/results/HLA-A2901-total_HLA_6.HST'\n",
      "Traceback (most recent call last):\n",
      "  File \"/tmp/ipykernel_6162/10625338.py\", line 4, in checkValidation\n",
      "    with open(path,\"r\",encoding=\"cp1252\") as log:\n",
      "  File \"/home/stotoshka/Soft/anaconda3/envs/research/lib/python3.9/site-packages/IPython/core/interactiveshell.py\", line 282, in _modified_open\n",
      "    return io_open(file, *args, **kwargs)\n",
      "FileNotFoundError: [Errno 2] No such file or directory: '/run/user/1000/gvfs/smb-share:server=192.168.0.10,share=diplom/ANGEL/HLA/results/HLA-A2902-total_HLA_6.HST'\n",
      "Traceback (most recent call last):\n",
      "  File \"/tmp/ipykernel_6162/10625338.py\", line 4, in checkValidation\n",
      "    with open(path,\"r\",encoding=\"cp1252\") as log:\n",
      "  File \"/home/stotoshka/Soft/anaconda3/envs/research/lib/python3.9/site-packages/IPython/core/interactiveshell.py\", line 282, in _modified_open\n",
      "    return io_open(file, *args, **kwargs)\n",
      "FileNotFoundError: [Errno 2] No such file or directory: '/run/user/1000/gvfs/smb-share:server=192.168.0.10,share=diplom/ANGEL/HLA/results/HLA-A3001-total_HLA_6.HST'\n",
      "Traceback (most recent call last):\n",
      "  File \"/tmp/ipykernel_6162/10625338.py\", line 4, in checkValidation\n",
      "    with open(path,\"r\",encoding=\"cp1252\") as log:\n",
      "  File \"/home/stotoshka/Soft/anaconda3/envs/research/lib/python3.9/site-packages/IPython/core/interactiveshell.py\", line 282, in _modified_open\n",
      "    return io_open(file, *args, **kwargs)\n",
      "FileNotFoundError: [Errno 2] No such file or directory: '/run/user/1000/gvfs/smb-share:server=192.168.0.10,share=diplom/ANGEL/HLA/results/HLA-A3101-total_HLA_6.HST'\n",
      "Traceback (most recent call last):\n",
      "  File \"/tmp/ipykernel_6162/10625338.py\", line 4, in checkValidation\n",
      "    with open(path,\"r\",encoding=\"cp1252\") as log:\n",
      "  File \"/home/stotoshka/Soft/anaconda3/envs/research/lib/python3.9/site-packages/IPython/core/interactiveshell.py\", line 282, in _modified_open\n",
      "    return io_open(file, *args, **kwargs)\n",
      "FileNotFoundError: [Errno 2] No such file or directory: '/run/user/1000/gvfs/smb-share:server=192.168.0.10,share=diplom/ANGEL/HLA/results/HLA-A3201-total_HLA_6.HST'\n",
      "Traceback (most recent call last):\n",
      "  File \"/tmp/ipykernel_6162/10625338.py\", line 4, in checkValidation\n",
      "    with open(path,\"r\",encoding=\"cp1252\") as log:\n",
      "  File \"/home/stotoshka/Soft/anaconda3/envs/research/lib/python3.9/site-packages/IPython/core/interactiveshell.py\", line 282, in _modified_open\n",
      "    return io_open(file, *args, **kwargs)\n",
      "FileNotFoundError: [Errno 2] No such file or directory: '/run/user/1000/gvfs/smb-share:server=192.168.0.10,share=diplom/ANGEL/HLA/results/HLA-A6801-total_HLA_6.HST'\n",
      "Traceback (most recent call last):\n",
      "  File \"/tmp/ipykernel_6162/10625338.py\", line 4, in checkValidation\n",
      "    with open(path,\"r\",encoding=\"cp1252\") as log:\n",
      "  File \"/home/stotoshka/Soft/anaconda3/envs/research/lib/python3.9/site-packages/IPython/core/interactiveshell.py\", line 282, in _modified_open\n",
      "    return io_open(file, *args, **kwargs)\n",
      "FileNotFoundError: [Errno 2] No such file or directory: '/run/user/1000/gvfs/smb-share:server=192.168.0.10,share=diplom/ANGEL/HLA/results/HLA-A6802-total_HLA_6.HST'\n",
      "Traceback (most recent call last):\n",
      "  File \"/tmp/ipykernel_6162/10625338.py\", line 4, in checkValidation\n",
      "    with open(path,\"r\",encoding=\"cp1252\") as log:\n",
      "  File \"/home/stotoshka/Soft/anaconda3/envs/research/lib/python3.9/site-packages/IPython/core/interactiveshell.py\", line 282, in _modified_open\n",
      "    return io_open(file, *args, **kwargs)\n",
      "FileNotFoundError: [Errno 2] No such file or directory: '/run/user/1000/gvfs/smb-share:server=192.168.0.10,share=diplom/ANGEL/HLA/results/HLA-B0702-total_HLA_6.HST'\n",
      "Traceback (most recent call last):\n",
      "  File \"/tmp/ipykernel_6162/10625338.py\", line 4, in checkValidation\n",
      "    with open(path,\"r\",encoding=\"cp1252\") as log:\n",
      "  File \"/home/stotoshka/Soft/anaconda3/envs/research/lib/python3.9/site-packages/IPython/core/interactiveshell.py\", line 282, in _modified_open\n",
      "    return io_open(file, *args, **kwargs)\n",
      "FileNotFoundError: [Errno 2] No such file or directory: '/run/user/1000/gvfs/smb-share:server=192.168.0.10,share=diplom/ANGEL/HLA/results/HLA-B0801-total_HLA_6.HST'\n",
      "Traceback (most recent call last):\n",
      "  File \"/tmp/ipykernel_6162/10625338.py\", line 4, in checkValidation\n",
      "    with open(path,\"r\",encoding=\"cp1252\") as log:\n",
      "  File \"/home/stotoshka/Soft/anaconda3/envs/research/lib/python3.9/site-packages/IPython/core/interactiveshell.py\", line 282, in _modified_open\n",
      "    return io_open(file, *args, **kwargs)\n",
      "FileNotFoundError: [Errno 2] No such file or directory: '/run/user/1000/gvfs/smb-share:server=192.168.0.10,share=diplom/ANGEL/HLA/results/HLA-B1302-total_HLA_6.HST'\n",
      "Traceback (most recent call last):\n",
      "  File \"/tmp/ipykernel_6162/10625338.py\", line 4, in checkValidation\n",
      "    with open(path,\"r\",encoding=\"cp1252\") as log:\n",
      "  File \"/home/stotoshka/Soft/anaconda3/envs/research/lib/python3.9/site-packages/IPython/core/interactiveshell.py\", line 282, in _modified_open\n",
      "    return io_open(file, *args, **kwargs)\n",
      "FileNotFoundError: [Errno 2] No such file or directory: '/run/user/1000/gvfs/smb-share:server=192.168.0.10,share=diplom/ANGEL/HLA/results/HLA-B1401-total_HLA_6.HST'\n",
      "Traceback (most recent call last):\n",
      "  File \"/tmp/ipykernel_6162/10625338.py\", line 4, in checkValidation\n",
      "    with open(path,\"r\",encoding=\"cp1252\") as log:\n",
      "  File \"/home/stotoshka/Soft/anaconda3/envs/research/lib/python3.9/site-packages/IPython/core/interactiveshell.py\", line 282, in _modified_open\n",
      "    return io_open(file, *args, **kwargs)\n",
      "FileNotFoundError: [Errno 2] No such file or directory: '/run/user/1000/gvfs/smb-share:server=192.168.0.10,share=diplom/ANGEL/HLA/results/HLA-B1402-total_HLA_6.HST'\n",
      "Traceback (most recent call last):\n",
      "  File \"/tmp/ipykernel_6162/10625338.py\", line 4, in checkValidation\n",
      "    with open(path,\"r\",encoding=\"cp1252\") as log:\n",
      "  File \"/home/stotoshka/Soft/anaconda3/envs/research/lib/python3.9/site-packages/IPython/core/interactiveshell.py\", line 282, in _modified_open\n",
      "    return io_open(file, *args, **kwargs)\n",
      "FileNotFoundError: [Errno 2] No such file or directory: '/run/user/1000/gvfs/smb-share:server=192.168.0.10,share=diplom/ANGEL/HLA/results/HLA-B1501-total_HLA_6.HST'\n",
      "Traceback (most recent call last):\n",
      "  File \"/tmp/ipykernel_6162/10625338.py\", line 4, in checkValidation\n",
      "    with open(path,\"r\",encoding=\"cp1252\") as log:\n",
      "  File \"/home/stotoshka/Soft/anaconda3/envs/research/lib/python3.9/site-packages/IPython/core/interactiveshell.py\", line 282, in _modified_open\n",
      "    return io_open(file, *args, **kwargs)\n",
      "FileNotFoundError: [Errno 2] No such file or directory: '/run/user/1000/gvfs/smb-share:server=192.168.0.10,share=diplom/ANGEL/HLA/results/HLA-B1503-total_HLA_6.HST'\n",
      "Traceback (most recent call last):\n",
      "  File \"/tmp/ipykernel_6162/10625338.py\", line 4, in checkValidation\n",
      "    with open(path,\"r\",encoding=\"cp1252\") as log:\n",
      "  File \"/home/stotoshka/Soft/anaconda3/envs/research/lib/python3.9/site-packages/IPython/core/interactiveshell.py\", line 282, in _modified_open\n",
      "    return io_open(file, *args, **kwargs)\n",
      "FileNotFoundError: [Errno 2] No such file or directory: '/run/user/1000/gvfs/smb-share:server=192.168.0.10,share=diplom/ANGEL/HLA/results/HLA-B1510-total_HLA_6.HST'\n",
      "Traceback (most recent call last):\n",
      "  File \"/tmp/ipykernel_6162/10625338.py\", line 4, in checkValidation\n",
      "    with open(path,\"r\",encoding=\"cp1252\") as log:\n",
      "  File \"/home/stotoshka/Soft/anaconda3/envs/research/lib/python3.9/site-packages/IPython/core/interactiveshell.py\", line 282, in _modified_open\n",
      "    return io_open(file, *args, **kwargs)\n",
      "FileNotFoundError: [Errno 2] No such file or directory: '/run/user/1000/gvfs/smb-share:server=192.168.0.10,share=diplom/ANGEL/HLA/results/HLA-B1511-total_HLA_6.HST'\n",
      "Traceback (most recent call last):\n",
      "  File \"/tmp/ipykernel_6162/10625338.py\", line 4, in checkValidation\n",
      "    with open(path,\"r\",encoding=\"cp1252\") as log:\n",
      "  File \"/home/stotoshka/Soft/anaconda3/envs/research/lib/python3.9/site-packages/IPython/core/interactiveshell.py\", line 282, in _modified_open\n",
      "    return io_open(file, *args, **kwargs)\n",
      "FileNotFoundError: [Errno 2] No such file or directory: '/run/user/1000/gvfs/smb-share:server=192.168.0.10,share=diplom/ANGEL/HLA/results/HLA-B1518-total_HLA_6.HST'\n",
      "Traceback (most recent call last):\n",
      "  File \"/tmp/ipykernel_6162/10625338.py\", line 4, in checkValidation\n",
      "    with open(path,\"r\",encoding=\"cp1252\") as log:\n",
      "  File \"/home/stotoshka/Soft/anaconda3/envs/research/lib/python3.9/site-packages/IPython/core/interactiveshell.py\", line 282, in _modified_open\n",
      "    return io_open(file, *args, **kwargs)\n",
      "FileNotFoundError: [Errno 2] No such file or directory: '/run/user/1000/gvfs/smb-share:server=192.168.0.10,share=diplom/ANGEL/HLA/results/HLA-B1801-total_HLA_6.HST'\n",
      "Traceback (most recent call last):\n",
      "  File \"/tmp/ipykernel_6162/10625338.py\", line 4, in checkValidation\n",
      "    with open(path,\"r\",encoding=\"cp1252\") as log:\n",
      "  File \"/home/stotoshka/Soft/anaconda3/envs/research/lib/python3.9/site-packages/IPython/core/interactiveshell.py\", line 282, in _modified_open\n",
      "    return io_open(file, *args, **kwargs)\n",
      "FileNotFoundError: [Errno 2] No such file or directory: '/run/user/1000/gvfs/smb-share:server=192.168.0.10,share=diplom/ANGEL/HLA/results/HLA-B1803-total_HLA_6.HST'\n",
      "Traceback (most recent call last):\n",
      "  File \"/tmp/ipykernel_6162/10625338.py\", line 4, in checkValidation\n",
      "    with open(path,\"r\",encoding=\"cp1252\") as log:\n",
      "  File \"/home/stotoshka/Soft/anaconda3/envs/research/lib/python3.9/site-packages/IPython/core/interactiveshell.py\", line 282, in _modified_open\n",
      "    return io_open(file, *args, **kwargs)\n",
      "FileNotFoundError: [Errno 2] No such file or directory: '/run/user/1000/gvfs/smb-share:server=192.168.0.10,share=diplom/ANGEL/HLA/results/HLA-B2705-total_HLA_6.HST'\n",
      "Traceback (most recent call last):\n",
      "  File \"/tmp/ipykernel_6162/10625338.py\", line 4, in checkValidation\n",
      "    with open(path,\"r\",encoding=\"cp1252\") as log:\n",
      "  File \"/home/stotoshka/Soft/anaconda3/envs/research/lib/python3.9/site-packages/IPython/core/interactiveshell.py\", line 282, in _modified_open\n",
      "    return io_open(file, *args, **kwargs)\n",
      "FileNotFoundError: [Errno 2] No such file or directory: '/run/user/1000/gvfs/smb-share:server=192.168.0.10,share=diplom/ANGEL/HLA/results/HLA-B3501-total_HLA_6.HST'\n",
      "Traceback (most recent call last):\n",
      "  File \"/tmp/ipykernel_6162/10625338.py\", line 4, in checkValidation\n",
      "    with open(path,\"r\",encoding=\"cp1252\") as log:\n",
      "  File \"/home/stotoshka/Soft/anaconda3/envs/research/lib/python3.9/site-packages/IPython/core/interactiveshell.py\", line 282, in _modified_open\n",
      "    return io_open(file, *args, **kwargs)\n",
      "FileNotFoundError: [Errno 2] No such file or directory: '/run/user/1000/gvfs/smb-share:server=192.168.0.10,share=diplom/ANGEL/HLA/results/HLA-B3502-total_HLA_6.HST'\n",
      "Traceback (most recent call last):\n",
      "  File \"/tmp/ipykernel_6162/10625338.py\", line 4, in checkValidation\n",
      "    with open(path,\"r\",encoding=\"cp1252\") as log:\n",
      "  File \"/home/stotoshka/Soft/anaconda3/envs/research/lib/python3.9/site-packages/IPython/core/interactiveshell.py\", line 282, in _modified_open\n",
      "    return io_open(file, *args, **kwargs)\n",
      "FileNotFoundError: [Errno 2] No such file or directory: '/run/user/1000/gvfs/smb-share:server=192.168.0.10,share=diplom/ANGEL/HLA/results/HLA-B3503-total_HLA_6.HST'\n",
      "Traceback (most recent call last):\n",
      "  File \"/tmp/ipykernel_6162/10625338.py\", line 4, in checkValidation\n",
      "    with open(path,\"r\",encoding=\"cp1252\") as log:\n",
      "  File \"/home/stotoshka/Soft/anaconda3/envs/research/lib/python3.9/site-packages/IPython/core/interactiveshell.py\", line 282, in _modified_open\n",
      "    return io_open(file, *args, **kwargs)\n",
      "FileNotFoundError: [Errno 2] No such file or directory: '/run/user/1000/gvfs/smb-share:server=192.168.0.10,share=diplom/ANGEL/HLA/results/HLA-B3508-total_HLA_6.HST'\n",
      "Traceback (most recent call last):\n",
      "  File \"/tmp/ipykernel_6162/10625338.py\", line 4, in checkValidation\n",
      "    with open(path,\"r\",encoding=\"cp1252\") as log:\n",
      "  File \"/home/stotoshka/Soft/anaconda3/envs/research/lib/python3.9/site-packages/IPython/core/interactiveshell.py\", line 282, in _modified_open\n",
      "    return io_open(file, *args, **kwargs)\n",
      "FileNotFoundError: [Errno 2] No such file or directory: '/run/user/1000/gvfs/smb-share:server=192.168.0.10,share=diplom/ANGEL/HLA/results/HLA-B3701-total_HLA_6.HST'\n",
      "Traceback (most recent call last):\n",
      "  File \"/tmp/ipykernel_6162/10625338.py\", line 4, in checkValidation\n",
      "    with open(path,\"r\",encoding=\"cp1252\") as log:\n",
      "  File \"/home/stotoshka/Soft/anaconda3/envs/research/lib/python3.9/site-packages/IPython/core/interactiveshell.py\", line 282, in _modified_open\n",
      "    return io_open(file, *args, **kwargs)\n",
      "FileNotFoundError: [Errno 2] No such file or directory: '/run/user/1000/gvfs/smb-share:server=192.168.0.10,share=diplom/ANGEL/HLA/results/HLA-B3801-total_HLA_6.HST'\n",
      "Traceback (most recent call last):\n",
      "  File \"/tmp/ipykernel_6162/10625338.py\", line 4, in checkValidation\n",
      "    with open(path,\"r\",encoding=\"cp1252\") as log:\n",
      "  File \"/home/stotoshka/Soft/anaconda3/envs/research/lib/python3.9/site-packages/IPython/core/interactiveshell.py\", line 282, in _modified_open\n",
      "    return io_open(file, *args, **kwargs)\n",
      "FileNotFoundError: [Errno 2] No such file or directory: '/run/user/1000/gvfs/smb-share:server=192.168.0.10,share=diplom/ANGEL/HLA/results/HLA-B3901-total_HLA_6.HST'\n",
      "Traceback (most recent call last):\n",
      "  File \"/tmp/ipykernel_6162/10625338.py\", line 4, in checkValidation\n",
      "    with open(path,\"r\",encoding=\"cp1252\") as log:\n",
      "  File \"/home/stotoshka/Soft/anaconda3/envs/research/lib/python3.9/site-packages/IPython/core/interactiveshell.py\", line 282, in _modified_open\n",
      "    return io_open(file, *args, **kwargs)\n",
      "FileNotFoundError: [Errno 2] No such file or directory: '/run/user/1000/gvfs/smb-share:server=192.168.0.10,share=diplom/ANGEL/HLA/results/HLA-B3906-total_HLA_6.HST'\n",
      "Traceback (most recent call last):\n",
      "  File \"/tmp/ipykernel_6162/10625338.py\", line 4, in checkValidation\n",
      "    with open(path,\"r\",encoding=\"cp1252\") as log:\n",
      "  File \"/home/stotoshka/Soft/anaconda3/envs/research/lib/python3.9/site-packages/IPython/core/interactiveshell.py\", line 282, in _modified_open\n",
      "    return io_open(file, *args, **kwargs)\n",
      "FileNotFoundError: [Errno 2] No such file or directory: '/run/user/1000/gvfs/smb-share:server=192.168.0.10,share=diplom/ANGEL/HLA/results/HLA-B3924-total_HLA_6.HST'\n",
      "Traceback (most recent call last):\n",
      "  File \"/tmp/ipykernel_6162/10625338.py\", line 4, in checkValidation\n",
      "    with open(path,\"r\",encoding=\"cp1252\") as log:\n",
      "  File \"/home/stotoshka/Soft/anaconda3/envs/research/lib/python3.9/site-packages/IPython/core/interactiveshell.py\", line 282, in _modified_open\n",
      "    return io_open(file, *args, **kwargs)\n",
      "FileNotFoundError: [Errno 2] No such file or directory: '/run/user/1000/gvfs/smb-share:server=192.168.0.10,share=diplom/ANGEL/HLA/results/HLA-B4001-total_HLA_6.HST'\n",
      "Traceback (most recent call last):\n",
      "  File \"/tmp/ipykernel_6162/10625338.py\", line 4, in checkValidation\n",
      "    with open(path,\"r\",encoding=\"cp1252\") as log:\n",
      "  File \"/home/stotoshka/Soft/anaconda3/envs/research/lib/python3.9/site-packages/IPython/core/interactiveshell.py\", line 282, in _modified_open\n",
      "    return io_open(file, *args, **kwargs)\n",
      "FileNotFoundError: [Errno 2] No such file or directory: '/run/user/1000/gvfs/smb-share:server=192.168.0.10,share=diplom/ANGEL/HLA/results/HLA-B4002-total_HLA_6.HST'\n",
      "Traceback (most recent call last):\n",
      "  File \"/tmp/ipykernel_6162/10625338.py\", line 4, in checkValidation\n",
      "    with open(path,\"r\",encoding=\"cp1252\") as log:\n",
      "  File \"/home/stotoshka/Soft/anaconda3/envs/research/lib/python3.9/site-packages/IPython/core/interactiveshell.py\", line 282, in _modified_open\n",
      "    return io_open(file, *args, **kwargs)\n",
      "FileNotFoundError: [Errno 2] No such file or directory: '/run/user/1000/gvfs/smb-share:server=192.168.0.10,share=diplom/ANGEL/HLA/results/HLA-B4101-total_HLA_6.HST'\n",
      "Traceback (most recent call last):\n",
      "  File \"/tmp/ipykernel_6162/10625338.py\", line 4, in checkValidation\n",
      "    with open(path,\"r\",encoding=\"cp1252\") as log:\n",
      "  File \"/home/stotoshka/Soft/anaconda3/envs/research/lib/python3.9/site-packages/IPython/core/interactiveshell.py\", line 282, in _modified_open\n",
      "    return io_open(file, *args, **kwargs)\n",
      "FileNotFoundError: [Errno 2] No such file or directory: '/run/user/1000/gvfs/smb-share:server=192.168.0.10,share=diplom/ANGEL/HLA/results/HLA-B4402-total_HLA_6.HST'\n",
      "Traceback (most recent call last):\n",
      "  File \"/tmp/ipykernel_6162/10625338.py\", line 4, in checkValidation\n",
      "    with open(path,\"r\",encoding=\"cp1252\") as log:\n",
      "  File \"/home/stotoshka/Soft/anaconda3/envs/research/lib/python3.9/site-packages/IPython/core/interactiveshell.py\", line 282, in _modified_open\n",
      "    return io_open(file, *args, **kwargs)\n",
      "FileNotFoundError: [Errno 2] No such file or directory: '/run/user/1000/gvfs/smb-share:server=192.168.0.10,share=diplom/ANGEL/HLA/results/HLA-B4403-total_HLA_6.HST'\n",
      "Traceback (most recent call last):\n",
      "  File \"/tmp/ipykernel_6162/10625338.py\", line 4, in checkValidation\n",
      "    with open(path,\"r\",encoding=\"cp1252\") as log:\n",
      "  File \"/home/stotoshka/Soft/anaconda3/envs/research/lib/python3.9/site-packages/IPython/core/interactiveshell.py\", line 282, in _modified_open\n",
      "    return io_open(file, *args, **kwargs)\n",
      "FileNotFoundError: [Errno 2] No such file or directory: '/run/user/1000/gvfs/smb-share:server=192.168.0.10,share=diplom/ANGEL/HLA/results/HLA-B4501-total_HLA_6.HST'\n",
      "Traceback (most recent call last):\n",
      "  File \"/tmp/ipykernel_6162/10625338.py\", line 4, in checkValidation\n",
      "    with open(path,\"r\",encoding=\"cp1252\") as log:\n",
      "  File \"/home/stotoshka/Soft/anaconda3/envs/research/lib/python3.9/site-packages/IPython/core/interactiveshell.py\", line 282, in _modified_open\n",
      "    return io_open(file, *args, **kwargs)\n",
      "FileNotFoundError: [Errno 2] No such file or directory: '/run/user/1000/gvfs/smb-share:server=192.168.0.10,share=diplom/ANGEL/HLA/results/HLA-B4701-total_HLA_6.HST'\n",
      "Traceback (most recent call last):\n",
      "  File \"/tmp/ipykernel_6162/10625338.py\", line 4, in checkValidation\n",
      "    with open(path,\"r\",encoding=\"cp1252\") as log:\n",
      "  File \"/home/stotoshka/Soft/anaconda3/envs/research/lib/python3.9/site-packages/IPython/core/interactiveshell.py\", line 282, in _modified_open\n",
      "    return io_open(file, *args, **kwargs)\n",
      "FileNotFoundError: [Errno 2] No such file or directory: '/run/user/1000/gvfs/smb-share:server=192.168.0.10,share=diplom/ANGEL/HLA/results/HLA-B5001-total_HLA_6.HST'\n",
      "Traceback (most recent call last):\n",
      "  File \"/tmp/ipykernel_6162/10625338.py\", line 4, in checkValidation\n",
      "    with open(path,\"r\",encoding=\"cp1252\") as log:\n",
      "  File \"/home/stotoshka/Soft/anaconda3/envs/research/lib/python3.9/site-packages/IPython/core/interactiveshell.py\", line 282, in _modified_open\n",
      "    return io_open(file, *args, **kwargs)\n",
      "FileNotFoundError: [Errno 2] No such file or directory: '/run/user/1000/gvfs/smb-share:server=192.168.0.10,share=diplom/ANGEL/HLA/results/HLA-B5101-total_HLA_6.HST'\n",
      "Traceback (most recent call last):\n",
      "  File \"/tmp/ipykernel_6162/10625338.py\", line 4, in checkValidation\n",
      "    with open(path,\"r\",encoding=\"cp1252\") as log:\n",
      "  File \"/home/stotoshka/Soft/anaconda3/envs/research/lib/python3.9/site-packages/IPython/core/interactiveshell.py\", line 282, in _modified_open\n",
      "    return io_open(file, *args, **kwargs)\n",
      "FileNotFoundError: [Errno 2] No such file or directory: '/run/user/1000/gvfs/smb-share:server=192.168.0.10,share=diplom/ANGEL/HLA/results/HLA-B5501-total_HLA_6.HST'\n",
      "Traceback (most recent call last):\n",
      "  File \"/tmp/ipykernel_6162/10625338.py\", line 4, in checkValidation\n",
      "    with open(path,\"r\",encoding=\"cp1252\") as log:\n",
      "  File \"/home/stotoshka/Soft/anaconda3/envs/research/lib/python3.9/site-packages/IPython/core/interactiveshell.py\", line 282, in _modified_open\n",
      "    return io_open(file, *args, **kwargs)\n",
      "FileNotFoundError: [Errno 2] No such file or directory: '/run/user/1000/gvfs/smb-share:server=192.168.0.10,share=diplom/ANGEL/HLA/results/HLA-B5601-total_HLA_6.HST'\n",
      "Traceback (most recent call last):\n",
      "  File \"/tmp/ipykernel_6162/10625338.py\", line 4, in checkValidation\n",
      "    with open(path,\"r\",encoding=\"cp1252\") as log:\n",
      "  File \"/home/stotoshka/Soft/anaconda3/envs/research/lib/python3.9/site-packages/IPython/core/interactiveshell.py\", line 282, in _modified_open\n",
      "    return io_open(file, *args, **kwargs)\n",
      "FileNotFoundError: [Errno 2] No such file or directory: '/run/user/1000/gvfs/smb-share:server=192.168.0.10,share=diplom/ANGEL/HLA/results/HLA-B5701-total_HLA_6.HST'\n",
      "Traceback (most recent call last):\n",
      "  File \"/tmp/ipykernel_6162/10625338.py\", line 4, in checkValidation\n",
      "    with open(path,\"r\",encoding=\"cp1252\") as log:\n",
      "  File \"/home/stotoshka/Soft/anaconda3/envs/research/lib/python3.9/site-packages/IPython/core/interactiveshell.py\", line 282, in _modified_open\n",
      "    return io_open(file, *args, **kwargs)\n",
      "FileNotFoundError: [Errno 2] No such file or directory: '/run/user/1000/gvfs/smb-share:server=192.168.0.10,share=diplom/ANGEL/HLA/results/HLA-B5801-total_HLA_6.HST'\n",
      "Traceback (most recent call last):\n",
      "  File \"/tmp/ipykernel_6162/10625338.py\", line 4, in checkValidation\n",
      "    with open(path,\"r\",encoding=\"cp1252\") as log:\n",
      "  File \"/home/stotoshka/Soft/anaconda3/envs/research/lib/python3.9/site-packages/IPython/core/interactiveshell.py\", line 282, in _modified_open\n",
      "    return io_open(file, *args, **kwargs)\n",
      "FileNotFoundError: [Errno 2] No such file or directory: '/run/user/1000/gvfs/smb-share:server=192.168.0.10,share=diplom/ANGEL/HLA/results/HLA-B7301-total_HLA_6.HST'\n",
      "Traceback (most recent call last):\n",
      "  File \"/tmp/ipykernel_6162/10625338.py\", line 4, in checkValidation\n",
      "    with open(path,\"r\",encoding=\"cp1252\") as log:\n",
      "  File \"/home/stotoshka/Soft/anaconda3/envs/research/lib/python3.9/site-packages/IPython/core/interactiveshell.py\", line 282, in _modified_open\n",
      "    return io_open(file, *args, **kwargs)\n",
      "FileNotFoundError: [Errno 2] No such file or directory: '/run/user/1000/gvfs/smb-share:server=192.168.0.10,share=diplom/ANGEL/HLA/results/HLA-C0102-total_HLA_6.HST'\n",
      "Traceback (most recent call last):\n",
      "  File \"/tmp/ipykernel_6162/10625338.py\", line 4, in checkValidation\n",
      "    with open(path,\"r\",encoding=\"cp1252\") as log:\n",
      "  File \"/home/stotoshka/Soft/anaconda3/envs/research/lib/python3.9/site-packages/IPython/core/interactiveshell.py\", line 282, in _modified_open\n",
      "    return io_open(file, *args, **kwargs)\n",
      "FileNotFoundError: [Errno 2] No such file or directory: '/run/user/1000/gvfs/smb-share:server=192.168.0.10,share=diplom/ANGEL/HLA/results/HLA-C0202-total_HLA_6.HST'\n",
      "Traceback (most recent call last):\n",
      "  File \"/tmp/ipykernel_6162/10625338.py\", line 4, in checkValidation\n",
      "    with open(path,\"r\",encoding=\"cp1252\") as log:\n",
      "  File \"/home/stotoshka/Soft/anaconda3/envs/research/lib/python3.9/site-packages/IPython/core/interactiveshell.py\", line 282, in _modified_open\n",
      "    return io_open(file, *args, **kwargs)\n",
      "FileNotFoundError: [Errno 2] No such file or directory: '/run/user/1000/gvfs/smb-share:server=192.168.0.10,share=diplom/ANGEL/HLA/results/HLA-C0210-total_HLA_6.HST'\n",
      "Traceback (most recent call last):\n",
      "  File \"/tmp/ipykernel_6162/10625338.py\", line 4, in checkValidation\n",
      "    with open(path,\"r\",encoding=\"cp1252\") as log:\n",
      "  File \"/home/stotoshka/Soft/anaconda3/envs/research/lib/python3.9/site-packages/IPython/core/interactiveshell.py\", line 282, in _modified_open\n",
      "    return io_open(file, *args, **kwargs)\n",
      "FileNotFoundError: [Errno 2] No such file or directory: '/run/user/1000/gvfs/smb-share:server=192.168.0.10,share=diplom/ANGEL/HLA/results/HLA-C0303-total_HLA_6.HST'\n",
      "Traceback (most recent call last):\n",
      "  File \"/tmp/ipykernel_6162/10625338.py\", line 4, in checkValidation\n",
      "    with open(path,\"r\",encoding=\"cp1252\") as log:\n",
      "  File \"/home/stotoshka/Soft/anaconda3/envs/research/lib/python3.9/site-packages/IPython/core/interactiveshell.py\", line 282, in _modified_open\n",
      "    return io_open(file, *args, **kwargs)\n",
      "FileNotFoundError: [Errno 2] No such file or directory: '/run/user/1000/gvfs/smb-share:server=192.168.0.10,share=diplom/ANGEL/HLA/results/HLA-C0304-total_HLA_6.HST'\n",
      "Traceback (most recent call last):\n",
      "  File \"/tmp/ipykernel_6162/10625338.py\", line 4, in checkValidation\n",
      "    with open(path,\"r\",encoding=\"cp1252\") as log:\n",
      "  File \"/home/stotoshka/Soft/anaconda3/envs/research/lib/python3.9/site-packages/IPython/core/interactiveshell.py\", line 282, in _modified_open\n",
      "    return io_open(file, *args, **kwargs)\n",
      "FileNotFoundError: [Errno 2] No such file or directory: '/run/user/1000/gvfs/smb-share:server=192.168.0.10,share=diplom/ANGEL/HLA/results/HLA-C0401-total_HLA_6.HST'\n",
      "Traceback (most recent call last):\n",
      "  File \"/tmp/ipykernel_6162/10625338.py\", line 4, in checkValidation\n",
      "    with open(path,\"r\",encoding=\"cp1252\") as log:\n",
      "  File \"/home/stotoshka/Soft/anaconda3/envs/research/lib/python3.9/site-packages/IPython/core/interactiveshell.py\", line 282, in _modified_open\n",
      "    return io_open(file, *args, **kwargs)\n",
      "FileNotFoundError: [Errno 2] No such file or directory: '/run/user/1000/gvfs/smb-share:server=192.168.0.10,share=diplom/ANGEL/HLA/results/HLA-C0501-total_HLA_6.HST'\n",
      "Traceback (most recent call last):\n",
      "  File \"/tmp/ipykernel_6162/10625338.py\", line 4, in checkValidation\n",
      "    with open(path,\"r\",encoding=\"cp1252\") as log:\n",
      "  File \"/home/stotoshka/Soft/anaconda3/envs/research/lib/python3.9/site-packages/IPython/core/interactiveshell.py\", line 282, in _modified_open\n",
      "    return io_open(file, *args, **kwargs)\n",
      "FileNotFoundError: [Errno 2] No such file or directory: '/run/user/1000/gvfs/smb-share:server=192.168.0.10,share=diplom/ANGEL/HLA/results/HLA-C0602-total_HLA_6.HST'\n",
      "Traceback (most recent call last):\n",
      "  File \"/tmp/ipykernel_6162/10625338.py\", line 4, in checkValidation\n",
      "    with open(path,\"r\",encoding=\"cp1252\") as log:\n",
      "  File \"/home/stotoshka/Soft/anaconda3/envs/research/lib/python3.9/site-packages/IPython/core/interactiveshell.py\", line 282, in _modified_open\n",
      "    return io_open(file, *args, **kwargs)\n",
      "FileNotFoundError: [Errno 2] No such file or directory: '/run/user/1000/gvfs/smb-share:server=192.168.0.10,share=diplom/ANGEL/HLA/results/HLA-C0701-total_HLA_6.HST'\n",
      "Traceback (most recent call last):\n",
      "  File \"/tmp/ipykernel_6162/10625338.py\", line 4, in checkValidation\n",
      "    with open(path,\"r\",encoding=\"cp1252\") as log:\n",
      "  File \"/home/stotoshka/Soft/anaconda3/envs/research/lib/python3.9/site-packages/IPython/core/interactiveshell.py\", line 282, in _modified_open\n",
      "    return io_open(file, *args, **kwargs)\n",
      "FileNotFoundError: [Errno 2] No such file or directory: '/run/user/1000/gvfs/smb-share:server=192.168.0.10,share=diplom/ANGEL/HLA/results/HLA-C0702-total_HLA_6.HST'\n",
      "Traceback (most recent call last):\n",
      "  File \"/tmp/ipykernel_6162/10625338.py\", line 4, in checkValidation\n",
      "    with open(path,\"r\",encoding=\"cp1252\") as log:\n",
      "  File \"/home/stotoshka/Soft/anaconda3/envs/research/lib/python3.9/site-packages/IPython/core/interactiveshell.py\", line 282, in _modified_open\n",
      "    return io_open(file, *args, **kwargs)\n",
      "FileNotFoundError: [Errno 2] No such file or directory: '/run/user/1000/gvfs/smb-share:server=192.168.0.10,share=diplom/ANGEL/HLA/results/HLA-C0704-total_HLA_6.HST'\n",
      "Traceback (most recent call last):\n",
      "  File \"/tmp/ipykernel_6162/10625338.py\", line 4, in checkValidation\n",
      "    with open(path,\"r\",encoding=\"cp1252\") as log:\n",
      "  File \"/home/stotoshka/Soft/anaconda3/envs/research/lib/python3.9/site-packages/IPython/core/interactiveshell.py\", line 282, in _modified_open\n",
      "    return io_open(file, *args, **kwargs)\n",
      "FileNotFoundError: [Errno 2] No such file or directory: '/run/user/1000/gvfs/smb-share:server=192.168.0.10,share=diplom/ANGEL/HLA/results/HLA-C0802-total_HLA_6.HST'\n",
      "Traceback (most recent call last):\n",
      "  File \"/tmp/ipykernel_6162/10625338.py\", line 4, in checkValidation\n",
      "    with open(path,\"r\",encoding=\"cp1252\") as log:\n",
      "  File \"/home/stotoshka/Soft/anaconda3/envs/research/lib/python3.9/site-packages/IPython/core/interactiveshell.py\", line 282, in _modified_open\n",
      "    return io_open(file, *args, **kwargs)\n",
      "FileNotFoundError: [Errno 2] No such file or directory: '/run/user/1000/gvfs/smb-share:server=192.168.0.10,share=diplom/ANGEL/HLA/results/HLA-C1203-total_HLA_6.HST'\n",
      "Traceback (most recent call last):\n",
      "  File \"/tmp/ipykernel_6162/10625338.py\", line 4, in checkValidation\n",
      "    with open(path,\"r\",encoding=\"cp1252\") as log:\n",
      "  File \"/home/stotoshka/Soft/anaconda3/envs/research/lib/python3.9/site-packages/IPython/core/interactiveshell.py\", line 282, in _modified_open\n",
      "    return io_open(file, *args, **kwargs)\n",
      "FileNotFoundError: [Errno 2] No such file or directory: '/run/user/1000/gvfs/smb-share:server=192.168.0.10,share=diplom/ANGEL/HLA/results/HLA-C1402-total_HLA_6.HST'\n",
      "Traceback (most recent call last):\n",
      "  File \"/tmp/ipykernel_6162/10625338.py\", line 4, in checkValidation\n",
      "    with open(path,\"r\",encoding=\"cp1252\") as log:\n",
      "  File \"/home/stotoshka/Soft/anaconda3/envs/research/lib/python3.9/site-packages/IPython/core/interactiveshell.py\", line 282, in _modified_open\n",
      "    return io_open(file, *args, **kwargs)\n",
      "FileNotFoundError: [Errno 2] No such file or directory: '/run/user/1000/gvfs/smb-share:server=192.168.0.10,share=diplom/ANGEL/HLA/results/HLA-C1505-total_HLA_6.HST'\n",
      "Traceback (most recent call last):\n",
      "  File \"/tmp/ipykernel_6162/10625338.py\", line 4, in checkValidation\n",
      "    with open(path,\"r\",encoding=\"cp1252\") as log:\n",
      "  File \"/home/stotoshka/Soft/anaconda3/envs/research/lib/python3.9/site-packages/IPython/core/interactiveshell.py\", line 282, in _modified_open\n",
      "    return io_open(file, *args, **kwargs)\n",
      "FileNotFoundError: [Errno 2] No such file or directory: '/run/user/1000/gvfs/smb-share:server=192.168.0.10,share=diplom/ANGEL/HLA/results/HLA-C1601-total_HLA_6.HST'\n"
     ]
    },
    {
     "data": {
      "text/plain": "[]"
     },
     "execution_count": 10,
     "metadata": {},
     "output_type": "execute_result"
    }
   ],
   "source": [
    "succeded_val = []\n",
    "for val in val_tasks:\n",
    "    test_name =  val.replace(\"_val.txt\", \"\")+ \"-total_HLA_6\" + \".HST\"\n",
    "    if checkValidation(\n",
    "            f\"/run/user/1000/gvfs/smb-share:server=192.168.0.10,share=diplom/ANGEL/HLA/results/{test_name}\"):\n",
    "        succeded_val.append(val)\n",
    "succeded_val"
   ],
   "metadata": {
    "collapsed": false,
    "ExecuteTime": {
     "end_time": "2023-05-16T10:59:44.996714185Z",
     "start_time": "2023-05-16T10:59:44.125759234Z"
    }
   }
  },
  {
   "cell_type": "code",
   "execution_count": 13,
   "outputs": [
    {
     "name": "stdout",
     "output_type": "stream",
     "text": [
      "HLA-A0101_val.txt\n"
     ]
    },
    {
     "name": "stderr",
     "output_type": "stream",
     "text": [
      "Traceback (most recent call last):\n",
      "  File \"/tmp/ipykernel_6162/10625338.py\", line 4, in checkValidation\n",
      "    with open(path,\"r\",encoding=\"cp1252\") as log:\n",
      "  File \"/home/stotoshka/Soft/anaconda3/envs/research/lib/python3.9/site-packages/IPython/core/interactiveshell.py\", line 282, in _modified_open\n",
      "    return io_open(file, *args, **kwargs)\n",
      "FileNotFoundError: [Errno 2] No such file or directory: '/run/user/1000/gvfs/smb-share:server=192.168.0.10,share=diplom/ANGEL/HLA/results/HLA-C1601-total_HLA_6.HST'\n"
     ]
    },
    {
     "name": "stdout",
     "output_type": "stream",
     "text": [
      "HLA-A0101_val.txt ended with errors\n",
      "HLA-A0201_val.txt\n"
     ]
    },
    {
     "name": "stderr",
     "output_type": "stream",
     "text": [
      "Traceback (most recent call last):\n",
      "  File \"/tmp/ipykernel_6162/10625338.py\", line 4, in checkValidation\n",
      "    with open(path,\"r\",encoding=\"cp1252\") as log:\n",
      "  File \"/home/stotoshka/Soft/anaconda3/envs/research/lib/python3.9/site-packages/IPython/core/interactiveshell.py\", line 282, in _modified_open\n",
      "    return io_open(file, *args, **kwargs)\n",
      "FileNotFoundError: [Errno 2] No such file or directory: '/run/user/1000/gvfs/smb-share:server=192.168.0.10,share=diplom/ANGEL/HLA/results/HLA-C1601-total_HLA_6.HST'\n"
     ]
    },
    {
     "name": "stdout",
     "output_type": "stream",
     "text": [
      "HLA-A0201_val.txt ended with errors\n",
      "HLA-A0202_val.txt\n"
     ]
    },
    {
     "name": "stderr",
     "output_type": "stream",
     "text": [
      "Traceback (most recent call last):\n",
      "  File \"/tmp/ipykernel_6162/10625338.py\", line 4, in checkValidation\n",
      "    with open(path,\"r\",encoding=\"cp1252\") as log:\n",
      "  File \"/home/stotoshka/Soft/anaconda3/envs/research/lib/python3.9/site-packages/IPython/core/interactiveshell.py\", line 282, in _modified_open\n",
      "    return io_open(file, *args, **kwargs)\n",
      "FileNotFoundError: [Errno 2] No such file or directory: '/run/user/1000/gvfs/smb-share:server=192.168.0.10,share=diplom/ANGEL/HLA/results/HLA-C1601-total_HLA_6.HST'\n"
     ]
    },
    {
     "name": "stdout",
     "output_type": "stream",
     "text": [
      "HLA-A0202_val.txt ended with errors\n",
      "HLA-A0205_val.txt\n"
     ]
    },
    {
     "name": "stderr",
     "output_type": "stream",
     "text": [
      "Traceback (most recent call last):\n",
      "  File \"/tmp/ipykernel_6162/10625338.py\", line 4, in checkValidation\n",
      "    with open(path,\"r\",encoding=\"cp1252\") as log:\n",
      "  File \"/home/stotoshka/Soft/anaconda3/envs/research/lib/python3.9/site-packages/IPython/core/interactiveshell.py\", line 282, in _modified_open\n",
      "    return io_open(file, *args, **kwargs)\n",
      "FileNotFoundError: [Errno 2] No such file or directory: '/run/user/1000/gvfs/smb-share:server=192.168.0.10,share=diplom/ANGEL/HLA/results/HLA-C1601-total_HLA_6.HST'\n"
     ]
    },
    {
     "name": "stdout",
     "output_type": "stream",
     "text": [
      "HLA-A0205_val.txt ended with errors\n",
      "HLA-A0206_val.txt\n"
     ]
    },
    {
     "name": "stderr",
     "output_type": "stream",
     "text": [
      "Traceback (most recent call last):\n",
      "  File \"/tmp/ipykernel_6162/10625338.py\", line 4, in checkValidation\n",
      "    with open(path,\"r\",encoding=\"cp1252\") as log:\n",
      "  File \"/home/stotoshka/Soft/anaconda3/envs/research/lib/python3.9/site-packages/IPython/core/interactiveshell.py\", line 282, in _modified_open\n",
      "    return io_open(file, *args, **kwargs)\n",
      "FileNotFoundError: [Errno 2] No such file or directory: '/run/user/1000/gvfs/smb-share:server=192.168.0.10,share=diplom/ANGEL/HLA/results/HLA-C1601-total_HLA_6.HST'\n"
     ]
    },
    {
     "name": "stdout",
     "output_type": "stream",
     "text": [
      "HLA-A0206_val.txt ended with errors\n",
      "HLA-A0220_val.txt\n"
     ]
    },
    {
     "name": "stderr",
     "output_type": "stream",
     "text": [
      "Traceback (most recent call last):\n",
      "  File \"/tmp/ipykernel_6162/10625338.py\", line 4, in checkValidation\n",
      "    with open(path,\"r\",encoding=\"cp1252\") as log:\n",
      "  File \"/home/stotoshka/Soft/anaconda3/envs/research/lib/python3.9/site-packages/IPython/core/interactiveshell.py\", line 282, in _modified_open\n",
      "    return io_open(file, *args, **kwargs)\n",
      "FileNotFoundError: [Errno 2] No such file or directory: '/run/user/1000/gvfs/smb-share:server=192.168.0.10,share=diplom/ANGEL/HLA/results/HLA-C1601-total_HLA_6.HST'\n"
     ]
    },
    {
     "name": "stdout",
     "output_type": "stream",
     "text": [
      "HLA-A0220_val.txt ended with errors\n",
      "HLA-A0301_val.txt\n"
     ]
    },
    {
     "name": "stderr",
     "output_type": "stream",
     "text": [
      "Traceback (most recent call last):\n",
      "  File \"/tmp/ipykernel_6162/10625338.py\", line 4, in checkValidation\n",
      "    with open(path,\"r\",encoding=\"cp1252\") as log:\n",
      "  File \"/home/stotoshka/Soft/anaconda3/envs/research/lib/python3.9/site-packages/IPython/core/interactiveshell.py\", line 282, in _modified_open\n",
      "    return io_open(file, *args, **kwargs)\n",
      "FileNotFoundError: [Errno 2] No such file or directory: '/run/user/1000/gvfs/smb-share:server=192.168.0.10,share=diplom/ANGEL/HLA/results/HLA-C1601-total_HLA_6.HST'\n"
     ]
    },
    {
     "name": "stdout",
     "output_type": "stream",
     "text": [
      "HLA-A0301_val.txt ended with errors\n",
      "HLA-A1101_val.txt\n"
     ]
    },
    {
     "name": "stderr",
     "output_type": "stream",
     "text": [
      "Traceback (most recent call last):\n",
      "  File \"/tmp/ipykernel_6162/10625338.py\", line 4, in checkValidation\n",
      "    with open(path,\"r\",encoding=\"cp1252\") as log:\n",
      "  File \"/home/stotoshka/Soft/anaconda3/envs/research/lib/python3.9/site-packages/IPython/core/interactiveshell.py\", line 282, in _modified_open\n",
      "    return io_open(file, *args, **kwargs)\n",
      "FileNotFoundError: [Errno 2] No such file or directory: '/run/user/1000/gvfs/smb-share:server=192.168.0.10,share=diplom/ANGEL/HLA/results/HLA-C1601-total_HLA_6.HST'\n"
     ]
    },
    {
     "name": "stdout",
     "output_type": "stream",
     "text": [
      "HLA-A1101_val.txt ended with errors\n",
      "HLA-A2301_val.txt\n"
     ]
    },
    {
     "name": "stderr",
     "output_type": "stream",
     "text": [
      "Traceback (most recent call last):\n",
      "  File \"/tmp/ipykernel_6162/10625338.py\", line 4, in checkValidation\n",
      "    with open(path,\"r\",encoding=\"cp1252\") as log:\n",
      "  File \"/home/stotoshka/Soft/anaconda3/envs/research/lib/python3.9/site-packages/IPython/core/interactiveshell.py\", line 282, in _modified_open\n",
      "    return io_open(file, *args, **kwargs)\n",
      "FileNotFoundError: [Errno 2] No such file or directory: '/run/user/1000/gvfs/smb-share:server=192.168.0.10,share=diplom/ANGEL/HLA/results/HLA-C1601-total_HLA_6.HST'\n"
     ]
    },
    {
     "name": "stdout",
     "output_type": "stream",
     "text": [
      "HLA-A2301_val.txt ended with errors\n",
      "HLA-A2402_val.txt\n"
     ]
    },
    {
     "name": "stderr",
     "output_type": "stream",
     "text": [
      "Traceback (most recent call last):\n",
      "  File \"/tmp/ipykernel_6162/10625338.py\", line 4, in checkValidation\n",
      "    with open(path,\"r\",encoding=\"cp1252\") as log:\n",
      "  File \"/home/stotoshka/Soft/anaconda3/envs/research/lib/python3.9/site-packages/IPython/core/interactiveshell.py\", line 282, in _modified_open\n",
      "    return io_open(file, *args, **kwargs)\n",
      "FileNotFoundError: [Errno 2] No such file or directory: '/run/user/1000/gvfs/smb-share:server=192.168.0.10,share=diplom/ANGEL/HLA/results/HLA-C1601-total_HLA_6.HST'\n"
     ]
    },
    {
     "name": "stdout",
     "output_type": "stream",
     "text": [
      "HLA-A2402_val.txt ended with errors\n",
      "HLA-A2501_val.txt\n"
     ]
    },
    {
     "name": "stderr",
     "output_type": "stream",
     "text": [
      "Traceback (most recent call last):\n",
      "  File \"/tmp/ipykernel_6162/10625338.py\", line 4, in checkValidation\n",
      "    with open(path,\"r\",encoding=\"cp1252\") as log:\n",
      "  File \"/home/stotoshka/Soft/anaconda3/envs/research/lib/python3.9/site-packages/IPython/core/interactiveshell.py\", line 282, in _modified_open\n",
      "    return io_open(file, *args, **kwargs)\n",
      "FileNotFoundError: [Errno 2] No such file or directory: '/run/user/1000/gvfs/smb-share:server=192.168.0.10,share=diplom/ANGEL/HLA/results/HLA-C1601-total_HLA_6.HST'\n"
     ]
    },
    {
     "name": "stdout",
     "output_type": "stream",
     "text": [
      "HLA-A2501_val.txt ended with errors\n",
      "HLA-A2601_val.txt\n"
     ]
    },
    {
     "name": "stderr",
     "output_type": "stream",
     "text": [
      "Traceback (most recent call last):\n",
      "  File \"/tmp/ipykernel_6162/10625338.py\", line 4, in checkValidation\n",
      "    with open(path,\"r\",encoding=\"cp1252\") as log:\n",
      "  File \"/home/stotoshka/Soft/anaconda3/envs/research/lib/python3.9/site-packages/IPython/core/interactiveshell.py\", line 282, in _modified_open\n",
      "    return io_open(file, *args, **kwargs)\n",
      "FileNotFoundError: [Errno 2] No such file or directory: '/run/user/1000/gvfs/smb-share:server=192.168.0.10,share=diplom/ANGEL/HLA/results/HLA-C1601-total_HLA_6.HST'\n"
     ]
    },
    {
     "name": "stdout",
     "output_type": "stream",
     "text": [
      "HLA-A2601_val.txt ended with errors\n",
      "HLA-A2901_val.txt\n"
     ]
    },
    {
     "name": "stderr",
     "output_type": "stream",
     "text": [
      "Traceback (most recent call last):\n",
      "  File \"/tmp/ipykernel_6162/10625338.py\", line 4, in checkValidation\n",
      "    with open(path,\"r\",encoding=\"cp1252\") as log:\n",
      "  File \"/home/stotoshka/Soft/anaconda3/envs/research/lib/python3.9/site-packages/IPython/core/interactiveshell.py\", line 282, in _modified_open\n",
      "    return io_open(file, *args, **kwargs)\n",
      "FileNotFoundError: [Errno 2] No such file or directory: '/run/user/1000/gvfs/smb-share:server=192.168.0.10,share=diplom/ANGEL/HLA/results/HLA-C1601-total_HLA_6.HST'\n"
     ]
    },
    {
     "name": "stdout",
     "output_type": "stream",
     "text": [
      "HLA-A2901_val.txt ended with errors\n",
      "HLA-A2902_val.txt\n"
     ]
    },
    {
     "name": "stderr",
     "output_type": "stream",
     "text": [
      "Traceback (most recent call last):\n",
      "  File \"/tmp/ipykernel_6162/10625338.py\", line 4, in checkValidation\n",
      "    with open(path,\"r\",encoding=\"cp1252\") as log:\n",
      "  File \"/home/stotoshka/Soft/anaconda3/envs/research/lib/python3.9/site-packages/IPython/core/interactiveshell.py\", line 282, in _modified_open\n",
      "    return io_open(file, *args, **kwargs)\n",
      "FileNotFoundError: [Errno 2] No such file or directory: '/run/user/1000/gvfs/smb-share:server=192.168.0.10,share=diplom/ANGEL/HLA/results/HLA-C1601-total_HLA_6.HST'\n"
     ]
    },
    {
     "name": "stdout",
     "output_type": "stream",
     "text": [
      "HLA-A2902_val.txt ended with errors\n",
      "HLA-A3001_val.txt\n"
     ]
    },
    {
     "name": "stderr",
     "output_type": "stream",
     "text": [
      "Traceback (most recent call last):\n",
      "  File \"/tmp/ipykernel_6162/10625338.py\", line 4, in checkValidation\n",
      "    with open(path,\"r\",encoding=\"cp1252\") as log:\n",
      "  File \"/home/stotoshka/Soft/anaconda3/envs/research/lib/python3.9/site-packages/IPython/core/interactiveshell.py\", line 282, in _modified_open\n",
      "    return io_open(file, *args, **kwargs)\n",
      "FileNotFoundError: [Errno 2] No such file or directory: '/run/user/1000/gvfs/smb-share:server=192.168.0.10,share=diplom/ANGEL/HLA/results/HLA-C1601-total_HLA_6.HST'\n"
     ]
    },
    {
     "name": "stdout",
     "output_type": "stream",
     "text": [
      "HLA-A3001_val.txt ended with errors\n",
      "HLA-A3101_val.txt\n"
     ]
    },
    {
     "name": "stderr",
     "output_type": "stream",
     "text": [
      "Traceback (most recent call last):\n",
      "  File \"/tmp/ipykernel_6162/10625338.py\", line 4, in checkValidation\n",
      "    with open(path,\"r\",encoding=\"cp1252\") as log:\n",
      "  File \"/home/stotoshka/Soft/anaconda3/envs/research/lib/python3.9/site-packages/IPython/core/interactiveshell.py\", line 282, in _modified_open\n",
      "    return io_open(file, *args, **kwargs)\n",
      "FileNotFoundError: [Errno 2] No such file or directory: '/run/user/1000/gvfs/smb-share:server=192.168.0.10,share=diplom/ANGEL/HLA/results/HLA-C1601-total_HLA_6.HST'\n"
     ]
    },
    {
     "name": "stdout",
     "output_type": "stream",
     "text": [
      "HLA-A3101_val.txt ended with errors\n",
      "HLA-A3201_val.txt\n"
     ]
    },
    {
     "name": "stderr",
     "output_type": "stream",
     "text": [
      "Traceback (most recent call last):\n",
      "  File \"/tmp/ipykernel_6162/10625338.py\", line 4, in checkValidation\n",
      "    with open(path,\"r\",encoding=\"cp1252\") as log:\n",
      "  File \"/home/stotoshka/Soft/anaconda3/envs/research/lib/python3.9/site-packages/IPython/core/interactiveshell.py\", line 282, in _modified_open\n",
      "    return io_open(file, *args, **kwargs)\n",
      "FileNotFoundError: [Errno 2] No such file or directory: '/run/user/1000/gvfs/smb-share:server=192.168.0.10,share=diplom/ANGEL/HLA/results/HLA-C1601-total_HLA_6.HST'\n"
     ]
    },
    {
     "name": "stdout",
     "output_type": "stream",
     "text": [
      "HLA-A3201_val.txt ended with errors\n",
      "HLA-A6801_val.txt\n"
     ]
    },
    {
     "name": "stderr",
     "output_type": "stream",
     "text": [
      "Traceback (most recent call last):\n",
      "  File \"/tmp/ipykernel_6162/10625338.py\", line 4, in checkValidation\n",
      "    with open(path,\"r\",encoding=\"cp1252\") as log:\n",
      "  File \"/home/stotoshka/Soft/anaconda3/envs/research/lib/python3.9/site-packages/IPython/core/interactiveshell.py\", line 282, in _modified_open\n",
      "    return io_open(file, *args, **kwargs)\n",
      "FileNotFoundError: [Errno 2] No such file or directory: '/run/user/1000/gvfs/smb-share:server=192.168.0.10,share=diplom/ANGEL/HLA/results/HLA-C1601-total_HLA_6.HST'\n"
     ]
    },
    {
     "name": "stdout",
     "output_type": "stream",
     "text": [
      "HLA-A6801_val.txt ended with errors\n",
      "HLA-A6802_val.txt\n"
     ]
    },
    {
     "name": "stderr",
     "output_type": "stream",
     "text": [
      "Traceback (most recent call last):\n",
      "  File \"/tmp/ipykernel_6162/10625338.py\", line 4, in checkValidation\n",
      "    with open(path,\"r\",encoding=\"cp1252\") as log:\n",
      "  File \"/home/stotoshka/Soft/anaconda3/envs/research/lib/python3.9/site-packages/IPython/core/interactiveshell.py\", line 282, in _modified_open\n",
      "    return io_open(file, *args, **kwargs)\n",
      "FileNotFoundError: [Errno 2] No such file or directory: '/run/user/1000/gvfs/smb-share:server=192.168.0.10,share=diplom/ANGEL/HLA/results/HLA-C1601-total_HLA_6.HST'\n"
     ]
    },
    {
     "name": "stdout",
     "output_type": "stream",
     "text": [
      "HLA-A6802_val.txt ended with errors\n",
      "HLA-B0702_val.txt\n"
     ]
    },
    {
     "name": "stderr",
     "output_type": "stream",
     "text": [
      "Traceback (most recent call last):\n",
      "  File \"/tmp/ipykernel_6162/10625338.py\", line 4, in checkValidation\n",
      "    with open(path,\"r\",encoding=\"cp1252\") as log:\n",
      "  File \"/home/stotoshka/Soft/anaconda3/envs/research/lib/python3.9/site-packages/IPython/core/interactiveshell.py\", line 282, in _modified_open\n",
      "    return io_open(file, *args, **kwargs)\n",
      "FileNotFoundError: [Errno 2] No such file or directory: '/run/user/1000/gvfs/smb-share:server=192.168.0.10,share=diplom/ANGEL/HLA/results/HLA-C1601-total_HLA_6.HST'\n"
     ]
    },
    {
     "name": "stdout",
     "output_type": "stream",
     "text": [
      "HLA-B0702_val.txt ended with errors\n",
      "HLA-B0801_val.txt\n"
     ]
    },
    {
     "name": "stderr",
     "output_type": "stream",
     "text": [
      "Traceback (most recent call last):\n",
      "  File \"/tmp/ipykernel_6162/10625338.py\", line 4, in checkValidation\n",
      "    with open(path,\"r\",encoding=\"cp1252\") as log:\n",
      "  File \"/home/stotoshka/Soft/anaconda3/envs/research/lib/python3.9/site-packages/IPython/core/interactiveshell.py\", line 282, in _modified_open\n",
      "    return io_open(file, *args, **kwargs)\n",
      "FileNotFoundError: [Errno 2] No such file or directory: '/run/user/1000/gvfs/smb-share:server=192.168.0.10,share=diplom/ANGEL/HLA/results/HLA-C1601-total_HLA_6.HST'\n"
     ]
    },
    {
     "name": "stdout",
     "output_type": "stream",
     "text": [
      "HLA-B0801_val.txt ended with errors\n",
      "HLA-B1302_val.txt\n"
     ]
    },
    {
     "name": "stderr",
     "output_type": "stream",
     "text": [
      "Traceback (most recent call last):\n",
      "  File \"/tmp/ipykernel_6162/10625338.py\", line 4, in checkValidation\n",
      "    with open(path,\"r\",encoding=\"cp1252\") as log:\n",
      "  File \"/home/stotoshka/Soft/anaconda3/envs/research/lib/python3.9/site-packages/IPython/core/interactiveshell.py\", line 282, in _modified_open\n",
      "    return io_open(file, *args, **kwargs)\n",
      "FileNotFoundError: [Errno 2] No such file or directory: '/run/user/1000/gvfs/smb-share:server=192.168.0.10,share=diplom/ANGEL/HLA/results/HLA-C1601-total_HLA_6.HST'\n"
     ]
    },
    {
     "name": "stdout",
     "output_type": "stream",
     "text": [
      "HLA-B1302_val.txt ended with errors\n",
      "HLA-B1401_val.txt\n"
     ]
    },
    {
     "name": "stderr",
     "output_type": "stream",
     "text": [
      "Traceback (most recent call last):\n",
      "  File \"/tmp/ipykernel_6162/10625338.py\", line 4, in checkValidation\n",
      "    with open(path,\"r\",encoding=\"cp1252\") as log:\n",
      "  File \"/home/stotoshka/Soft/anaconda3/envs/research/lib/python3.9/site-packages/IPython/core/interactiveshell.py\", line 282, in _modified_open\n",
      "    return io_open(file, *args, **kwargs)\n",
      "FileNotFoundError: [Errno 2] No such file or directory: '/run/user/1000/gvfs/smb-share:server=192.168.0.10,share=diplom/ANGEL/HLA/results/HLA-C1601-total_HLA_6.HST'\n"
     ]
    },
    {
     "name": "stdout",
     "output_type": "stream",
     "text": [
      "HLA-B1401_val.txt ended with errors\n",
      "HLA-B1402_val.txt\n"
     ]
    },
    {
     "name": "stderr",
     "output_type": "stream",
     "text": [
      "Traceback (most recent call last):\n",
      "  File \"/tmp/ipykernel_6162/10625338.py\", line 4, in checkValidation\n",
      "    with open(path,\"r\",encoding=\"cp1252\") as log:\n",
      "  File \"/home/stotoshka/Soft/anaconda3/envs/research/lib/python3.9/site-packages/IPython/core/interactiveshell.py\", line 282, in _modified_open\n",
      "    return io_open(file, *args, **kwargs)\n",
      "FileNotFoundError: [Errno 2] No such file or directory: '/run/user/1000/gvfs/smb-share:server=192.168.0.10,share=diplom/ANGEL/HLA/results/HLA-C1601-total_HLA_6.HST'\n"
     ]
    },
    {
     "name": "stdout",
     "output_type": "stream",
     "text": [
      "HLA-B1402_val.txt ended with errors\n",
      "HLA-B1501_val.txt\n"
     ]
    },
    {
     "name": "stderr",
     "output_type": "stream",
     "text": [
      "Traceback (most recent call last):\n",
      "  File \"/tmp/ipykernel_6162/10625338.py\", line 4, in checkValidation\n",
      "    with open(path,\"r\",encoding=\"cp1252\") as log:\n",
      "  File \"/home/stotoshka/Soft/anaconda3/envs/research/lib/python3.9/site-packages/IPython/core/interactiveshell.py\", line 282, in _modified_open\n",
      "    return io_open(file, *args, **kwargs)\n",
      "FileNotFoundError: [Errno 2] No such file or directory: '/run/user/1000/gvfs/smb-share:server=192.168.0.10,share=diplom/ANGEL/HLA/results/HLA-C1601-total_HLA_6.HST'\n"
     ]
    },
    {
     "name": "stdout",
     "output_type": "stream",
     "text": [
      "HLA-B1501_val.txt ended with errors\n",
      "HLA-B1503_val.txt\n"
     ]
    },
    {
     "name": "stderr",
     "output_type": "stream",
     "text": [
      "Traceback (most recent call last):\n",
      "  File \"/tmp/ipykernel_6162/10625338.py\", line 4, in checkValidation\n",
      "    with open(path,\"r\",encoding=\"cp1252\") as log:\n",
      "  File \"/home/stotoshka/Soft/anaconda3/envs/research/lib/python3.9/site-packages/IPython/core/interactiveshell.py\", line 282, in _modified_open\n",
      "    return io_open(file, *args, **kwargs)\n",
      "FileNotFoundError: [Errno 2] No such file or directory: '/run/user/1000/gvfs/smb-share:server=192.168.0.10,share=diplom/ANGEL/HLA/results/HLA-C1601-total_HLA_6.HST'\n"
     ]
    },
    {
     "name": "stdout",
     "output_type": "stream",
     "text": [
      "HLA-B1503_val.txt ended with errors\n",
      "HLA-B1510_val.txt\n"
     ]
    },
    {
     "name": "stderr",
     "output_type": "stream",
     "text": [
      "Traceback (most recent call last):\n",
      "  File \"/tmp/ipykernel_6162/10625338.py\", line 4, in checkValidation\n",
      "    with open(path,\"r\",encoding=\"cp1252\") as log:\n",
      "  File \"/home/stotoshka/Soft/anaconda3/envs/research/lib/python3.9/site-packages/IPython/core/interactiveshell.py\", line 282, in _modified_open\n",
      "    return io_open(file, *args, **kwargs)\n",
      "FileNotFoundError: [Errno 2] No such file or directory: '/run/user/1000/gvfs/smb-share:server=192.168.0.10,share=diplom/ANGEL/HLA/results/HLA-C1601-total_HLA_6.HST'\n"
     ]
    },
    {
     "name": "stdout",
     "output_type": "stream",
     "text": [
      "HLA-B1510_val.txt ended with errors\n",
      "HLA-B1511_val.txt\n"
     ]
    },
    {
     "name": "stderr",
     "output_type": "stream",
     "text": [
      "Traceback (most recent call last):\n",
      "  File \"/tmp/ipykernel_6162/10625338.py\", line 4, in checkValidation\n",
      "    with open(path,\"r\",encoding=\"cp1252\") as log:\n",
      "  File \"/home/stotoshka/Soft/anaconda3/envs/research/lib/python3.9/site-packages/IPython/core/interactiveshell.py\", line 282, in _modified_open\n",
      "    return io_open(file, *args, **kwargs)\n",
      "FileNotFoundError: [Errno 2] No such file or directory: '/run/user/1000/gvfs/smb-share:server=192.168.0.10,share=diplom/ANGEL/HLA/results/HLA-C1601-total_HLA_6.HST'\n"
     ]
    },
    {
     "name": "stdout",
     "output_type": "stream",
     "text": [
      "HLA-B1511_val.txt ended with errors\n",
      "HLA-B1518_val.txt\n"
     ]
    },
    {
     "name": "stderr",
     "output_type": "stream",
     "text": [
      "Traceback (most recent call last):\n",
      "  File \"/tmp/ipykernel_6162/10625338.py\", line 4, in checkValidation\n",
      "    with open(path,\"r\",encoding=\"cp1252\") as log:\n",
      "  File \"/home/stotoshka/Soft/anaconda3/envs/research/lib/python3.9/site-packages/IPython/core/interactiveshell.py\", line 282, in _modified_open\n",
      "    return io_open(file, *args, **kwargs)\n",
      "FileNotFoundError: [Errno 2] No such file or directory: '/run/user/1000/gvfs/smb-share:server=192.168.0.10,share=diplom/ANGEL/HLA/results/HLA-C1601-total_HLA_6.HST'\n"
     ]
    },
    {
     "name": "stdout",
     "output_type": "stream",
     "text": [
      "HLA-B1518_val.txt ended with errors\n",
      "HLA-B1801_val.txt\n"
     ]
    },
    {
     "name": "stderr",
     "output_type": "stream",
     "text": [
      "Traceback (most recent call last):\n",
      "  File \"/tmp/ipykernel_6162/10625338.py\", line 4, in checkValidation\n",
      "    with open(path,\"r\",encoding=\"cp1252\") as log:\n",
      "  File \"/home/stotoshka/Soft/anaconda3/envs/research/lib/python3.9/site-packages/IPython/core/interactiveshell.py\", line 282, in _modified_open\n",
      "    return io_open(file, *args, **kwargs)\n",
      "FileNotFoundError: [Errno 2] No such file or directory: '/run/user/1000/gvfs/smb-share:server=192.168.0.10,share=diplom/ANGEL/HLA/results/HLA-C1601-total_HLA_6.HST'\n"
     ]
    },
    {
     "name": "stdout",
     "output_type": "stream",
     "text": [
      "HLA-B1801_val.txt ended with errors\n",
      "HLA-B1803_val.txt\n"
     ]
    },
    {
     "name": "stderr",
     "output_type": "stream",
     "text": [
      "Traceback (most recent call last):\n",
      "  File \"/tmp/ipykernel_6162/10625338.py\", line 4, in checkValidation\n",
      "    with open(path,\"r\",encoding=\"cp1252\") as log:\n",
      "  File \"/home/stotoshka/Soft/anaconda3/envs/research/lib/python3.9/site-packages/IPython/core/interactiveshell.py\", line 282, in _modified_open\n",
      "    return io_open(file, *args, **kwargs)\n",
      "FileNotFoundError: [Errno 2] No such file or directory: '/run/user/1000/gvfs/smb-share:server=192.168.0.10,share=diplom/ANGEL/HLA/results/HLA-C1601-total_HLA_6.HST'\n"
     ]
    },
    {
     "name": "stdout",
     "output_type": "stream",
     "text": [
      "HLA-B1803_val.txt ended with errors\n",
      "HLA-B2705_val.txt\n"
     ]
    },
    {
     "name": "stderr",
     "output_type": "stream",
     "text": [
      "Traceback (most recent call last):\n",
      "  File \"/tmp/ipykernel_6162/10625338.py\", line 4, in checkValidation\n",
      "    with open(path,\"r\",encoding=\"cp1252\") as log:\n",
      "  File \"/home/stotoshka/Soft/anaconda3/envs/research/lib/python3.9/site-packages/IPython/core/interactiveshell.py\", line 282, in _modified_open\n",
      "    return io_open(file, *args, **kwargs)\n",
      "FileNotFoundError: [Errno 2] No such file or directory: '/run/user/1000/gvfs/smb-share:server=192.168.0.10,share=diplom/ANGEL/HLA/results/HLA-C1601-total_HLA_6.HST'\n"
     ]
    },
    {
     "name": "stdout",
     "output_type": "stream",
     "text": [
      "HLA-B2705_val.txt ended with errors\n",
      "HLA-B3501_val.txt\n"
     ]
    },
    {
     "name": "stderr",
     "output_type": "stream",
     "text": [
      "Traceback (most recent call last):\n",
      "  File \"/tmp/ipykernel_6162/10625338.py\", line 4, in checkValidation\n",
      "    with open(path,\"r\",encoding=\"cp1252\") as log:\n",
      "  File \"/home/stotoshka/Soft/anaconda3/envs/research/lib/python3.9/site-packages/IPython/core/interactiveshell.py\", line 282, in _modified_open\n",
      "    return io_open(file, *args, **kwargs)\n",
      "FileNotFoundError: [Errno 2] No such file or directory: '/run/user/1000/gvfs/smb-share:server=192.168.0.10,share=diplom/ANGEL/HLA/results/HLA-C1601-total_HLA_6.HST'\n"
     ]
    },
    {
     "name": "stdout",
     "output_type": "stream",
     "text": [
      "HLA-B3501_val.txt ended with errors\n",
      "HLA-B3502_val.txt\n"
     ]
    },
    {
     "name": "stderr",
     "output_type": "stream",
     "text": [
      "Traceback (most recent call last):\n",
      "  File \"/tmp/ipykernel_6162/10625338.py\", line 4, in checkValidation\n",
      "    with open(path,\"r\",encoding=\"cp1252\") as log:\n",
      "  File \"/home/stotoshka/Soft/anaconda3/envs/research/lib/python3.9/site-packages/IPython/core/interactiveshell.py\", line 282, in _modified_open\n",
      "    return io_open(file, *args, **kwargs)\n",
      "FileNotFoundError: [Errno 2] No such file or directory: '/run/user/1000/gvfs/smb-share:server=192.168.0.10,share=diplom/ANGEL/HLA/results/HLA-C1601-total_HLA_6.HST'\n"
     ]
    },
    {
     "name": "stdout",
     "output_type": "stream",
     "text": [
      "HLA-B3502_val.txt ended with errors\n",
      "HLA-B3503_val.txt\n"
     ]
    },
    {
     "name": "stderr",
     "output_type": "stream",
     "text": [
      "Traceback (most recent call last):\n",
      "  File \"/tmp/ipykernel_6162/10625338.py\", line 4, in checkValidation\n",
      "    with open(path,\"r\",encoding=\"cp1252\") as log:\n",
      "  File \"/home/stotoshka/Soft/anaconda3/envs/research/lib/python3.9/site-packages/IPython/core/interactiveshell.py\", line 282, in _modified_open\n",
      "    return io_open(file, *args, **kwargs)\n",
      "FileNotFoundError: [Errno 2] No such file or directory: '/run/user/1000/gvfs/smb-share:server=192.168.0.10,share=diplom/ANGEL/HLA/results/HLA-C1601-total_HLA_6.HST'\n"
     ]
    },
    {
     "name": "stdout",
     "output_type": "stream",
     "text": [
      "HLA-B3503_val.txt ended with errors\n",
      "HLA-B3508_val.txt\n"
     ]
    },
    {
     "name": "stderr",
     "output_type": "stream",
     "text": [
      "Traceback (most recent call last):\n",
      "  File \"/tmp/ipykernel_6162/10625338.py\", line 4, in checkValidation\n",
      "    with open(path,\"r\",encoding=\"cp1252\") as log:\n",
      "  File \"/home/stotoshka/Soft/anaconda3/envs/research/lib/python3.9/site-packages/IPython/core/interactiveshell.py\", line 282, in _modified_open\n",
      "    return io_open(file, *args, **kwargs)\n",
      "FileNotFoundError: [Errno 2] No such file or directory: '/run/user/1000/gvfs/smb-share:server=192.168.0.10,share=diplom/ANGEL/HLA/results/HLA-C1601-total_HLA_6.HST'\n"
     ]
    },
    {
     "name": "stdout",
     "output_type": "stream",
     "text": [
      "HLA-B3508_val.txt ended with errors\n",
      "HLA-B3701_val.txt\n"
     ]
    },
    {
     "name": "stderr",
     "output_type": "stream",
     "text": [
      "Traceback (most recent call last):\n",
      "  File \"/tmp/ipykernel_6162/10625338.py\", line 4, in checkValidation\n",
      "    with open(path,\"r\",encoding=\"cp1252\") as log:\n",
      "  File \"/home/stotoshka/Soft/anaconda3/envs/research/lib/python3.9/site-packages/IPython/core/interactiveshell.py\", line 282, in _modified_open\n",
      "    return io_open(file, *args, **kwargs)\n",
      "FileNotFoundError: [Errno 2] No such file or directory: '/run/user/1000/gvfs/smb-share:server=192.168.0.10,share=diplom/ANGEL/HLA/results/HLA-C1601-total_HLA_6.HST'\n"
     ]
    },
    {
     "name": "stdout",
     "output_type": "stream",
     "text": [
      "HLA-B3701_val.txt ended with errors\n",
      "HLA-B3801_val.txt\n"
     ]
    },
    {
     "name": "stderr",
     "output_type": "stream",
     "text": [
      "Traceback (most recent call last):\n",
      "  File \"/tmp/ipykernel_6162/10625338.py\", line 4, in checkValidation\n",
      "    with open(path,\"r\",encoding=\"cp1252\") as log:\n",
      "  File \"/home/stotoshka/Soft/anaconda3/envs/research/lib/python3.9/site-packages/IPython/core/interactiveshell.py\", line 282, in _modified_open\n",
      "    return io_open(file, *args, **kwargs)\n",
      "FileNotFoundError: [Errno 2] No such file or directory: '/run/user/1000/gvfs/smb-share:server=192.168.0.10,share=diplom/ANGEL/HLA/results/HLA-C1601-total_HLA_6.HST'\n"
     ]
    },
    {
     "name": "stdout",
     "output_type": "stream",
     "text": [
      "HLA-B3801_val.txt ended with errors\n",
      "HLA-B3901_val.txt\n"
     ]
    },
    {
     "name": "stderr",
     "output_type": "stream",
     "text": [
      "Traceback (most recent call last):\n",
      "  File \"/tmp/ipykernel_6162/10625338.py\", line 4, in checkValidation\n",
      "    with open(path,\"r\",encoding=\"cp1252\") as log:\n",
      "  File \"/home/stotoshka/Soft/anaconda3/envs/research/lib/python3.9/site-packages/IPython/core/interactiveshell.py\", line 282, in _modified_open\n",
      "    return io_open(file, *args, **kwargs)\n",
      "FileNotFoundError: [Errno 2] No such file or directory: '/run/user/1000/gvfs/smb-share:server=192.168.0.10,share=diplom/ANGEL/HLA/results/HLA-C1601-total_HLA_6.HST'\n"
     ]
    },
    {
     "name": "stdout",
     "output_type": "stream",
     "text": [
      "HLA-B3901_val.txt ended with errors\n",
      "HLA-B3906_val.txt\n"
     ]
    },
    {
     "name": "stderr",
     "output_type": "stream",
     "text": [
      "Traceback (most recent call last):\n",
      "  File \"/tmp/ipykernel_6162/10625338.py\", line 4, in checkValidation\n",
      "    with open(path,\"r\",encoding=\"cp1252\") as log:\n",
      "  File \"/home/stotoshka/Soft/anaconda3/envs/research/lib/python3.9/site-packages/IPython/core/interactiveshell.py\", line 282, in _modified_open\n",
      "    return io_open(file, *args, **kwargs)\n",
      "FileNotFoundError: [Errno 2] No such file or directory: '/run/user/1000/gvfs/smb-share:server=192.168.0.10,share=diplom/ANGEL/HLA/results/HLA-C1601-total_HLA_6.HST'\n"
     ]
    },
    {
     "name": "stdout",
     "output_type": "stream",
     "text": [
      "HLA-B3906_val.txt ended with errors\n",
      "HLA-B3924_val.txt\n"
     ]
    },
    {
     "name": "stderr",
     "output_type": "stream",
     "text": [
      "Traceback (most recent call last):\n",
      "  File \"/tmp/ipykernel_6162/10625338.py\", line 4, in checkValidation\n",
      "    with open(path,\"r\",encoding=\"cp1252\") as log:\n",
      "  File \"/home/stotoshka/Soft/anaconda3/envs/research/lib/python3.9/site-packages/IPython/core/interactiveshell.py\", line 282, in _modified_open\n",
      "    return io_open(file, *args, **kwargs)\n",
      "FileNotFoundError: [Errno 2] No such file or directory: '/run/user/1000/gvfs/smb-share:server=192.168.0.10,share=diplom/ANGEL/HLA/results/HLA-C1601-total_HLA_6.HST'\n"
     ]
    },
    {
     "name": "stdout",
     "output_type": "stream",
     "text": [
      "HLA-B3924_val.txt ended with errors\n",
      "HLA-B4001_val.txt\n"
     ]
    },
    {
     "name": "stderr",
     "output_type": "stream",
     "text": [
      "Traceback (most recent call last):\n",
      "  File \"/tmp/ipykernel_6162/10625338.py\", line 4, in checkValidation\n",
      "    with open(path,\"r\",encoding=\"cp1252\") as log:\n",
      "  File \"/home/stotoshka/Soft/anaconda3/envs/research/lib/python3.9/site-packages/IPython/core/interactiveshell.py\", line 282, in _modified_open\n",
      "    return io_open(file, *args, **kwargs)\n",
      "FileNotFoundError: [Errno 2] No such file or directory: '/run/user/1000/gvfs/smb-share:server=192.168.0.10,share=diplom/ANGEL/HLA/results/HLA-C1601-total_HLA_6.HST'\n"
     ]
    },
    {
     "name": "stdout",
     "output_type": "stream",
     "text": [
      "HLA-B4001_val.txt ended with errors\n",
      "HLA-B4002_val.txt\n"
     ]
    },
    {
     "name": "stderr",
     "output_type": "stream",
     "text": [
      "Traceback (most recent call last):\n",
      "  File \"/tmp/ipykernel_6162/10625338.py\", line 4, in checkValidation\n",
      "    with open(path,\"r\",encoding=\"cp1252\") as log:\n",
      "  File \"/home/stotoshka/Soft/anaconda3/envs/research/lib/python3.9/site-packages/IPython/core/interactiveshell.py\", line 282, in _modified_open\n",
      "    return io_open(file, *args, **kwargs)\n",
      "FileNotFoundError: [Errno 2] No such file or directory: '/run/user/1000/gvfs/smb-share:server=192.168.0.10,share=diplom/ANGEL/HLA/results/HLA-C1601-total_HLA_6.HST'\n"
     ]
    },
    {
     "name": "stdout",
     "output_type": "stream",
     "text": [
      "HLA-B4002_val.txt ended with errors\n",
      "HLA-B4101_val.txt\n"
     ]
    },
    {
     "name": "stderr",
     "output_type": "stream",
     "text": [
      "Traceback (most recent call last):\n",
      "  File \"/tmp/ipykernel_6162/10625338.py\", line 4, in checkValidation\n",
      "    with open(path,\"r\",encoding=\"cp1252\") as log:\n",
      "  File \"/home/stotoshka/Soft/anaconda3/envs/research/lib/python3.9/site-packages/IPython/core/interactiveshell.py\", line 282, in _modified_open\n",
      "    return io_open(file, *args, **kwargs)\n",
      "FileNotFoundError: [Errno 2] No such file or directory: '/run/user/1000/gvfs/smb-share:server=192.168.0.10,share=diplom/ANGEL/HLA/results/HLA-C1601-total_HLA_6.HST'\n"
     ]
    },
    {
     "name": "stdout",
     "output_type": "stream",
     "text": [
      "HLA-B4101_val.txt ended with errors\n",
      "HLA-B4402_val.txt\n"
     ]
    },
    {
     "name": "stderr",
     "output_type": "stream",
     "text": [
      "Traceback (most recent call last):\n",
      "  File \"/tmp/ipykernel_6162/10625338.py\", line 4, in checkValidation\n",
      "    with open(path,\"r\",encoding=\"cp1252\") as log:\n",
      "  File \"/home/stotoshka/Soft/anaconda3/envs/research/lib/python3.9/site-packages/IPython/core/interactiveshell.py\", line 282, in _modified_open\n",
      "    return io_open(file, *args, **kwargs)\n",
      "FileNotFoundError: [Errno 2] No such file or directory: '/run/user/1000/gvfs/smb-share:server=192.168.0.10,share=diplom/ANGEL/HLA/results/HLA-C1601-total_HLA_6.HST'\n"
     ]
    },
    {
     "name": "stdout",
     "output_type": "stream",
     "text": [
      "HLA-B4402_val.txt ended with errors\n",
      "HLA-B4403_val.txt\n"
     ]
    },
    {
     "name": "stderr",
     "output_type": "stream",
     "text": [
      "Traceback (most recent call last):\n",
      "  File \"/tmp/ipykernel_6162/10625338.py\", line 4, in checkValidation\n",
      "    with open(path,\"r\",encoding=\"cp1252\") as log:\n",
      "  File \"/home/stotoshka/Soft/anaconda3/envs/research/lib/python3.9/site-packages/IPython/core/interactiveshell.py\", line 282, in _modified_open\n",
      "    return io_open(file, *args, **kwargs)\n",
      "FileNotFoundError: [Errno 2] No such file or directory: '/run/user/1000/gvfs/smb-share:server=192.168.0.10,share=diplom/ANGEL/HLA/results/HLA-C1601-total_HLA_6.HST'\n"
     ]
    },
    {
     "name": "stdout",
     "output_type": "stream",
     "text": [
      "HLA-B4403_val.txt ended with errors\n",
      "HLA-B4501_val.txt\n"
     ]
    },
    {
     "name": "stderr",
     "output_type": "stream",
     "text": [
      "Traceback (most recent call last):\n",
      "  File \"/tmp/ipykernel_6162/10625338.py\", line 4, in checkValidation\n",
      "    with open(path,\"r\",encoding=\"cp1252\") as log:\n",
      "  File \"/home/stotoshka/Soft/anaconda3/envs/research/lib/python3.9/site-packages/IPython/core/interactiveshell.py\", line 282, in _modified_open\n",
      "    return io_open(file, *args, **kwargs)\n",
      "FileNotFoundError: [Errno 2] No such file or directory: '/run/user/1000/gvfs/smb-share:server=192.168.0.10,share=diplom/ANGEL/HLA/results/HLA-C1601-total_HLA_6.HST'\n"
     ]
    },
    {
     "name": "stdout",
     "output_type": "stream",
     "text": [
      "HLA-B4501_val.txt ended with errors\n",
      "HLA-B4701_val.txt\n"
     ]
    },
    {
     "name": "stderr",
     "output_type": "stream",
     "text": [
      "Traceback (most recent call last):\n",
      "  File \"/tmp/ipykernel_6162/10625338.py\", line 4, in checkValidation\n",
      "    with open(path,\"r\",encoding=\"cp1252\") as log:\n",
      "  File \"/home/stotoshka/Soft/anaconda3/envs/research/lib/python3.9/site-packages/IPython/core/interactiveshell.py\", line 282, in _modified_open\n",
      "    return io_open(file, *args, **kwargs)\n",
      "FileNotFoundError: [Errno 2] No such file or directory: '/run/user/1000/gvfs/smb-share:server=192.168.0.10,share=diplom/ANGEL/HLA/results/HLA-C1601-total_HLA_6.HST'\n"
     ]
    },
    {
     "name": "stdout",
     "output_type": "stream",
     "text": [
      "HLA-B4701_val.txt ended with errors\n",
      "HLA-B5001_val.txt\n"
     ]
    },
    {
     "name": "stderr",
     "output_type": "stream",
     "text": [
      "Traceback (most recent call last):\n",
      "  File \"/tmp/ipykernel_6162/10625338.py\", line 4, in checkValidation\n",
      "    with open(path,\"r\",encoding=\"cp1252\") as log:\n",
      "  File \"/home/stotoshka/Soft/anaconda3/envs/research/lib/python3.9/site-packages/IPython/core/interactiveshell.py\", line 282, in _modified_open\n",
      "    return io_open(file, *args, **kwargs)\n",
      "FileNotFoundError: [Errno 2] No such file or directory: '/run/user/1000/gvfs/smb-share:server=192.168.0.10,share=diplom/ANGEL/HLA/results/HLA-C1601-total_HLA_6.HST'\n"
     ]
    },
    {
     "name": "stdout",
     "output_type": "stream",
     "text": [
      "HLA-B5001_val.txt ended with errors\n",
      "HLA-B5101_val.txt\n"
     ]
    },
    {
     "name": "stderr",
     "output_type": "stream",
     "text": [
      "Traceback (most recent call last):\n",
      "  File \"/tmp/ipykernel_6162/10625338.py\", line 4, in checkValidation\n",
      "    with open(path,\"r\",encoding=\"cp1252\") as log:\n",
      "  File \"/home/stotoshka/Soft/anaconda3/envs/research/lib/python3.9/site-packages/IPython/core/interactiveshell.py\", line 282, in _modified_open\n",
      "    return io_open(file, *args, **kwargs)\n",
      "FileNotFoundError: [Errno 2] No such file or directory: '/run/user/1000/gvfs/smb-share:server=192.168.0.10,share=diplom/ANGEL/HLA/results/HLA-C1601-total_HLA_6.HST'\n"
     ]
    },
    {
     "name": "stdout",
     "output_type": "stream",
     "text": [
      "HLA-B5101_val.txt ended with errors\n",
      "HLA-B5501_val.txt\n"
     ]
    },
    {
     "name": "stderr",
     "output_type": "stream",
     "text": [
      "Traceback (most recent call last):\n",
      "  File \"/tmp/ipykernel_6162/10625338.py\", line 4, in checkValidation\n",
      "    with open(path,\"r\",encoding=\"cp1252\") as log:\n",
      "  File \"/home/stotoshka/Soft/anaconda3/envs/research/lib/python3.9/site-packages/IPython/core/interactiveshell.py\", line 282, in _modified_open\n",
      "    return io_open(file, *args, **kwargs)\n",
      "FileNotFoundError: [Errno 2] No such file or directory: '/run/user/1000/gvfs/smb-share:server=192.168.0.10,share=diplom/ANGEL/HLA/results/HLA-C1601-total_HLA_6.HST'\n"
     ]
    },
    {
     "name": "stdout",
     "output_type": "stream",
     "text": [
      "HLA-B5501_val.txt ended with errors\n",
      "HLA-B5601_val.txt\n"
     ]
    },
    {
     "name": "stderr",
     "output_type": "stream",
     "text": [
      "Traceback (most recent call last):\n",
      "  File \"/tmp/ipykernel_6162/10625338.py\", line 4, in checkValidation\n",
      "    with open(path,\"r\",encoding=\"cp1252\") as log:\n",
      "  File \"/home/stotoshka/Soft/anaconda3/envs/research/lib/python3.9/site-packages/IPython/core/interactiveshell.py\", line 282, in _modified_open\n",
      "    return io_open(file, *args, **kwargs)\n",
      "FileNotFoundError: [Errno 2] No such file or directory: '/run/user/1000/gvfs/smb-share:server=192.168.0.10,share=diplom/ANGEL/HLA/results/HLA-C1601-total_HLA_6.HST'\n"
     ]
    },
    {
     "name": "stdout",
     "output_type": "stream",
     "text": [
      "HLA-B5601_val.txt ended with errors\n",
      "HLA-B5701_val.txt\n"
     ]
    },
    {
     "name": "stderr",
     "output_type": "stream",
     "text": [
      "Traceback (most recent call last):\n",
      "  File \"/tmp/ipykernel_6162/10625338.py\", line 4, in checkValidation\n",
      "    with open(path,\"r\",encoding=\"cp1252\") as log:\n",
      "  File \"/home/stotoshka/Soft/anaconda3/envs/research/lib/python3.9/site-packages/IPython/core/interactiveshell.py\", line 282, in _modified_open\n",
      "    return io_open(file, *args, **kwargs)\n",
      "FileNotFoundError: [Errno 2] No such file or directory: '/run/user/1000/gvfs/smb-share:server=192.168.0.10,share=diplom/ANGEL/HLA/results/HLA-C1601-total_HLA_6.HST'\n"
     ]
    },
    {
     "name": "stdout",
     "output_type": "stream",
     "text": [
      "HLA-B5701_val.txt ended with errors\n",
      "HLA-B5801_val.txt\n"
     ]
    },
    {
     "name": "stderr",
     "output_type": "stream",
     "text": [
      "Traceback (most recent call last):\n",
      "  File \"/tmp/ipykernel_6162/10625338.py\", line 4, in checkValidation\n",
      "    with open(path,\"r\",encoding=\"cp1252\") as log:\n",
      "  File \"/home/stotoshka/Soft/anaconda3/envs/research/lib/python3.9/site-packages/IPython/core/interactiveshell.py\", line 282, in _modified_open\n",
      "    return io_open(file, *args, **kwargs)\n",
      "FileNotFoundError: [Errno 2] No such file or directory: '/run/user/1000/gvfs/smb-share:server=192.168.0.10,share=diplom/ANGEL/HLA/results/HLA-C1601-total_HLA_6.HST'\n"
     ]
    },
    {
     "name": "stdout",
     "output_type": "stream",
     "text": [
      "HLA-B5801_val.txt ended with errors\n",
      "HLA-B7301_val.txt\n"
     ]
    },
    {
     "name": "stderr",
     "output_type": "stream",
     "text": [
      "Traceback (most recent call last):\n",
      "  File \"/tmp/ipykernel_6162/10625338.py\", line 4, in checkValidation\n",
      "    with open(path,\"r\",encoding=\"cp1252\") as log:\n",
      "  File \"/home/stotoshka/Soft/anaconda3/envs/research/lib/python3.9/site-packages/IPython/core/interactiveshell.py\", line 282, in _modified_open\n",
      "    return io_open(file, *args, **kwargs)\n",
      "FileNotFoundError: [Errno 2] No such file or directory: '/run/user/1000/gvfs/smb-share:server=192.168.0.10,share=diplom/ANGEL/HLA/results/HLA-C1601-total_HLA_6.HST'\n"
     ]
    },
    {
     "name": "stdout",
     "output_type": "stream",
     "text": [
      "HLA-B7301_val.txt ended with errors\n",
      "HLA-C0102_val.txt\n"
     ]
    },
    {
     "name": "stderr",
     "output_type": "stream",
     "text": [
      "Traceback (most recent call last):\n",
      "  File \"/tmp/ipykernel_6162/10625338.py\", line 4, in checkValidation\n",
      "    with open(path,\"r\",encoding=\"cp1252\") as log:\n",
      "  File \"/home/stotoshka/Soft/anaconda3/envs/research/lib/python3.9/site-packages/IPython/core/interactiveshell.py\", line 282, in _modified_open\n",
      "    return io_open(file, *args, **kwargs)\n",
      "FileNotFoundError: [Errno 2] No such file or directory: '/run/user/1000/gvfs/smb-share:server=192.168.0.10,share=diplom/ANGEL/HLA/results/HLA-C1601-total_HLA_6.HST'\n"
     ]
    },
    {
     "name": "stdout",
     "output_type": "stream",
     "text": [
      "HLA-C0102_val.txt ended with errors\n",
      "HLA-C0202_val.txt\n"
     ]
    },
    {
     "name": "stderr",
     "output_type": "stream",
     "text": [
      "Traceback (most recent call last):\n",
      "  File \"/tmp/ipykernel_6162/10625338.py\", line 4, in checkValidation\n",
      "    with open(path,\"r\",encoding=\"cp1252\") as log:\n",
      "  File \"/home/stotoshka/Soft/anaconda3/envs/research/lib/python3.9/site-packages/IPython/core/interactiveshell.py\", line 282, in _modified_open\n",
      "    return io_open(file, *args, **kwargs)\n",
      "FileNotFoundError: [Errno 2] No such file or directory: '/run/user/1000/gvfs/smb-share:server=192.168.0.10,share=diplom/ANGEL/HLA/results/HLA-C1601-total_HLA_6.HST'\n"
     ]
    },
    {
     "name": "stdout",
     "output_type": "stream",
     "text": [
      "HLA-C0202_val.txt ended with errors\n",
      "HLA-C0210_val.txt\n"
     ]
    },
    {
     "name": "stderr",
     "output_type": "stream",
     "text": [
      "Traceback (most recent call last):\n",
      "  File \"/tmp/ipykernel_6162/10625338.py\", line 4, in checkValidation\n",
      "    with open(path,\"r\",encoding=\"cp1252\") as log:\n",
      "  File \"/home/stotoshka/Soft/anaconda3/envs/research/lib/python3.9/site-packages/IPython/core/interactiveshell.py\", line 282, in _modified_open\n",
      "    return io_open(file, *args, **kwargs)\n",
      "FileNotFoundError: [Errno 2] No such file or directory: '/run/user/1000/gvfs/smb-share:server=192.168.0.10,share=diplom/ANGEL/HLA/results/HLA-C1601-total_HLA_6.HST'\n"
     ]
    },
    {
     "name": "stdout",
     "output_type": "stream",
     "text": [
      "HLA-C0210_val.txt ended with errors\n",
      "HLA-C0303_val.txt\n"
     ]
    },
    {
     "name": "stderr",
     "output_type": "stream",
     "text": [
      "Traceback (most recent call last):\n",
      "  File \"/tmp/ipykernel_6162/10625338.py\", line 4, in checkValidation\n",
      "    with open(path,\"r\",encoding=\"cp1252\") as log:\n",
      "  File \"/home/stotoshka/Soft/anaconda3/envs/research/lib/python3.9/site-packages/IPython/core/interactiveshell.py\", line 282, in _modified_open\n",
      "    return io_open(file, *args, **kwargs)\n",
      "FileNotFoundError: [Errno 2] No such file or directory: '/run/user/1000/gvfs/smb-share:server=192.168.0.10,share=diplom/ANGEL/HLA/results/HLA-C1601-total_HLA_6.HST'\n"
     ]
    },
    {
     "name": "stdout",
     "output_type": "stream",
     "text": [
      "HLA-C0303_val.txt ended with errors\n",
      "HLA-C0304_val.txt\n"
     ]
    },
    {
     "name": "stderr",
     "output_type": "stream",
     "text": [
      "Traceback (most recent call last):\n",
      "  File \"/tmp/ipykernel_6162/10625338.py\", line 4, in checkValidation\n",
      "    with open(path,\"r\",encoding=\"cp1252\") as log:\n",
      "  File \"/home/stotoshka/Soft/anaconda3/envs/research/lib/python3.9/site-packages/IPython/core/interactiveshell.py\", line 282, in _modified_open\n",
      "    return io_open(file, *args, **kwargs)\n",
      "FileNotFoundError: [Errno 2] No such file or directory: '/run/user/1000/gvfs/smb-share:server=192.168.0.10,share=diplom/ANGEL/HLA/results/HLA-C1601-total_HLA_6.HST'\n"
     ]
    },
    {
     "name": "stdout",
     "output_type": "stream",
     "text": [
      "HLA-C0304_val.txt ended with errors\n",
      "HLA-C0401_val.txt\n"
     ]
    },
    {
     "name": "stderr",
     "output_type": "stream",
     "text": [
      "Traceback (most recent call last):\n",
      "  File \"/tmp/ipykernel_6162/10625338.py\", line 4, in checkValidation\n",
      "    with open(path,\"r\",encoding=\"cp1252\") as log:\n",
      "  File \"/home/stotoshka/Soft/anaconda3/envs/research/lib/python3.9/site-packages/IPython/core/interactiveshell.py\", line 282, in _modified_open\n",
      "    return io_open(file, *args, **kwargs)\n",
      "FileNotFoundError: [Errno 2] No such file or directory: '/run/user/1000/gvfs/smb-share:server=192.168.0.10,share=diplom/ANGEL/HLA/results/HLA-C1601-total_HLA_6.HST'\n"
     ]
    },
    {
     "name": "stdout",
     "output_type": "stream",
     "text": [
      "HLA-C0401_val.txt ended with errors\n",
      "HLA-C0501_val.txt\n"
     ]
    },
    {
     "name": "stderr",
     "output_type": "stream",
     "text": [
      "Traceback (most recent call last):\n",
      "  File \"/tmp/ipykernel_6162/10625338.py\", line 4, in checkValidation\n",
      "    with open(path,\"r\",encoding=\"cp1252\") as log:\n",
      "  File \"/home/stotoshka/Soft/anaconda3/envs/research/lib/python3.9/site-packages/IPython/core/interactiveshell.py\", line 282, in _modified_open\n",
      "    return io_open(file, *args, **kwargs)\n",
      "FileNotFoundError: [Errno 2] No such file or directory: '/run/user/1000/gvfs/smb-share:server=192.168.0.10,share=diplom/ANGEL/HLA/results/HLA-C1601-total_HLA_6.HST'\n"
     ]
    },
    {
     "name": "stdout",
     "output_type": "stream",
     "text": [
      "HLA-C0501_val.txt ended with errors\n",
      "HLA-C0602_val.txt\n"
     ]
    },
    {
     "name": "stderr",
     "output_type": "stream",
     "text": [
      "Traceback (most recent call last):\n",
      "  File \"/tmp/ipykernel_6162/10625338.py\", line 4, in checkValidation\n",
      "    with open(path,\"r\",encoding=\"cp1252\") as log:\n",
      "  File \"/home/stotoshka/Soft/anaconda3/envs/research/lib/python3.9/site-packages/IPython/core/interactiveshell.py\", line 282, in _modified_open\n",
      "    return io_open(file, *args, **kwargs)\n",
      "FileNotFoundError: [Errno 2] No such file or directory: '/run/user/1000/gvfs/smb-share:server=192.168.0.10,share=diplom/ANGEL/HLA/results/HLA-C1601-total_HLA_6.HST'\n"
     ]
    },
    {
     "name": "stdout",
     "output_type": "stream",
     "text": [
      "HLA-C0602_val.txt ended with errors\n",
      "HLA-C0701_val.txt\n"
     ]
    },
    {
     "name": "stderr",
     "output_type": "stream",
     "text": [
      "Traceback (most recent call last):\n",
      "  File \"/tmp/ipykernel_6162/10625338.py\", line 4, in checkValidation\n",
      "    with open(path,\"r\",encoding=\"cp1252\") as log:\n",
      "  File \"/home/stotoshka/Soft/anaconda3/envs/research/lib/python3.9/site-packages/IPython/core/interactiveshell.py\", line 282, in _modified_open\n",
      "    return io_open(file, *args, **kwargs)\n",
      "FileNotFoundError: [Errno 2] No such file or directory: '/run/user/1000/gvfs/smb-share:server=192.168.0.10,share=diplom/ANGEL/HLA/results/HLA-C1601-total_HLA_6.HST'\n"
     ]
    },
    {
     "name": "stdout",
     "output_type": "stream",
     "text": [
      "HLA-C0701_val.txt ended with errors\n",
      "HLA-C0702_val.txt\n"
     ]
    },
    {
     "name": "stderr",
     "output_type": "stream",
     "text": [
      "Traceback (most recent call last):\n",
      "  File \"/tmp/ipykernel_6162/10625338.py\", line 4, in checkValidation\n",
      "    with open(path,\"r\",encoding=\"cp1252\") as log:\n",
      "  File \"/home/stotoshka/Soft/anaconda3/envs/research/lib/python3.9/site-packages/IPython/core/interactiveshell.py\", line 282, in _modified_open\n",
      "    return io_open(file, *args, **kwargs)\n",
      "FileNotFoundError: [Errno 2] No such file or directory: '/run/user/1000/gvfs/smb-share:server=192.168.0.10,share=diplom/ANGEL/HLA/results/HLA-C1601-total_HLA_6.HST'\n"
     ]
    },
    {
     "name": "stdout",
     "output_type": "stream",
     "text": [
      "HLA-C0702_val.txt ended with errors\n",
      "HLA-C0704_val.txt\n"
     ]
    },
    {
     "name": "stderr",
     "output_type": "stream",
     "text": [
      "Traceback (most recent call last):\n",
      "  File \"/tmp/ipykernel_6162/10625338.py\", line 4, in checkValidation\n",
      "    with open(path,\"r\",encoding=\"cp1252\") as log:\n",
      "  File \"/home/stotoshka/Soft/anaconda3/envs/research/lib/python3.9/site-packages/IPython/core/interactiveshell.py\", line 282, in _modified_open\n",
      "    return io_open(file, *args, **kwargs)\n",
      "FileNotFoundError: [Errno 2] No such file or directory: '/run/user/1000/gvfs/smb-share:server=192.168.0.10,share=diplom/ANGEL/HLA/results/HLA-C1601-total_HLA_6.HST'\n"
     ]
    },
    {
     "name": "stdout",
     "output_type": "stream",
     "text": [
      "HLA-C0704_val.txt ended with errors\n",
      "HLA-C0802_val.txt\n"
     ]
    },
    {
     "name": "stderr",
     "output_type": "stream",
     "text": [
      "Traceback (most recent call last):\n",
      "  File \"/tmp/ipykernel_6162/10625338.py\", line 4, in checkValidation\n",
      "    with open(path,\"r\",encoding=\"cp1252\") as log:\n",
      "  File \"/home/stotoshka/Soft/anaconda3/envs/research/lib/python3.9/site-packages/IPython/core/interactiveshell.py\", line 282, in _modified_open\n",
      "    return io_open(file, *args, **kwargs)\n",
      "FileNotFoundError: [Errno 2] No such file or directory: '/run/user/1000/gvfs/smb-share:server=192.168.0.10,share=diplom/ANGEL/HLA/results/HLA-C1601-total_HLA_6.HST'\n"
     ]
    },
    {
     "name": "stdout",
     "output_type": "stream",
     "text": [
      "HLA-C0802_val.txt ended with errors\n",
      "HLA-C1203_val.txt\n"
     ]
    },
    {
     "name": "stderr",
     "output_type": "stream",
     "text": [
      "Traceback (most recent call last):\n",
      "  File \"/tmp/ipykernel_6162/10625338.py\", line 4, in checkValidation\n",
      "    with open(path,\"r\",encoding=\"cp1252\") as log:\n",
      "  File \"/home/stotoshka/Soft/anaconda3/envs/research/lib/python3.9/site-packages/IPython/core/interactiveshell.py\", line 282, in _modified_open\n",
      "    return io_open(file, *args, **kwargs)\n",
      "FileNotFoundError: [Errno 2] No such file or directory: '/run/user/1000/gvfs/smb-share:server=192.168.0.10,share=diplom/ANGEL/HLA/results/HLA-C1601-total_HLA_6.HST'\n"
     ]
    },
    {
     "name": "stdout",
     "output_type": "stream",
     "text": [
      "HLA-C1203_val.txt ended with errors\n",
      "HLA-C1402_val.txt\n"
     ]
    },
    {
     "name": "stderr",
     "output_type": "stream",
     "text": [
      "Traceback (most recent call last):\n",
      "  File \"/tmp/ipykernel_6162/10625338.py\", line 4, in checkValidation\n",
      "    with open(path,\"r\",encoding=\"cp1252\") as log:\n",
      "  File \"/home/stotoshka/Soft/anaconda3/envs/research/lib/python3.9/site-packages/IPython/core/interactiveshell.py\", line 282, in _modified_open\n",
      "    return io_open(file, *args, **kwargs)\n",
      "FileNotFoundError: [Errno 2] No such file or directory: '/run/user/1000/gvfs/smb-share:server=192.168.0.10,share=diplom/ANGEL/HLA/results/HLA-C1601-total_HLA_6.HST'\n"
     ]
    },
    {
     "name": "stdout",
     "output_type": "stream",
     "text": [
      "HLA-C1402_val.txt ended with errors\n",
      "HLA-C1505_val.txt\n"
     ]
    },
    {
     "name": "stderr",
     "output_type": "stream",
     "text": [
      "Traceback (most recent call last):\n",
      "  File \"/tmp/ipykernel_6162/10625338.py\", line 4, in checkValidation\n",
      "    with open(path,\"r\",encoding=\"cp1252\") as log:\n",
      "  File \"/home/stotoshka/Soft/anaconda3/envs/research/lib/python3.9/site-packages/IPython/core/interactiveshell.py\", line 282, in _modified_open\n",
      "    return io_open(file, *args, **kwargs)\n",
      "FileNotFoundError: [Errno 2] No such file or directory: '/run/user/1000/gvfs/smb-share:server=192.168.0.10,share=diplom/ANGEL/HLA/results/HLA-C1601-total_HLA_6.HST'\n"
     ]
    },
    {
     "name": "stdout",
     "output_type": "stream",
     "text": [
      "HLA-C1505_val.txt ended with errors\n",
      "HLA-C1601_val.txt\n",
      "HLA-C1601_val.txt ended with errors\n",
      "CPU times: user 8.67 s, sys: 3.71 s, total: 12.4 s\n",
      "Wall time: 1h 43min 25s\n"
     ]
    }
   ],
   "source": [
    "%%time\n",
    "client = paramiko.SSHClient()\n",
    "client.set_missing_host_key_policy(paramiko.AutoAddPolicy())\n",
    "password = getpass()\n",
    "client.connect('192.168.0.10', username='SmirnygaTotoshka', password=password)\n",
    "for val in val_tasks:\n",
    "    print(val)\n",
    "    if val in succeded_val:\n",
    "        continue\n",
    "    val_command = r\"C:\\Users\\SmirnygaTotoshka\\Desktop\\OLMPASS\\OLMPASS2CSV.exe C:\\Users\\SmirnygaTotoshka\\Desktop\\diplom\\ANGEL\\HLA\\\\\" + val\n",
    "    stdin_val, stdout_val, stderr_val = client.exec_command(val_command)  # Non-blocking call\n",
    "    exit_status_val = stdout_val.channel.recv_exit_status()\n",
    "    if exit_status_val == 0:\n",
    "        test_name = val.replace(\"_val.txt\", \"\")+ \"-total_HLA_6\" + \".HST\"\n",
    "        if checkValidation(\n",
    "                f\"/run/user/1000/gvfs/smb-share:server=192.168.0.10,share=diplom/ANGEL/HLA/results/{test_name}\"):\n",
    "            print(\"Validation ended\")\n",
    "        else:\n",
    "            print(f\"{val} ended with errors\")\n",
    "    else:\n",
    "        print(\"Error validation\", exit_status_val)\n",
    "client.close()"
   ],
   "metadata": {
    "collapsed": false,
    "ExecuteTime": {
     "end_time": "2023-05-16T12:46:39.297427743Z",
     "start_time": "2023-05-16T11:03:13.492886196Z"
    }
   }
  },
  {
   "cell_type": "code",
   "execution_count": 14,
   "outputs": [],
   "source": [
    "%%bash\n",
    "cd /home/stotoshka/Documents/ANGEL_dev\n",
    "cp /run/user/1000/gvfs/smb-share:server=192.168.0.10,share=diplom/ANGEL/HLA/models/*.HST HLA/data/results/validation/internal\n",
    "cp /run/user/1000/gvfs/smb-share:server=192.168.0.10,share=diplom/ANGEL/HLA/results/*.csv HLA/data/results/validation/external"
   ],
   "metadata": {
    "collapsed": false,
    "ExecuteTime": {
     "end_time": "2023-05-16T14:38:34.330603897Z",
     "start_time": "2023-05-16T14:36:13.146544554Z"
    }
   }
  },
  {
   "cell_type": "code",
   "execution_count": 17,
   "outputs": [
    {
     "name": "stdout",
     "output_type": "stream",
     "text": [
      "HLA-B*39:24 0.6816966708161768\n",
      "HLA-A*25:01 0.6087875148366252\n",
      "HLA-B*15:03 0.5475873913124257\n",
      "HLA-C*12:03 0.54339290357839\n",
      "HLA-B*41:01 0.8189300411522634\n",
      "HLA-A*32:01 0.5873768501840395\n",
      "HLA-B*51:01 0.5319740456456656\n",
      "HLA-B*35:02 0.5088757396449705\n",
      "HLA-B*57:01 0.8652295525494278\n",
      "HLA-A*11:01 0.5549852947377298\n",
      "HLA-B*58:01 0.49330864405353086\n",
      "HLA-B*27:05 0.5558126174572391\n",
      "HLA-A*23:01 0.5752285480910685\n",
      "HLA-A*02:02 0.8754137940022676\n",
      "HLA-B*18:03 0.4652398735995404\n",
      "HLA-B*73:01 0.8254009306030152\n",
      "HLA-A*68:01 0.7254212524311613\n",
      "HLA-C*07:01 0.5394768266082477\n",
      "HLA-B*38:01 0.724343147141387\n",
      "HLA-C*15:05 0.34801567129261507\n",
      "HLA-B*08:01 0.6208729296715458\n",
      "HLA-B*44:03 0.6373203093305033\n",
      "HLA-B*55:01 0.8193122480005288\n",
      "HLA-B*14:01 0.4203954214360041\n",
      "HLA-B*15:11 0.7667402395860714\n",
      "HLA-C*08:02 0.41366042544848547\n",
      "HLA-C*02:02 0.5331183717419401\n",
      "HLA-C*03:04 0.5156584643582884\n",
      "HLA-B*40:01 0.5148998664581653\n",
      "HLA-A*02:06 0.46817215804768025\n",
      "HLA-A*26:01 0.641854570228764\n",
      "HLA-B*13:02 0.6613384165454737\n",
      "HLA-A*02:01 0.6203078842820919\n",
      "HLA-B*39:06 0.8152355750535456\n",
      "HLA-B*14:02 0.5666295153177869\n",
      "HLA-B*45:01 0.7974327339102218\n",
      "HLA-C*02:10 is None\n",
      "HLA-B*15:10 0.47096207082342445\n",
      "HLA-A*02:05 0.6149714525919014\n",
      "HLA-B*18:01 0.6197707954857034\n",
      "HLA-C*07:02 0.5011125713588644\n",
      "HLA-B*56:01 0.6021377642095014\n",
      "HLA-B*44:02 0.5469210745784132\n",
      "HLA-C*07:04 0.5458553568476018\n",
      "HLA-B*15:01 0.6967139826442694\n",
      "HLA-C*05:01 0.5886015522699294\n",
      "HLA-C*06:02 0.47636434823564466\n",
      "HLA-B*50:01 0.7348070538629979\n",
      "HLA-B*35:03 0.5713248749785476\n",
      "HLA-A*68:02 0.5191016089476813\n",
      "HLA-B*39:01 0.5511520961206204\n",
      "HLA-B*07:02 0.5796648053072555\n",
      "HLA-B*35:01 0.5377814461498848\n",
      "HLA-A*03:01 0.6971027792265712\n",
      "HLA-A*24:02 0.5601476110894897\n",
      "HLA-A*02:20 is None\n",
      "HLA-C*04:01 0.4122366641576968\n",
      "HLA-B*40:02 0.6454726425992254\n",
      "HLA-C*03:03 0.39737983800835286\n",
      "HLA-B*15:18 is None\n",
      "HLA-A*30:01 0.619130754867717\n",
      "HLA-A*01:01 0.5323723179448635\n",
      "HLA-A*31:01 0.6125626946736907\n",
      "HLA-B*37:01 0.6476033528645833\n",
      "HLA-B*35:08 0.43259684244791663\n",
      "HLA-A*29:02 0.4930991967156978\n",
      "HLA-C*01:02 0.5319492734049086\n",
      "HLA-B*47:01 0.82763920382968\n",
      "HLA-C*14:02 0.6811758323516647\n",
      "HLA-A*29:01 0.44233299525780545\n",
      "HLA-C*16:01 0.49385691213795685\n"
     ]
    }
   ],
   "source": [
    "aucs = []\n",
    "for res in os.listdir(\"HLA/data/results/validation/external\"):\n",
    "\tprediction = pd.read_csv(os.path.join(\"HLA/data/results/validation/external\",res),sep = \";\", header = 0,decimal=\",\")\n",
    "\tprediction = prediction.drop(columns=[\"Substructure Descriptors\", \"New Descriptors\", \"Possible Activities at Pa>Pi\"])\n",
    "\tallele = f\"{res[0:5]}*{res[5:7]}:{res[7:9]}\"\n",
    "\ttry:\n",
    "\t\tauc = metrics.roc_auc_score(prediction[\"activity\"],round(prediction[allele],4))\n",
    "\t\taucs.append(auc)\n",
    "\t\tprint(f\"{allele} {auc}\")\n",
    "\texcept KeyError:\n",
    "\t\tprint(f\"{allele} is None\")"
   ],
   "metadata": {
    "collapsed": false,
    "ExecuteTime": {
     "end_time": "2023-05-16T14:42:58.300525395Z",
     "start_time": "2023-05-16T14:42:51.069777773Z"
    }
   }
  },
  {
   "cell_type": "code",
   "execution_count": 20,
   "outputs": [
    {
     "data": {
      "text/plain": "0.5937257088991904"
     },
     "execution_count": 20,
     "metadata": {},
     "output_type": "execute_result"
    }
   ],
   "source": [
    "np.mean(aucs)"
   ],
   "metadata": {
    "collapsed": false,
    "ExecuteTime": {
     "end_time": "2023-05-16T14:43:19.337759809Z",
     "start_time": "2023-05-16T14:43:19.332517980Z"
    }
   }
  },
  {
   "cell_type": "code",
   "execution_count": 4,
   "outputs": [],
   "source": [
    "allele = \"HLA-A*02:01\"\n",
    "filename = allele.replace(\"*\",\"\")\n",
    "filename = filename.replace(\":\",\"\") + \".csv\"\n",
    "\n",
    "peptides = list(pd.read_csv(os.path.join(\"HLA/data/validation\",filename),sep=';')[\"peptide\"])\n",
    "alleles = [allele] * len(peptides)\n",
    "pd.DataFrame.from_dict({\"peptide\":peptides,\"allele\":alleles}).to_csv(\"HLA/data/results/validation/tmp.csv\")"
   ],
   "metadata": {
    "collapsed": false,
    "ExecuteTime": {
     "end_time": "2023-05-16T21:48:40.339123923Z",
     "start_time": "2023-05-16T21:48:40.290364236Z"
    }
   }
  },
  {
   "cell_type": "code",
   "execution_count": 5,
   "outputs": [
    {
     "name": "stdout",
     "output_type": "stream",
     "text": [
      "Forcing tensorflow backend.\n",
      "Read input CSV with 21993 rows, columns are: Unnamed: 0, peptide, allele\n",
      "Predicting affinities.\n",
      "Wrote: HLA/data/results/validation/HLA-A0201.csv_mhcflurry.csv\n",
      "\n",
      "CPU times: user 6.34 ms, sys: 0 ns, total: 6.34 ms\n",
      "Wall time: 17.4 s\n"
     ]
    },
    {
     "name": "stderr",
     "output_type": "stream",
     "text": [
      "2023-05-17 00:48:48.070399: I tensorflow/core/platform/cpu_feature_guard.cc:182] This TensorFlow binary is optimized to use available CPU instructions in performance-critical operations.\n",
      "To enable the following instructions: AVX2 FMA, in other operations, rebuild TensorFlow with the appropriate compiler flags.\n",
      "2023-05-17 00:48:48.903371: W tensorflow/compiler/tf2tensorrt/utils/py_utils.cc:38] TF-TRT Warning: Could not find TensorRT\n",
      "2023-05-17 00:48:49.937920: E tensorflow/compiler/xla/stream_executor/cuda/cuda_driver.cc:266] failed call to cuInit: CUDA_ERROR_NO_DEVICE: no CUDA-capable device is detected\n",
      "2023-05-17 00:48:50.267203: I tensorflow/compiler/mlir/mlir_graph_optimization_pass.cc:353] MLIR V1 optimization pass is not enabled\n",
      "2023-05-17 00:48:50.308909: W tensorflow/c/c_api.cc:300] Operation '{name:'output/kernel/Assign' id:112 op device:{requested: '', assigned: ''} def:{{{node output/kernel/Assign}} = AssignVariableOp[_has_manual_control_dependencies=true, dtype=DT_FLOAT, validate_shape=false](output/kernel, output/kernel/Initializer/random_uniform)}}' was changed by setting attribute after it was run by a session. This mutation will have no effect, and will trigger an error in the future. Either don't modify nodes after running them or create a new session.\n",
      "2023-05-17 00:48:50.445775: W tensorflow/c/c_api.cc:300] Operation '{name:'output_1/kernel/Assign' id:300 op device:{requested: '', assigned: ''} def:{{{node output_1/kernel/Assign}} = AssignVariableOp[_has_manual_control_dependencies=true, dtype=DT_FLOAT, validate_shape=false](output_1/kernel, output_1/kernel/Initializer/random_uniform)}}' was changed by setting attribute after it was run by a session. This mutation will have no effect, and will trigger an error in the future. Either don't modify nodes after running them or create a new session.\n",
      "2023-05-17 00:48:50.564493: W tensorflow/c/c_api.cc:300] Operation '{name:'dense_1_2/bias/Assign' id:427 op device:{requested: '', assigned: ''} def:{{{node dense_1_2/bias/Assign}} = AssignVariableOp[_has_manual_control_dependencies=true, dtype=DT_FLOAT, validate_shape=false](dense_1_2/bias, dense_1_2/bias/Initializer/zeros)}}' was changed by setting attribute after it was run by a session. This mutation will have no effect, and will trigger an error in the future. Either don't modify nodes after running them or create a new session.\n",
      "2023-05-17 00:48:50.680282: W tensorflow/c/c_api.cc:300] Operation '{name:'output_3/bias/Assign' id:613 op device:{requested: '', assigned: ''} def:{{{node output_3/bias/Assign}} = AssignVariableOp[_has_manual_control_dependencies=true, dtype=DT_FLOAT, validate_shape=false](output_3/bias, output_3/bias/Initializer/zeros)}}' was changed by setting attribute after it was run by a session. This mutation will have no effect, and will trigger an error in the future. Either don't modify nodes after running them or create a new session.\n",
      "2023-05-17 00:48:50.793721: W tensorflow/c/c_api.cc:300] Operation '{name:'dense_1_4/kernel/Assign' id:720 op device:{requested: '', assigned: ''} def:{{{node dense_1_4/kernel/Assign}} = AssignVariableOp[_has_manual_control_dependencies=true, dtype=DT_FLOAT, validate_shape=false](dense_1_4/kernel, dense_1_4/kernel/Initializer/random_uniform)}}' was changed by setting attribute after it was run by a session. This mutation will have no effect, and will trigger an error in the future. Either don't modify nodes after running them or create a new session.\n",
      "2023-05-17 00:48:50.923051: W tensorflow/c/c_api.cc:300] Operation '{name:'output_5/bias/Assign' id:913 op device:{requested: '', assigned: ''} def:{{{node output_5/bias/Assign}} = AssignVariableOp[_has_manual_control_dependencies=true, dtype=DT_FLOAT, validate_shape=false](output_5/bias, output_5/bias/Initializer/zeros)}}' was changed by setting attribute after it was run by a session. This mutation will have no effect, and will trigger an error in the future. Either don't modify nodes after running them or create a new session.\n",
      "2023-05-17 00:48:51.204541: W tensorflow/c/c_api.cc:300] Operation '{name:'dense_2_1/kernel/Assign' id:1059 op device:{requested: '', assigned: ''} def:{{{node dense_2_1/kernel/Assign}} = AssignVariableOp[_has_manual_control_dependencies=true, dtype=DT_FLOAT, validate_shape=false](dense_2_1/kernel, dense_2_1/kernel/Initializer/random_uniform)}}' was changed by setting attribute after it was run by a session. This mutation will have no effect, and will trigger an error in the future. Either don't modify nodes after running them or create a new session.\n",
      "2023-05-17 00:48:51.360552: W tensorflow/c/c_api.cc:300] Operation '{name:'dense_1_7/kernel/Assign' id:1216 op device:{requested: '', assigned: ''} def:{{{node dense_1_7/kernel/Assign}} = AssignVariableOp[_has_manual_control_dependencies=true, dtype=DT_FLOAT, validate_shape=false](dense_1_7/kernel, dense_1_7/kernel/Initializer/random_uniform)}}' was changed by setting attribute after it was run by a session. This mutation will have no effect, and will trigger an error in the future. Either don't modify nodes after running them or create a new session.\n",
      "2023-05-17 00:48:51.501239: W tensorflow/c/c_api.cc:300] Operation '{name:'dense_1_8/bias/Assign' id:1415 op device:{requested: '', assigned: ''} def:{{{node dense_1_8/bias/Assign}} = AssignVariableOp[_has_manual_control_dependencies=true, dtype=DT_FLOAT, validate_shape=false](dense_1_8/bias, dense_1_8/bias/Initializer/zeros)}}' was changed by setting attribute after it was run by a session. This mutation will have no effect, and will trigger an error in the future. Either don't modify nodes after running them or create a new session.\n",
      "2023-05-17 00:48:51.651910: W tensorflow/c/c_api.cc:300] Operation '{name:'dense_0_9/kernel/Assign' id:1520 op device:{requested: '', assigned: ''} def:{{{node dense_0_9/kernel/Assign}} = AssignVariableOp[_has_manual_control_dependencies=true, dtype=DT_FLOAT, validate_shape=false](dense_0_9/kernel, dense_0_9/kernel/Initializer/random_uniform)}}' was changed by setting attribute after it was run by a session. This mutation will have no effect, and will trigger an error in the future. Either don't modify nodes after running them or create a new session.\n",
      "  0%|          | 0/1 [00:00<?, ?it/s]2023-05-17 00:48:52.756651: W tensorflow/c/c_api.cc:300] Operation '{name:'output_6_2/kernel/Assign' id:3235 op device:{requested: '', assigned: ''} def:{{{node output_6_2/kernel/Assign}} = AssignVariableOp[_has_manual_control_dependencies=true, dtype=DT_FLOAT, validate_shape=false](output_6_2/kernel, output_6_2/kernel/Initializer/random_uniform)}}' was changed by setting attribute after it was run by a session. This mutation will have no effect, and will trigger an error in the future. Either don't modify nodes after running them or create a new session.\n",
      "/home/stotoshka/Soft/anaconda3/envs/mhcflurry/lib/python3.9/site-packages/keras/engine/training_v1.py:2359: UserWarning: `Model.state_updates` will be removed in a future version. This property should not be used in TensorFlow 2.0, as `updates` are applied automatically.\n",
      "  updates=self.state_updates,\n",
      "2023-05-17 00:48:55.200741: W tensorflow/c/c_api.cc:300] Operation '{name:'concatenate_3/concat' id:3311 op device:{requested: '', assigned: ''} def:{{{node concatenate_3/concat}} = ConcatV2[N=10, T=DT_FLOAT, Tidx=DT_INT32, _has_manual_control_dependencies=true](output_0_1/Sigmoid, output_1_2/Sigmoid, output_2_2/Sigmoid, output_3_2/Sigmoid, output_4_2/Sigmoid, output_5_2/Sigmoid, output_6_2/Sigmoid, output_7_2/Sigmoid, output_8_2/Sigmoid, output_9_2/Sigmoid, concatenate_3/concat/axis)}}' was changed by setting attribute after it was run by a session. This mutation will have no effect, and will trigger an error in the future. Either don't modify nodes after running them or create a new session.\n",
      "100%|██████████| 1/1 [00:05<00:00,  5.65s/it]\n",
      "\n"
     ]
    },
    {
     "data": {
      "text/plain": "0"
     },
     "execution_count": 5,
     "metadata": {},
     "output_type": "execute_result"
    }
   ],
   "source": [
    "%%time\n",
    "cmd_pep = \" \".join(peptides)\n",
    "command = f\"conda run -p  /home/stotoshka/Soft/anaconda3/envs/mhcflurry mhcflurry-predict HLA/data/results/validation/tmp.csv --affinity-only --out HLA/data/results/validation/{filename}_mhcflurry.csv\"\n",
    "os.system(command)"
   ],
   "metadata": {
    "collapsed": false,
    "ExecuteTime": {
     "end_time": "2023-05-16T21:48:58.522304288Z",
     "start_time": "2023-05-16T21:48:41.160906346Z"
    }
   }
  },
  {
   "cell_type": "code",
   "execution_count": 6,
   "outputs": [
    {
     "data": {
      "text/plain": "       Unnamed: 0      peptide       allele  mhcflurry_affinity  \\\n0               0    VMGNNPADL  HLA-A*02:01         1593.970384   \n1               1    SHSQELLKI  HLA-A*02:01        12825.109412   \n2               2    AENPEQRML  HLA-A*02:01         7686.671930   \n3               3   HHYEQQQEDL  HLA-A*02:01        24421.782923   \n4               4    PNAPKRPPS  HLA-A*02:01        28574.499141   \n...           ...          ...          ...                 ...   \n21988       21988    HDTLVEAIL  HLA-A*02:01        16156.095250   \n21989       21989    VRPTAVKNL  HLA-A*02:01        16856.278831   \n21990       21990    SHTEGTHDY  HLA-A*02:01        27899.961474   \n21991       21991    DTEDGVVER  HLA-A*02:01        12588.696757   \n21992       21992  FPLPTPQEPIM  HLA-A*02:01        20670.206522   \n\n       mhcflurry_affinity_percentile  \n0                           2.093125  \n1                           6.754500  \n2                           4.522500  \n3                          18.527250  \n4                          33.268375  \n...                              ...  \n21988                       8.654375  \n21989                       9.169625  \n21990                      30.226250  \n21991                       6.611750  \n21992                      12.687125  \n\n[21993 rows x 5 columns]",
      "text/html": "<div>\n<style scoped>\n    .dataframe tbody tr th:only-of-type {\n        vertical-align: middle;\n    }\n\n    .dataframe tbody tr th {\n        vertical-align: top;\n    }\n\n    .dataframe thead th {\n        text-align: right;\n    }\n</style>\n<table border=\"1\" class=\"dataframe\">\n  <thead>\n    <tr style=\"text-align: right;\">\n      <th></th>\n      <th>Unnamed: 0</th>\n      <th>peptide</th>\n      <th>allele</th>\n      <th>mhcflurry_affinity</th>\n      <th>mhcflurry_affinity_percentile</th>\n    </tr>\n  </thead>\n  <tbody>\n    <tr>\n      <th>0</th>\n      <td>0</td>\n      <td>VMGNNPADL</td>\n      <td>HLA-A*02:01</td>\n      <td>1593.970384</td>\n      <td>2.093125</td>\n    </tr>\n    <tr>\n      <th>1</th>\n      <td>1</td>\n      <td>SHSQELLKI</td>\n      <td>HLA-A*02:01</td>\n      <td>12825.109412</td>\n      <td>6.754500</td>\n    </tr>\n    <tr>\n      <th>2</th>\n      <td>2</td>\n      <td>AENPEQRML</td>\n      <td>HLA-A*02:01</td>\n      <td>7686.671930</td>\n      <td>4.522500</td>\n    </tr>\n    <tr>\n      <th>3</th>\n      <td>3</td>\n      <td>HHYEQQQEDL</td>\n      <td>HLA-A*02:01</td>\n      <td>24421.782923</td>\n      <td>18.527250</td>\n    </tr>\n    <tr>\n      <th>4</th>\n      <td>4</td>\n      <td>PNAPKRPPS</td>\n      <td>HLA-A*02:01</td>\n      <td>28574.499141</td>\n      <td>33.268375</td>\n    </tr>\n    <tr>\n      <th>...</th>\n      <td>...</td>\n      <td>...</td>\n      <td>...</td>\n      <td>...</td>\n      <td>...</td>\n    </tr>\n    <tr>\n      <th>21988</th>\n      <td>21988</td>\n      <td>HDTLVEAIL</td>\n      <td>HLA-A*02:01</td>\n      <td>16156.095250</td>\n      <td>8.654375</td>\n    </tr>\n    <tr>\n      <th>21989</th>\n      <td>21989</td>\n      <td>VRPTAVKNL</td>\n      <td>HLA-A*02:01</td>\n      <td>16856.278831</td>\n      <td>9.169625</td>\n    </tr>\n    <tr>\n      <th>21990</th>\n      <td>21990</td>\n      <td>SHTEGTHDY</td>\n      <td>HLA-A*02:01</td>\n      <td>27899.961474</td>\n      <td>30.226250</td>\n    </tr>\n    <tr>\n      <th>21991</th>\n      <td>21991</td>\n      <td>DTEDGVVER</td>\n      <td>HLA-A*02:01</td>\n      <td>12588.696757</td>\n      <td>6.611750</td>\n    </tr>\n    <tr>\n      <th>21992</th>\n      <td>21992</td>\n      <td>FPLPTPQEPIM</td>\n      <td>HLA-A*02:01</td>\n      <td>20670.206522</td>\n      <td>12.687125</td>\n    </tr>\n  </tbody>\n</table>\n<p>21993 rows × 5 columns</p>\n</div>"
     },
     "execution_count": 6,
     "metadata": {},
     "output_type": "execute_result"
    }
   ],
   "source": [
    "prediction_mhcflurry = pd.read_csv(\"HLA/data/results/validation/HLA-A0201.csv_mhcflurry.csv\")\n",
    "prediction_mhcflurry"
   ],
   "metadata": {
    "collapsed": false,
    "ExecuteTime": {
     "end_time": "2023-05-16T21:48:58.586094520Z",
     "start_time": "2023-05-16T21:48:58.522493759Z"
    }
   }
  },
  {
   "cell_type": "code",
   "execution_count": 7,
   "outputs": [
    {
     "data": {
      "text/plain": "           peptide  activity\n0        VMGNNPADL         1\n1        SHSQELLKI         1\n2        AENPEQRML         1\n3       HHYEQQQEDL         1\n4        PNAPKRPPS         1\n...            ...       ...\n21988    HDTLVEAIL         0\n21989    VRPTAVKNL         0\n21990    SHTEGTHDY         0\n21991    DTEDGVVER         0\n21992  FPLPTPQEPIM         0\n\n[21993 rows x 2 columns]",
      "text/html": "<div>\n<style scoped>\n    .dataframe tbody tr th:only-of-type {\n        vertical-align: middle;\n    }\n\n    .dataframe tbody tr th {\n        vertical-align: top;\n    }\n\n    .dataframe thead th {\n        text-align: right;\n    }\n</style>\n<table border=\"1\" class=\"dataframe\">\n  <thead>\n    <tr style=\"text-align: right;\">\n      <th></th>\n      <th>peptide</th>\n      <th>activity</th>\n    </tr>\n  </thead>\n  <tbody>\n    <tr>\n      <th>0</th>\n      <td>VMGNNPADL</td>\n      <td>1</td>\n    </tr>\n    <tr>\n      <th>1</th>\n      <td>SHSQELLKI</td>\n      <td>1</td>\n    </tr>\n    <tr>\n      <th>2</th>\n      <td>AENPEQRML</td>\n      <td>1</td>\n    </tr>\n    <tr>\n      <th>3</th>\n      <td>HHYEQQQEDL</td>\n      <td>1</td>\n    </tr>\n    <tr>\n      <th>4</th>\n      <td>PNAPKRPPS</td>\n      <td>1</td>\n    </tr>\n    <tr>\n      <th>...</th>\n      <td>...</td>\n      <td>...</td>\n    </tr>\n    <tr>\n      <th>21988</th>\n      <td>HDTLVEAIL</td>\n      <td>0</td>\n    </tr>\n    <tr>\n      <th>21989</th>\n      <td>VRPTAVKNL</td>\n      <td>0</td>\n    </tr>\n    <tr>\n      <th>21990</th>\n      <td>SHTEGTHDY</td>\n      <td>0</td>\n    </tr>\n    <tr>\n      <th>21991</th>\n      <td>DTEDGVVER</td>\n      <td>0</td>\n    </tr>\n    <tr>\n      <th>21992</th>\n      <td>FPLPTPQEPIM</td>\n      <td>0</td>\n    </tr>\n  </tbody>\n</table>\n<p>21993 rows × 2 columns</p>\n</div>"
     },
     "execution_count": 7,
     "metadata": {},
     "output_type": "execute_result"
    }
   ],
   "source": [
    "sample = pd.read_csv(\"HLA/data/validation/HLA-A0201.csv\",sep=\";\")\n",
    "sample"
   ],
   "metadata": {
    "collapsed": false,
    "ExecuteTime": {
     "end_time": "2023-05-16T21:48:58.586543402Z",
     "start_time": "2023-05-16T21:48:58.563760360Z"
    }
   }
  },
  {
   "cell_type": "code",
   "execution_count": 8,
   "outputs": [
    {
     "data": {
      "text/plain": "           peptide  activity  Unnamed: 0       allele  mhcflurry_affinity  \\\n0        VMGNNPADL         1           0  HLA-A*02:01         1593.970384   \n1        SHSQELLKI         1           1  HLA-A*02:01        12825.109412   \n2        AENPEQRML         1           2  HLA-A*02:01         7686.671930   \n3       HHYEQQQEDL         1           3  HLA-A*02:01        24421.782923   \n4        PNAPKRPPS         1           4  HLA-A*02:01        28574.499141   \n...            ...       ...         ...          ...                 ...   \n21988    HDTLVEAIL         0       21988  HLA-A*02:01        16156.095250   \n21989    VRPTAVKNL         0       21989  HLA-A*02:01        16856.278831   \n21990    SHTEGTHDY         0       21990  HLA-A*02:01        27899.961474   \n21991    DTEDGVVER         0       21991  HLA-A*02:01        12588.696757   \n21992  FPLPTPQEPIM         0       21992  HLA-A*02:01        20670.206522   \n\n       mhcflurry_affinity_percentile  \n0                           2.093125  \n1                           6.754500  \n2                           4.522500  \n3                          18.527250  \n4                          33.268375  \n...                              ...  \n21988                       8.654375  \n21989                       9.169625  \n21990                      30.226250  \n21991                       6.611750  \n21992                      12.687125  \n\n[21993 rows x 6 columns]",
      "text/html": "<div>\n<style scoped>\n    .dataframe tbody tr th:only-of-type {\n        vertical-align: middle;\n    }\n\n    .dataframe tbody tr th {\n        vertical-align: top;\n    }\n\n    .dataframe thead th {\n        text-align: right;\n    }\n</style>\n<table border=\"1\" class=\"dataframe\">\n  <thead>\n    <tr style=\"text-align: right;\">\n      <th></th>\n      <th>peptide</th>\n      <th>activity</th>\n      <th>Unnamed: 0</th>\n      <th>allele</th>\n      <th>mhcflurry_affinity</th>\n      <th>mhcflurry_affinity_percentile</th>\n    </tr>\n  </thead>\n  <tbody>\n    <tr>\n      <th>0</th>\n      <td>VMGNNPADL</td>\n      <td>1</td>\n      <td>0</td>\n      <td>HLA-A*02:01</td>\n      <td>1593.970384</td>\n      <td>2.093125</td>\n    </tr>\n    <tr>\n      <th>1</th>\n      <td>SHSQELLKI</td>\n      <td>1</td>\n      <td>1</td>\n      <td>HLA-A*02:01</td>\n      <td>12825.109412</td>\n      <td>6.754500</td>\n    </tr>\n    <tr>\n      <th>2</th>\n      <td>AENPEQRML</td>\n      <td>1</td>\n      <td>2</td>\n      <td>HLA-A*02:01</td>\n      <td>7686.671930</td>\n      <td>4.522500</td>\n    </tr>\n    <tr>\n      <th>3</th>\n      <td>HHYEQQQEDL</td>\n      <td>1</td>\n      <td>3</td>\n      <td>HLA-A*02:01</td>\n      <td>24421.782923</td>\n      <td>18.527250</td>\n    </tr>\n    <tr>\n      <th>4</th>\n      <td>PNAPKRPPS</td>\n      <td>1</td>\n      <td>4</td>\n      <td>HLA-A*02:01</td>\n      <td>28574.499141</td>\n      <td>33.268375</td>\n    </tr>\n    <tr>\n      <th>...</th>\n      <td>...</td>\n      <td>...</td>\n      <td>...</td>\n      <td>...</td>\n      <td>...</td>\n      <td>...</td>\n    </tr>\n    <tr>\n      <th>21988</th>\n      <td>HDTLVEAIL</td>\n      <td>0</td>\n      <td>21988</td>\n      <td>HLA-A*02:01</td>\n      <td>16156.095250</td>\n      <td>8.654375</td>\n    </tr>\n    <tr>\n      <th>21989</th>\n      <td>VRPTAVKNL</td>\n      <td>0</td>\n      <td>21989</td>\n      <td>HLA-A*02:01</td>\n      <td>16856.278831</td>\n      <td>9.169625</td>\n    </tr>\n    <tr>\n      <th>21990</th>\n      <td>SHTEGTHDY</td>\n      <td>0</td>\n      <td>21990</td>\n      <td>HLA-A*02:01</td>\n      <td>27899.961474</td>\n      <td>30.226250</td>\n    </tr>\n    <tr>\n      <th>21991</th>\n      <td>DTEDGVVER</td>\n      <td>0</td>\n      <td>21991</td>\n      <td>HLA-A*02:01</td>\n      <td>12588.696757</td>\n      <td>6.611750</td>\n    </tr>\n    <tr>\n      <th>21992</th>\n      <td>FPLPTPQEPIM</td>\n      <td>0</td>\n      <td>21992</td>\n      <td>HLA-A*02:01</td>\n      <td>20670.206522</td>\n      <td>12.687125</td>\n    </tr>\n  </tbody>\n</table>\n<p>21993 rows × 6 columns</p>\n</div>"
     },
     "execution_count": 8,
     "metadata": {},
     "output_type": "execute_result"
    }
   ],
   "source": [
    "mhcflurry_allele = pd.merge(left=sample,right=prediction_mhcflurry, left_on=\"peptide\",right_on=\"peptide\")\n",
    "mhcflurry_allele"
   ],
   "metadata": {
    "collapsed": false,
    "ExecuteTime": {
     "end_time": "2023-05-16T21:48:58.647258185Z",
     "start_time": "2023-05-16T21:48:58.564033672Z"
    }
   }
  },
  {
   "cell_type": "code",
   "execution_count": 12,
   "outputs": [
    {
     "data": {
      "text/plain": "array([[10657,   748],\n       [ 9136,  1452]])"
     },
     "execution_count": 12,
     "metadata": {},
     "output_type": "execute_result"
    }
   ],
   "source": [
    "mhcflurry_allele[\"pred\"] = np.where(mhcflurry_allele[\"mhcflurry_affinity\"] <= 1000,1,0)\n",
    "metrics.confusion_matrix(mhcflurry_allele[\"activity\"], mhcflurry_allele[\"pred\"])"
   ],
   "metadata": {
    "collapsed": false,
    "ExecuteTime": {
     "end_time": "2023-05-16T21:54:49.832339057Z",
     "start_time": "2023-05-16T21:54:49.775807560Z"
    }
   }
  },
  {
   "cell_type": "code",
   "execution_count": 13,
   "outputs": [
    {
     "data": {
      "text/plain": "0.5357755555949371"
     },
     "execution_count": 13,
     "metadata": {},
     "output_type": "execute_result"
    }
   ],
   "source": [
    "metrics.roc_auc_score(mhcflurry_allele[\"activity\"], mhcflurry_allele[\"pred\"])"
   ],
   "metadata": {
    "collapsed": false,
    "ExecuteTime": {
     "end_time": "2023-05-16T21:54:50.435304859Z",
     "start_time": "2023-05-16T21:54:50.427531854Z"
    }
   }
  },
  {
   "cell_type": "code",
   "execution_count": 9,
   "outputs": [],
   "source": [
    "for kmers in [\"9mer\",\"10mer\"]:\n",
    "\tfor f in glob(f\"HLA/data/validation/{kmers}/*.txt\"):\n",
    "\t\tsrc = f\n",
    "\t\tdst = f.replace(\"%2A\",\"\")\n",
    "\t\tdst = dst.replace(\"%3A\",\"\")\n",
    "\t\tos.rename(src,dst)"
   ],
   "metadata": {
    "collapsed": false,
    "ExecuteTime": {
     "end_time": "2023-05-18T06:43:29.705979590Z",
     "start_time": "2023-05-18T06:43:29.699420312Z"
    }
   }
  },
  {
   "cell_type": "code",
   "execution_count": 11,
   "outputs": [
    {
     "data": {
      "text/plain": "         Allele  population_freq  affinity_cutoff\n0   HLA-A*02:01             25.2              255\n1   HLA-A*24:02             16.8              849\n2   HLA-A*01:01             16.2              884\n3   HLA-A*03:01             15.4              602\n4   HLA-B*07:02             13.3              687\n5   HLA-A*11:01             12.9              382\n6   HLA-B*08:01             11.5              663\n7   HLA-B*40:01             10.3              639\n8   HLA-B*44:02              9.2              904\n9   HLA-B*44:03              7.6              780\n10  HLA-B*35:01              6.5              348\n11  HLA-A*23:01              6.4              740\n12  HLA-A*32:01              5.7              131\n13  HLA-B*51:01              5.5              939\n14  HLA-B*53:01              5.4              538\n15  HLA-B*15:01              5.2              528\n16  HLA-A*30:01              5.1              109\n17  HLA-A*30:02              5.0              674\n18  HLA-A*02:06              4.9               60\n19  HLA-A*31:01              4.7              329\n20  HLA-A*26:01              4.7              815\n21  HLA-A*68:01              4.6              197\n22  HLA-B*18:01              4.4              732\n23  HLA-B*46:01              4.0              926\n24  HLA-B*58:01              3.6              446\n25  HLA-B*40:02              3.5              590\n26  HLA-A*68:02              3.3              259\n27  HLA-A*02:03              3.3               92\n28  HLA-A*33:01              3.2              606\n29  HLA-B*57:01              3.2              716\n30  HLA-A*29:02              2.9              641\n31  HLA-B*39:01              2.9              542\n32  HLA-B*14:02              2.8              700\n33  HLA-A*25:01              2.5              795\n34  HLA-B*27:05              2.0              584\n35  HLA-B*38:01              2.0              944\n36  HLA-B*48:01              1.8              887\n37  HLA-B*35:03              1.2              888",
      "text/html": "<div>\n<style scoped>\n    .dataframe tbody tr th:only-of-type {\n        vertical-align: middle;\n    }\n\n    .dataframe tbody tr th {\n        vertical-align: top;\n    }\n\n    .dataframe thead th {\n        text-align: right;\n    }\n</style>\n<table border=\"1\" class=\"dataframe\">\n  <thead>\n    <tr style=\"text-align: right;\">\n      <th></th>\n      <th>Allele</th>\n      <th>population_freq</th>\n      <th>affinity_cutoff</th>\n    </tr>\n  </thead>\n  <tbody>\n    <tr>\n      <th>0</th>\n      <td>HLA-A*02:01</td>\n      <td>25.2</td>\n      <td>255</td>\n    </tr>\n    <tr>\n      <th>1</th>\n      <td>HLA-A*24:02</td>\n      <td>16.8</td>\n      <td>849</td>\n    </tr>\n    <tr>\n      <th>2</th>\n      <td>HLA-A*01:01</td>\n      <td>16.2</td>\n      <td>884</td>\n    </tr>\n    <tr>\n      <th>3</th>\n      <td>HLA-A*03:01</td>\n      <td>15.4</td>\n      <td>602</td>\n    </tr>\n    <tr>\n      <th>4</th>\n      <td>HLA-B*07:02</td>\n      <td>13.3</td>\n      <td>687</td>\n    </tr>\n    <tr>\n      <th>5</th>\n      <td>HLA-A*11:01</td>\n      <td>12.9</td>\n      <td>382</td>\n    </tr>\n    <tr>\n      <th>6</th>\n      <td>HLA-B*08:01</td>\n      <td>11.5</td>\n      <td>663</td>\n    </tr>\n    <tr>\n      <th>7</th>\n      <td>HLA-B*40:01</td>\n      <td>10.3</td>\n      <td>639</td>\n    </tr>\n    <tr>\n      <th>8</th>\n      <td>HLA-B*44:02</td>\n      <td>9.2</td>\n      <td>904</td>\n    </tr>\n    <tr>\n      <th>9</th>\n      <td>HLA-B*44:03</td>\n      <td>7.6</td>\n      <td>780</td>\n    </tr>\n    <tr>\n      <th>10</th>\n      <td>HLA-B*35:01</td>\n      <td>6.5</td>\n      <td>348</td>\n    </tr>\n    <tr>\n      <th>11</th>\n      <td>HLA-A*23:01</td>\n      <td>6.4</td>\n      <td>740</td>\n    </tr>\n    <tr>\n      <th>12</th>\n      <td>HLA-A*32:01</td>\n      <td>5.7</td>\n      <td>131</td>\n    </tr>\n    <tr>\n      <th>13</th>\n      <td>HLA-B*51:01</td>\n      <td>5.5</td>\n      <td>939</td>\n    </tr>\n    <tr>\n      <th>14</th>\n      <td>HLA-B*53:01</td>\n      <td>5.4</td>\n      <td>538</td>\n    </tr>\n    <tr>\n      <th>15</th>\n      <td>HLA-B*15:01</td>\n      <td>5.2</td>\n      <td>528</td>\n    </tr>\n    <tr>\n      <th>16</th>\n      <td>HLA-A*30:01</td>\n      <td>5.1</td>\n      <td>109</td>\n    </tr>\n    <tr>\n      <th>17</th>\n      <td>HLA-A*30:02</td>\n      <td>5.0</td>\n      <td>674</td>\n    </tr>\n    <tr>\n      <th>18</th>\n      <td>HLA-A*02:06</td>\n      <td>4.9</td>\n      <td>60</td>\n    </tr>\n    <tr>\n      <th>19</th>\n      <td>HLA-A*31:01</td>\n      <td>4.7</td>\n      <td>329</td>\n    </tr>\n    <tr>\n      <th>20</th>\n      <td>HLA-A*26:01</td>\n      <td>4.7</td>\n      <td>815</td>\n    </tr>\n    <tr>\n      <th>21</th>\n      <td>HLA-A*68:01</td>\n      <td>4.6</td>\n      <td>197</td>\n    </tr>\n    <tr>\n      <th>22</th>\n      <td>HLA-B*18:01</td>\n      <td>4.4</td>\n      <td>732</td>\n    </tr>\n    <tr>\n      <th>23</th>\n      <td>HLA-B*46:01</td>\n      <td>4.0</td>\n      <td>926</td>\n    </tr>\n    <tr>\n      <th>24</th>\n      <td>HLA-B*58:01</td>\n      <td>3.6</td>\n      <td>446</td>\n    </tr>\n    <tr>\n      <th>25</th>\n      <td>HLA-B*40:02</td>\n      <td>3.5</td>\n      <td>590</td>\n    </tr>\n    <tr>\n      <th>26</th>\n      <td>HLA-A*68:02</td>\n      <td>3.3</td>\n      <td>259</td>\n    </tr>\n    <tr>\n      <th>27</th>\n      <td>HLA-A*02:03</td>\n      <td>3.3</td>\n      <td>92</td>\n    </tr>\n    <tr>\n      <th>28</th>\n      <td>HLA-A*33:01</td>\n      <td>3.2</td>\n      <td>606</td>\n    </tr>\n    <tr>\n      <th>29</th>\n      <td>HLA-B*57:01</td>\n      <td>3.2</td>\n      <td>716</td>\n    </tr>\n    <tr>\n      <th>30</th>\n      <td>HLA-A*29:02</td>\n      <td>2.9</td>\n      <td>641</td>\n    </tr>\n    <tr>\n      <th>31</th>\n      <td>HLA-B*39:01</td>\n      <td>2.9</td>\n      <td>542</td>\n    </tr>\n    <tr>\n      <th>32</th>\n      <td>HLA-B*14:02</td>\n      <td>2.8</td>\n      <td>700</td>\n    </tr>\n    <tr>\n      <th>33</th>\n      <td>HLA-A*25:01</td>\n      <td>2.5</td>\n      <td>795</td>\n    </tr>\n    <tr>\n      <th>34</th>\n      <td>HLA-B*27:05</td>\n      <td>2.0</td>\n      <td>584</td>\n    </tr>\n    <tr>\n      <th>35</th>\n      <td>HLA-B*38:01</td>\n      <td>2.0</td>\n      <td>944</td>\n    </tr>\n    <tr>\n      <th>36</th>\n      <td>HLA-B*48:01</td>\n      <td>1.8</td>\n      <td>887</td>\n    </tr>\n    <tr>\n      <th>37</th>\n      <td>HLA-B*35:03</td>\n      <td>1.2</td>\n      <td>888</td>\n    </tr>\n  </tbody>\n</table>\n</div>"
     },
     "execution_count": 11,
     "metadata": {},
     "output_type": "execute_result"
    }
   ],
   "source": [
    "cutoff = pd.read_csv(\"HLA/data/class_i_allelic_cutoff.csv\",sep=\";\")\n",
    "cutoff"
   ],
   "metadata": {
    "collapsed": false,
    "ExecuteTime": {
     "end_time": "2023-05-18T06:46:03.853525053Z",
     "start_time": "2023-05-18T06:46:03.842201811Z"
    }
   }
  },
  {
   "cell_type": "code",
   "execution_count": 29,
   "outputs": [
    {
     "data": {
      "text/plain": "     epitope     activity\n0  RVTGGVFLV  HLA-A*02:01\n1  GLLGFAAPF  HLA-A*02:01\n2  HLPDRVHFA  HLA-A*02:01\n3  LLDDEAGPL  HLA-A*02:01\n4  YVIGSWGTL  HLA-A*02:01",
      "text/html": "<div>\n<style scoped>\n    .dataframe tbody tr th:only-of-type {\n        vertical-align: middle;\n    }\n\n    .dataframe tbody tr th {\n        vertical-align: top;\n    }\n\n    .dataframe thead th {\n        text-align: right;\n    }\n</style>\n<table border=\"1\" class=\"dataframe\">\n  <thead>\n    <tr style=\"text-align: right;\">\n      <th></th>\n      <th>epitope</th>\n      <th>activity</th>\n    </tr>\n  </thead>\n  <tbody>\n    <tr>\n      <th>0</th>\n      <td>RVTGGVFLV</td>\n      <td>HLA-A*02:01</td>\n    </tr>\n    <tr>\n      <th>1</th>\n      <td>GLLGFAAPF</td>\n      <td>HLA-A*02:01</td>\n    </tr>\n    <tr>\n      <th>2</th>\n      <td>HLPDRVHFA</td>\n      <td>HLA-A*02:01</td>\n    </tr>\n    <tr>\n      <th>3</th>\n      <td>LLDDEAGPL</td>\n      <td>HLA-A*02:01</td>\n    </tr>\n    <tr>\n      <th>4</th>\n      <td>YVIGSWGTL</td>\n      <td>HLA-A*02:01</td>\n    </tr>\n  </tbody>\n</table>\n</div>"
     },
     "execution_count": 29,
     "metadata": {},
     "output_type": "execute_result"
    }
   ],
   "source": [
    "total_train = pd.read_csv(\"HLA/data/train/total_train_HLA.csv\",sep=\";\")\n",
    "total_train.head()"
   ],
   "metadata": {
    "collapsed": false,
    "ExecuteTime": {
     "end_time": "2023-05-18T07:05:56.107308109Z",
     "start_time": "2023-05-18T07:05:55.897267191Z"
    }
   }
  },
  {
   "cell_type": "code",
   "execution_count": 38,
   "outputs": [
    {
     "data": {
      "text/plain": "416084"
     },
     "execution_count": 38,
     "metadata": {},
     "output_type": "execute_result"
    }
   ],
   "source": [
    "set_epi = set(total_train[\"epitope\"])\n",
    "len(set_epi)"
   ],
   "metadata": {
    "collapsed": false,
    "ExecuteTime": {
     "end_time": "2023-05-18T07:18:47.729979958Z",
     "start_time": "2023-05-18T07:18:47.727039226Z"
    }
   }
  },
  {
   "cell_type": "code",
   "execution_count": 50,
   "outputs": [
    {
     "name": "stdout",
     "output_type": "stream",
     "text": [
      "9mer\n",
      "HLA-A*31:01 329 70\n",
      "0    4\n",
      "Name: activity, dtype: int64\n",
      "HLA-A*68:02 259 83\n",
      "0    22\n",
      "Name: activity, dtype: int64\n",
      "HLA-B*15:01 528 33\n",
      "Series([], Name: activity, dtype: int64)\n",
      "HLA-B*27:06 500 19\n",
      "0    7\n",
      "Name: activity, dtype: int64\n",
      "HLA-B*54:01 500 33\n",
      "0    8\n",
      "1    3\n",
      "Name: activity, dtype: int64\n",
      "HLA-B*35:01 348 57\n",
      "0    39\n",
      "Name: activity, dtype: int64\n",
      "HLA-A*32:01 131 37\n",
      "Series([], Name: activity, dtype: int64)\n",
      "HLA-B*27:05 584 44\n",
      "0    74\n",
      "1    70\n",
      "Name: activity, dtype: int64\n",
      "HLA-A*30:02 674 87\n",
      "0    6\n",
      "Name: activity, dtype: int64\n",
      "HLA-A*01:01 884 46\n",
      "0    5\n",
      "Name: activity, dtype: int64\n",
      "HLA-B*15:03 500 72\n",
      "Series([], Name: activity, dtype: int64)\n",
      "HLA-B*53:01 538 69\n",
      "0    44\n",
      "Name: activity, dtype: int64\n",
      "HLA-A*02:02 500 131\n",
      "1    20\n",
      "0     1\n",
      "Name: activity, dtype: int64\n",
      "HLA-A*30:01 109 77\n",
      "Series([], Name: activity, dtype: int64)\n",
      "HLA-B*08:01 663 38\n",
      "Series([], Name: activity, dtype: int64)\n",
      "HLA-B*27:04 500 23\n",
      "0    7\n",
      "Name: activity, dtype: int64\n",
      "HLA-A*29:02 641 42\n",
      "0    5\n",
      "Name: activity, dtype: int64\n",
      "HLA-B*57:01 716 36\n",
      "0    29\n",
      "Name: activity, dtype: int64\n",
      "HLA-A*02:06 60 62\n",
      "0    26\n",
      "Name: activity, dtype: int64\n",
      "HLA-A*11:01 382 89\n",
      "0    4\n",
      "Name: activity, dtype: int64\n",
      "HLA-A*03:01 602 78\n",
      "0    5\n",
      "Name: activity, dtype: int64\n",
      "HLA-A*02:05 500 4\n",
      "1    20\n",
      "0     3\n",
      "Name: activity, dtype: int64\n",
      "HLA-B*44:03 780 30\n",
      "0    42\n",
      "Name: activity, dtype: int64\n",
      "HLA-A*33:01 606 52\n",
      "0    5\n",
      "Name: activity, dtype: int64\n",
      "HLA-A*68:01 197 80\n",
      "0    5\n",
      "Name: activity, dtype: int64\n",
      "HLA-B*51:01 939 26\n",
      "0    10\n",
      "Name: activity, dtype: int64\n",
      "HLA-A*02:03 92 95\n",
      "0    20\n",
      "Name: activity, dtype: int64\n",
      "HLA-A*02:01 255 314\n",
      "0    112\n",
      "Name: activity, dtype: int64\n",
      "HLA-B*38:01 944 4\n",
      "1    133\n",
      "0     40\n",
      "Name: activity, dtype: int64\n",
      "HLA-B*07:02 687 76\n",
      "0    29\n",
      "1     3\n",
      "Name: activity, dtype: int64\n",
      "HLA-A*24:02 849 65\n",
      "0    5\n",
      "Name: activity, dtype: int64\n",
      "HLA-B*58:01 446 49\n",
      "Series([], Name: activity, dtype: int64)\n",
      "10mer\n",
      "HLA-A*31:01 329 46\n",
      "0    1\n",
      "Name: activity, dtype: int64\n",
      "HLA-A*68:02 259 43\n",
      "0    9\n",
      "Name: activity, dtype: int64\n",
      "HLA-A*01:01 884 24\n",
      "0    4\n",
      "Name: activity, dtype: int64\n",
      "HLA-A*23:01 740 15\n",
      "Series([], Name: activity, dtype: int64)\n",
      "HLA-A*02:02 500 52\n",
      "1    8\n",
      "Name: activity, dtype: int64\n",
      "HLA-A*29:02 641 15\n",
      "0    3\n",
      "Name: activity, dtype: int64\n",
      "HLA-A*02:06 60 32\n",
      "0    9\n",
      "Name: activity, dtype: int64\n",
      "HLA-A*11:01 382 68\n",
      "0    4\n",
      "Name: activity, dtype: int64\n",
      "HLA-A*03:01 602 38\n",
      "0    4\n",
      "Name: activity, dtype: int64\n",
      "HLA-A*02:05 500 4\n",
      "1    8\n",
      "Name: activity, dtype: int64\n",
      "HLA-A*33:01 606 37\n",
      "0    1\n",
      "Name: activity, dtype: int64\n",
      "HLA-A*68:01 197 26\n",
      "0    1\n",
      "Name: activity, dtype: int64\n",
      "HLA-B*51:01 939 9\n",
      "0    1\n",
      "Name: activity, dtype: int64\n",
      "HLA-A*02:03 92 44\n",
      "0    8\n",
      "Name: activity, dtype: int64\n",
      "HLA-A*02:01 255 116\n",
      "0    40\n",
      "Name: activity, dtype: int64\n",
      "HLA-B*07:02 687 34\n",
      "0    1\n",
      "Name: activity, dtype: int64\n",
      "HLA-A*02:07 500 2\n",
      "0    6\n",
      "Name: activity, dtype: int64\n",
      "HLA-A*24:02 849 29\n",
      "0    5\n",
      "Name: activity, dtype: int64\n"
     ]
    }
   ],
   "source": [
    "for kmers in [\"9mer\",\"10mer\"]:\n",
    "\tprint(kmers)\n",
    "\tfor f in glob(f\"HLA/data/validation/{kmers}/*.txt\"):\n",
    "\t\tsrc = f\n",
    "\t\tdst = f.replace(\"%2A\",\"\")\n",
    "\t\tdst = dst.replace(\"%3A\",\"\")\n",
    "\t\tos.rename(src,dst)\n",
    "\t\tfilename = os.path.basename(dst)\n",
    "\t\tallele_name = f\"{filename[0:5]}*{filename[5:7]}:{filename[7:9]}\"\n",
    "\t\tallele_data = pd.read_csv(dst,sep = \"\\t\", header=None)\n",
    "\t\tallele_data = allele_data.rename(columns={0:\"peptide\",1:\"affinity\"})\n",
    "\t\tnum_meeted = len(set_epi.intersection(list(allele_data[\"peptide\"])))\n",
    "\t\tif num_meeted != 0:\n",
    "\t\t\tallele_data = allele_data.drop(index=allele_data[allele_data[\"peptide\"].isin(set_epi)].index)\n",
    "\t\tif cutoff[\"Allele\"].str.contains(allele_name,regex = False).any():\n",
    "\t\t\tallele_cutoff = int(cutoff.loc[cutoff[\"Allele\"]==allele_name,\"affinity_cutoff\"])\n",
    "\t\telse:\n",
    "\t\t\tallele_cutoff = 500\n",
    "\t\tprint(f\"{allele_name} {allele_cutoff} {num_meeted}\")\n",
    "\t\tallele_data[\"activity\"] = np.where(allele_data[\"affinity\"] <= allele_cutoff,1,0)\n",
    "\t\tprint(allele_data[\"activity\"].value_counts())\n",
    "\t\tallele_data.to_csv(f\"HLA/data/validation/{kmers}/{os.path.splitext(os.path.basename(dst))[0]}.csv\",index = False,sep=\";\")"
   ],
   "metadata": {
    "collapsed": false,
    "ExecuteTime": {
     "end_time": "2023-05-18T07:35:55.188176782Z",
     "start_time": "2023-05-18T07:35:44.915136343Z"
    }
   }
  },
  {
   "cell_type": "code",
   "execution_count": 52,
   "outputs": [
    {
     "name": "stderr",
     "output_type": "stream",
     "text": [
      "rm: cannot remove 'HLA/data/validation/9mer/*.txt': No such file or directory\n",
      "rm: cannot remove 'HLA/data/validation/10mer/*.txt': No such file or directory\n"
     ]
    },
    {
     "ename": "CalledProcessError",
     "evalue": "Command 'b'cd /home/stotoshka/Documents/ANGEL_dev\\nrm HLA/data/validation/9mer/*.txt\\nrm HLA/data/validation/10mer/*.txt\\n\\n'' returned non-zero exit status 1.",
     "output_type": "error",
     "traceback": [
      "\u001B[0;31m---------------------------------------------------------------------------\u001B[0m",
      "\u001B[0;31mCalledProcessError\u001B[0m                        Traceback (most recent call last)",
      "Cell \u001B[0;32mIn[52], line 1\u001B[0m\n\u001B[0;32m----> 1\u001B[0m \u001B[43mget_ipython\u001B[49m\u001B[43m(\u001B[49m\u001B[43m)\u001B[49m\u001B[38;5;241;43m.\u001B[39;49m\u001B[43mrun_cell_magic\u001B[49m\u001B[43m(\u001B[49m\u001B[38;5;124;43m'\u001B[39;49m\u001B[38;5;124;43mbash\u001B[39;49m\u001B[38;5;124;43m'\u001B[39;49m\u001B[43m,\u001B[49m\u001B[43m \u001B[49m\u001B[38;5;124;43m'\u001B[39;49m\u001B[38;5;124;43m'\u001B[39;49m\u001B[43m,\u001B[49m\u001B[43m \u001B[49m\u001B[38;5;124;43m'\u001B[39;49m\u001B[38;5;124;43mcd /home/stotoshka/Documents/ANGEL_dev\u001B[39;49m\u001B[38;5;130;43;01m\\n\u001B[39;49;00m\u001B[38;5;124;43mrm HLA/data/validation/9mer/*.txt\u001B[39;49m\u001B[38;5;130;43;01m\\n\u001B[39;49;00m\u001B[38;5;124;43mrm HLA/data/validation/10mer/*.txt\u001B[39;49m\u001B[38;5;130;43;01m\\n\u001B[39;49;00m\u001B[38;5;130;43;01m\\n\u001B[39;49;00m\u001B[38;5;124;43m'\u001B[39;49m\u001B[43m)\u001B[49m\n",
      "File \u001B[0;32m~/Soft/anaconda3/envs/research/lib/python3.9/site-packages/IPython/core/interactiveshell.py:2430\u001B[0m, in \u001B[0;36mInteractiveShell.run_cell_magic\u001B[0;34m(self, magic_name, line, cell)\u001B[0m\n\u001B[1;32m   2428\u001B[0m \u001B[38;5;28;01mwith\u001B[39;00m \u001B[38;5;28mself\u001B[39m\u001B[38;5;241m.\u001B[39mbuiltin_trap:\n\u001B[1;32m   2429\u001B[0m     args \u001B[38;5;241m=\u001B[39m (magic_arg_s, cell)\n\u001B[0;32m-> 2430\u001B[0m     result \u001B[38;5;241m=\u001B[39m \u001B[43mfn\u001B[49m\u001B[43m(\u001B[49m\u001B[38;5;241;43m*\u001B[39;49m\u001B[43margs\u001B[49m\u001B[43m,\u001B[49m\u001B[43m \u001B[49m\u001B[38;5;241;43m*\u001B[39;49m\u001B[38;5;241;43m*\u001B[39;49m\u001B[43mkwargs\u001B[49m\u001B[43m)\u001B[49m\n\u001B[1;32m   2432\u001B[0m \u001B[38;5;66;03m# The code below prevents the output from being displayed\u001B[39;00m\n\u001B[1;32m   2433\u001B[0m \u001B[38;5;66;03m# when using magics with decodator @output_can_be_silenced\u001B[39;00m\n\u001B[1;32m   2434\u001B[0m \u001B[38;5;66;03m# when the last Python token in the expression is a ';'.\u001B[39;00m\n\u001B[1;32m   2435\u001B[0m \u001B[38;5;28;01mif\u001B[39;00m \u001B[38;5;28mgetattr\u001B[39m(fn, magic\u001B[38;5;241m.\u001B[39mMAGIC_OUTPUT_CAN_BE_SILENCED, \u001B[38;5;28;01mFalse\u001B[39;00m):\n",
      "File \u001B[0;32m~/Soft/anaconda3/envs/research/lib/python3.9/site-packages/IPython/core/magics/script.py:153\u001B[0m, in \u001B[0;36mScriptMagics._make_script_magic.<locals>.named_script_magic\u001B[0;34m(line, cell)\u001B[0m\n\u001B[1;32m    151\u001B[0m \u001B[38;5;28;01melse\u001B[39;00m:\n\u001B[1;32m    152\u001B[0m     line \u001B[38;5;241m=\u001B[39m script\n\u001B[0;32m--> 153\u001B[0m \u001B[38;5;28;01mreturn\u001B[39;00m \u001B[38;5;28;43mself\u001B[39;49m\u001B[38;5;241;43m.\u001B[39;49m\u001B[43mshebang\u001B[49m\u001B[43m(\u001B[49m\u001B[43mline\u001B[49m\u001B[43m,\u001B[49m\u001B[43m \u001B[49m\u001B[43mcell\u001B[49m\u001B[43m)\u001B[49m\n",
      "File \u001B[0;32m~/Soft/anaconda3/envs/research/lib/python3.9/site-packages/IPython/core/magics/script.py:305\u001B[0m, in \u001B[0;36mScriptMagics.shebang\u001B[0;34m(self, line, cell)\u001B[0m\n\u001B[1;32m    300\u001B[0m \u001B[38;5;28;01mif\u001B[39;00m args\u001B[38;5;241m.\u001B[39mraise_error \u001B[38;5;129;01mand\u001B[39;00m p\u001B[38;5;241m.\u001B[39mreturncode \u001B[38;5;241m!=\u001B[39m \u001B[38;5;241m0\u001B[39m:\n\u001B[1;32m    301\u001B[0m     \u001B[38;5;66;03m# If we get here and p.returncode is still None, we must have\u001B[39;00m\n\u001B[1;32m    302\u001B[0m     \u001B[38;5;66;03m# killed it but not yet seen its return code. We don't wait for it,\u001B[39;00m\n\u001B[1;32m    303\u001B[0m     \u001B[38;5;66;03m# in case it's stuck in uninterruptible sleep. -9 = SIGKILL\u001B[39;00m\n\u001B[1;32m    304\u001B[0m     rc \u001B[38;5;241m=\u001B[39m p\u001B[38;5;241m.\u001B[39mreturncode \u001B[38;5;129;01mor\u001B[39;00m \u001B[38;5;241m-\u001B[39m\u001B[38;5;241m9\u001B[39m\n\u001B[0;32m--> 305\u001B[0m     \u001B[38;5;28;01mraise\u001B[39;00m CalledProcessError(rc, cell)\n",
      "\u001B[0;31mCalledProcessError\u001B[0m: Command 'b'cd /home/stotoshka/Documents/ANGEL_dev\\nrm HLA/data/validation/9mer/*.txt\\nrm HLA/data/validation/10mer/*.txt\\n\\n'' returned non-zero exit status 1."
     ]
    }
   ],
   "source": [
    "%%bash\n",
    "cd /home/stotoshka/Documents/ANGEL_dev\n",
    "rm HLA/data/validation/9mer/*.txt\n",
    "rm HLA/data/validation/10mer/*.txt\n"
   ],
   "metadata": {
    "collapsed": false,
    "ExecuteTime": {
     "end_time": "2023-05-18T07:36:23.774646389Z",
     "start_time": "2023-05-18T07:36:23.662981791Z"
    }
   }
  },
  {
   "cell_type": "code",
   "execution_count": 39,
   "outputs": [
    {
     "ename": "TypeError",
     "evalue": "unhashable type: 'Series'",
     "output_type": "error",
     "traceback": [
      "\u001B[0;31m---------------------------------------------------------------------------\u001B[0m",
      "\u001B[0;31mTypeError\u001B[0m                                 Traceback (most recent call last)",
      "Cell \u001B[0;32mIn[39], line 1\u001B[0m\n\u001B[0;32m----> 1\u001B[0m allele_data[\u001B[43mallele_data\u001B[49m\u001B[43m[\u001B[49m\u001B[38;5;124;43m\"\u001B[39;49m\u001B[38;5;124;43mpeptide\u001B[39;49m\u001B[38;5;124;43m\"\u001B[39;49m\u001B[43m]\u001B[49m\u001B[43m \u001B[49m\u001B[38;5;129;43;01min\u001B[39;49;00m\u001B[43m \u001B[49m\u001B[43mset_epi\u001B[49m]\n",
      "\u001B[0;31mTypeError\u001B[0m: unhashable type: 'Series'"
     ]
    }
   ],
   "source": [
    "allele_data[allele_data[\"peptide\"] in set_epi]"
   ],
   "metadata": {
    "collapsed": false,
    "ExecuteTime": {
     "end_time": "2023-05-18T07:20:54.400522101Z",
     "start_time": "2023-05-18T07:20:54.359922723Z"
    }
   }
  },
  {
   "cell_type": "code",
   "execution_count": 41,
   "outputs": [
    {
     "data": {
      "text/plain": "set()"
     },
     "execution_count": 41,
     "metadata": {},
     "output_type": "execute_result"
    }
   ],
   "source": [
    "set_epi.intersection(list(allele_data[\"peptide\"]))"
   ],
   "metadata": {
    "collapsed": false,
    "ExecuteTime": {
     "end_time": "2023-05-18T07:21:36.127369920Z",
     "start_time": "2023-05-18T07:21:36.122723878Z"
    }
   }
  },
  {
   "cell_type": "code",
   "execution_count": null,
   "outputs": [],
   "source": [],
   "metadata": {
    "collapsed": false
   }
  }
 ],
 "metadata": {
  "kernelspec": {
   "display_name": "Python 3",
   "language": "python",
   "name": "python3"
  },
  "language_info": {
   "codemirror_mode": {
    "name": "ipython",
    "version": 2
   },
   "file_extension": ".py",
   "mimetype": "text/x-python",
   "name": "python",
   "nbconvert_exporter": "python",
   "pygments_lexer": "ipython2",
   "version": "2.7.6"
  }
 },
 "nbformat": 4,
 "nbformat_minor": 0
}
