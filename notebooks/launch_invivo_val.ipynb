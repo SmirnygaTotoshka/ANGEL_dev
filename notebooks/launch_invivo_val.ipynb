{
 "cells": [
  {
   "cell_type": "code",
   "execution_count": 3,
   "metadata": {
    "collapsed": true,
    "ExecuteTime": {
     "end_time": "2023-05-15T17:26:22.810330904Z",
     "start_time": "2023-05-15T17:26:21.649764214Z"
    }
   },
   "outputs": [
    {
     "name": "stderr",
     "output_type": "stream",
     "text": [
      "/home/stotoshka/Soft/anaconda3/envs/research/lib/python3.9/site-packages/paramiko/transport.py:219: CryptographyDeprecationWarning: Blowfish has been deprecated\n",
      "  \"class\": algorithms.Blowfish,\n"
     ]
    }
   ],
   "source": [
    "import os\n",
    "from multiprocessing import Pool\n",
    "\n",
    "from Bio import Entrez, SeqIO\n",
    "from io import StringIO\n",
    "import numpy as np\n",
    "import pandas as pd\n",
    "import re\n",
    "import paramiko\n",
    "from getpass import getpass\n",
    "import traceback\n",
    "import numpy as np\n",
    "import matplotlib.pyplot as plt\n",
    "from sklearn import metrics"
   ]
  },
  {
   "cell_type": "code",
   "execution_count": 4,
   "outputs": [],
   "source": [
    "os.chdir(\"/home/stotoshka/Documents/ANGEL_dev\")"
   ],
   "metadata": {
    "collapsed": false,
    "ExecuteTime": {
     "end_time": "2023-05-15T17:26:22.813561062Z",
     "start_time": "2023-05-15T17:26:22.811298920Z"
    }
   }
  },
  {
   "cell_type": "code",
   "execution_count": 3,
   "outputs": [
    {
     "data": {
      "text/plain": "  linear_peptide_seq                                           sequence\n0         LAVHPSGVAL  MGWDLTVKMLAGNEFQVSLSSSMSVSELKAQITQKIGVHAFQQRLA...\n1        FAYDGKDYLTL  SHTLQWMHGCELGPDRRFLRGYEQFAYDGKDYLTLNEDLRSWTAVD...\n2        RRYLENGKETL  TAPETLLLLLWGAVALTETWAGSHSMRYFHTSVSRPGRGEPRFITV...\n3      RRYLENGKETLQR  TAPETLLLLLWGAVALTETWAGSHSMRYFHTSVSRPGRGEPRFITV...\n4          ILTDITKGV  MVNFTVDQIRAIMDKKANIRNMSVIAHVDHGKSTLTDSLVCKAGII...",
      "text/html": "<div>\n<style scoped>\n    .dataframe tbody tr th:only-of-type {\n        vertical-align: middle;\n    }\n\n    .dataframe tbody tr th {\n        vertical-align: top;\n    }\n\n    .dataframe thead th {\n        text-align: right;\n    }\n</style>\n<table border=\"1\" class=\"dataframe\">\n  <thead>\n    <tr style=\"text-align: right;\">\n      <th></th>\n      <th>linear_peptide_seq</th>\n      <th>sequence</th>\n    </tr>\n  </thead>\n  <tbody>\n    <tr>\n      <th>0</th>\n      <td>LAVHPSGVAL</td>\n      <td>MGWDLTVKMLAGNEFQVSLSSSMSVSELKAQITQKIGVHAFQQRLA...</td>\n    </tr>\n    <tr>\n      <th>1</th>\n      <td>FAYDGKDYLTL</td>\n      <td>SHTLQWMHGCELGPDRRFLRGYEQFAYDGKDYLTLNEDLRSWTAVD...</td>\n    </tr>\n    <tr>\n      <th>2</th>\n      <td>RRYLENGKETL</td>\n      <td>TAPETLLLLLWGAVALTETWAGSHSMRYFHTSVSRPGRGEPRFITV...</td>\n    </tr>\n    <tr>\n      <th>3</th>\n      <td>RRYLENGKETLQR</td>\n      <td>TAPETLLLLLWGAVALTETWAGSHSMRYFHTSVSRPGRGEPRFITV...</td>\n    </tr>\n    <tr>\n      <th>4</th>\n      <td>ILTDITKGV</td>\n      <td>MVNFTVDQIRAIMDKKANIRNMSVIAHVDHGKSTLTDSLVCKAGII...</td>\n    </tr>\n  </tbody>\n</table>\n</div>"
     },
     "execution_count": 3,
     "metadata": {},
     "output_type": "execute_result"
    }
   ],
   "source": [
    "train_invivo = pd.read_csv(\"Proteasome/in_vivo/train/total_train_invivo.csv\",sep=\";\")\n",
    "train_invivo.head()"
   ],
   "metadata": {
    "collapsed": false,
    "ExecuteTime": {
     "end_time": "2023-05-13T22:09:19.775100547Z",
     "start_time": "2023-05-13T22:09:17.383840384Z"
    }
   }
  },
  {
   "cell_type": "code",
   "execution_count": 4,
   "outputs": [],
   "source": [
    "def isCorrectSequence(sequence):\n",
    "    alphabet = list(\"ACDEFGHIKLMNPQRSTVWY\")\n",
    "    seq = sequence.strip()\n",
    "    for i in range(0,len(seq)):\n",
    "        if seq[i] not in alphabet:\n",
    "            return False\n",
    "    return True"
   ],
   "metadata": {
    "collapsed": false,
    "ExecuteTime": {
     "end_time": "2023-05-13T22:09:19.777992130Z",
     "start_time": "2023-05-13T22:09:19.775520495Z"
    }
   }
  },
  {
   "cell_type": "code",
   "execution_count": 5,
   "outputs": [
    {
     "name": "stdout",
     "output_type": "stream",
     "text": [
      "(820, 6)\n",
      "(730, 6)\n"
     ]
    },
    {
     "data": {
      "text/plain": "  CD8 T cell epitope     ACN  \\\n0          LIGLNGLSL  P9WL67   \n1          SAFRLSPPV  P9WL67   \n2          AAFSSARFL  P0CK17   \n3          LIISPLPRV  P0CK17   \n4          ALFFIIFNK  Q8IIF0   \n\n                                             Protein HLA I restriction  \\\n0                       hypothetical protein Rv2627c       HLA class I   \n1                       hypothetical protein Rv2627c       HLA class I   \n2                            Accessory protein p30II       HLA class I   \n3                            Accessory protein p30II            HLA-A2   \n4  Circumsporozoite protein-related antigen precu...       HLA class I   \n\n       id                                       ref_sequence  \n0  P9WL67  MASSASDGTHERSAFRLSPPVLSGAMGPFMHTGLYVAQSWRDYLGQ...  \n1  P9WL67  MASSASDGTHERSAFRLSPPVLSGAMGPFMHTGLYVAQSWRDYLGQ...  \n2  P0CK17  MALCCFAFSAPCLHLRSRRSCSSCFLRAKSAAFSSARFLRRAFSSS...  \n3  P0CK17  MALCCFAFSAPCLHLRSRRSCSSCFLRAKSAAFSSARFLRRAFSSS...  \n4  Q8IIF0  MKILSVFFLALFFIIFNKESLAEKTNKGTGSGVSSKKKNKKGSGEP...  ",
      "text/html": "<div>\n<style scoped>\n    .dataframe tbody tr th:only-of-type {\n        vertical-align: middle;\n    }\n\n    .dataframe tbody tr th {\n        vertical-align: top;\n    }\n\n    .dataframe thead th {\n        text-align: right;\n    }\n</style>\n<table border=\"1\" class=\"dataframe\">\n  <thead>\n    <tr style=\"text-align: right;\">\n      <th></th>\n      <th>CD8 T cell epitope</th>\n      <th>ACN</th>\n      <th>Protein</th>\n      <th>HLA I restriction</th>\n      <th>id</th>\n      <th>ref_sequence</th>\n    </tr>\n  </thead>\n  <tbody>\n    <tr>\n      <th>0</th>\n      <td>LIGLNGLSL</td>\n      <td>P9WL67</td>\n      <td>hypothetical protein Rv2627c</td>\n      <td>HLA class I</td>\n      <td>P9WL67</td>\n      <td>MASSASDGTHERSAFRLSPPVLSGAMGPFMHTGLYVAQSWRDYLGQ...</td>\n    </tr>\n    <tr>\n      <th>1</th>\n      <td>SAFRLSPPV</td>\n      <td>P9WL67</td>\n      <td>hypothetical protein Rv2627c</td>\n      <td>HLA class I</td>\n      <td>P9WL67</td>\n      <td>MASSASDGTHERSAFRLSPPVLSGAMGPFMHTGLYVAQSWRDYLGQ...</td>\n    </tr>\n    <tr>\n      <th>2</th>\n      <td>AAFSSARFL</td>\n      <td>P0CK17</td>\n      <td>Accessory protein p30II</td>\n      <td>HLA class I</td>\n      <td>P0CK17</td>\n      <td>MALCCFAFSAPCLHLRSRRSCSSCFLRAKSAAFSSARFLRRAFSSS...</td>\n    </tr>\n    <tr>\n      <th>3</th>\n      <td>LIISPLPRV</td>\n      <td>P0CK17</td>\n      <td>Accessory protein p30II</td>\n      <td>HLA-A2</td>\n      <td>P0CK17</td>\n      <td>MALCCFAFSAPCLHLRSRRSCSSCFLRAKSAAFSSARFLRRAFSSS...</td>\n    </tr>\n    <tr>\n      <th>4</th>\n      <td>ALFFIIFNK</td>\n      <td>Q8IIF0</td>\n      <td>Circumsporozoite protein-related antigen precu...</td>\n      <td>HLA class I</td>\n      <td>Q8IIF0</td>\n      <td>MKILSVFFLALFFIIFNKESLAEKTNKGTGSGVSSKKKNKKGSGEP...</td>\n    </tr>\n  </tbody>\n</table>\n</div>"
     },
     "execution_count": 5,
     "metadata": {},
     "output_type": "execute_result"
    }
   ],
   "source": [
    "virus_validation = pd.read_excel(\"Proteasome/in_vivo/validation/pcps_validation.xlsx\")\n",
    "print(virus_validation.shape)\n",
    "virus_validation = virus_validation[virus_validation[\"HLA I restriction\"].str.contains(\"HLA\")]\n",
    "virus_validation = virus_validation[virus_validation[\"CD8 T cell epitope\"].apply(isCorrectSequence)]\n",
    "virus_validation = virus_validation[virus_validation[\"ref_sequence\"].apply(isCorrectSequence)]\n",
    "virus_validation = virus_validation[~virus_validation[\"CD8 T cell epitope\"].isin(train_invivo[\"linear_peptide_seq\"])]\n",
    "virus_validation = virus_validation[~virus_validation[\"ref_sequence\"].isin(train_invivo[\"sequence\"])]\n",
    "virus_validation.reset_index(drop=True,inplace=True)\n",
    "print(virus_validation.shape)\n",
    "virus_validation.head()"
   ],
   "metadata": {
    "collapsed": false,
    "ExecuteTime": {
     "end_time": "2023-05-13T22:09:20.465903646Z",
     "start_time": "2023-05-13T22:09:19.779866456Z"
    }
   }
  },
  {
   "cell_type": "code",
   "execution_count": 6,
   "outputs": [
    {
     "name": "stdout",
     "output_type": "stream",
     "text": [
      "253 9 282\n",
      "2 9 31\n",
      "20 9 49\n",
      "145 9 174\n",
      "0 9 28\n",
      "60 9 89\n",
      "243 9 272\n",
      "252 9 281\n",
      "136 9 165\n",
      "58 9 87\n",
      "180 9 209\n",
      "82 9 111\n",
      "299 9 328\n",
      "91 9 120\n",
      "273 9 302\n",
      "26 9 55\n",
      "238 9 267\n",
      "196 9 225\n",
      "51 9 80\n",
      "292 9 321\n",
      "318 9 347\n",
      "83 9 112\n",
      "2613 9 2642\n",
      "1823 9 1852\n",
      "1669 9 1698\n",
      "525 9 554\n",
      "2692 9 2721\n",
      "2273 9 2302\n",
      "3043 9 3072\n",
      "1563 9 1592\n",
      "2987 9 3016\n",
      "308 9 337\n",
      "1349 9 1378\n",
      "2392 9 2421\n",
      "2123 9 2152\n",
      "2195 9 2224\n",
      "1486 9 1515\n",
      "1936 9 1965\n",
      "2012 9 2041\n",
      "2600 9 2629\n",
      "3231 9 3260\n",
      "2826 9 2855\n",
      "39 9 68\n",
      "1964 9 1993\n",
      "2021 9 2050\n",
      "1595 9 1624\n",
      "2337 9 2366\n",
      "2057 9 2086\n",
      "2463 9 2492\n",
      "3189 9 3218\n",
      "736 9 765\n",
      "83 9 112\n",
      "94 9 123\n",
      "260 9 289\n",
      "2719 9 2748\n",
      "84 9 113\n",
      "2678 9 2707\n",
      "85 9 114\n",
      "802 9 831\n",
      "3240 9 3269\n",
      "749 9 778\n",
      "2451 9 2480\n",
      "1724 9 1753\n",
      "2131 9 2160\n",
      "37 9 66\n",
      "2455 9 2484\n",
      "1912 9 1941\n",
      "2828 9 2857\n",
      "2211 9 2240\n",
      "1740 9 1769\n",
      "1089 9 1118\n",
      "2811 9 2840\n",
      "790 9 819\n",
      "3167 9 3196\n",
      "2173 9 2202\n",
      "2793 9 2822\n",
      "2546 9 2575\n",
      "1069 9 1098\n",
      "208 9 237\n",
      "1062 9 1091\n",
      "121 9 150\n",
      "2214 9 2243\n",
      "166 9 195\n",
      "712 9 741\n",
      "274 9 303\n",
      "2716 9 2745\n",
      "143 9 172\n",
      "1840 9 1869\n",
      "2241 9 2270\n",
      "1028 9 1057\n",
      "25 9 54\n",
      "157 9 186\n",
      "603 9 632\n",
      "1778 9 1807\n",
      "352 9 381\n",
      "1976 9 2005\n",
      "2817 9 2846\n",
      "1120 9 1149\n",
      "1432 9 1461\n",
      "40 9 69\n",
      "1251 9 1280\n",
      "1380 9 1409\n",
      "32 9 61\n",
      "1848 9 1877\n",
      "2860 9 2889\n",
      "1749 9 1778\n",
      "118 9 147\n",
      "1280 9 1309\n",
      "2831 9 2860\n",
      "2162 9 2191\n",
      "1281 9 1310\n",
      "663 9 692\n",
      "1112 9 1141\n",
      "0 9 20\n",
      "673 9 702\n",
      "268 9 297\n",
      "650 9 679\n",
      "838 9 867\n",
      "1753 9 1782\n",
      "1158 9 1187\n",
      "2722 9 2751\n",
      "675 9 704\n",
      "1439 9 1468\n",
      "1904 9 1933\n",
      "2933 9 2962\n",
      "1574 9 1603\n",
      "510 9 539\n",
      "162 9 191\n",
      "2405 9 2434\n",
      "1372 9 1401\n",
      "1643 9 1672\n",
      "1398 9 1427\n",
      "817 9 846\n",
      "2783 9 2812\n",
      "710 9 739\n",
      "1624 9 1653\n",
      "2992 9 3011\n",
      "24 9 53\n",
      "1164 9 1193\n",
      "30 9 59\n",
      "870 9 899\n",
      "2577 9 2606\n",
      "1384 9 1413\n",
      "2844 9 2873\n",
      "2830 9 2859\n",
      "2873 9 2902\n",
      "1488 9 1517\n",
      "2809 9 2838\n",
      "2193 9 2222\n",
      "2152 9 2181\n",
      "1348 9 1377\n",
      "158 9 187\n",
      "1520 9 1549\n",
      "2207 9 2236\n",
      "1860 9 1889\n",
      "643 9 672\n",
      "1585 9 1614\n",
      "1616 9 1645\n",
      "2439 9 2468\n",
      "223 9 252\n",
      "1042 9 1071\n",
      "77 9 106\n",
      "530 9 559\n",
      "1957 9 1986\n",
      "697 9 726\n",
      "17 9 46\n",
      "2141 9 2170\n",
      "100 9 129\n",
      "1391 9 1420\n",
      "599 9 628\n",
      "779 9 808\n",
      "446 9 475\n",
      "91 9 120\n",
      "266 9 295\n",
      "236 9 265\n",
      "449 9 478\n",
      "602 9 631\n",
      "265 9 294\n",
      "561 9 590\n",
      "510 9 539\n",
      "445 9 474\n",
      "50 9 79\n",
      "479 9 504\n",
      "249 9 278\n",
      "60 9 89\n",
      "0 9 21\n",
      "64 9 93\n",
      "2 9 31\n",
      "24 9 53\n",
      "51 9 80\n",
      "16 9 45\n",
      "67 9 96\n",
      "375 9 397\n",
      "274 9 303\n",
      "136 9 165\n",
      "77 9 106\n",
      "491 9 520\n",
      "514 9 543\n",
      "752 9 781\n",
      "407 9 436\n",
      "759 9 788\n",
      "642 9 671\n",
      "396 9 425\n",
      "562 9 591\n",
      "682 9 711\n",
      "442 9 471\n",
      "357 9 386\n",
      "538 9 567\n",
      "44 9 73\n",
      "264 9 293\n",
      "36 9 65\n",
      "612 9 641\n",
      "524 9 553\n",
      "639 9 668\n",
      "745 9 774\n",
      "83 9 112\n",
      "473 9 502\n",
      "156 9 185\n",
      "765 9 794\n",
      "378 9 407\n",
      "50 9 79\n",
      "520 9 549\n",
      "504 9 533\n",
      "712 9 741\n",
      "354 9 383\n",
      "393 9 422\n",
      "498 9 527\n",
      "489 9 518\n",
      "160 9 189\n",
      "27 9 56\n",
      "274 9 303\n",
      "289 9 318\n",
      "406 9 435\n",
      "117 9 146\n",
      "0 9 22\n",
      "31 9 60\n",
      "95 9 120\n",
      "295 9 324\n",
      "1181 9 1210\n",
      "2241 9 2270\n",
      "731 9 760\n",
      "2838 9 2867\n",
      "2343 9 2372\n",
      "2892 9 2921\n",
      "3090 9 3119\n",
      "2051 9 2080\n",
      "1545 9 1574\n",
      "240 9 269\n",
      "200 9 229\n",
      "3092 9 3121\n",
      "2350 9 2379\n",
      "1368 9 1397\n",
      "1837 9 1866\n",
      "730 9 759\n",
      "2680 9 2709\n",
      "1995 9 2024\n",
      "49 9 78\n",
      "430 9 459\n",
      "86 9 115\n",
      "32 9 61\n",
      "146 9 175\n",
      "343 9 372\n",
      "343 9 372\n",
      "691 9 718\n",
      "55 9 84\n",
      "209 9 238\n",
      "215 9 244\n",
      "115 9 144\n",
      "82 9 111\n",
      "213 9 242\n",
      "322 9 351\n",
      "555 9 584\n",
      "349 9 378\n",
      "493 9 522\n",
      "363 9 392\n",
      "275 9 304\n",
      "534 9 563\n",
      "497 9 526\n",
      "470 9 499\n",
      "2076 9 2105\n",
      "69 9 98\n",
      "58 9 87\n",
      "41 9 70\n",
      "7 9 36\n",
      "22 9 51\n",
      "38 9 67\n",
      "82 9 111\n",
      "71 9 100\n",
      "107 9 136\n",
      "80 9 109\n",
      "18 9 47\n",
      "64 9 93\n",
      "55 9 84\n",
      "19 9 48\n",
      "7 9 36\n",
      "130 9 159\n",
      "106 9 135\n",
      "93 9 122\n",
      "108 9 137\n",
      "77 9 106\n",
      "96 9 125\n",
      "12 9 41\n",
      "31 9 60\n",
      "104 9 133\n",
      "172 9 201\n",
      "19 9 48\n",
      "187 9 216\n",
      "228 9 257\n",
      "155 9 184\n",
      "66 9 95\n",
      "64 9 93\n",
      "196 9 225\n",
      "129 9 158\n",
      "173 9 202\n",
      "89 9 118\n",
      "134 9 163\n",
      "296 9 325\n",
      "189 9 218\n",
      "226 9 255\n",
      "99 9 128\n",
      "121 9 150\n",
      "50 9 79\n",
      "259 9 288\n",
      "261 9 290\n",
      "122 9 151\n",
      "231 9 260\n",
      "65 9 94\n",
      "501 9 530\n",
      "414 9 443\n",
      "15 9 44\n",
      "137 9 166\n",
      "26 9 55\n",
      "122 9 151\n",
      "0 9 23\n",
      "33 9 62\n",
      "115 9 144\n",
      "155 9 184\n",
      "18 9 47\n",
      "7 9 36\n",
      "9 9 38\n",
      "12 9 41\n",
      "13 9 42\n",
      "39 9 68\n",
      "0 9 21\n",
      "19 9 48\n",
      "340 9 369\n",
      "338 9 367\n",
      "77 9 106\n",
      "186 9 215\n",
      "58 9 87\n",
      "277 9 306\n",
      "99 9 128\n",
      "11 9 40\n",
      "336 9 365\n",
      "85 9 114\n",
      "2015 9 2044\n",
      "991 9 1020\n",
      "234 9 263\n",
      "1383 9 1412\n",
      "682 9 711\n",
      "585 9 614\n",
      "374 9 403\n",
      "0 9 24\n",
      "126 9 155\n",
      "131 9 160\n",
      "204 9 233\n",
      "133 9 162\n",
      "6 9 35\n",
      "437 9 466\n",
      "276 9 305\n",
      "173 9 202\n",
      "333 9 362\n",
      "332 9 361\n",
      "551 9 580\n",
      "269 9 298\n",
      "665 9 694\n",
      "151 9 180\n",
      "431 9 460\n",
      "284 9 313\n",
      "469 9 498\n",
      "210 9 239\n",
      "11 9 40\n",
      "185 9 214\n",
      "393 9 422\n",
      "176 9 205\n",
      "252 9 281\n",
      "138 9 167\n",
      "295 9 324\n",
      "1226 9 1255\n",
      "1124 9 1153\n",
      "71 9 95\n",
      "17 9 46\n",
      "39 9 68\n",
      "10 9 39\n",
      "6 9 35\n",
      "0 9 28\n",
      "0 9 29\n",
      "72 9 96\n",
      "49 9 78\n",
      "0 9 20\n",
      "67 9 96\n",
      "0 9 21\n",
      "9 9 38\n",
      "0 9 23\n",
      "39 9 68\n",
      "54 9 83\n",
      "50 9 79\n",
      "59 9 88\n",
      "71 9 96\n",
      "0 9 22\n",
      "70 9 96\n",
      "43 9 72\n",
      "32 9 61\n",
      "104 9 133\n",
      "41 9 70\n",
      "129 9 154\n",
      "0 9 26\n",
      "4 9 33\n",
      "122 9 151\n",
      "81 9 110\n",
      "15 9 44\n",
      "47 9 76\n",
      "149 9 178\n",
      "1191 9 1220\n",
      "776 9 805\n",
      "967 9 996\n",
      "1156 9 1185\n",
      "1031 9 1060\n",
      "561 9 580\n",
      "356 9 385\n",
      "224 9 253\n",
      "265 9 294\n",
      "261 9 290\n",
      "291 9 320\n",
      "375 9 404\n",
      "389 9 418\n",
      "432 9 461\n",
      "314 9 343\n",
      "183 9 212\n",
      "348 9 377\n",
      "371 9 400\n",
      "251 9 280\n",
      "335 9 364\n",
      "252 9 281\n",
      "325 9 354\n",
      "334 9 363\n",
      "197 9 226\n",
      "347 9 376\n",
      "234 9 263\n",
      "249 9 278\n",
      "120 9 149\n",
      "250 9 279\n",
      "259 9 288\n",
      "177 9 206\n",
      "313 9 342\n",
      "0 9 24\n",
      "136 9 165\n",
      "212 9 241\n",
      "5 9 34\n",
      "139 9 168\n",
      "71 9 100\n",
      "302 9 331\n",
      "278 9 307\n",
      "540 9 569\n",
      "186 9 215\n",
      "551 9 580\n",
      "563 9 592\n",
      "396 9 425\n",
      "851 9 880\n",
      "28 9 57\n",
      "1 9 30\n",
      "75 9 104\n",
      "78 9 105\n",
      "109 9 138\n",
      "10 9 39\n",
      "297 9 326\n",
      "269 9 298\n",
      "222 9 251\n",
      "0 9 29\n",
      "167 9 196\n",
      "112 9 141\n",
      "144 9 173\n",
      "1 9 30\n",
      "278 9 307\n",
      "37 9 66\n",
      "231 9 260\n",
      "825 9 854\n",
      "306 9 335\n",
      "212 9 241\n",
      "216 9 245\n",
      "335 9 364\n",
      "141 9 170\n",
      "26 9 55\n",
      "40 9 69\n",
      "86 9 115\n",
      "99 9 128\n",
      "305 9 334\n",
      "173 9 202\n",
      "145 9 174\n",
      "885 9 914\n",
      "749 9 778\n",
      "545 9 574\n",
      "1399 9 1428\n",
      "1164 9 1193\n",
      "820 9 849\n",
      "1309 9 1338\n",
      "778 9 807\n",
      "732 9 761\n",
      "282 9 311\n",
      "675 9 704\n",
      "275 9 304\n",
      "271 9 300\n",
      "114 9 143\n",
      "2 9 31\n",
      "89 9 118\n",
      "351 9 380\n",
      "88 9 117\n",
      "1 9 30\n",
      "287 9 316\n",
      "36 9 65\n",
      "50 9 79\n",
      "56 9 85\n",
      "7 9 36\n",
      "239 9 268\n",
      "0 9 21\n",
      "42 9 71\n",
      "140 9 169\n",
      "71 9 98\n",
      "274 9 303\n",
      "529 9 558\n",
      "89 9 118\n",
      "1512 9 1541\n",
      "0 9 29\n",
      "531 9 560\n",
      "214 9 243\n",
      "409 9 438\n",
      "413 9 442\n",
      "538 9 567\n",
      "116 9 145\n",
      "330 9 359\n",
      "112 9 141\n",
      "200 9 229\n",
      "334 9 363\n",
      "147 9 176\n",
      "152 9 181\n",
      "461 9 490\n",
      "434 9 463\n",
      "582 9 611\n",
      "0 9 25\n",
      "153 9 182\n",
      "219 9 248\n",
      "107 9 136\n",
      "136 9 165\n",
      "28 9 57\n",
      "296 9 325\n",
      "88 9 117\n",
      "66 9 95\n",
      "9 9 38\n",
      "17 9 46\n",
      "156 9 185\n",
      "182 9 211\n",
      "344 9 373\n",
      "318 9 347\n",
      "13 9 42\n",
      "287 9 316\n",
      "470 9 499\n",
      "199 9 228\n",
      "0 9 29\n",
      "25 9 54\n",
      "165 9 194\n",
      "205 9 234\n",
      "137 9 166\n",
      "169 9 198\n",
      "63 9 92\n",
      "151 9 180\n",
      "585 9 614\n",
      "592 9 621\n",
      "165 9 194\n",
      "368 9 397\n",
      "447 9 476\n",
      "147 9 176\n",
      "197 9 226\n",
      "9 9 38\n",
      "257 9 286\n",
      "378 9 407\n",
      "329 9 358\n",
      "289 9 318\n",
      "154 9 183\n",
      "375 9 404\n",
      "440 9 469\n",
      "75 9 104\n",
      "305 9 334\n",
      "261 9 290\n",
      "188 9 217\n",
      "77 9 106\n",
      "182 9 211\n",
      "187 9 216\n",
      "370 9 399\n",
      "852 9 881\n",
      "228 9 257\n",
      "10 9 39\n",
      "13 9 42\n",
      "18 9 47\n",
      "153 9 182\n",
      "60 9 89\n",
      "1270 9 1299\n",
      "52 9 81\n",
      "164 9 193\n",
      "114 9 143\n",
      "148 9 177\n",
      "40 9 69\n",
      "98 9 127\n",
      "137 9 166\n",
      "80 9 109\n",
      "73 9 102\n",
      "63 9 92\n",
      "57 9 86\n",
      "66 9 95\n",
      "95 9 124\n",
      "124 9 153\n",
      "109 9 138\n",
      "81 9 110\n",
      "60 9 89\n",
      "511 9 540\n",
      "10 9 39\n",
      "111 9 140\n",
      "175 9 204\n",
      "230 9 259\n",
      "202 9 231\n",
      "278 9 307\n",
      "201 9 230\n",
      "123 9 152\n",
      "9 9 38\n",
      "0 9 23\n",
      "0 9 27\n",
      "709 9 738\n",
      "467 9 496\n",
      "490 9 519\n",
      "629 9 658\n",
      "281 9 306\n",
      "191 9 220\n",
      "493 9 512\n",
      "298 9 327\n",
      "6 9 35\n",
      "151 9 180\n",
      "371 9 400\n",
      "449 9 478\n",
      "884 9 913\n",
      "138 9 167\n",
      "218 9 247\n",
      "361 9 390\n",
      "433 9 462\n",
      "432 9 461\n",
      "380 9 409\n",
      "138 9 167\n",
      "146 9 175\n",
      "179 9 208\n",
      "263 9 292\n",
      "304 9 333\n",
      "64 9 93\n",
      "1973 9 2002\n",
      "1196 9 1225\n",
      "3363 9 3392\n",
      "30 9 59\n",
      "1841 9 1870\n",
      "2121 9 2150\n",
      "2820 9 2849\n",
      "2485 9 2514\n",
      "2073 9 2102\n",
      "1723 9 1752\n",
      "870 9 899\n",
      "66 9 95\n",
      "6 9 35\n",
      "0 9 22\n",
      "41 9 70\n",
      "146 9 175\n",
      "966 9 995\n",
      "39 9 60\n",
      "184 9 213\n",
      "86 9 115\n",
      "11 9 40\n",
      "59 9 88\n",
      "225 9 254\n",
      "183 9 212\n",
      "93 9 122\n",
      "181 9 210\n",
      "89 9 118\n",
      "464 9 493\n",
      "733 9 762\n",
      "38 9 67\n",
      "687 9 716\n",
      "1498 9 1520\n",
      "1147 9 1176\n",
      "246 9 275\n",
      "1478 9 1500\n",
      "94 9 123\n",
      "94 9 123\n",
      "222 9 251\n",
      "746 9 775\n",
      "997 9 1026\n",
      "334 9 363\n",
      "394 9 423\n",
      "407 9 436\n",
      "231 9 260\n",
      "533 9 562\n",
      "24 9 53\n",
      "409 9 438\n",
      "90 9 119\n",
      "1678 9 1707\n",
      "354 9 383\n",
      "398 9 427\n",
      "50 9 79\n",
      "37 9 66\n",
      "442 9 471\n",
      "43 9 72\n",
      "19 9 48\n",
      "130 9 159\n",
      "129 9 158\n",
      "19 9 48\n",
      "23 9 52\n",
      "507 9 536\n",
      "1 9 30\n",
      "356 9 385\n",
      "110 9 139\n",
      "109 9 137\n",
      "66 9 95\n",
      "295 9 324\n",
      "244 9 273\n",
      "762 9 781\n",
      "52 9 81\n"
     ]
    },
    {
     "data": {
      "text/plain": "    CD8 T cell epitope     ACN  \\\n0            LIGLNGLSL  P9WL67   \n1            SAFRLSPPV  P9WL67   \n2            AAFSSARFL  P0CK17   \n3            LIISPLPRV  P0CK17   \n4            ALFFIIFNK  Q8IIF0   \n..                 ...     ...   \n725          MPLETQLAI  Q6ZMA7   \n726          NPKASLLSL  O42053   \n727          QVMLRWGVL  O42053   \n728          TAKSRVHPL  Q9PZT0   \n729          AFRNIVNML  P9WNJ9   \n\n                                               Protein HLA I restriction  \\\n0                         hypothetical protein Rv2627c       HLA class I   \n1                         hypothetical protein Rv2627c       HLA class I   \n2                              Accessory protein p30II       HLA class I   \n3                              Accessory protein p30II            HLA-A2   \n4    Circumsporozoite protein-related antigen precu...       HLA class I   \n..                                                 ...               ...   \n725                                    protein antigen            HLA-B7   \n726                                      Nucleoprotein            HLA-B7   \n727                                      Nucleoprotein            HLA-B8   \n728                                    viral protein 2            HLA-B8   \n729   Esat-6 like protein esxJ (Esat-6 like protein 2)       HLA-C*06:02   \n\n         id                                       ref_sequence  \\\n0    P9WL67  MASSASDGTHERSAFRLSPPVLSGAMGPFMHTGLYVAQSWRDYLGQ...   \n1    P9WL67  MASSASDGTHERSAFRLSPPVLSGAMGPFMHTGLYVAQSWRDYLGQ...   \n2    P0CK17  MALCCFAFSAPCLHLRSRRSCSSCFLRAKSAAFSSARFLRRAFSSS...   \n3    P0CK17  MALCCFAFSAPCLHLRSRRSCSSCFLRAKSAAFSSARFLRRAFSSS...   \n4    Q8IIF0  MKILSVFFLALFFIIFNKESLAEKTNKGTGSGVSSKKKNKKGSGEP...   \n..      ...                                                ...   \n725  Q6ZMA7  MNIRKFIPSLALMLIFFAFANLVLSDANDKAKKPAGKGSPSTLQTP...   \n726  O42053  MALSKVKLNDTLNKDQLLSSSKYTIQRSTGDNIDTPNYDVQKHLNK...   \n727  O42053  MALSKVKLNDTLNKDQLLSSSKYTIQRSTGDNIDTPNYDVQKHLNK...   \n728  Q9PZT0  MSKESGKWWESDDKFAKAVYQQFVEFYEKVTGTDLELIQILKDHYN...   \n729  P9WNJ9  MASRFMTDPHAMRDMAGRFEVHAQTVEDEARRMWASAQNISGAGWS...   \n\n                      val_fragment true_len  \n0    SWIRSQEEESLIGLNGLSLGGYIASLVAS     True  \n1    SSASDGTHERSAFRLSPPVLSGAMGPFMH     True  \n2    CSSCFLRAKSAAFSSARFLRRAFSSSFLF     True  \n3    NSPTDTKLTMLIISPLPRVWTESSFRIPS     True  \n4     MKILSVFFLALFFIIFNKESLAEKTNKG    False  \n..                             ...      ...  \n725  GLSGKDSADKMPLETQLAIEEIKSLSNML     True  \n726  GEAGFYHILNNPKASLLSLTQFPNFSSVV     True  \n727  GLFMNAYGSGQVMLRWGVLAKSVKNIMLG     True  \n728            HGYEKPEELWTAKSRVHPL    False  \n729  SLDTMTQMNQAFRNIVNMLHGVRDGLVRD     True  \n\n[730 rows x 8 columns]",
      "text/html": "<div>\n<style scoped>\n    .dataframe tbody tr th:only-of-type {\n        vertical-align: middle;\n    }\n\n    .dataframe tbody tr th {\n        vertical-align: top;\n    }\n\n    .dataframe thead th {\n        text-align: right;\n    }\n</style>\n<table border=\"1\" class=\"dataframe\">\n  <thead>\n    <tr style=\"text-align: right;\">\n      <th></th>\n      <th>CD8 T cell epitope</th>\n      <th>ACN</th>\n      <th>Protein</th>\n      <th>HLA I restriction</th>\n      <th>id</th>\n      <th>ref_sequence</th>\n      <th>val_fragment</th>\n      <th>true_len</th>\n    </tr>\n  </thead>\n  <tbody>\n    <tr>\n      <th>0</th>\n      <td>LIGLNGLSL</td>\n      <td>P9WL67</td>\n      <td>hypothetical protein Rv2627c</td>\n      <td>HLA class I</td>\n      <td>P9WL67</td>\n      <td>MASSASDGTHERSAFRLSPPVLSGAMGPFMHTGLYVAQSWRDYLGQ...</td>\n      <td>SWIRSQEEESLIGLNGLSLGGYIASLVAS</td>\n      <td>True</td>\n    </tr>\n    <tr>\n      <th>1</th>\n      <td>SAFRLSPPV</td>\n      <td>P9WL67</td>\n      <td>hypothetical protein Rv2627c</td>\n      <td>HLA class I</td>\n      <td>P9WL67</td>\n      <td>MASSASDGTHERSAFRLSPPVLSGAMGPFMHTGLYVAQSWRDYLGQ...</td>\n      <td>SSASDGTHERSAFRLSPPVLSGAMGPFMH</td>\n      <td>True</td>\n    </tr>\n    <tr>\n      <th>2</th>\n      <td>AAFSSARFL</td>\n      <td>P0CK17</td>\n      <td>Accessory protein p30II</td>\n      <td>HLA class I</td>\n      <td>P0CK17</td>\n      <td>MALCCFAFSAPCLHLRSRRSCSSCFLRAKSAAFSSARFLRRAFSSS...</td>\n      <td>CSSCFLRAKSAAFSSARFLRRAFSSSFLF</td>\n      <td>True</td>\n    </tr>\n    <tr>\n      <th>3</th>\n      <td>LIISPLPRV</td>\n      <td>P0CK17</td>\n      <td>Accessory protein p30II</td>\n      <td>HLA-A2</td>\n      <td>P0CK17</td>\n      <td>MALCCFAFSAPCLHLRSRRSCSSCFLRAKSAAFSSARFLRRAFSSS...</td>\n      <td>NSPTDTKLTMLIISPLPRVWTESSFRIPS</td>\n      <td>True</td>\n    </tr>\n    <tr>\n      <th>4</th>\n      <td>ALFFIIFNK</td>\n      <td>Q8IIF0</td>\n      <td>Circumsporozoite protein-related antigen precu...</td>\n      <td>HLA class I</td>\n      <td>Q8IIF0</td>\n      <td>MKILSVFFLALFFIIFNKESLAEKTNKGTGSGVSSKKKNKKGSGEP...</td>\n      <td>MKILSVFFLALFFIIFNKESLAEKTNKG</td>\n      <td>False</td>\n    </tr>\n    <tr>\n      <th>...</th>\n      <td>...</td>\n      <td>...</td>\n      <td>...</td>\n      <td>...</td>\n      <td>...</td>\n      <td>...</td>\n      <td>...</td>\n      <td>...</td>\n    </tr>\n    <tr>\n      <th>725</th>\n      <td>MPLETQLAI</td>\n      <td>Q6ZMA7</td>\n      <td>protein antigen</td>\n      <td>HLA-B7</td>\n      <td>Q6ZMA7</td>\n      <td>MNIRKFIPSLALMLIFFAFANLVLSDANDKAKKPAGKGSPSTLQTP...</td>\n      <td>GLSGKDSADKMPLETQLAIEEIKSLSNML</td>\n      <td>True</td>\n    </tr>\n    <tr>\n      <th>726</th>\n      <td>NPKASLLSL</td>\n      <td>O42053</td>\n      <td>Nucleoprotein</td>\n      <td>HLA-B7</td>\n      <td>O42053</td>\n      <td>MALSKVKLNDTLNKDQLLSSSKYTIQRSTGDNIDTPNYDVQKHLNK...</td>\n      <td>GEAGFYHILNNPKASLLSLTQFPNFSSVV</td>\n      <td>True</td>\n    </tr>\n    <tr>\n      <th>727</th>\n      <td>QVMLRWGVL</td>\n      <td>O42053</td>\n      <td>Nucleoprotein</td>\n      <td>HLA-B8</td>\n      <td>O42053</td>\n      <td>MALSKVKLNDTLNKDQLLSSSKYTIQRSTGDNIDTPNYDVQKHLNK...</td>\n      <td>GLFMNAYGSGQVMLRWGVLAKSVKNIMLG</td>\n      <td>True</td>\n    </tr>\n    <tr>\n      <th>728</th>\n      <td>TAKSRVHPL</td>\n      <td>Q9PZT0</td>\n      <td>viral protein 2</td>\n      <td>HLA-B8</td>\n      <td>Q9PZT0</td>\n      <td>MSKESGKWWESDDKFAKAVYQQFVEFYEKVTGTDLELIQILKDHYN...</td>\n      <td>HGYEKPEELWTAKSRVHPL</td>\n      <td>False</td>\n    </tr>\n    <tr>\n      <th>729</th>\n      <td>AFRNIVNML</td>\n      <td>P9WNJ9</td>\n      <td>Esat-6 like protein esxJ (Esat-6 like protein 2)</td>\n      <td>HLA-C*06:02</td>\n      <td>P9WNJ9</td>\n      <td>MASRFMTDPHAMRDMAGRFEVHAQTVEDEARRMWASAQNISGAGWS...</td>\n      <td>SLDTMTQMNQAFRNIVNMLHGVRDGLVRD</td>\n      <td>True</td>\n    </tr>\n  </tbody>\n</table>\n<p>730 rows × 8 columns</p>\n</div>"
     },
     "execution_count": 6,
     "metadata": {},
     "output_type": "execute_result"
    }
   ],
   "source": [
    "for i in virus_validation.index:\n",
    "\tseq = virus_validation.loc[i,\"ref_sequence\"]\n",
    "\tstart = virus_validation.loc[i,\"ref_sequence\"].find(virus_validation.loc[i,\"CD8 T cell epitope\"])\n",
    "\tend = start + len(virus_validation.loc[i,\"CD8 T cell epitope\"])\n",
    "\tstart_point = max(0,start-10)\n",
    "\tend_point = min(end+10,len(seq))\n",
    "\tprint(start_point, len(virus_validation.loc[i,\"CD8 T cell epitope\"]),end_point)\n",
    "\tvirus_validation.loc[i,\"val_fragment\"] = seq[start_point:end_point]\n",
    "\tvirus_validation.loc[i,\"true_len\"] = len(virus_validation.loc[i,\"val_fragment\"]) == 20 + len(virus_validation.loc[i,\"CD8 T cell epitope\"])\n",
    "virus_validation"
   ],
   "metadata": {
    "collapsed": false,
    "ExecuteTime": {
     "end_time": "2023-05-13T22:09:20.753782279Z",
     "start_time": "2023-05-13T22:09:20.478493134Z"
    }
   }
  },
  {
   "cell_type": "code",
   "execution_count": 7,
   "outputs": [
    {
     "name": "stdout",
     "output_type": "stream",
     "text": [
      "SWIRSQEEESLIGLNGLSLGGYIASLVAS\n",
      "LIGLNGLSL\n"
     ]
    }
   ],
   "source": [
    "len(virus_validation.loc[0,\"ref_sequence\"][253:282])\n",
    "print(virus_validation.loc[0,\"ref_sequence\"][253:282])\n",
    "print(virus_validation.loc[0,\"CD8 T cell epitope\"])"
   ],
   "metadata": {
    "collapsed": false,
    "ExecuteTime": {
     "end_time": "2023-05-13T22:09:22.471380383Z",
     "start_time": "2023-05-13T22:09:22.467669202Z"
    }
   }
  },
  {
   "cell_type": "code",
   "execution_count": 8,
   "outputs": [
    {
     "data": {
      "text/plain": "True     691\nFalse     39\nName: true_len, dtype: int64"
     },
     "execution_count": 8,
     "metadata": {},
     "output_type": "execute_result"
    }
   ],
   "source": [
    "virus_validation.true_len.value_counts()"
   ],
   "metadata": {
    "collapsed": false,
    "ExecuteTime": {
     "end_time": "2023-05-13T22:09:23.209985143Z",
     "start_time": "2023-05-13T22:09:23.206851753Z"
    }
   }
  },
  {
   "cell_type": "code",
   "execution_count": 9,
   "outputs": [
    {
     "data": {
      "text/plain": "(691, 8)"
     },
     "execution_count": 9,
     "metadata": {},
     "output_type": "execute_result"
    }
   ],
   "source": [
    "virus_validation = virus_validation[virus_validation[\"true_len\"]]\n",
    "virus_validation.shape"
   ],
   "metadata": {
    "collapsed": false,
    "ExecuteTime": {
     "end_time": "2023-05-13T22:09:24.356861976Z",
     "start_time": "2023-05-13T22:09:24.341240474Z"
    }
   }
  },
  {
   "cell_type": "code",
   "execution_count": 10,
   "outputs": [],
   "source": [
    "def generateSamples(X, window_radius=2):\n",
    "    seqs = list(X[\"sequence\"].unique())\n",
    "    for i in X.index:\n",
    "        finded_start = X.loc[i, \"sequence\"].find(X.loc[i, \"linear_peptide_seq\"])\n",
    "        X.loc[i, \"end\"] = finded_start + len(X.loc[i, \"linear_peptide_seq\"]) - 1  # сайт левее найденной позиции (C-конец)\n",
    "    result = pd.DataFrame(columns=[\"peptide\", \"sequence\",\"full_sequence\", \"activity\"])\n",
    "    k = 0\n",
    "    for s in seqs:\n",
    "        subset = X.query(\"sequence == @s\").reset_index(drop=True)\n",
    "        possible_start = 0 + window_radius\n",
    "        possible_end = len(s) - window_radius  # не включая эту позицию [start;end)\n",
    "        end = list(subset['end'])\n",
    "        for i in range(possible_start, possible_end):\n",
    "            peptide = s[(i - window_radius):(i + window_radius + 1)]\n",
    "            activity = int(i in end)\n",
    "            result.loc[k] = [peptide, peptide, s, activity]\n",
    "            k += 1\n",
    "    print(result.activity.value_counts())\n",
    "    return result"
   ],
   "metadata": {
    "collapsed": false,
    "ExecuteTime": {
     "end_time": "2023-05-13T22:09:25.022401090Z",
     "start_time": "2023-05-13T22:09:25.011552195Z"
    }
   }
  },
  {
   "cell_type": "code",
   "execution_count": 11,
   "outputs": [],
   "source": [
    "def generateSamplesOnlyC(X, window_radius = 2):\n",
    "\tresult = pd.DataFrame(columns=[\"peptide\",\"sequence\",\"substrate\",\"activity\"])\n",
    "\tk = 0\n",
    "\tfor i in X.index:\n",
    "\t\tnp.random.seed(9)\n",
    "\t\tend = X.loc[i,\"sequence\"].find(X.loc[i, \"linear_peptide_seq\"]) + len(X.loc[i, \"linear_peptide_seq\"])-1\n",
    "\t\tend = int(end)#сайт левее найденной позиции\n",
    "\t\tif end+window_radius+1 > len(X.loc[i,\"sequence\"]):\n",
    "\t\t\tcontinue\n",
    "\t\t#positive\n",
    "\t\tpeptide = X.loc[i,\"sequence\"][(end-window_radius):(end+window_radius+1)]\n",
    "\t\tif len(peptide) == 2 * window_radius + 1:\n",
    "\t\t\tresult.loc[k] = [peptide, peptide,X.loc[i,\"sequence\"], 1]\n",
    "\t\t\tk += 1\n",
    "\t\telse:\n",
    "\t\t\tcontinue\n",
    "\t\t#negative\n",
    "\t\tpossible = list(range(X.loc[i,\"sequence\"].find(X.loc[i, \"linear_peptide_seq\"]), end - window_radius))\n",
    "\t\trandom_site = np.random.choice(possible,1)[0]\n",
    "\t\tpeptide = X.loc[i,\"sequence\"][(random_site-window_radius):(random_site+window_radius+1)]\n",
    "\t\tif len(peptide) == 2 * window_radius + 1:\n",
    "\t\t\tresult.loc[k] = [peptide, peptide, X.loc[i,\"sequence\"],  0]\n",
    "\t\t\tk += 1\n",
    "\t\telse:\n",
    "\t\t\tcontinue\n",
    "\tprint(result.activity.value_counts())\n",
    "\treturn result\n",
    "\n",
    "def getSamplesMulti(X,number_threads = 5, w = 2):\n",
    "\ttotal = len(X.index)\n",
    "\tsize_part = total // number_threads\n",
    "\tsize_last_part = size_part + (total - size_part * number_threads)\n",
    "\t            # procs - количество ядер\n",
    "\t            # calc - количество операций на ядро\n",
    "\tpartitions = []\n",
    "\t            # делим вычисления на количество ядер\n",
    "\tfor proc, start in zip(range(number_threads), range(0, total, size_part)):\n",
    "\t    if proc == number_threads - 1:\n",
    "\t        partition = X[start:start + size_last_part]\n",
    "\t    else:\n",
    "\t        partition = X[start:start + size_part]\n",
    "\t    partitions.append(partition)\n",
    "\n",
    "\twith Pool(number_threads) as p:\n",
    "\t    results = p.starmap(generateSamplesOnlyC, zip(partitions, [w]*len(partitions)))\n",
    "\treturn pd.concat(results, ignore_index = True)"
   ],
   "metadata": {
    "collapsed": false,
    "ExecuteTime": {
     "end_time": "2023-05-13T22:09:25.668276430Z",
     "start_time": "2023-05-13T22:09:25.658840251Z"
    }
   }
  },
  {
   "cell_type": "code",
   "execution_count": 12,
   "outputs": [],
   "source": [
    "virus_validation_prep = virus_validation.loc[:,[\"CD8 T cell epitope\", \"val_fragment\"]]\n",
    "virus_validation_prep = virus_validation_prep.rename(columns = {\"CD8 T cell epitope\":\"linear_peptide_seq\",\"val_fragment\":\"sequence\"})\n",
    "virus_validation_prep.to_csv(\"Proteasome/in_vivo/validation/virus_validation_prep.csv\",sep = \";\", index = False)"
   ],
   "metadata": {
    "collapsed": false,
    "ExecuteTime": {
     "end_time": "2023-05-13T22:09:45.601043128Z",
     "start_time": "2023-05-13T22:09:45.591229004Z"
    }
   }
  },
  {
   "cell_type": "code",
   "execution_count": 13,
   "outputs": [
    {
     "name": "stdout",
     "output_type": "stream",
     "text": [
      "0    15202\n",
      "1      691\n",
      "Name: activity, dtype: int64\n"
     ]
    }
   ],
   "source": [
    "ready_virus_validation = generateSamples(virus_validation_prep,window_radius = 3)"
   ],
   "metadata": {
    "collapsed": false,
    "ExecuteTime": {
     "end_time": "2023-05-13T22:10:10.115275172Z",
     "start_time": "2023-05-13T22:09:50.730557865Z"
    }
   }
  },
  {
   "cell_type": "code",
   "execution_count": 14,
   "outputs": [
    {
     "data": {
      "text/plain": "       peptide sequence                  full_sequence  activity\n0      SWIRSQE  SWIRSQE  SWIRSQEEESLIGLNGLSLGGYIASLVAS         0\n1      WIRSQEE  WIRSQEE  SWIRSQEEESLIGLNGLSLGGYIASLVAS         0\n2      IRSQEEE  IRSQEEE  SWIRSQEEESLIGLNGLSLGGYIASLVAS         0\n3      RSQEEES  RSQEEES  SWIRSQEEESLIGLNGLSLGGYIASLVAS         0\n4      SQEEESL  SQEEESL  SWIRSQEEESLIGLNGLSLGGYIASLVAS         0\n...        ...      ...                            ...       ...\n15888  LHGVRDG  LHGVRDG  SLDTMTQMNQAFRNIVNMLHGVRDGLVRD         0\n15889  HGVRDGL  HGVRDGL  SLDTMTQMNQAFRNIVNMLHGVRDGLVRD         0\n15890  GVRDGLV  GVRDGLV  SLDTMTQMNQAFRNIVNMLHGVRDGLVRD         0\n15891  VRDGLVR  VRDGLVR  SLDTMTQMNQAFRNIVNMLHGVRDGLVRD         0\n15892  RDGLVRD  RDGLVRD  SLDTMTQMNQAFRNIVNMLHGVRDGLVRD         0\n\n[15893 rows x 4 columns]",
      "text/html": "<div>\n<style scoped>\n    .dataframe tbody tr th:only-of-type {\n        vertical-align: middle;\n    }\n\n    .dataframe tbody tr th {\n        vertical-align: top;\n    }\n\n    .dataframe thead th {\n        text-align: right;\n    }\n</style>\n<table border=\"1\" class=\"dataframe\">\n  <thead>\n    <tr style=\"text-align: right;\">\n      <th></th>\n      <th>peptide</th>\n      <th>sequence</th>\n      <th>full_sequence</th>\n      <th>activity</th>\n    </tr>\n  </thead>\n  <tbody>\n    <tr>\n      <th>0</th>\n      <td>SWIRSQE</td>\n      <td>SWIRSQE</td>\n      <td>SWIRSQEEESLIGLNGLSLGGYIASLVAS</td>\n      <td>0</td>\n    </tr>\n    <tr>\n      <th>1</th>\n      <td>WIRSQEE</td>\n      <td>WIRSQEE</td>\n      <td>SWIRSQEEESLIGLNGLSLGGYIASLVAS</td>\n      <td>0</td>\n    </tr>\n    <tr>\n      <th>2</th>\n      <td>IRSQEEE</td>\n      <td>IRSQEEE</td>\n      <td>SWIRSQEEESLIGLNGLSLGGYIASLVAS</td>\n      <td>0</td>\n    </tr>\n    <tr>\n      <th>3</th>\n      <td>RSQEEES</td>\n      <td>RSQEEES</td>\n      <td>SWIRSQEEESLIGLNGLSLGGYIASLVAS</td>\n      <td>0</td>\n    </tr>\n    <tr>\n      <th>4</th>\n      <td>SQEEESL</td>\n      <td>SQEEESL</td>\n      <td>SWIRSQEEESLIGLNGLSLGGYIASLVAS</td>\n      <td>0</td>\n    </tr>\n    <tr>\n      <th>...</th>\n      <td>...</td>\n      <td>...</td>\n      <td>...</td>\n      <td>...</td>\n    </tr>\n    <tr>\n      <th>15888</th>\n      <td>LHGVRDG</td>\n      <td>LHGVRDG</td>\n      <td>SLDTMTQMNQAFRNIVNMLHGVRDGLVRD</td>\n      <td>0</td>\n    </tr>\n    <tr>\n      <th>15889</th>\n      <td>HGVRDGL</td>\n      <td>HGVRDGL</td>\n      <td>SLDTMTQMNQAFRNIVNMLHGVRDGLVRD</td>\n      <td>0</td>\n    </tr>\n    <tr>\n      <th>15890</th>\n      <td>GVRDGLV</td>\n      <td>GVRDGLV</td>\n      <td>SLDTMTQMNQAFRNIVNMLHGVRDGLVRD</td>\n      <td>0</td>\n    </tr>\n    <tr>\n      <th>15891</th>\n      <td>VRDGLVR</td>\n      <td>VRDGLVR</td>\n      <td>SLDTMTQMNQAFRNIVNMLHGVRDGLVRD</td>\n      <td>0</td>\n    </tr>\n    <tr>\n      <th>15892</th>\n      <td>RDGLVRD</td>\n      <td>RDGLVRD</td>\n      <td>SLDTMTQMNQAFRNIVNMLHGVRDGLVRD</td>\n      <td>0</td>\n    </tr>\n  </tbody>\n</table>\n<p>15893 rows × 4 columns</p>\n</div>"
     },
     "execution_count": 14,
     "metadata": {},
     "output_type": "execute_result"
    }
   ],
   "source": [
    "ready_virus_validation"
   ],
   "metadata": {
    "collapsed": false,
    "ExecuteTime": {
     "end_time": "2023-05-13T22:10:10.124613884Z",
     "start_time": "2023-05-13T22:10:10.120264282Z"
    }
   }
  },
  {
   "cell_type": "code",
   "execution_count": 16,
   "outputs": [
    {
     "data": {
      "text/plain": "0    15202\n1      691\nName: activity, dtype: int64"
     },
     "execution_count": 16,
     "metadata": {},
     "output_type": "execute_result"
    }
   ],
   "source": [
    "ready_virus_validation[\"activity\"].value_counts()"
   ],
   "metadata": {
    "collapsed": false,
    "ExecuteTime": {
     "end_time": "2023-05-13T22:10:57.403784499Z",
     "start_time": "2023-05-13T22:10:57.362697665Z"
    }
   }
  },
  {
   "cell_type": "code",
   "execution_count": 17,
   "outputs": [
    {
     "name": "stdout",
     "output_type": "stream",
     "text": [
      "1    13213\n",
      "0    13210\n",
      "Name: activity, dtype: int64\n",
      "1    13251\n",
      "0    13249\n",
      "Name: activity, dtype: int64\n",
      "1    13266\n",
      "0    13265\n",
      "Name: activity, dtype: int64\n",
      "1    13257\n",
      "0    13252\n",
      "Name: activity, dtype: int64\n",
      "1    13087\n",
      "0    13087\n",
      "Name: activity, dtype: int64\n",
      "1    13237\n",
      "0    13235\n",
      "Name: activity, dtype: int64\n",
      "1    13231\n",
      "0    13228\n",
      "Name: activity, dtype: int64\n",
      "1    13164\n",
      "0    13163\n",
      "Name: activity, dtype: int64\n",
      "1    13240\n",
      "0    13239\n",
      "Name: activity, dtype: int64\n",
      "1    13202\n",
      "0    13200\n",
      "Name: activity, dtype: int64\n",
      "1    13241\n",
      "0    13238\n",
      "Name: activity, dtype: int64\n",
      "1    13247\n",
      "0    13245\n",
      "Name: activity, dtype: int64\n",
      "1    13230\n",
      "0    13225\n",
      "Name: activity, dtype: int64\n",
      "1    13251\n",
      "0    13249\n",
      "Name: activity, dtype: int64\n",
      "1    13201\n",
      "0    13199\n",
      "Name: activity, dtype: int64\n",
      "1    13269\n",
      "0    13268\n",
      "Name: activity, dtype: int64\n",
      "1    13232\n",
      "0    13227\n",
      "Name: activity, dtype: int64\n",
      "1    13223\n",
      "0    13221\n",
      "Name: activity, dtype: int64\n",
      "1    13241\n",
      "0    13237\n",
      "Name: activity, dtype: int64\n",
      "1    13275\n",
      "0    13273\n",
      "Name: activity, dtype: int64\n",
      "1    13291\n",
      "0    13285\n",
      "Name: activity, dtype: int64\n",
      "1    13148\n",
      "0    13148\n",
      "Name: activity, dtype: int64\n",
      "1    13180\n",
      "0    13179\n",
      "Name: activity, dtype: int64\n",
      "1    13252\n",
      "0    13252\n",
      "Name: activity, dtype: int64\n",
      "1    13174\n",
      "0    13174\n",
      "Name: activity, dtype: int64\n",
      "1    13212\n",
      "0    13203\n",
      "Name: activity, dtype: int64\n",
      "1    13241\n",
      "0    13240\n",
      "Name: activity, dtype: int64\n",
      "1    13265\n",
      "0    13260\n",
      "Name: activity, dtype: int64\n",
      "1    13226\n",
      "0    13224\n",
      "Name: activity, dtype: int64\n",
      "1    13249\n",
      "0    13248\n",
      "Name: activity, dtype: int64\n"
     ]
    }
   ],
   "source": [
    "ready_train = getSamplesMulti(train_invivo, number_threads=30, w = 3)"
   ],
   "metadata": {
    "collapsed": false,
    "ExecuteTime": {
     "end_time": "2023-05-13T22:17:12.304273742Z",
     "start_time": "2023-05-13T22:11:00.207453695Z"
    }
   }
  },
  {
   "cell_type": "code",
   "execution_count": 18,
   "outputs": [
    {
     "data": {
      "text/plain": "1    396796\n0    396723\nName: activity, dtype: int64"
     },
     "execution_count": 18,
     "metadata": {},
     "output_type": "execute_result"
    }
   ],
   "source": [
    "ready_train[\"activity\"].value_counts()"
   ],
   "metadata": {
    "collapsed": false,
    "ExecuteTime": {
     "end_time": "2023-05-13T22:17:12.352040344Z",
     "start_time": "2023-05-13T22:17:12.310729781Z"
    }
   }
  },
  {
   "cell_type": "code",
   "execution_count": 19,
   "outputs": [],
   "source": [
    "ready_train.to_csv(\"Proteasome/in_vivo/validation/ready_train_invivo.csv\",sep = \";\",index = False)"
   ],
   "metadata": {
    "collapsed": false,
    "ExecuteTime": {
     "end_time": "2023-05-13T22:17:23.980242074Z",
     "start_time": "2023-05-13T22:17:12.351524650Z"
    }
   }
  },
  {
   "cell_type": "code",
   "execution_count": 20,
   "outputs": [],
   "source": [
    "ready_virus_validation.to_csv(\"Proteasome/in_vivo/validation/ready_validation_invivo.csv\",sep = \";\",index = False)"
   ],
   "metadata": {
    "collapsed": false,
    "ExecuteTime": {
     "end_time": "2023-05-13T22:17:24.027243811Z",
     "start_time": "2023-05-13T22:17:24.023310013Z"
    }
   }
  },
  {
   "cell_type": "code",
   "execution_count": 21,
   "outputs": [
    {
     "name": "stdout",
     "output_type": "stream",
     "text": [
      "Success\n",
      "Convertation\n",
      "Success\n",
      "--- 435.88141107559204 seconds ---\n",
      "CPU times: user 13 ms, sys: 387 µs, total: 13.4 ms\n",
      "Wall time: 7min 16s\n"
     ]
    },
    {
     "data": {
      "text/plain": "0"
     },
     "execution_count": 21,
     "metadata": {},
     "output_type": "execute_result"
    }
   ],
   "source": [
    "%%time\n",
    "path_to_config = \"Proteasome/in_vivo/converter_config.json\"\n",
    "command = f\"python tools/generateConfigForConverter.py -i {os.path.join(os.getcwd(),'Proteasome/in_vivo/validation/ready_train_invivo.csv')} -o {os.path.join(os.getcwd(),'Proteasome/in_vivo/sdf')} -c peptide -u -t 10 {path_to_config}\"\n",
    "os.system(command)\n",
    "print(\"Convertation\")\n",
    "convert_command = f\"python tools/SeqToSDF.py {path_to_config}\"\n",
    "os.system(convert_command)"
   ],
   "metadata": {
    "collapsed": false,
    "ExecuteTime": {
     "end_time": "2023-05-13T22:24:40.475146824Z",
     "start_time": "2023-05-13T22:17:24.029362868Z"
    }
   }
  },
  {
   "cell_type": "code",
   "execution_count": 22,
   "outputs": [
    {
     "name": "stdout",
     "output_type": "stream",
     "text": [
      "Success\n",
      "Convertation\n",
      "Success\n",
      "--- 6.517477750778198 seconds ---\n",
      "CPU times: user 2.64 ms, sys: 0 ns, total: 2.64 ms\n",
      "Wall time: 6.89 s\n"
     ]
    },
    {
     "data": {
      "text/plain": "0"
     },
     "execution_count": 22,
     "metadata": {},
     "output_type": "execute_result"
    }
   ],
   "source": [
    "%%time\n",
    "path_to_config = \"Proteasome/in_vivo/converter_config.json\"\n",
    "command = f\"python tools/generateConfigForConverter.py -i {os.path.join(os.getcwd(),'Proteasome/in_vivo/validation/ready_validation_invivo.csv')} -o {os.path.join(os.getcwd(),'Proteasome/in_vivo/sdf')} -c peptide -u -t 10 {path_to_config}\"\n",
    "os.system(command)\n",
    "print(\"Convertation\")\n",
    "convert_command = f\"python tools/SeqToSDF.py {path_to_config}\"\n",
    "os.system(convert_command)"
   ],
   "metadata": {
    "collapsed": false,
    "ExecuteTime": {
     "end_time": "2023-05-13T22:24:47.412853081Z",
     "start_time": "2023-05-13T22:24:40.477173573Z"
    }
   }
  },
  {
   "cell_type": "code",
   "execution_count": 23,
   "outputs": [],
   "source": [
    "%%bash\n",
    "cd /home/stotoshka/Documents/ANGEL_dev\n",
    "rm Proteasome/in_vivo/sdf/*.txt"
   ],
   "metadata": {
    "collapsed": false,
    "ExecuteTime": {
     "end_time": "2023-05-13T22:24:47.414405036Z",
     "start_time": "2023-05-13T22:24:47.413502410Z"
    }
   }
  },
  {
   "cell_type": "code",
   "execution_count": 33,
   "outputs": [
    {
     "name": "stderr",
     "output_type": "stream",
     "text": [
      "/home/stotoshka/Soft/anaconda3/envs/research/lib/python3.9/site-packages/openpyxl/worksheet/_read_only.py:79: UserWarning: Unknown extension is not supported and will be removed\n",
      "  for idx, row in parser.parse():\n"
     ]
    },
    {
     "data": {
      "text/plain": "   Intensity Mel-12_HLA-I (arbitrary units)  \\\n0                                       NaN   \n1                                       NaN   \n2                                       NaN   \n3                                       NaN   \n4                                       NaN   \n\n   Intensity Mel-12_HLA-II (arbitrary units)  \\\n0                                        NaN   \n1                                        NaN   \n2                                        NaN   \n3                                        NaN   \n4                                        NaN   \n\n   Intensity Mel-15_HLA-I (arbitrary units)  \\\n0                                       NaN   \n1                                  29.10722   \n2                                       NaN   \n3                                       NaN   \n4                                       NaN   \n\n   Intensity Mel-15_HLA-II (arbitrary units)  \\\n0                                        NaN   \n1                                        NaN   \n2                                        NaN   \n3                                        NaN   \n4                                        NaN   \n\n   Intensity Mel-16_HLA-I (arbitrary units)  \\\n0                                       NaN   \n1                                       NaN   \n2                                       NaN   \n3                                       NaN   \n4                                       NaN   \n\n   Intensity Mel-16_HLA-II (arbitrary units)  \\\n0                                        NaN   \n1                                        NaN   \n2                                        NaN   \n3                                        NaN   \n4                                        NaN   \n\n   Intensity Mel-20_HLA-I (arbitrary units)  \\\n0                                       NaN   \n1                                       NaN   \n2                                       NaN   \n3                                       NaN   \n4                                       NaN   \n\n   Intensity Mel-20_HLA-II (arbitrary units)  \\\n0                                        NaN   \n1                                        NaN   \n2                                        NaN   \n3                                        NaN   \n4                                        NaN   \n\n   Intensity Mel-21_HLA-I (arbitrary units)  \\\n0                                       NaN   \n1                                       NaN   \n2                                       NaN   \n3                                       NaN   \n4                                       NaN   \n\n   Intensity Mel-21_HLA-II (arbitrary units)  ...  Start position  \\\n0                                        NaN  ...           152.0   \n1                                        NaN  ...           171.0   \n2                                        NaN  ...             7.0   \n3                                        NaN  ...             4.0   \n4                                        NaN  ...           403.0   \n\n   End position     Sequence  \\\n0         160.0    AAAAAAAAK   \n1         179.0    AAAAAAAAR   \n2          17.0  AAAAAAAQSVY   \n3          14.0  AAAAAAAVGVR   \n4         413.0  AAAAAAAVVAY   \n\n                                            Proteins  \\\n0  Q9NRF2;P50914;E7ENM0;E7EN65;P15502-5;P15502-2;...   \n1  Q504T8;Q9Y651;J9JIF5;P43694;P43694-2;A0A075B73...   \n2                                    P07203;P07203-2   \n3                                    Q9NRU3;Q9NRU3-2   \n4                                      Q04724;Q5T7A9   \n\n                         Gene Names  \\\n0              SH2B1;RPL14;ELN;HMX3   \n1  MIDN;SOX21;CXXC4;GATA4;EPPK1;ID4   \n2                              GPX1   \n3                             CNNM1   \n4                              TLE1   \n\n                                       Protein Names  id  Peptide ID  \\\n0  SH2B adapter protein 1;60S ribosomal protein L...   0           0   \n1  Midnolin;Transcription factor SOX-21;Transcrip...   1           1   \n2                           Glutathione peroxidase 1   2           2   \n3                            Metal transporter CNNM1   3           3   \n4                 Transducin-like enhancer protein 1   4           4   \n\n                       Evidence IDs  Phospho (STY) site IDs  \n0                                 0                     NaN  \n1  1;2;3;4;5;6;7;8;9;10;11;12;13;14                     NaN  \n2                                15                     NaN  \n3                             16;17                     NaN  \n4                             18;19                     NaN  \n\n[5 rows x 64 columns]",
      "text/html": "<div>\n<style scoped>\n    .dataframe tbody tr th:only-of-type {\n        vertical-align: middle;\n    }\n\n    .dataframe tbody tr th {\n        vertical-align: top;\n    }\n\n    .dataframe thead th {\n        text-align: right;\n    }\n</style>\n<table border=\"1\" class=\"dataframe\">\n  <thead>\n    <tr style=\"text-align: right;\">\n      <th></th>\n      <th>Intensity Mel-12_HLA-I (arbitrary units)</th>\n      <th>Intensity Mel-12_HLA-II (arbitrary units)</th>\n      <th>Intensity Mel-15_HLA-I (arbitrary units)</th>\n      <th>Intensity Mel-15_HLA-II (arbitrary units)</th>\n      <th>Intensity Mel-16_HLA-I (arbitrary units)</th>\n      <th>Intensity Mel-16_HLA-II (arbitrary units)</th>\n      <th>Intensity Mel-20_HLA-I (arbitrary units)</th>\n      <th>Intensity Mel-20_HLA-II (arbitrary units)</th>\n      <th>Intensity Mel-21_HLA-I (arbitrary units)</th>\n      <th>Intensity Mel-21_HLA-II (arbitrary units)</th>\n      <th>...</th>\n      <th>Start position</th>\n      <th>End position</th>\n      <th>Sequence</th>\n      <th>Proteins</th>\n      <th>Gene Names</th>\n      <th>Protein Names</th>\n      <th>id</th>\n      <th>Peptide ID</th>\n      <th>Evidence IDs</th>\n      <th>Phospho (STY) site IDs</th>\n    </tr>\n  </thead>\n  <tbody>\n    <tr>\n      <th>0</th>\n      <td>NaN</td>\n      <td>NaN</td>\n      <td>NaN</td>\n      <td>NaN</td>\n      <td>NaN</td>\n      <td>NaN</td>\n      <td>NaN</td>\n      <td>NaN</td>\n      <td>NaN</td>\n      <td>NaN</td>\n      <td>...</td>\n      <td>152.0</td>\n      <td>160.0</td>\n      <td>AAAAAAAAK</td>\n      <td>Q9NRF2;P50914;E7ENM0;E7EN65;P15502-5;P15502-2;...</td>\n      <td>SH2B1;RPL14;ELN;HMX3</td>\n      <td>SH2B adapter protein 1;60S ribosomal protein L...</td>\n      <td>0</td>\n      <td>0</td>\n      <td>0</td>\n      <td>NaN</td>\n    </tr>\n    <tr>\n      <th>1</th>\n      <td>NaN</td>\n      <td>NaN</td>\n      <td>29.10722</td>\n      <td>NaN</td>\n      <td>NaN</td>\n      <td>NaN</td>\n      <td>NaN</td>\n      <td>NaN</td>\n      <td>NaN</td>\n      <td>NaN</td>\n      <td>...</td>\n      <td>171.0</td>\n      <td>179.0</td>\n      <td>AAAAAAAAR</td>\n      <td>Q504T8;Q9Y651;J9JIF5;P43694;P43694-2;A0A075B73...</td>\n      <td>MIDN;SOX21;CXXC4;GATA4;EPPK1;ID4</td>\n      <td>Midnolin;Transcription factor SOX-21;Transcrip...</td>\n      <td>1</td>\n      <td>1</td>\n      <td>1;2;3;4;5;6;7;8;9;10;11;12;13;14</td>\n      <td>NaN</td>\n    </tr>\n    <tr>\n      <th>2</th>\n      <td>NaN</td>\n      <td>NaN</td>\n      <td>NaN</td>\n      <td>NaN</td>\n      <td>NaN</td>\n      <td>NaN</td>\n      <td>NaN</td>\n      <td>NaN</td>\n      <td>NaN</td>\n      <td>NaN</td>\n      <td>...</td>\n      <td>7.0</td>\n      <td>17.0</td>\n      <td>AAAAAAAQSVY</td>\n      <td>P07203;P07203-2</td>\n      <td>GPX1</td>\n      <td>Glutathione peroxidase 1</td>\n      <td>2</td>\n      <td>2</td>\n      <td>15</td>\n      <td>NaN</td>\n    </tr>\n    <tr>\n      <th>3</th>\n      <td>NaN</td>\n      <td>NaN</td>\n      <td>NaN</td>\n      <td>NaN</td>\n      <td>NaN</td>\n      <td>NaN</td>\n      <td>NaN</td>\n      <td>NaN</td>\n      <td>NaN</td>\n      <td>NaN</td>\n      <td>...</td>\n      <td>4.0</td>\n      <td>14.0</td>\n      <td>AAAAAAAVGVR</td>\n      <td>Q9NRU3;Q9NRU3-2</td>\n      <td>CNNM1</td>\n      <td>Metal transporter CNNM1</td>\n      <td>3</td>\n      <td>3</td>\n      <td>16;17</td>\n      <td>NaN</td>\n    </tr>\n    <tr>\n      <th>4</th>\n      <td>NaN</td>\n      <td>NaN</td>\n      <td>NaN</td>\n      <td>NaN</td>\n      <td>NaN</td>\n      <td>NaN</td>\n      <td>NaN</td>\n      <td>NaN</td>\n      <td>NaN</td>\n      <td>NaN</td>\n      <td>...</td>\n      <td>403.0</td>\n      <td>413.0</td>\n      <td>AAAAAAAVVAY</td>\n      <td>Q04724;Q5T7A9</td>\n      <td>TLE1</td>\n      <td>Transducin-like enhancer protein 1</td>\n      <td>4</td>\n      <td>4</td>\n      <td>18;19</td>\n      <td>NaN</td>\n    </tr>\n  </tbody>\n</table>\n<p>5 rows × 64 columns</p>\n</div>"
     },
     "execution_count": 33,
     "metadata": {},
     "output_type": "execute_result"
    }
   ],
   "source": [
    "cancer_validation = pd.read_excel(\"Proteasome/data/raw/pepsickle_validation_invivo.xlsx\",header=1)\n",
    "cancer_validation.head()"
   ],
   "metadata": {
    "collapsed": false,
    "ExecuteTime": {
     "end_time": "2023-05-14T19:51:06.820919541Z",
     "start_time": "2023-05-14T19:50:48.270906777Z"
    }
   }
  },
  {
   "cell_type": "code",
   "execution_count": 34,
   "outputs": [
    {
     "data": {
      "text/plain": "(99355, 64)"
     },
     "execution_count": 34,
     "metadata": {},
     "output_type": "execute_result"
    }
   ],
   "source": [
    "cancer_validation.shape"
   ],
   "metadata": {
    "collapsed": false,
    "ExecuteTime": {
     "end_time": "2023-05-14T19:51:06.895188446Z",
     "start_time": "2023-05-14T19:51:06.821902959Z"
    }
   }
  },
  {
   "cell_type": "code",
   "execution_count": 35,
   "outputs": [],
   "source": [
    "# pull out class I columns\n",
    "class_I_columns = []\n",
    "for i in range(len(cancer_validation.columns)):\n",
    "    col = cancer_validation.columns[i]\n",
    "    if \"_HLA-I \" in col:\n",
    "        class_I_columns.append(i)\n",
    "\n",
    "# subset fragments presented on HLA class-I\n",
    "total_class_I_intensity = cancer_validation[cancer_validation.columns[class_I_columns]].sum(axis=1)\n",
    "cancer_validation = cancer_validation[total_class_I_intensity > 0]"
   ],
   "metadata": {
    "collapsed": false,
    "ExecuteTime": {
     "end_time": "2023-05-14T19:51:06.895425494Z",
     "start_time": "2023-05-14T19:51:06.865868381Z"
    }
   }
  },
  {
   "cell_type": "code",
   "execution_count": 36,
   "outputs": [
    {
     "data": {
      "text/plain": "[0,\n 2,\n 4,\n 6,\n 8,\n 10,\n 12,\n 14,\n 16,\n 18,\n 20,\n 22,\n 23,\n 25,\n 27,\n 29,\n 31,\n 33,\n 35,\n 37,\n 38,\n 40,\n 42,\n 44,\n 45]"
     },
     "execution_count": 36,
     "metadata": {},
     "output_type": "execute_result"
    }
   ],
   "source": [
    "class_I_columns"
   ],
   "metadata": {
    "collapsed": false,
    "ExecuteTime": {
     "end_time": "2023-05-14T19:51:06.895678431Z",
     "start_time": "2023-05-14T19:51:06.866168574Z"
    }
   }
  },
  {
   "cell_type": "code",
   "execution_count": 37,
   "outputs": [
    {
     "data": {
      "text/plain": "(82411, 64)"
     },
     "execution_count": 37,
     "metadata": {},
     "output_type": "execute_result"
    }
   ],
   "source": [
    "cancer_validation.shape"
   ],
   "metadata": {
    "collapsed": false,
    "ExecuteTime": {
     "end_time": "2023-05-14T19:51:06.895853116Z",
     "start_time": "2023-05-14T19:51:06.866444977Z"
    }
   }
  },
  {
   "cell_type": "code",
   "execution_count": 38,
   "outputs": [
    {
     "data": {
      "text/plain": "(77075, 64)"
     },
     "execution_count": 38,
     "metadata": {},
     "output_type": "execute_result"
    }
   ],
   "source": [
    "cancer_validation = cancer_validation[cancer_validation[\"Modifications\"] == \"Unmodified\"]\n",
    "cancer_validation.shape"
   ],
   "metadata": {
    "collapsed": false,
    "ExecuteTime": {
     "end_time": "2023-05-14T19:52:47.202511805Z",
     "start_time": "2023-05-14T19:52:47.159081159Z"
    }
   }
  },
  {
   "cell_type": "code",
   "execution_count": 27,
   "outputs": [
    {
     "data": {
      "text/plain": "   Intensity Mel-12_HLA-I (arbitrary units)  \\\n0                                       NaN   \n1                                       NaN   \n2                                       NaN   \n3                                       NaN   \n4                                       NaN   \n\n   Intensity Mel-12_HLA-II (arbitrary units)  \\\n0                                        NaN   \n1                                        NaN   \n2                                        NaN   \n3                                        NaN   \n4                                        NaN   \n\n   Intensity Mel-15_HLA-I (arbitrary units)  \\\n0                                       NaN   \n1                                       NaN   \n2                                  31.71313   \n3                                       NaN   \n4                                  28.98066   \n\n   Intensity Mel-15_HLA-II (arbitrary units)  \\\n0                                        NaN   \n1                                        NaN   \n2                                        NaN   \n3                                        NaN   \n4                                        NaN   \n\n   Intensity Mel-16_HLA-I (arbitrary units)  \\\n0                                       NaN   \n1                                       NaN   \n2                                       NaN   \n3                                       NaN   \n4                                       NaN   \n\n   Intensity Mel-16_HLA-II (arbitrary units)  \\\n0                                        NaN   \n1                                        NaN   \n2                                        NaN   \n3                                        NaN   \n4                                        NaN   \n\n   Intensity Mel-20_HLA-I (arbitrary units)  \\\n0                                       NaN   \n1                                       NaN   \n2                                       NaN   \n3                                       NaN   \n4                                       NaN   \n\n   Intensity Mel-20_HLA-II (arbitrary units)  \\\n0                                        NaN   \n1                                        NaN   \n2                                        NaN   \n3                                        NaN   \n4                                        NaN   \n\n   Intensity Mel-21_HLA-I (arbitrary units)  \\\n0                                       NaN   \n1                                       NaN   \n2                                       NaN   \n3                                       NaN   \n4                                       NaN   \n\n   Intensity Mel-21_HLA-II (arbitrary units)  ...     Sequence  \\\n0                                        NaN  ...  AAAAAAAVGVR   \n1                                        NaN  ...    AAAAAEALA   \n2                                        NaN  ...    AAAARPGPR   \n3                                        NaN  ...    AAAATPAAA   \n4                                        NaN  ...   AAASTATVPR   \n\n          Proteins  Gene Names                               Protein Names  \\\n0  Q9NRU3;Q9NRU3-2       CNNM1                     Metal transporter CNNM1   \n1           P22083        FUT4            Alpha-(1,3)-fucosyltransferase 4   \n2           Q495Z4   ASB16-AS1  Putative uncharacterized protein ASB16-AS1   \n3           F8WEG7         SF1                                         NaN   \n4           F8WEG7         SF1                                         NaN   \n\n   id_x  Peptide ID                                       Evidence IDs  \\\n0     3           3                                              16;17   \n1     7           7                                              49;50   \n2    33          32  331;332;333;334;335;336;337;338;339;340;341;34...   \n3    34          33                                    345;346;347;348   \n4   124         122  1198;1199;1200;1201;1202;1203;1204;1205;1206;1...   \n\n   Phospho (STY) site IDs             id_y  \\\n0                     NaN  Q9NRU3;Q9NRU3-2   \n1                     NaN           P22083   \n2                     NaN           Q495Z4   \n3                     NaN           F8WEG7   \n4                     NaN           F8WEG7   \n\n                                        ref_sequence  \n0  MAAAAAAAAAVGVRLRDCCSRGAVLLLFFSLSPRPPAAAAWLLGLR...  \n1  MRRLWGAARKPSGAGWEKEWAEAPQEAPGAWSGRLGPGRSGRKGRA...  \n2  MSGPPSAPQGALAAPRSPAVRRKGLQAPSWGSPGRPAAHSPWACGP...  \n3  MATGANATPLAAAASTATVPRRLVPAAAAAPSAAALPARVAAAAAA...  \n4  MATGANATPLAAAASTATVPRRLVPAAAAAPSAAALPARVAAAAAA...  \n\n[5 rows x 66 columns]",
      "text/html": "<div>\n<style scoped>\n    .dataframe tbody tr th:only-of-type {\n        vertical-align: middle;\n    }\n\n    .dataframe tbody tr th {\n        vertical-align: top;\n    }\n\n    .dataframe thead th {\n        text-align: right;\n    }\n</style>\n<table border=\"1\" class=\"dataframe\">\n  <thead>\n    <tr style=\"text-align: right;\">\n      <th></th>\n      <th>Intensity Mel-12_HLA-I (arbitrary units)</th>\n      <th>Intensity Mel-12_HLA-II (arbitrary units)</th>\n      <th>Intensity Mel-15_HLA-I (arbitrary units)</th>\n      <th>Intensity Mel-15_HLA-II (arbitrary units)</th>\n      <th>Intensity Mel-16_HLA-I (arbitrary units)</th>\n      <th>Intensity Mel-16_HLA-II (arbitrary units)</th>\n      <th>Intensity Mel-20_HLA-I (arbitrary units)</th>\n      <th>Intensity Mel-20_HLA-II (arbitrary units)</th>\n      <th>Intensity Mel-21_HLA-I (arbitrary units)</th>\n      <th>Intensity Mel-21_HLA-II (arbitrary units)</th>\n      <th>...</th>\n      <th>Sequence</th>\n      <th>Proteins</th>\n      <th>Gene Names</th>\n      <th>Protein Names</th>\n      <th>id_x</th>\n      <th>Peptide ID</th>\n      <th>Evidence IDs</th>\n      <th>Phospho (STY) site IDs</th>\n      <th>id_y</th>\n      <th>ref_sequence</th>\n    </tr>\n  </thead>\n  <tbody>\n    <tr>\n      <th>0</th>\n      <td>NaN</td>\n      <td>NaN</td>\n      <td>NaN</td>\n      <td>NaN</td>\n      <td>NaN</td>\n      <td>NaN</td>\n      <td>NaN</td>\n      <td>NaN</td>\n      <td>NaN</td>\n      <td>NaN</td>\n      <td>...</td>\n      <td>AAAAAAAVGVR</td>\n      <td>Q9NRU3;Q9NRU3-2</td>\n      <td>CNNM1</td>\n      <td>Metal transporter CNNM1</td>\n      <td>3</td>\n      <td>3</td>\n      <td>16;17</td>\n      <td>NaN</td>\n      <td>Q9NRU3;Q9NRU3-2</td>\n      <td>MAAAAAAAAAVGVRLRDCCSRGAVLLLFFSLSPRPPAAAAWLLGLR...</td>\n    </tr>\n    <tr>\n      <th>1</th>\n      <td>NaN</td>\n      <td>NaN</td>\n      <td>NaN</td>\n      <td>NaN</td>\n      <td>NaN</td>\n      <td>NaN</td>\n      <td>NaN</td>\n      <td>NaN</td>\n      <td>NaN</td>\n      <td>NaN</td>\n      <td>...</td>\n      <td>AAAAAEALA</td>\n      <td>P22083</td>\n      <td>FUT4</td>\n      <td>Alpha-(1,3)-fucosyltransferase 4</td>\n      <td>7</td>\n      <td>7</td>\n      <td>49;50</td>\n      <td>NaN</td>\n      <td>P22083</td>\n      <td>MRRLWGAARKPSGAGWEKEWAEAPQEAPGAWSGRLGPGRSGRKGRA...</td>\n    </tr>\n    <tr>\n      <th>2</th>\n      <td>NaN</td>\n      <td>NaN</td>\n      <td>31.71313</td>\n      <td>NaN</td>\n      <td>NaN</td>\n      <td>NaN</td>\n      <td>NaN</td>\n      <td>NaN</td>\n      <td>NaN</td>\n      <td>NaN</td>\n      <td>...</td>\n      <td>AAAARPGPR</td>\n      <td>Q495Z4</td>\n      <td>ASB16-AS1</td>\n      <td>Putative uncharacterized protein ASB16-AS1</td>\n      <td>33</td>\n      <td>32</td>\n      <td>331;332;333;334;335;336;337;338;339;340;341;34...</td>\n      <td>NaN</td>\n      <td>Q495Z4</td>\n      <td>MSGPPSAPQGALAAPRSPAVRRKGLQAPSWGSPGRPAAHSPWACGP...</td>\n    </tr>\n    <tr>\n      <th>3</th>\n      <td>NaN</td>\n      <td>NaN</td>\n      <td>NaN</td>\n      <td>NaN</td>\n      <td>NaN</td>\n      <td>NaN</td>\n      <td>NaN</td>\n      <td>NaN</td>\n      <td>NaN</td>\n      <td>NaN</td>\n      <td>...</td>\n      <td>AAAATPAAA</td>\n      <td>F8WEG7</td>\n      <td>SF1</td>\n      <td>NaN</td>\n      <td>34</td>\n      <td>33</td>\n      <td>345;346;347;348</td>\n      <td>NaN</td>\n      <td>F8WEG7</td>\n      <td>MATGANATPLAAAASTATVPRRLVPAAAAAPSAAALPARVAAAAAA...</td>\n    </tr>\n    <tr>\n      <th>4</th>\n      <td>NaN</td>\n      <td>NaN</td>\n      <td>28.98066</td>\n      <td>NaN</td>\n      <td>NaN</td>\n      <td>NaN</td>\n      <td>NaN</td>\n      <td>NaN</td>\n      <td>NaN</td>\n      <td>NaN</td>\n      <td>...</td>\n      <td>AAASTATVPR</td>\n      <td>F8WEG7</td>\n      <td>SF1</td>\n      <td>NaN</td>\n      <td>124</td>\n      <td>122</td>\n      <td>1198;1199;1200;1201;1202;1203;1204;1205;1206;1...</td>\n      <td>NaN</td>\n      <td>F8WEG7</td>\n      <td>MATGANATPLAAAASTATVPRRLVPAAAAAPSAAALPARVAAAAAA...</td>\n    </tr>\n  </tbody>\n</table>\n<p>5 rows × 66 columns</p>\n</div>"
     },
     "execution_count": 27,
     "metadata": {},
     "output_type": "execute_result"
    }
   ],
   "source": [
    "with_ref = pd.read_excel(\"Proteasome/in_vivo/validation/with_ref_val.xlsx\")\n",
    "with_ref.head()"
   ],
   "metadata": {
    "collapsed": false,
    "ExecuteTime": {
     "end_time": "2023-05-14T19:47:20.971737035Z",
     "start_time": "2023-05-14T19:47:07.988401911Z"
    }
   }
  },
  {
   "cell_type": "code",
   "execution_count": 39,
   "outputs": [
    {
     "data": {
      "text/plain": "12202"
     },
     "execution_count": 39,
     "metadata": {},
     "output_type": "execute_result"
    }
   ],
   "source": [
    "len(with_ref[\"Proteins\"].unique())"
   ],
   "metadata": {
    "collapsed": false,
    "ExecuteTime": {
     "end_time": "2023-05-14T19:57:38.820280217Z",
     "start_time": "2023-05-14T19:57:38.775553013Z"
    }
   }
  },
  {
   "cell_type": "code",
   "execution_count": null,
   "outputs": [],
   "source": [],
   "metadata": {
    "collapsed": false
   }
  },
  {
   "cell_type": "code",
   "execution_count": null,
   "outputs": [],
   "source": [
    "for i in cancer_validation.index:\n",
    "\tif"
   ],
   "metadata": {
    "collapsed": false
   }
  },
  {
   "cell_type": "code",
   "execution_count": null,
   "outputs": [],
   "source": [
    "cancer_validation = pd.read_excel(\"Proteasome/in_vivo/validation/pepsickle_validation.xlsx\")\n",
    "print(virus_validation.shape)\n",
    "virus_validation = virus_validation[virus_validation[\"HLA I restriction\"].str.contains(\"HLA\")]\n",
    "virus_validation = virus_validation[virus_validation[\"CD8 T cell epitope\"].apply(isCorrectSequence)]\n",
    "virus_validation = virus_validation[virus_validation[\"ref_sequence\"].apply(isCorrectSequence)]\n",
    "virus_validation = virus_validation[~virus_validation[\"CD8 T cell epitope\"].isin(train_invivo[\"linear_peptide_seq\"])]\n",
    "virus_validation = virus_validation[~virus_validation[\"ref_sequence\"].isin(train_invivo[\"sequence\"])]\n",
    "virus_validation.reset_index(drop=True,inplace=True)\n",
    "print(virus_validation.shape)\n",
    "virus_validation.head()"
   ],
   "metadata": {
    "collapsed": false
   }
  },
  {
   "cell_type": "code",
   "execution_count": null,
   "outputs": [],
   "source": [],
   "metadata": {
    "collapsed": false
   }
  },
  {
   "cell_type": "code",
   "execution_count": null,
   "outputs": [],
   "source": [],
   "metadata": {
    "collapsed": false
   }
  },
  {
   "cell_type": "code",
   "execution_count": 3,
   "outputs": [],
   "source": [
    "%%bash\n",
    "cd /home/stotoshka/Documents/ANGEL_dev\n",
    "cp /media/stotoshka/22DC267FDC264D7B/Users/Антон/Desktop/diplom/invivo_val/models/total* Proteasome/in_vivo/results/validation/models/\n",
    "cp /media/stotoshka/22DC267FDC264D7B/Users/Антон/Desktop/diplom/invivo_val/results/ready_validation* Proteasome/in_vivo/results/validation/results"
   ],
   "metadata": {
    "collapsed": false,
    "ExecuteTime": {
     "end_time": "2023-05-14T21:08:15.449710037Z",
     "start_time": "2023-05-14T21:08:14.428952803Z"
    }
   }
  },
  {
   "cell_type": "code",
   "execution_count": 4,
   "outputs": [],
   "source": [
    "path = f\"Proteasome/in_vivo/results/validation/models/total_invivo_3_9_CRV.LOG\"\n",
    "header = \"No\t Check\t Group\t Number\t IAP\t 20-Fold\t Activity\"\n",
    "tbl = pd.DataFrame(columns=[\"model_name\",\"window\", \"descriptor_level\", \"iap\", \"twentyCV\", \"activity\", \"num_subst\"])\n",
    "with open(path, \"r\", encoding='cp1252') as f:\n",
    "    split_name = re.split(\"_\", os.path.splitext(os.path.basename(path))[0])\n",
    "    model_name = split_name[1]\n",
    "    window = split_name[2]\n",
    "    level = split_name[3]\n",
    "    lines = f.readlines()\n",
    "    flag = False\n",
    "    for line in lines:\n",
    "        if header in line:\n",
    "            flag = True\n",
    "            continue\n",
    "        if line == \"\\n\" and flag:\n",
    "            break\n",
    "        if flag:\n",
    "            components = re.split(\"\\t\\\\s+\", line)\n",
    "            num_subst = components[2]\n",
    "            iap = components[3]\n",
    "            twentyCV = components[4]\n",
    "            activity = components[5].strip()\n",
    "            row = pd.DataFrame.from_dict({\"model_name\": [model_name],\n",
    "                                          \"window\":[int(window)],\n",
    "                                          \"descriptor_level\": [int(level)],\n",
    "                                          \"num_subst\": [int(num_subst)],\n",
    "                                          \"iap\": [float(iap.replace(\",\", \".\"))],\n",
    "                                          \"twentyCV\": [float(twentyCV.replace(\",\", \".\"))],\n",
    "                                          \"activity\": [int(activity)]})\n",
    "            tbl = pd.concat([tbl, row], ignore_index=True)\n",
    "    if not flag:\n",
    "        print(f\"total not any predictable activity\")\n",
    "tbl.to_excel(\"Proteasome/in_vivo/results/validation/internal.xlsx\", index = False)"
   ],
   "metadata": {
    "collapsed": false,
    "ExecuteTime": {
     "end_time": "2023-05-14T21:11:09.790968980Z",
     "start_time": "2023-05-14T21:11:09.743289114Z"
    }
   }
  },
  {
   "cell_type": "code",
   "execution_count": 5,
   "outputs": [
    {
     "data": {
      "text/plain": "  model_name window descriptor_level     iap  twentyCV activity num_subst\n0     invivo      3                9  0.8877    0.8872        1    271548\n1     invivo      3                9  0.8799    0.8794        0    282171",
      "text/html": "<div>\n<style scoped>\n    .dataframe tbody tr th:only-of-type {\n        vertical-align: middle;\n    }\n\n    .dataframe tbody tr th {\n        vertical-align: top;\n    }\n\n    .dataframe thead th {\n        text-align: right;\n    }\n</style>\n<table border=\"1\" class=\"dataframe\">\n  <thead>\n    <tr style=\"text-align: right;\">\n      <th></th>\n      <th>model_name</th>\n      <th>window</th>\n      <th>descriptor_level</th>\n      <th>iap</th>\n      <th>twentyCV</th>\n      <th>activity</th>\n      <th>num_subst</th>\n    </tr>\n  </thead>\n  <tbody>\n    <tr>\n      <th>0</th>\n      <td>invivo</td>\n      <td>3</td>\n      <td>9</td>\n      <td>0.8877</td>\n      <td>0.8872</td>\n      <td>1</td>\n      <td>271548</td>\n    </tr>\n    <tr>\n      <th>1</th>\n      <td>invivo</td>\n      <td>3</td>\n      <td>9</td>\n      <td>0.8799</td>\n      <td>0.8794</td>\n      <td>0</td>\n      <td>282171</td>\n    </tr>\n  </tbody>\n</table>\n</div>"
     },
     "execution_count": 5,
     "metadata": {},
     "output_type": "execute_result"
    }
   ],
   "source": [
    "tbl"
   ],
   "metadata": {
    "collapsed": false,
    "ExecuteTime": {
     "end_time": "2023-05-14T21:11:18.043971530Z",
     "start_time": "2023-05-14T21:11:18.014775323Z"
    }
   }
  },
  {
   "cell_type": "code",
   "execution_count": 16,
   "outputs": [],
   "source": [
    "def deconvoluteTrue(X):\n",
    "    seqs = list(X[\"substrate\"].unique())\n",
    "    for i in X.index:\n",
    "        finded_start = X.loc[i, \"substrate\"].find(X.loc[i, \"fragment\"])\n",
    "        X.loc[i, \"end\"] = finded_start + len(X.loc[i, \"fragment\"]) - 1  # сайт левее найденной позиции (C-конец)\n",
    "    result = pd.DataFrame(columns=[\"residue\", \"sequence\", \"activity\"])\n",
    "    k = 0\n",
    "    for s in seqs:\n",
    "        subset = X.query(\"substrate == @s\").reset_index(drop=True)\n",
    "        end = list(subset['end'])\n",
    "        for i in range(0, len(s)):\n",
    "            result.loc[k] = [s[i], s, int(i in end)]\n",
    "            k += 1\n",
    "    print(result.activity.value_counts())\n",
    "    return result"
   ],
   "metadata": {
    "collapsed": false,
    "ExecuteTime": {
     "end_time": "2023-05-15T17:28:18.233703359Z",
     "start_time": "2023-05-15T17:28:18.227130172Z"
    }
   }
  },
  {
   "cell_type": "code",
   "execution_count": 8,
   "outputs": [
    {
     "data": {
      "text/plain": "   peptide sequence                  full_sequence  activity\n0  SWIRSQE  SWIRSQE  SWIRSQEEESLIGLNGLSLGGYIASLVAS         0\n1  WIRSQEE  WIRSQEE  SWIRSQEEESLIGLNGLSLGGYIASLVAS         0\n2  IRSQEEE  IRSQEEE  SWIRSQEEESLIGLNGLSLGGYIASLVAS         0\n3  RSQEEES  RSQEEES  SWIRSQEEESLIGLNGLSLGGYIASLVAS         0\n4  SQEEESL  SQEEESL  SWIRSQEEESLIGLNGLSLGGYIASLVAS         0",
      "text/html": "<div>\n<style scoped>\n    .dataframe tbody tr th:only-of-type {\n        vertical-align: middle;\n    }\n\n    .dataframe tbody tr th {\n        vertical-align: top;\n    }\n\n    .dataframe thead th {\n        text-align: right;\n    }\n</style>\n<table border=\"1\" class=\"dataframe\">\n  <thead>\n    <tr style=\"text-align: right;\">\n      <th></th>\n      <th>peptide</th>\n      <th>sequence</th>\n      <th>full_sequence</th>\n      <th>activity</th>\n    </tr>\n  </thead>\n  <tbody>\n    <tr>\n      <th>0</th>\n      <td>SWIRSQE</td>\n      <td>SWIRSQE</td>\n      <td>SWIRSQEEESLIGLNGLSLGGYIASLVAS</td>\n      <td>0</td>\n    </tr>\n    <tr>\n      <th>1</th>\n      <td>WIRSQEE</td>\n      <td>WIRSQEE</td>\n      <td>SWIRSQEEESLIGLNGLSLGGYIASLVAS</td>\n      <td>0</td>\n    </tr>\n    <tr>\n      <th>2</th>\n      <td>IRSQEEE</td>\n      <td>IRSQEEE</td>\n      <td>SWIRSQEEESLIGLNGLSLGGYIASLVAS</td>\n      <td>0</td>\n    </tr>\n    <tr>\n      <th>3</th>\n      <td>RSQEEES</td>\n      <td>RSQEEES</td>\n      <td>SWIRSQEEESLIGLNGLSLGGYIASLVAS</td>\n      <td>0</td>\n    </tr>\n    <tr>\n      <th>4</th>\n      <td>SQEEESL</td>\n      <td>SQEEESL</td>\n      <td>SWIRSQEEESLIGLNGLSLGGYIASLVAS</td>\n      <td>0</td>\n    </tr>\n  </tbody>\n</table>\n</div>"
     },
     "execution_count": 8,
     "metadata": {},
     "output_type": "execute_result"
    }
   ],
   "source": [
    "sample = pd.read_csv(\"Proteasome/in_vivo/validation/ready_validation_invivo.csv\",sep = \";\")\n",
    "sample.head()"
   ],
   "metadata": {
    "collapsed": false,
    "ExecuteTime": {
     "end_time": "2023-05-15T17:27:22.378515631Z",
     "start_time": "2023-05-15T17:27:22.331930998Z"
    }
   }
  },
  {
   "cell_type": "code",
   "execution_count": 9,
   "outputs": [
    {
     "data": {
      "text/plain": "  sequence       1       0\n0  SWIRSQE  0.1577 -0.1804\n1  WIRSQEE -0.2734  0.2672\n2  IRSQEEE -0.1961  0.1932\n3  RSQEEES -0.8568  0.8535\n4  SQEEESL -0.4563  0.4588",
      "text/html": "<div>\n<style scoped>\n    .dataframe tbody tr th:only-of-type {\n        vertical-align: middle;\n    }\n\n    .dataframe tbody tr th {\n        vertical-align: top;\n    }\n\n    .dataframe thead th {\n        text-align: right;\n    }\n</style>\n<table border=\"1\" class=\"dataframe\">\n  <thead>\n    <tr style=\"text-align: right;\">\n      <th></th>\n      <th>sequence</th>\n      <th>1</th>\n      <th>0</th>\n    </tr>\n  </thead>\n  <tbody>\n    <tr>\n      <th>0</th>\n      <td>SWIRSQE</td>\n      <td>0.1577</td>\n      <td>-0.1804</td>\n    </tr>\n    <tr>\n      <th>1</th>\n      <td>WIRSQEE</td>\n      <td>-0.2734</td>\n      <td>0.2672</td>\n    </tr>\n    <tr>\n      <th>2</th>\n      <td>IRSQEEE</td>\n      <td>-0.1961</td>\n      <td>0.1932</td>\n    </tr>\n    <tr>\n      <th>3</th>\n      <td>RSQEEES</td>\n      <td>-0.8568</td>\n      <td>0.8535</td>\n    </tr>\n    <tr>\n      <th>4</th>\n      <td>SQEEESL</td>\n      <td>-0.4563</td>\n      <td>0.4588</td>\n    </tr>\n  </tbody>\n</table>\n</div>"
     },
     "execution_count": 9,
     "metadata": {},
     "output_type": "execute_result"
    }
   ],
   "source": [
    "prediction = pd.read_csv(\"Proteasome/in_vivo/results/validation/results/ready_validation_invivo (total_invivo_3_9).CSV\",sep = \";\", header = 4,decimal=\",\")\n",
    "prediction = prediction.drop(columns=[\"Substructure Descriptors\", \"New Descriptors\", \"Possible Activities at Pa > Pi\"])\n",
    "prediction = prediction.rename(columns={\"<sequence>\":\"sequence\"})\n",
    "prediction.head()"
   ],
   "metadata": {
    "collapsed": false,
    "ExecuteTime": {
     "end_time": "2023-05-15T17:27:23.054864826Z",
     "start_time": "2023-05-15T17:27:23.026587841Z"
    }
   }
  },
  {
   "cell_type": "code",
   "execution_count": 10,
   "outputs": [
    {
     "name": "stdout",
     "output_type": "stream",
     "text": [
      "15893\n",
      "15893\n"
     ]
    }
   ],
   "source": [
    "print(len(sample.index))\n",
    "print(len(prediction.index))"
   ],
   "metadata": {
    "collapsed": false,
    "ExecuteTime": {
     "end_time": "2023-05-15T17:27:24.053765739Z",
     "start_time": "2023-05-15T17:27:24.026134805Z"
    }
   }
  },
  {
   "cell_type": "code",
   "execution_count": 11,
   "outputs": [
    {
     "data": {
      "text/plain": "       peptide sequence                  full_sequence  activity    pred  \\\n0      SWIRSQE  SWIRSQE  SWIRSQEEESLIGLNGLSLGGYIASLVAS         0  0.1577   \n1      WIRSQEE  WIRSQEE  SWIRSQEEESLIGLNGLSLGGYIASLVAS         0 -0.2734   \n2      IRSQEEE  IRSQEEE  SWIRSQEEESLIGLNGLSLGGYIASLVAS         0 -0.1961   \n3      RSQEEES  RSQEEES  SWIRSQEEESLIGLNGLSLGGYIASLVAS         0 -0.8568   \n4      SQEEESL  SQEEESL  SWIRSQEEESLIGLNGLSLGGYIASLVAS         0 -0.4563   \n...        ...      ...                            ...       ...     ...   \n15888  LHGVRDG  LHGVRDG  SLDTMTQMNQAFRNIVNMLHGVRDGLVRD         0  0.0432   \n15889  HGVRDGL  HGVRDGL  SLDTMTQMNQAFRNIVNMLHGVRDGLVRD         0 -0.0870   \n15890  GVRDGLV  GVRDGLV  SLDTMTQMNQAFRNIVNMLHGVRDGLVRD         0 -0.3017   \n15891  VRDGLVR  VRDGLVR  SLDTMTQMNQAFRNIVNMLHGVRDGLVRD         0 -0.9095   \n15892  RDGLVRD  RDGLVRD  SLDTMTQMNQAFRNIVNMLHGVRDGLVRD         0 -0.2969   \n\n      pred_pep  \n0      SWIRSQE  \n1      WIRSQEE  \n2      IRSQEEE  \n3      RSQEEES  \n4      SQEEESL  \n...        ...  \n15888  LHGVRDG  \n15889  HGVRDGL  \n15890  GVRDGLV  \n15891  VRDGLVR  \n15892  RDGLVRD  \n\n[15893 rows x 6 columns]",
      "text/html": "<div>\n<style scoped>\n    .dataframe tbody tr th:only-of-type {\n        vertical-align: middle;\n    }\n\n    .dataframe tbody tr th {\n        vertical-align: top;\n    }\n\n    .dataframe thead th {\n        text-align: right;\n    }\n</style>\n<table border=\"1\" class=\"dataframe\">\n  <thead>\n    <tr style=\"text-align: right;\">\n      <th></th>\n      <th>peptide</th>\n      <th>sequence</th>\n      <th>full_sequence</th>\n      <th>activity</th>\n      <th>pred</th>\n      <th>pred_pep</th>\n    </tr>\n  </thead>\n  <tbody>\n    <tr>\n      <th>0</th>\n      <td>SWIRSQE</td>\n      <td>SWIRSQE</td>\n      <td>SWIRSQEEESLIGLNGLSLGGYIASLVAS</td>\n      <td>0</td>\n      <td>0.1577</td>\n      <td>SWIRSQE</td>\n    </tr>\n    <tr>\n      <th>1</th>\n      <td>WIRSQEE</td>\n      <td>WIRSQEE</td>\n      <td>SWIRSQEEESLIGLNGLSLGGYIASLVAS</td>\n      <td>0</td>\n      <td>-0.2734</td>\n      <td>WIRSQEE</td>\n    </tr>\n    <tr>\n      <th>2</th>\n      <td>IRSQEEE</td>\n      <td>IRSQEEE</td>\n      <td>SWIRSQEEESLIGLNGLSLGGYIASLVAS</td>\n      <td>0</td>\n      <td>-0.1961</td>\n      <td>IRSQEEE</td>\n    </tr>\n    <tr>\n      <th>3</th>\n      <td>RSQEEES</td>\n      <td>RSQEEES</td>\n      <td>SWIRSQEEESLIGLNGLSLGGYIASLVAS</td>\n      <td>0</td>\n      <td>-0.8568</td>\n      <td>RSQEEES</td>\n    </tr>\n    <tr>\n      <th>4</th>\n      <td>SQEEESL</td>\n      <td>SQEEESL</td>\n      <td>SWIRSQEEESLIGLNGLSLGGYIASLVAS</td>\n      <td>0</td>\n      <td>-0.4563</td>\n      <td>SQEEESL</td>\n    </tr>\n    <tr>\n      <th>...</th>\n      <td>...</td>\n      <td>...</td>\n      <td>...</td>\n      <td>...</td>\n      <td>...</td>\n      <td>...</td>\n    </tr>\n    <tr>\n      <th>15888</th>\n      <td>LHGVRDG</td>\n      <td>LHGVRDG</td>\n      <td>SLDTMTQMNQAFRNIVNMLHGVRDGLVRD</td>\n      <td>0</td>\n      <td>0.0432</td>\n      <td>LHGVRDG</td>\n    </tr>\n    <tr>\n      <th>15889</th>\n      <td>HGVRDGL</td>\n      <td>HGVRDGL</td>\n      <td>SLDTMTQMNQAFRNIVNMLHGVRDGLVRD</td>\n      <td>0</td>\n      <td>-0.0870</td>\n      <td>HGVRDGL</td>\n    </tr>\n    <tr>\n      <th>15890</th>\n      <td>GVRDGLV</td>\n      <td>GVRDGLV</td>\n      <td>SLDTMTQMNQAFRNIVNMLHGVRDGLVRD</td>\n      <td>0</td>\n      <td>-0.3017</td>\n      <td>GVRDGLV</td>\n    </tr>\n    <tr>\n      <th>15891</th>\n      <td>VRDGLVR</td>\n      <td>VRDGLVR</td>\n      <td>SLDTMTQMNQAFRNIVNMLHGVRDGLVRD</td>\n      <td>0</td>\n      <td>-0.9095</td>\n      <td>VRDGLVR</td>\n    </tr>\n    <tr>\n      <th>15892</th>\n      <td>RDGLVRD</td>\n      <td>RDGLVRD</td>\n      <td>SLDTMTQMNQAFRNIVNMLHGVRDGLVRD</td>\n      <td>0</td>\n      <td>-0.2969</td>\n      <td>RDGLVRD</td>\n    </tr>\n  </tbody>\n</table>\n<p>15893 rows × 6 columns</p>\n</div>"
     },
     "execution_count": 11,
     "metadata": {},
     "output_type": "execute_result"
    }
   ],
   "source": [
    "j = sample.index[0]\n",
    "flag = True\n",
    "for i in sample.index:\n",
    "\tif flag:\n",
    "\t\tj = i\n",
    "\telse:\n",
    "\t\tj += 1\n",
    "\tif sample.loc[i,\"peptide\"] == prediction.loc[j,\"sequence\"]:\n",
    "\t\tflag = True\n",
    "\t\tsample.loc[i,\"pred\"] = prediction.loc[j,\"1\"]\n",
    "\t\tsample.loc[i,\"pred_pep\"] = prediction.loc[j,\"sequence\"]\n",
    "\telse:\n",
    "\t\tflag = False\n",
    "\t\tprint(f\"Mismatch {i} {sample.loc[i,'peptide']} {j} {prediction.loc[j,'sequence']}\")\n",
    "\t\tsample.loc[i,\"pred\"] = 0\n",
    "\n",
    "sample"
   ],
   "metadata": {
    "collapsed": false,
    "ExecuteTime": {
     "end_time": "2023-05-15T17:27:28.369712901Z",
     "start_time": "2023-05-15T17:27:25.198437955Z"
    }
   }
  },
  {
   "cell_type": "code",
   "execution_count": 12,
   "outputs": [
    {
     "data": {
      "text/plain": "      residue                       full_seq  peptide  prediction\n0           S  SWIRSQEEESLIGLNGLSLGGYIASLVAS               0.0000\n1           W  SWIRSQEEESLIGLNGLSLGGYIASLVAS               0.0000\n2           I  SWIRSQEEESLIGLNGLSLGGYIASLVAS               0.0000\n3           R  SWIRSQEEESLIGLNGLSLGGYIASLVAS  SWIRSQE      0.1577\n4           S  SWIRSQEEESLIGLNGLSLGGYIASLVAS  WIRSQEE     -0.2734\n...       ...                            ...      ...         ...\n20034       G  SLDTMTQMNQAFRNIVNMLHGVRDGLVRD  VRDGLVR     -0.9095\n20035       L  SLDTMTQMNQAFRNIVNMLHGVRDGLVRD  RDGLVRD     -0.2969\n20036       V  SLDTMTQMNQAFRNIVNMLHGVRDGLVRD               0.0000\n20037       R  SLDTMTQMNQAFRNIVNMLHGVRDGLVRD               0.0000\n20038       D  SLDTMTQMNQAFRNIVNMLHGVRDGLVRD               0.0000\n\n[20039 rows x 4 columns]",
      "text/html": "<div>\n<style scoped>\n    .dataframe tbody tr th:only-of-type {\n        vertical-align: middle;\n    }\n\n    .dataframe tbody tr th {\n        vertical-align: top;\n    }\n\n    .dataframe thead th {\n        text-align: right;\n    }\n</style>\n<table border=\"1\" class=\"dataframe\">\n  <thead>\n    <tr style=\"text-align: right;\">\n      <th></th>\n      <th>residue</th>\n      <th>full_seq</th>\n      <th>peptide</th>\n      <th>prediction</th>\n    </tr>\n  </thead>\n  <tbody>\n    <tr>\n      <th>0</th>\n      <td>S</td>\n      <td>SWIRSQEEESLIGLNGLSLGGYIASLVAS</td>\n      <td></td>\n      <td>0.0000</td>\n    </tr>\n    <tr>\n      <th>1</th>\n      <td>W</td>\n      <td>SWIRSQEEESLIGLNGLSLGGYIASLVAS</td>\n      <td></td>\n      <td>0.0000</td>\n    </tr>\n    <tr>\n      <th>2</th>\n      <td>I</td>\n      <td>SWIRSQEEESLIGLNGLSLGGYIASLVAS</td>\n      <td></td>\n      <td>0.0000</td>\n    </tr>\n    <tr>\n      <th>3</th>\n      <td>R</td>\n      <td>SWIRSQEEESLIGLNGLSLGGYIASLVAS</td>\n      <td>SWIRSQE</td>\n      <td>0.1577</td>\n    </tr>\n    <tr>\n      <th>4</th>\n      <td>S</td>\n      <td>SWIRSQEEESLIGLNGLSLGGYIASLVAS</td>\n      <td>WIRSQEE</td>\n      <td>-0.2734</td>\n    </tr>\n    <tr>\n      <th>...</th>\n      <td>...</td>\n      <td>...</td>\n      <td>...</td>\n      <td>...</td>\n    </tr>\n    <tr>\n      <th>20034</th>\n      <td>G</td>\n      <td>SLDTMTQMNQAFRNIVNMLHGVRDGLVRD</td>\n      <td>VRDGLVR</td>\n      <td>-0.9095</td>\n    </tr>\n    <tr>\n      <th>20035</th>\n      <td>L</td>\n      <td>SLDTMTQMNQAFRNIVNMLHGVRDGLVRD</td>\n      <td>RDGLVRD</td>\n      <td>-0.2969</td>\n    </tr>\n    <tr>\n      <th>20036</th>\n      <td>V</td>\n      <td>SLDTMTQMNQAFRNIVNMLHGVRDGLVRD</td>\n      <td></td>\n      <td>0.0000</td>\n    </tr>\n    <tr>\n      <th>20037</th>\n      <td>R</td>\n      <td>SLDTMTQMNQAFRNIVNMLHGVRDGLVRD</td>\n      <td></td>\n      <td>0.0000</td>\n    </tr>\n    <tr>\n      <th>20038</th>\n      <td>D</td>\n      <td>SLDTMTQMNQAFRNIVNMLHGVRDGLVRD</td>\n      <td></td>\n      <td>0.0000</td>\n    </tr>\n  </tbody>\n</table>\n<p>20039 rows × 4 columns</p>\n</div>"
     },
     "execution_count": 12,
     "metadata": {},
     "output_type": "execute_result"
    }
   ],
   "source": [
    "window = 3\n",
    "result = pd.DataFrame(columns=[\"residue\",\"full_seq\", \"peptide\",\"prediction\"])\n",
    "unique_fulls = sample.full_sequence.unique()\n",
    "k = 0\n",
    "for seq in unique_fulls:\n",
    "    subset = sample.query(\"full_sequence == @seq\")\n",
    "    sub_i = 0\n",
    "    for i,r in enumerate(seq):\n",
    "        if i < window or i > len(seq)-window-1:\n",
    "            result.loc[k] = [r,seq,\"\",0]\n",
    "            k+=1\n",
    "        else:\n",
    "            pos = subset.index[sub_i]\n",
    "            result.loc[k] = [r,seq,subset.loc[pos,\"peptide\"],subset.loc[pos,\"pred\"]]\n",
    "            k+=1\n",
    "            sub_i+=1\n",
    "\n",
    "result"
   ],
   "metadata": {
    "collapsed": false,
    "ExecuteTime": {
     "end_time": "2023-05-15T17:27:54.167464956Z",
     "start_time": "2023-05-15T17:27:28.373225566Z"
    }
   }
  },
  {
   "cell_type": "code",
   "execution_count": 18,
   "outputs": [],
   "source": [
    "result.to_excel(\"Proteasome/in_vivo/results/validation/angel.xlsx\")\n"
   ],
   "metadata": {
    "collapsed": false,
    "ExecuteTime": {
     "end_time": "2023-05-14T21:25:59.532650577Z",
     "start_time": "2023-05-14T21:25:58.313110898Z"
    }
   }
  },
  {
   "cell_type": "code",
   "execution_count": 17,
   "outputs": [
    {
     "name": "stdout",
     "output_type": "stream",
     "text": [
      "0    19348\n",
      "1      691\n",
      "Name: activity, dtype: int64\n"
     ]
    },
    {
     "data": {
      "text/plain": "      residue                       sequence  activity\n0           S  SWIRSQEEESLIGLNGLSLGGYIASLVAS         0\n1           W  SWIRSQEEESLIGLNGLSLGGYIASLVAS         0\n2           I  SWIRSQEEESLIGLNGLSLGGYIASLVAS         0\n3           R  SWIRSQEEESLIGLNGLSLGGYIASLVAS         0\n4           S  SWIRSQEEESLIGLNGLSLGGYIASLVAS         0\n...       ...                            ...       ...\n20034       G  SLDTMTQMNQAFRNIVNMLHGVRDGLVRD         0\n20035       L  SLDTMTQMNQAFRNIVNMLHGVRDGLVRD         0\n20036       V  SLDTMTQMNQAFRNIVNMLHGVRDGLVRD         0\n20037       R  SLDTMTQMNQAFRNIVNMLHGVRDGLVRD         0\n20038       D  SLDTMTQMNQAFRNIVNMLHGVRDGLVRD         0\n\n[20039 rows x 3 columns]",
      "text/html": "<div>\n<style scoped>\n    .dataframe tbody tr th:only-of-type {\n        vertical-align: middle;\n    }\n\n    .dataframe tbody tr th {\n        vertical-align: top;\n    }\n\n    .dataframe thead th {\n        text-align: right;\n    }\n</style>\n<table border=\"1\" class=\"dataframe\">\n  <thead>\n    <tr style=\"text-align: right;\">\n      <th></th>\n      <th>residue</th>\n      <th>sequence</th>\n      <th>activity</th>\n    </tr>\n  </thead>\n  <tbody>\n    <tr>\n      <th>0</th>\n      <td>S</td>\n      <td>SWIRSQEEESLIGLNGLSLGGYIASLVAS</td>\n      <td>0</td>\n    </tr>\n    <tr>\n      <th>1</th>\n      <td>W</td>\n      <td>SWIRSQEEESLIGLNGLSLGGYIASLVAS</td>\n      <td>0</td>\n    </tr>\n    <tr>\n      <th>2</th>\n      <td>I</td>\n      <td>SWIRSQEEESLIGLNGLSLGGYIASLVAS</td>\n      <td>0</td>\n    </tr>\n    <tr>\n      <th>3</th>\n      <td>R</td>\n      <td>SWIRSQEEESLIGLNGLSLGGYIASLVAS</td>\n      <td>0</td>\n    </tr>\n    <tr>\n      <th>4</th>\n      <td>S</td>\n      <td>SWIRSQEEESLIGLNGLSLGGYIASLVAS</td>\n      <td>0</td>\n    </tr>\n    <tr>\n      <th>...</th>\n      <td>...</td>\n      <td>...</td>\n      <td>...</td>\n    </tr>\n    <tr>\n      <th>20034</th>\n      <td>G</td>\n      <td>SLDTMTQMNQAFRNIVNMLHGVRDGLVRD</td>\n      <td>0</td>\n    </tr>\n    <tr>\n      <th>20035</th>\n      <td>L</td>\n      <td>SLDTMTQMNQAFRNIVNMLHGVRDGLVRD</td>\n      <td>0</td>\n    </tr>\n    <tr>\n      <th>20036</th>\n      <td>V</td>\n      <td>SLDTMTQMNQAFRNIVNMLHGVRDGLVRD</td>\n      <td>0</td>\n    </tr>\n    <tr>\n      <th>20037</th>\n      <td>R</td>\n      <td>SLDTMTQMNQAFRNIVNMLHGVRDGLVRD</td>\n      <td>0</td>\n    </tr>\n    <tr>\n      <th>20038</th>\n      <td>D</td>\n      <td>SLDTMTQMNQAFRNIVNMLHGVRDGLVRD</td>\n      <td>0</td>\n    </tr>\n  </tbody>\n</table>\n<p>20039 rows × 3 columns</p>\n</div>"
     },
     "execution_count": 17,
     "metadata": {},
     "output_type": "execute_result"
    }
   ],
   "source": [
    "angel_result = pd.DataFrame(columns=[\"residue\", \"sequence\", \"true\",\"prediction\"])\n",
    "total_validation = pd.read_csv(\"Proteasome/in_vivo/validation/virus_validation_prep.csv\",sep = \";\")\n",
    "total_validation = total_validation.rename(columns={\"linear_peptide_seq\":\"fragment\",\"sequence\":\"substrate\"})\n",
    "true = deconvoluteTrue(total_validation)\n",
    "true"
   ],
   "metadata": {
    "collapsed": false,
    "ExecuteTime": {
     "end_time": "2023-05-15T17:28:45.554912019Z",
     "start_time": "2023-05-15T17:28:22.408496793Z"
    }
   }
  },
  {
   "cell_type": "code",
   "execution_count": 18,
   "outputs": [
    {
     "data": {
      "text/plain": "20039"
     },
     "execution_count": 18,
     "metadata": {},
     "output_type": "execute_result"
    }
   ],
   "source": [
    "len(true.index)"
   ],
   "metadata": {
    "collapsed": false,
    "ExecuteTime": {
     "end_time": "2023-05-15T17:28:45.555995868Z",
     "start_time": "2023-05-15T17:28:45.511568089Z"
    }
   }
  },
  {
   "cell_type": "code",
   "execution_count": 19,
   "outputs": [
    {
     "data": {
      "text/plain": "20039"
     },
     "execution_count": 19,
     "metadata": {},
     "output_type": "execute_result"
    }
   ],
   "source": [
    "len(result.index)"
   ],
   "metadata": {
    "collapsed": false,
    "ExecuteTime": {
     "end_time": "2023-05-15T17:28:45.556371801Z",
     "start_time": "2023-05-15T17:28:45.511939548Z"
    }
   }
  },
  {
   "cell_type": "code",
   "execution_count": 20,
   "outputs": [],
   "source": [
    "true[\"ANGEL\"] = result[\"prediction\"]\n"
   ],
   "metadata": {
    "collapsed": false,
    "ExecuteTime": {
     "end_time": "2023-05-15T17:28:45.556551853Z",
     "start_time": "2023-05-15T17:28:45.512283165Z"
    }
   }
  },
  {
   "cell_type": "code",
   "execution_count": 21,
   "outputs": [],
   "source": [
    "true[\"ANGEL\"] = true[\"ANGEL\"].fillna(0)"
   ],
   "metadata": {
    "collapsed": false,
    "ExecuteTime": {
     "end_time": "2023-05-15T17:28:45.556720121Z",
     "start_time": "2023-05-15T17:28:45.512611364Z"
    }
   }
  },
  {
   "cell_type": "code",
   "execution_count": 22,
   "outputs": [
    {
     "name": "stdout",
     "output_type": "stream",
     "text": [
      "0.7147941114784822 0.08645033958848926\n"
     ]
    }
   ],
   "source": [
    "roc = metrics.roc_auc_score(true[\"activity\"],true[\"ANGEL\"])\n",
    "ap = metrics.average_precision_score(true[\"activity\"],true[\"ANGEL\"])\n",
    "print(roc,ap)"
   ],
   "metadata": {
    "collapsed": false,
    "ExecuteTime": {
     "end_time": "2023-05-15T17:28:45.556978117Z",
     "start_time": "2023-05-15T17:28:45.513033948Z"
    }
   }
  },
  {
   "cell_type": "code",
   "execution_count": 23,
   "outputs": [
    {
     "data": {
      "text/plain": "Empty DataFrame\nColumns: [residue, sequence, activity, ANGEL]\nIndex: []",
      "text/html": "<div>\n<style scoped>\n    .dataframe tbody tr th:only-of-type {\n        vertical-align: middle;\n    }\n\n    .dataframe tbody tr th {\n        vertical-align: top;\n    }\n\n    .dataframe thead th {\n        text-align: right;\n    }\n</style>\n<table border=\"1\" class=\"dataframe\">\n  <thead>\n    <tr style=\"text-align: right;\">\n      <th></th>\n      <th>residue</th>\n      <th>sequence</th>\n      <th>activity</th>\n      <th>ANGEL</th>\n    </tr>\n  </thead>\n  <tbody>\n  </tbody>\n</table>\n</div>"
     },
     "execution_count": 23,
     "metadata": {},
     "output_type": "execute_result"
    }
   ],
   "source": [
    "true[pd.isna(true[\"ANGEL\"])]"
   ],
   "metadata": {
    "collapsed": false,
    "ExecuteTime": {
     "end_time": "2023-05-15T17:28:45.623351414Z",
     "start_time": "2023-05-15T17:28:45.513828138Z"
    }
   }
  },
  {
   "cell_type": "code",
   "execution_count": 41,
   "outputs": [],
   "source": [
    "with open(\"Proteasome/in_vivo/validation/val_seqs.txt\",\"w\") as txt:\n",
    "    unique_fulls = sample.full_sequence.unique()\n",
    "    for f in unique_fulls:\n",
    "        txt.write(f\"{f}\\n\")"
   ],
   "metadata": {
    "collapsed": false,
    "ExecuteTime": {
     "end_time": "2023-05-14T21:34:42.495893709Z",
     "start_time": "2023-05-14T21:34:42.439571494Z"
    }
   }
  },
  {
   "cell_type": "code",
   "execution_count": 1,
   "outputs": [
    {
     "name": "stdout",
     "output_type": "stream",
     "text": [
      "0 Finish\n",
      "1 Finish\n",
      "2 Finish\n",
      "3 Finish\n",
      "4 Finish\n",
      "5 Finish\n",
      "6 Finish\n",
      "7 Finish\n",
      "8 Finish\n",
      "9 Finish\n",
      "10 Finish\n",
      "11 Finish\n",
      "12 Finish\n",
      "13 Finish\n",
      "14 Finish\n",
      "15 Finish\n",
      "16 Finish\n",
      "17 Finish\n",
      "18 Finish\n",
      "19 Finish\n",
      "20 Finish\n",
      "21 Finish\n",
      "22 Finish\n",
      "23 Finish\n",
      "24 Finish\n",
      "25 Finish\n",
      "26 Finish\n",
      "27 Finish\n",
      "28 Finish\n",
      "29 Finish\n",
      "30 Finish\n",
      "31 Finish\n",
      "32 Finish\n",
      "33 Finish\n",
      "34 Finish\n",
      "35 Finish\n",
      "36 Finish\n",
      "37 Finish\n",
      "38 Finish\n",
      "39 Finish\n",
      "40 Finish\n",
      "41 Finish\n",
      "42 Finish\n",
      "43 Finish\n",
      "44 Finish\n",
      "45 Finish\n",
      "46 Finish\n",
      "47 Finish\n",
      "48 Finish\n",
      "49 Finish\n",
      "50 Finish\n",
      "51 Finish\n",
      "52 Finish\n",
      "53 Finish\n",
      "54 Finish\n",
      "55 Finish\n",
      "56 Finish\n",
      "57 Finish\n",
      "58 Finish\n",
      "59 Finish\n",
      "60 Finish\n",
      "61 Finish\n",
      "62 Finish\n",
      "63 Finish\n",
      "64 Finish\n",
      "65 Finish\n",
      "66 Finish\n",
      "67 Finish\n",
      "68 Finish\n",
      "69 Finish\n",
      "70 Finish\n",
      "71 Finish\n",
      "72 Finish\n",
      "73 Finish\n",
      "74 Finish\n",
      "75 Finish\n",
      "76 Finish\n",
      "77 Finish\n",
      "78 Finish\n",
      "79 Finish\n",
      "80 Finish\n",
      "81 Finish\n",
      "82 Finish\n",
      "83 Finish\n",
      "84 Finish\n",
      "85 Finish\n",
      "86 Finish\n",
      "87 Finish\n",
      "88 Finish\n",
      "89 Finish\n",
      "90 Finish\n",
      "91 Finish\n",
      "92 Finish\n",
      "93 Finish\n",
      "94 Finish\n",
      "95 Finish\n",
      "96 Finish\n",
      "97 Finish\n",
      "98 Finish\n",
      "99 Finish\n",
      "100 Finish\n",
      "101 Finish\n",
      "102 Finish\n",
      "103 Finish\n",
      "104 Finish\n",
      "105 Finish\n",
      "106 Finish\n",
      "107 Finish\n",
      "108 Finish\n",
      "109 Finish\n",
      "110 Finish\n",
      "111 Finish\n",
      "112 Finish\n",
      "113 Finish\n",
      "114 Finish\n",
      "115 Finish\n",
      "116 Finish\n",
      "117 Finish\n",
      "118 Finish\n",
      "119 Finish\n",
      "120 Finish\n",
      "121 Finish\n",
      "122 Finish\n",
      "123 Finish\n",
      "124 Finish\n",
      "125 Finish\n",
      "126 Finish\n",
      "127 Finish\n",
      "128 Finish\n",
      "129 Finish\n",
      "130 Finish\n",
      "131 Finish\n",
      "132 Finish\n",
      "133 Finish\n",
      "134 Finish\n",
      "135 Finish\n",
      "136 Finish\n",
      "137 Finish\n",
      "138 Finish\n",
      "139 Finish\n",
      "140 Finish\n",
      "141 Finish\n",
      "142 Finish\n",
      "143 Finish\n",
      "144 Finish\n",
      "145 Finish\n",
      "146 Finish\n",
      "147 Finish\n",
      "148 Finish\n",
      "149 Finish\n",
      "150 Finish\n",
      "151 Finish\n",
      "152 Finish\n",
      "153 Finish\n",
      "154 Finish\n",
      "155 Finish\n",
      "156 Finish\n",
      "157 Finish\n",
      "158 Finish\n",
      "159 Finish\n",
      "160 Finish\n",
      "161 Finish\n",
      "162 Finish\n",
      "163 Finish\n",
      "164 Finish\n",
      "165 Finish\n",
      "166 Finish\n",
      "167 Finish\n",
      "168 Finish\n",
      "169 Finish\n",
      "170 Finish\n",
      "171 Finish\n",
      "172 Finish\n",
      "173 Finish\n",
      "174 Finish\n",
      "175 Finish\n",
      "176 Finish\n",
      "177 Finish\n",
      "178 Finish\n",
      "179 Finish\n",
      "180 Finish\n",
      "181 Finish\n",
      "182 Finish\n",
      "183 Finish\n",
      "184 Finish\n",
      "185 Finish\n",
      "186 Finish\n",
      "187 Finish\n",
      "188 Finish\n",
      "189 Finish\n",
      "190 Finish\n",
      "191 Finish\n",
      "192 Finish\n",
      "193 Finish\n",
      "194 Finish\n",
      "195 Finish\n",
      "196 Finish\n",
      "197 Finish\n",
      "198 Finish\n",
      "199 Finish\n",
      "200 Finish\n",
      "201 Finish\n",
      "202 Finish\n",
      "203 Finish\n",
      "204 Finish\n",
      "205 Finish\n",
      "206 Finish\n",
      "207 Finish\n",
      "208 Finish\n",
      "209 Finish\n",
      "210 Finish\n",
      "211 Finish\n",
      "212 Finish\n",
      "213 Finish\n",
      "214 Finish\n",
      "215 Finish\n",
      "216 Finish\n",
      "217 Finish\n",
      "218 Finish\n",
      "219 Finish\n",
      "220 Finish\n",
      "221 Finish\n",
      "222 Finish\n",
      "223 Finish\n",
      "224 Finish\n",
      "225 Finish\n",
      "226 Finish\n",
      "227 Finish\n",
      "228 Finish\n",
      "229 Finish\n",
      "230 Finish\n",
      "231 Finish\n",
      "232 Finish\n",
      "233 Finish\n",
      "234 Finish\n",
      "235 Finish\n",
      "236 Finish\n",
      "237 Finish\n",
      "238 Finish\n",
      "239 Finish\n",
      "240 Finish\n",
      "241 Finish\n",
      "242 Finish\n",
      "243 Finish\n",
      "244 Finish\n",
      "245 Finish\n",
      "246 Finish\n",
      "247 Finish\n",
      "248 Finish\n",
      "249 Finish\n",
      "250 Finish\n",
      "251 Finish\n",
      "252 Finish\n",
      "253 Finish\n",
      "254 Finish\n",
      "255 Finish\n",
      "256 Finish\n",
      "257 Finish\n",
      "258 Finish\n",
      "259 Finish\n",
      "260 Finish\n",
      "261 Finish\n",
      "262 Finish\n",
      "263 Finish\n",
      "264 Finish\n",
      "265 Finish\n",
      "266 Finish\n",
      "267 Finish\n",
      "268 Finish\n",
      "269 Finish\n",
      "270 Finish\n",
      "271 Finish\n",
      "272 Finish\n",
      "273 Finish\n",
      "274 Finish\n",
      "275 Finish\n",
      "276 Finish\n",
      "277 Finish\n",
      "278 Finish\n",
      "279 Finish\n",
      "280 Finish\n",
      "281 Finish\n",
      "282 Finish\n",
      "283 Finish\n",
      "284 Finish\n",
      "285 Finish\n",
      "286 Finish\n",
      "287 Finish\n",
      "288 Finish\n",
      "289 Finish\n",
      "290 Finish\n",
      "291 Finish\n",
      "292 Finish\n",
      "293 Finish\n",
      "294 Finish\n",
      "295 Finish\n",
      "296 Finish\n",
      "297 Finish\n",
      "298 Finish\n",
      "299 Finish\n",
      "300 Finish\n",
      "301 Finish\n",
      "302 Finish\n",
      "303 Finish\n",
      "304 Finish\n",
      "305 Finish\n",
      "306 Finish\n",
      "307 Finish\n",
      "308 Finish\n",
      "309 Finish\n",
      "310 Finish\n",
      "311 Finish\n",
      "312 Finish\n",
      "313 Finish\n",
      "314 Finish\n",
      "315 Finish\n",
      "316 Finish\n",
      "317 Finish\n",
      "318 Finish\n",
      "319 Finish\n",
      "320 Finish\n",
      "321 Finish\n",
      "322 Finish\n",
      "323 Finish\n",
      "324 Finish\n",
      "325 Finish\n",
      "326 Finish\n",
      "327 Finish\n",
      "328 Finish\n",
      "329 Finish\n",
      "330 Finish\n",
      "331 Finish\n",
      "332 Finish\n",
      "333 Finish\n",
      "334 Finish\n",
      "335 Finish\n",
      "336 Finish\n",
      "337 Finish\n",
      "338 Finish\n",
      "339 Finish\n",
      "340 Finish\n",
      "341 Finish\n",
      "342 Finish\n",
      "343 Finish\n",
      "344 Finish\n",
      "345 Finish\n",
      "346 Finish\n",
      "347 Finish\n",
      "348 Finish\n",
      "349 Finish\n",
      "350 Finish\n",
      "351 Finish\n",
      "352 Finish\n",
      "353 Finish\n",
      "354 Finish\n",
      "355 Finish\n",
      "356 Finish\n",
      "357 Finish\n",
      "358 Finish\n",
      "359 Finish\n",
      "360 Finish\n",
      "361 Finish\n",
      "362 Finish\n",
      "363 Finish\n",
      "364 Finish\n",
      "365 Finish\n",
      "366 Finish\n",
      "367 Finish\n",
      "368 Finish\n",
      "369 Finish\n",
      "370 Finish\n",
      "371 Finish\n",
      "372 Finish\n",
      "373 Finish\n",
      "374 Finish\n",
      "375 Finish\n",
      "376 Finish\n",
      "377 Finish\n",
      "378 Finish\n",
      "379 Finish\n",
      "380 Finish\n",
      "381 Finish\n",
      "382 Finish\n",
      "383 Finish\n",
      "384 Finish\n",
      "385 Finish\n",
      "386 Finish\n",
      "387 Finish\n",
      "388 Finish\n",
      "389 Finish\n",
      "390 Finish\n",
      "391 Finish\n",
      "392 Finish\n",
      "393 Finish\n",
      "394 Finish\n",
      "395 Finish\n",
      "396 Finish\n",
      "397 Finish\n",
      "398 Finish\n",
      "399 Finish\n",
      "400 Finish\n",
      "401 Finish\n",
      "402 Finish\n",
      "403 Finish\n",
      "404 Finish\n",
      "405 Finish\n",
      "406 Finish\n",
      "407 Finish\n",
      "408 Finish\n",
      "409 Finish\n",
      "410 Finish\n",
      "411 Finish\n",
      "412 Finish\n",
      "413 Finish\n",
      "414 Finish\n",
      "415 Finish\n",
      "416 Finish\n",
      "417 Finish\n",
      "418 Finish\n",
      "419 Finish\n",
      "420 Finish\n",
      "421 Finish\n",
      "422 Finish\n",
      "423 Finish\n",
      "424 Finish\n",
      "425 Finish\n",
      "426 Finish\n",
      "427 Finish\n",
      "428 Finish\n",
      "429 Finish\n",
      "430 Finish\n",
      "431 Finish\n",
      "432 Finish\n",
      "433 Finish\n",
      "434 Finish\n",
      "435 Finish\n",
      "436 Finish\n",
      "437 Finish\n",
      "438 Finish\n",
      "439 Finish\n",
      "440 Finish\n",
      "441 Finish\n",
      "442 Finish\n",
      "443 Finish\n",
      "444 Finish\n",
      "445 Finish\n",
      "446 Finish\n",
      "447 Finish\n",
      "448 Finish\n",
      "449 Finish\n",
      "450 Finish\n",
      "451 Finish\n",
      "452 Finish\n",
      "453 Finish\n",
      "454 Finish\n",
      "455 Finish\n",
      "456 Finish\n",
      "457 Finish\n",
      "458 Finish\n",
      "459 Finish\n",
      "460 Finish\n",
      "461 Finish\n",
      "462 Finish\n",
      "463 Finish\n",
      "464 Finish\n",
      "465 Finish\n",
      "466 Finish\n",
      "467 Finish\n",
      "468 Finish\n",
      "469 Finish\n",
      "470 Finish\n",
      "471 Finish\n",
      "472 Finish\n",
      "473 Finish\n",
      "474 Finish\n",
      "475 Finish\n",
      "476 Finish\n",
      "477 Finish\n",
      "478 Finish\n",
      "479 Finish\n",
      "480 Finish\n",
      "481 Finish\n",
      "482 Finish\n",
      "483 Finish\n",
      "484 Finish\n",
      "485 Finish\n",
      "486 Finish\n",
      "487 Finish\n",
      "488 Finish\n",
      "489 Finish\n",
      "490 Finish\n",
      "491 Finish\n",
      "492 Finish\n",
      "493 Finish\n",
      "494 Finish\n",
      "495 Finish\n",
      "496 Finish\n",
      "497 Finish\n",
      "498 Finish\n",
      "499 Finish\n",
      "500 Finish\n",
      "501 Finish\n",
      "502 Finish\n",
      "503 Finish\n",
      "504 Finish\n",
      "505 Finish\n",
      "506 Finish\n",
      "507 Finish\n",
      "508 Finish\n",
      "509 Finish\n",
      "510 Finish\n",
      "511 Finish\n",
      "512 Finish\n",
      "513 Finish\n",
      "514 Finish\n",
      "515 Finish\n",
      "516 Finish\n",
      "517 Finish\n",
      "518 Finish\n",
      "519 Finish\n",
      "520 Finish\n",
      "521 Finish\n",
      "522 Finish\n",
      "523 Finish\n",
      "524 Finish\n",
      "525 Finish\n",
      "526 Finish\n",
      "527 Finish\n",
      "528 Finish\n",
      "529 Finish\n",
      "530 Finish\n",
      "531 Finish\n",
      "532 Finish\n",
      "533 Finish\n",
      "534 Finish\n",
      "535 Finish\n",
      "536 Finish\n",
      "537 Finish\n",
      "538 Finish\n",
      "539 Finish\n",
      "540 Finish\n",
      "541 Finish\n",
      "542 Finish\n",
      "543 Finish\n",
      "544 Finish\n",
      "545 Finish\n",
      "546 Finish\n",
      "547 Finish\n",
      "548 Finish\n",
      "549 Finish\n",
      "550 Finish\n",
      "551 Finish\n",
      "552 Finish\n",
      "553 Finish\n",
      "554 Finish\n",
      "555 Finish\n",
      "556 Finish\n",
      "557 Finish\n",
      "558 Finish\n",
      "559 Finish\n",
      "560 Finish\n",
      "561 Finish\n",
      "562 Finish\n",
      "563 Finish\n",
      "564 Finish\n",
      "565 Finish\n",
      "566 Finish\n",
      "567 Finish\n",
      "568 Finish\n",
      "569 Finish\n",
      "570 Finish\n",
      "571 Finish\n",
      "572 Finish\n",
      "573 Finish\n",
      "574 Finish\n",
      "575 Finish\n",
      "576 Finish\n",
      "577 Finish\n",
      "578 Finish\n",
      "579 Finish\n",
      "580 Finish\n",
      "581 Finish\n",
      "582 Finish\n",
      "583 Finish\n",
      "584 Finish\n",
      "585 Finish\n",
      "586 Finish\n",
      "587 Finish\n",
      "588 Finish\n",
      "589 Finish\n",
      "590 Finish\n",
      "591 Finish\n",
      "592 Finish\n",
      "593 Finish\n",
      "594 Finish\n",
      "595 Finish\n",
      "596 Finish\n",
      "597 Finish\n",
      "598 Finish\n",
      "599 Finish\n",
      "600 Finish\n",
      "601 Finish\n",
      "602 Finish\n",
      "603 Finish\n",
      "604 Finish\n",
      "605 Finish\n",
      "606 Finish\n",
      "607 Finish\n",
      "608 Finish\n",
      "609 Finish\n",
      "610 Finish\n",
      "611 Finish\n",
      "612 Finish\n",
      "613 Finish\n",
      "614 Finish\n",
      "615 Finish\n",
      "616 Finish\n",
      "617 Finish\n",
      "618 Finish\n",
      "619 Finish\n",
      "620 Finish\n",
      "621 Finish\n",
      "622 Finish\n",
      "623 Finish\n",
      "624 Finish\n",
      "625 Finish\n",
      "626 Finish\n",
      "627 Finish\n",
      "628 Finish\n",
      "629 Finish\n",
      "630 Finish\n",
      "631 Finish\n",
      "632 Finish\n",
      "633 Finish\n",
      "634 Finish\n",
      "635 Finish\n",
      "636 Finish\n",
      "637 Finish\n",
      "638 Finish\n",
      "639 Finish\n",
      "640 Finish\n",
      "641 Finish\n",
      "642 Finish\n",
      "643 Finish\n",
      "644 Finish\n",
      "645 Finish\n",
      "646 Finish\n",
      "647 Finish\n",
      "648 Finish\n",
      "649 Finish\n",
      "650 Finish\n",
      "651 Finish\n",
      "652 Finish\n",
      "653 Finish\n",
      "654 Finish\n",
      "655 Finish\n",
      "656 Finish\n",
      "657 Finish\n",
      "658 Finish\n",
      "659 Finish\n",
      "660 Finish\n",
      "661 Finish\n",
      "662 Finish\n",
      "663 Finish\n",
      "664 Finish\n",
      "665 Finish\n",
      "666 Finish\n",
      "667 Finish\n",
      "668 Finish\n",
      "669 Finish\n",
      "670 Finish\n",
      "671 Finish\n",
      "672 Finish\n",
      "673 Finish\n",
      "674 Finish\n",
      "675 Finish\n",
      "676 Finish\n",
      "677 Finish\n",
      "678 Finish\n",
      "679 Finish\n",
      "680 Finish\n",
      "681 Finish\n",
      "682 Finish\n",
      "683 Finish\n",
      "684 Finish\n",
      "685 Finish\n",
      "686 Finish\n",
      "687 Finish\n",
      "688 Finish\n",
      "689 Finish\n",
      "690 Finish\n"
     ]
    },
    {
     "name": "stderr",
     "output_type": "stream",
     "text": [
      "\n",
      "real\t63m55.221s\n",
      "user\t0m39.677s\n",
      "sys\t0m0.983s\n"
     ]
    }
   ],
   "source": [
    "%%bash\n",
    "cd /home/stotoshka/Documents/ANGEL_dev\n",
    "time python Proteasome/competitors/runNetChop.py -t vivo Proteasome/in_vivo/validation/val_seqs.txt Proteasome/in_vivo/results/validation/netchop.xlsx"
   ],
   "metadata": {
    "collapsed": false,
    "ExecuteTime": {
     "end_time": "2023-05-15T17:20:08.154143949Z",
     "start_time": "2023-05-15T16:16:12.732278876Z"
    }
   }
  },
  {
   "cell_type": "code",
   "execution_count": 43,
   "outputs": [
    {
     "name": "stdout",
     "output_type": "stream",
     "text": [
      "conda run -p /home/stotoshka/Soft/anaconda3/envs/pepsickle-v0-2-1/ pepsickle -f Proteasome/in_vivo/validation/pepsickle_tmp.fasta --human-only >> Proteasome/in_vivo/validation/pepsickle_result.txt\n",
      "Finish\n"
     ]
    },
    {
     "name": "stderr",
     "output_type": "stream",
     "text": [
      "\n",
      "real\t0m6.326s\n",
      "user\t0m13.407s\n",
      "sys\t0m1.376s\n"
     ]
    }
   ],
   "source": [
    "%%bash\n",
    "cd /home/stotoshka/Documents/ANGEL_dev\n",
    "time python Proteasome/competitors/runPepsickle.py -m epitope Proteasome/in_vivo/validation/val_seqs.txt Proteasome/in_vivo/results/validation/pepsickle_in_vivo.xlsx"
   ],
   "metadata": {
    "collapsed": false,
    "ExecuteTime": {
     "end_time": "2023-05-14T22:05:27.200401422Z",
     "start_time": "2023-05-14T22:05:20.855166959Z"
    }
   }
  },
  {
   "cell_type": "code",
   "execution_count": 53,
   "outputs": [
    {
     "name": "stdout",
     "output_type": "stream",
     "text": [
      "0 Finish\n",
      "1 Finish\n",
      "2 Finish\n",
      "3 Finish\n",
      "4 Finish\n",
      "5 Finish\n",
      "6 Finish\n",
      "7 Finish\n",
      "8 Finish\n",
      "9 Finish\n",
      "10 Finish\n",
      "11 Finish\n",
      "12 Finish\n",
      "13 Finish\n",
      "14 Finish\n",
      "15 Finish\n",
      "16 Finish\n",
      "17 Finish\n",
      "18 Finish\n",
      "19 Finish\n",
      "20 Finish\n",
      "21 Finish\n",
      "22 Finish\n",
      "23 Finish\n",
      "24 Finish\n",
      "25 Finish\n",
      "26 Finish\n",
      "27 Finish\n",
      "28 Finish\n",
      "29 Finish\n",
      "30 Finish\n",
      "31 Finish\n",
      "32 Finish\n",
      "33 Finish\n",
      "34 Finish\n",
      "35 Finish\n",
      "36 Finish\n",
      "37 Finish\n",
      "38 Finish\n",
      "39 Finish\n",
      "40 Finish\n",
      "41 Finish\n",
      "42 Finish\n",
      "43 Finish\n",
      "44 Finish\n",
      "45 Finish\n",
      "46 Finish\n",
      "47 Finish\n",
      "48 Finish\n",
      "49 Finish\n",
      "50 Finish\n",
      "51 Finish\n",
      "52 Finish\n",
      "53 Finish\n",
      "54 Finish\n",
      "55 Finish\n",
      "56 Finish\n",
      "57 Finish\n",
      "58 Finish\n",
      "59 Finish\n",
      "60 Finish\n",
      "61 Finish\n",
      "62 Finish\n",
      "63 Finish\n",
      "64 Finish\n",
      "65 Finish\n",
      "66 Finish\n",
      "67 Finish\n",
      "68 Finish\n",
      "69 Finish\n",
      "70 Finish\n",
      "71 Finish\n",
      "72 Finish\n",
      "73 Finish\n",
      "74 Finish\n",
      "75 Finish\n",
      "76 Finish\n",
      "77 Finish\n",
      "78 Finish\n",
      "79 Finish\n",
      "80 Finish\n",
      "81 Finish\n",
      "82 Finish\n",
      "83 Finish\n",
      "84 Finish\n",
      "85 Finish\n",
      "86 Finish\n",
      "87 Finish\n",
      "88 Finish\n",
      "89 Finish\n",
      "90 Finish\n",
      "91 Finish\n",
      "92 Finish\n",
      "93 Finish\n",
      "94 Finish\n",
      "95 Finish\n",
      "96 Finish\n",
      "97 Finish\n",
      "98 Finish\n",
      "99 Finish\n",
      "100 Finish\n",
      "101 Finish\n",
      "102 Finish\n",
      "103 Finish\n",
      "104 Finish\n",
      "105 Finish\n",
      "106 Finish\n",
      "107 Finish\n",
      "108 Finish\n",
      "109 Finish\n",
      "110 Finish\n",
      "111 Finish\n",
      "112 Finish\n",
      "113 Finish\n",
      "114 Finish\n",
      "115 Finish\n",
      "116 Finish\n",
      "117 Finish\n",
      "118 Finish\n",
      "119 Finish\n",
      "120 Finish\n",
      "121 Finish\n",
      "122 Finish\n",
      "123 Finish\n",
      "124 Finish\n",
      "125 Finish\n",
      "126 Finish\n",
      "127 Finish\n",
      "128 Finish\n",
      "129 Finish\n",
      "130 Finish\n",
      "131 Finish\n",
      "132 Finish\n",
      "133 Finish\n",
      "134 Finish\n",
      "135 Finish\n",
      "136 Finish\n",
      "137 Finish\n",
      "138 Finish\n",
      "139 Finish\n",
      "140 Finish\n",
      "141 Finish\n",
      "142 Finish\n",
      "143 Finish\n",
      "144 Finish\n",
      "145 Finish\n",
      "146 Finish\n",
      "147 Finish\n",
      "148 Finish\n",
      "149 Finish\n",
      "150 Finish\n",
      "151 Finish\n",
      "152 Finish\n",
      "153 Finish\n",
      "154 Finish\n",
      "155 Finish\n",
      "156 Finish\n",
      "157 Finish\n",
      "158 Finish\n",
      "159 Finish\n",
      "160 Finish\n",
      "161 Finish\n",
      "162 Finish\n",
      "163 Finish\n",
      "164 Finish\n",
      "165 Finish\n",
      "166 Finish\n",
      "167 Finish\n",
      "168 Finish\n",
      "169 Finish\n",
      "170 Finish\n",
      "171 Finish\n",
      "172 Finish\n",
      "173 Finish\n",
      "174 Finish\n",
      "175 Finish\n",
      "176 Finish\n",
      "177 Finish\n",
      "178 Finish\n",
      "179 Finish\n",
      "180 Finish\n",
      "181 Finish\n",
      "182 Finish\n",
      "183 Finish\n",
      "184 Finish\n",
      "185 Finish\n",
      "186 Finish\n",
      "187 Finish\n",
      "188 Finish\n",
      "189 Finish\n",
      "190 Finish\n",
      "191 Finish\n",
      "192 Finish\n",
      "193 Finish\n",
      "194 Finish\n",
      "195 Finish\n",
      "196 Finish\n",
      "197 Finish\n",
      "198 Finish\n",
      "199 Finish\n",
      "200 Finish\n",
      "201 Finish\n",
      "202 Finish\n",
      "203 Finish\n",
      "204 Finish\n",
      "205 Finish\n",
      "206 Finish\n",
      "207 Finish\n",
      "208 Finish\n",
      "209 Finish\n",
      "210 Finish\n",
      "211 Finish\n",
      "212 Finish\n",
      "213 Finish\n",
      "214 Finish\n",
      "215 Finish\n",
      "216 Finish\n",
      "217 Finish\n",
      "218 Finish\n",
      "219 Finish\n",
      "220 Finish\n",
      "221 Finish\n",
      "222 Finish\n",
      "223 Finish\n",
      "224 Finish\n",
      "225 Finish\n",
      "226 Finish\n",
      "227 Finish\n",
      "228 Finish\n",
      "229 Finish\n",
      "230 Finish\n",
      "231 Finish\n",
      "232 Finish\n",
      "233 Finish\n",
      "234 Finish\n",
      "235 Finish\n",
      "236 Finish\n",
      "237 Finish\n",
      "238 Finish\n",
      "239 Finish\n",
      "240 Finish\n",
      "241 Finish\n",
      "242 Finish\n",
      "243 Finish\n",
      "244 Finish\n",
      "245 Finish\n",
      "246 Finish\n",
      "247 Finish\n",
      "248 Finish\n",
      "249 Finish\n",
      "250 Finish\n",
      "251 Finish\n",
      "252 Finish\n",
      "253 Finish\n",
      "254 Finish\n",
      "255 Finish\n",
      "256 Finish\n",
      "257 Finish\n",
      "258 Finish\n",
      "259 Finish\n",
      "260 Finish\n",
      "261 Finish\n",
      "262 Finish\n",
      "263 Finish\n",
      "264 Finish\n",
      "265 Finish\n",
      "266 Finish\n",
      "267 Finish\n",
      "268 Finish\n",
      "269 Finish\n",
      "270 Finish\n",
      "271 Finish\n",
      "272 Finish\n",
      "273 Finish\n",
      "274 Finish\n",
      "275 Finish\n",
      "276 Finish\n",
      "277 Finish\n",
      "278 Finish\n",
      "279 Finish\n",
      "280 Finish\n",
      "281 Finish\n",
      "282 Finish\n",
      "283 Finish\n",
      "284 Finish\n",
      "285 Finish\n",
      "286 Finish\n",
      "287 Finish\n",
      "288 Finish\n",
      "289 Finish\n",
      "290 Finish\n",
      "291 Finish\n",
      "292 Finish\n",
      "293 Finish\n",
      "294 Finish\n",
      "295 Finish\n",
      "296 Finish\n",
      "297 Finish\n",
      "298 Finish\n",
      "299 Finish\n",
      "300 Finish\n",
      "301 Finish\n",
      "302 Finish\n",
      "303 Finish\n",
      "304 Finish\n",
      "305 Finish\n",
      "306 Finish\n",
      "307 Finish\n",
      "308 Finish\n",
      "309 Finish\n",
      "310 Finish\n",
      "311 Finish\n",
      "312 Finish\n",
      "313 Finish\n",
      "314 Finish\n",
      "315 Finish\n",
      "316 Finish\n",
      "317 Finish\n",
      "318 Finish\n",
      "319 Finish\n",
      "320 Finish\n",
      "321 Finish\n",
      "322 Finish\n",
      "323 Finish\n",
      "324 Finish\n",
      "325 Finish\n",
      "326 Finish\n",
      "327 Finish\n",
      "328 Finish\n",
      "329 Finish\n",
      "330 Finish\n",
      "331 Finish\n",
      "332 Finish\n",
      "333 Finish\n",
      "334 Finish\n",
      "335 Finish\n",
      "336 Finish\n",
      "337 Finish\n",
      "338 Finish\n",
      "339 Finish\n",
      "340 Finish\n",
      "341 Finish\n",
      "342 Finish\n",
      "343 Finish\n",
      "344 Finish\n",
      "345 Finish\n",
      "346 Finish\n",
      "347 Finish\n",
      "348 Finish\n",
      "349 Finish\n",
      "350 Finish\n",
      "351 Finish\n",
      "352 Finish\n",
      "353 Finish\n",
      "354 Finish\n",
      "355 Finish\n",
      "356 Finish\n",
      "357 Finish\n",
      "358 Finish\n",
      "359 Finish\n",
      "360 Finish\n",
      "361 Finish\n",
      "362 Finish\n",
      "363 Finish\n",
      "364 Finish\n",
      "365 Finish\n",
      "366 Finish\n",
      "367 Finish\n",
      "368 Finish\n",
      "369 Finish\n",
      "370 Finish\n",
      "371 Finish\n",
      "372 Finish\n",
      "373 Finish\n",
      "374 Finish\n",
      "375 Finish\n",
      "376 Finish\n",
      "377 Finish\n",
      "378 Finish\n",
      "379 Finish\n",
      "380 Finish\n",
      "381 Finish\n",
      "382 Finish\n",
      "383 Finish\n",
      "384 Finish\n",
      "385 Finish\n",
      "386 Finish\n",
      "387 Finish\n",
      "388 Finish\n",
      "389 Finish\n",
      "390 Finish\n",
      "391 Finish\n",
      "392 Finish\n",
      "393 Finish\n",
      "394 Finish\n",
      "395 Finish\n",
      "396 Finish\n",
      "397 Finish\n",
      "398 Finish\n",
      "399 Finish\n",
      "400 Finish\n",
      "401 Finish\n",
      "402 Finish\n",
      "403 Finish\n",
      "404 Finish\n",
      "405 Finish\n",
      "406 Finish\n",
      "407 Finish\n",
      "408 Finish\n",
      "409 Finish\n",
      "410 Finish\n",
      "411 Finish\n",
      "412 Finish\n",
      "413 Finish\n",
      "414 Finish\n",
      "415 Finish\n",
      "416 Finish\n",
      "417 Finish\n",
      "418 Finish\n",
      "419 Finish\n",
      "420 Finish\n",
      "421 Finish\n",
      "422 Finish\n",
      "423 Finish\n",
      "424 Finish\n",
      "425 Finish\n",
      "426 Finish\n",
      "427 Finish\n",
      "428 Finish\n",
      "429 Finish\n",
      "430 Finish\n",
      "431 Finish\n",
      "432 Finish\n",
      "433 Finish\n",
      "434 Finish\n",
      "435 Finish\n",
      "436 Finish\n",
      "437 Finish\n",
      "438 Finish\n",
      "439 Finish\n",
      "440 Finish\n",
      "441 Finish\n",
      "442 Finish\n",
      "443 Finish\n",
      "444 Finish\n",
      "445 Finish\n",
      "446 Finish\n",
      "447 Finish\n",
      "448 Finish\n",
      "449 Finish\n",
      "450 Finish\n",
      "451 Finish\n",
      "452 Finish\n",
      "453 Finish\n",
      "454 Finish\n",
      "455 Finish\n",
      "456 Finish\n",
      "457 Finish\n",
      "458 Finish\n",
      "459 Finish\n",
      "460 Finish\n",
      "461 Finish\n",
      "462 Finish\n",
      "463 Finish\n",
      "464 Finish\n",
      "465 Finish\n",
      "466 Finish\n",
      "467 Finish\n",
      "468 Finish\n",
      "469 Finish\n",
      "470 Finish\n",
      "471 Finish\n",
      "472 Finish\n",
      "473 Finish\n",
      "474 Finish\n",
      "475 Finish\n",
      "476 Finish\n",
      "477 Finish\n",
      "478 Finish\n",
      "479 Finish\n",
      "480 Finish\n",
      "481 Finish\n",
      "482 Finish\n",
      "483 Finish\n",
      "484 Finish\n",
      "485 Finish\n",
      "486 Finish\n",
      "487 Finish\n",
      "488 Finish\n",
      "489 Finish\n",
      "490 Finish\n",
      "491 Finish\n",
      "492 Finish\n",
      "493 Finish\n",
      "494 Finish\n",
      "495 Finish\n",
      "496 Finish\n",
      "497 Finish\n",
      "498 Finish\n",
      "499 Finish\n",
      "500 Finish\n",
      "501 Finish\n",
      "502 Finish\n",
      "503 Finish\n",
      "504 Finish\n",
      "505 Finish\n",
      "506 Finish\n",
      "507 Finish\n",
      "508 Finish\n",
      "509 Finish\n",
      "510 Finish\n",
      "511 Finish\n",
      "512 Finish\n",
      "513 Finish\n",
      "514 Finish\n",
      "515 Finish\n",
      "516 Finish\n",
      "517 Finish\n",
      "518 Finish\n",
      "519 Finish\n",
      "520 Finish\n",
      "521 Finish\n",
      "522 Finish\n",
      "523 Finish\n",
      "524 Finish\n",
      "525 Finish\n",
      "526 Finish\n",
      "527 Finish\n",
      "528 Finish\n",
      "529 Finish\n",
      "530 Finish\n",
      "531 Finish\n",
      "532 Finish\n",
      "533 Finish\n",
      "534 Finish\n",
      "535 Finish\n",
      "536 Finish\n",
      "537 Finish\n",
      "538 Finish\n",
      "539 Finish\n",
      "540 Finish\n",
      "541 Finish\n",
      "542 Finish\n",
      "543 Finish\n",
      "544 Finish\n",
      "545 Finish\n",
      "546 Finish\n",
      "547 Finish\n",
      "548 Finish\n",
      "549 Finish\n",
      "550 Finish\n",
      "551 Finish\n",
      "552 Finish\n",
      "553 Finish\n",
      "554 Finish\n",
      "555 Finish\n",
      "556 Finish\n",
      "557 Finish\n",
      "558 Finish\n",
      "559 Finish\n",
      "560 Finish\n",
      "561 Finish\n",
      "562 Finish\n",
      "563 Finish\n",
      "564 Finish\n",
      "565 Finish\n",
      "566 Finish\n",
      "567 Finish\n",
      "568 Finish\n",
      "569 Finish\n",
      "570 Finish\n",
      "571 Finish\n",
      "572 Finish\n",
      "573 Finish\n",
      "574 Finish\n",
      "575 Finish\n",
      "576 Finish\n",
      "577 Finish\n",
      "578 Finish\n",
      "579 Finish\n",
      "580 Finish\n",
      "581 Finish\n",
      "582 Finish\n",
      "583 Finish\n",
      "584 Finish\n",
      "585 Finish\n",
      "586 Finish\n",
      "587 Finish\n",
      "588 Finish\n",
      "589 Finish\n",
      "590 Finish\n",
      "591 Finish\n",
      "592 Finish\n",
      "593 Finish\n",
      "594 Finish\n",
      "595 Finish\n",
      "596 Finish\n",
      "597 Finish\n",
      "598 Finish\n",
      "599 Finish\n",
      "600 Finish\n",
      "601 Finish\n",
      "602 Finish\n",
      "603 Finish\n",
      "604 Finish\n",
      "605 Finish\n",
      "606 Finish\n",
      "607 Finish\n",
      "608 Finish\n",
      "609 Finish\n",
      "610 Finish\n",
      "611 Finish\n",
      "612 Finish\n",
      "613 Finish\n",
      "614 Finish\n",
      "615 Finish\n",
      "616 Finish\n",
      "617 Finish\n",
      "618 Finish\n",
      "619 Finish\n",
      "620 Finish\n",
      "621 Finish\n",
      "622 Finish\n",
      "623 Finish\n",
      "624 Finish\n",
      "625 Finish\n",
      "626 Finish\n",
      "627 Finish\n",
      "628 Finish\n",
      "629 Finish\n",
      "630 Finish\n",
      "631 Finish\n",
      "632 Finish\n",
      "633 Finish\n",
      "634 Finish\n",
      "635 Finish\n",
      "636 Finish\n",
      "637 Finish\n",
      "638 Finish\n",
      "639 Finish\n",
      "640 Finish\n",
      "641 Finish\n",
      "642 Finish\n",
      "643 Finish\n",
      "644 Finish\n",
      "645 Finish\n",
      "646 Finish\n",
      "647 Finish\n",
      "648 Finish\n",
      "649 Finish\n",
      "650 Finish\n",
      "651 Finish\n",
      "652 Finish\n",
      "653 Finish\n",
      "654 Finish\n",
      "655 Finish\n",
      "656 Finish\n",
      "657 Finish\n",
      "658 Finish\n",
      "659 Finish\n",
      "660 Finish\n",
      "661 Finish\n",
      "662 Finish\n",
      "663 Finish\n",
      "664 Finish\n",
      "665 Finish\n",
      "666 Finish\n",
      "667 Finish\n",
      "668 Finish\n",
      "669 Finish\n",
      "670 Finish\n",
      "671 Finish\n",
      "672 Finish\n",
      "673 Finish\n",
      "674 Finish\n",
      "675 Finish\n",
      "676 Finish\n",
      "677 Finish\n",
      "678 Finish\n",
      "679 Finish\n",
      "680 Finish\n",
      "681 Finish\n",
      "682 Finish\n",
      "683 Finish\n",
      "684 Finish\n",
      "685 Finish\n",
      "686 Finish\n",
      "687 Finish\n",
      "688 Finish\n",
      "689 Finish\n",
      "690 Finish\n"
     ]
    },
    {
     "name": "stderr",
     "output_type": "stream",
     "text": [
      "\n",
      "real\t17m51.269s\n",
      "user\t0m7.867s\n",
      "sys\t0m0.233s\n"
     ]
    }
   ],
   "source": [
    "%%bash\n",
    "cd /home/stotoshka/Documents/ANGEL_dev\n",
    "time python Proteasome/competitors/runPcleavage.py -t vivo Proteasome/in_vivo/validation/val_seqs.txt Proteasome/in_vivo/validation/pcleavage.xlsx"
   ],
   "metadata": {
    "collapsed": false,
    "ExecuteTime": {
     "end_time": "2023-05-14T22:58:44.083443245Z",
     "start_time": "2023-05-14T22:40:52.640220357Z"
    }
   }
  },
  {
   "cell_type": "code",
   "execution_count": 24,
   "outputs": [
    {
     "data": {
      "text/plain": "   position residue  cleav_prob  cleaved                     protein_id\n0         1       S      0.0069    False  SWIRSQEEESLIGLNGLSLGGYIASLVAS\n1         2       W      0.2373    False  SWIRSQEEESLIGLNGLSLGGYIASLVAS\n2         3       I      0.0254    False  SWIRSQEEESLIGLNGLSLGGYIASLVAS\n3         4       R      0.0156    False  SWIRSQEEESLIGLNGLSLGGYIASLVAS\n4         5       S      0.0067    False  SWIRSQEEESLIGLNGLSLGGYIASLVAS",
      "text/html": "<div>\n<style scoped>\n    .dataframe tbody tr th:only-of-type {\n        vertical-align: middle;\n    }\n\n    .dataframe tbody tr th {\n        vertical-align: top;\n    }\n\n    .dataframe thead th {\n        text-align: right;\n    }\n</style>\n<table border=\"1\" class=\"dataframe\">\n  <thead>\n    <tr style=\"text-align: right;\">\n      <th></th>\n      <th>position</th>\n      <th>residue</th>\n      <th>cleav_prob</th>\n      <th>cleaved</th>\n      <th>protein_id</th>\n    </tr>\n  </thead>\n  <tbody>\n    <tr>\n      <th>0</th>\n      <td>1</td>\n      <td>S</td>\n      <td>0.0069</td>\n      <td>False</td>\n      <td>SWIRSQEEESLIGLNGLSLGGYIASLVAS</td>\n    </tr>\n    <tr>\n      <th>1</th>\n      <td>2</td>\n      <td>W</td>\n      <td>0.2373</td>\n      <td>False</td>\n      <td>SWIRSQEEESLIGLNGLSLGGYIASLVAS</td>\n    </tr>\n    <tr>\n      <th>2</th>\n      <td>3</td>\n      <td>I</td>\n      <td>0.0254</td>\n      <td>False</td>\n      <td>SWIRSQEEESLIGLNGLSLGGYIASLVAS</td>\n    </tr>\n    <tr>\n      <th>3</th>\n      <td>4</td>\n      <td>R</td>\n      <td>0.0156</td>\n      <td>False</td>\n      <td>SWIRSQEEESLIGLNGLSLGGYIASLVAS</td>\n    </tr>\n    <tr>\n      <th>4</th>\n      <td>5</td>\n      <td>S</td>\n      <td>0.0067</td>\n      <td>False</td>\n      <td>SWIRSQEEESLIGLNGLSLGGYIASLVAS</td>\n    </tr>\n  </tbody>\n</table>\n</div>"
     },
     "execution_count": 24,
     "metadata": {},
     "output_type": "execute_result"
    }
   ],
   "source": [
    "pepsickle = pd.read_excel(\"Proteasome/in_vivo/results/validation/pepsickle_in_vivo.xlsx\")\n",
    "pepsickle.head()"
   ],
   "metadata": {
    "collapsed": false,
    "ExecuteTime": {
     "end_time": "2023-05-15T17:28:46.583437676Z",
     "start_time": "2023-05-15T17:28:45.559304095Z"
    }
   }
  },
  {
   "cell_type": "code",
   "execution_count": 25,
   "outputs": [],
   "source": [
    "true[\"pepsickle\"] = pepsickle[\"cleav_prob\"]\n"
   ],
   "metadata": {
    "collapsed": false,
    "ExecuteTime": {
     "end_time": "2023-05-15T17:28:46.586322368Z",
     "start_time": "2023-05-15T17:28:46.583850985Z"
    }
   }
  },
  {
   "cell_type": "code",
   "execution_count": 26,
   "outputs": [
    {
     "name": "stdout",
     "output_type": "stream",
     "text": [
      "0.7147941114784822 0.08645033958848926\n"
     ]
    }
   ],
   "source": [
    "roc = metrics.roc_auc_score(true[\"activity\"],true[\"ANGEL\"])\n",
    "ap = metrics.average_precision_score(true[\"activity\"],true[\"ANGEL\"])\n",
    "print(roc,ap)"
   ],
   "metadata": {
    "collapsed": false,
    "ExecuteTime": {
     "end_time": "2023-05-15T17:28:46.677235688Z",
     "start_time": "2023-05-15T17:28:46.588294176Z"
    }
   }
  },
  {
   "cell_type": "code",
   "execution_count": 27,
   "outputs": [
    {
     "name": "stdout",
     "output_type": "stream",
     "text": [
      "0.8363251252779841 0.13135990972922765\n"
     ]
    }
   ],
   "source": [
    "roc = metrics.roc_auc_score(true[\"activity\"],true[\"pepsickle\"])\n",
    "ap = metrics.average_precision_score(true[\"activity\"],true[\"pepsickle\"])\n",
    "print(roc,ap)"
   ],
   "metadata": {
    "collapsed": false,
    "ExecuteTime": {
     "end_time": "2023-05-15T17:28:46.677523704Z",
     "start_time": "2023-05-15T17:28:46.636590895Z"
    }
   }
  },
  {
   "cell_type": "code",
   "execution_count": 32,
   "outputs": [
    {
     "name": "stdout",
     "output_type": "stream",
     "text": [
      "0.7147941114784822 0.08645033958848926\n",
      "0.7656216761953429 0.12349310662214924\n"
     ]
    }
   ],
   "source": [
    "pepsickle = pd.read_excel(\"Proteasome/in_vivo/results/validation/pcleavage.xlsx\")\n",
    "pepsickle.head()\n",
    "true[\"pcleavage\"] = pepsickle[\"Score\"]\n",
    "\n",
    "roc = metrics.roc_auc_score(true[\"activity\"], true[\"ANGEL\"])\n",
    "ap = metrics.average_precision_score(true[\"activity\"], true[\"ANGEL\"])\n",
    "print(roc, ap)\n",
    "roc = metrics.roc_auc_score(true[\"activity\"], true[\"pcleavage\"])\n",
    "ap = metrics.average_precision_score(true[\"activity\"], true[\"pcleavage\"])\n",
    "print(roc, ap)"
   ],
   "metadata": {
    "collapsed": false,
    "ExecuteTime": {
     "end_time": "2023-05-15T17:31:41.938687664Z",
     "start_time": "2023-05-15T17:31:40.819513371Z"
    }
   }
  },
  {
   "cell_type": "code",
   "execution_count": 29,
   "outputs": [],
   "source": [
    "netchop = pd.read_excel(\"Proteasome/in_vivo/results/validation/netchop.xlsx\")\n",
    "netchop.head()\n",
    "true[\"netchop\"] = netchop[\"score\"]"
   ],
   "metadata": {
    "collapsed": false,
    "ExecuteTime": {
     "end_time": "2023-05-15T17:28:53.768573329Z",
     "start_time": "2023-05-15T17:28:52.629696289Z"
    }
   }
  },
  {
   "cell_type": "code",
   "execution_count": 30,
   "outputs": [
    {
     "name": "stdout",
     "output_type": "stream",
     "text": [
      "0.8135507710553628 0.1454169195465134\n"
     ]
    }
   ],
   "source": [
    "roc = metrics.roc_auc_score(true[\"activity\"], true[\"netchop\"])\n",
    "ap = metrics.average_precision_score(true[\"activity\"], true[\"netchop\"])\n",
    "print(roc, ap)"
   ],
   "metadata": {
    "collapsed": false,
    "ExecuteTime": {
     "end_time": "2023-05-15T17:28:55.854856131Z",
     "start_time": "2023-05-15T17:28:55.802233266Z"
    }
   }
  },
  {
   "cell_type": "code",
   "execution_count": 38,
   "outputs": [
    {
     "data": {
      "text/plain": "<Figure size 640x480 with 1 Axes>",
      "image/png": "[encoded data removed]"
     },
     "metadata": {},
     "output_type": "display_data"
    }
   ],
   "source": [
    "angel_fpr, angel_tpr, angel_thres = metrics.roc_curve(true['activity'], true['ANGEL'])\n",
    "netchop_fpr, netchop_tpr, netchop_thres = metrics.roc_curve(true['activity'], true['netchop'])\n",
    "pcleavage_fpr, pcleavage_tpr, pcleavage_thres = metrics.roc_curve(true['activity'], true['pcleavage'])\n",
    "pepsickle_1_fpr, pepsickle_1_tpr, pepsickle_1_thres = metrics.roc_curve(true['activity'], true['pepsickle'])\n",
    "\n",
    "angel_coords = pd.DataFrame({\"fpr\":angel_fpr,\"tpr\":angel_tpr,\"thresholds\":angel_thres})\n",
    "netchop_coords = pd.DataFrame({\"fpr\":netchop_fpr,\"tpr\":netchop_tpr,\"thresholds\":netchop_thres})\n",
    "pcleavage_coords = pd.DataFrame({\"fpr\":pcleavage_fpr,\"tpr\":pcleavage_tpr,\"thresholds\":pcleavage_thres})\n",
    "pepsickle_1_coords = pd.DataFrame({\"fpr\":pepsickle_1_fpr,\"tpr\":pepsickle_1_tpr,\"thresholds\":pepsickle_1_thres})\n",
    "\n",
    "\n",
    "plt.plot(np.arange(0, 1.1, 0.1), np.arange(0, 1.1, 0.1), color=\"black\")\n",
    "plt.plot(angel_fpr, angel_tpr, label=f\"ANGEL,AUC={round(metrics.roc_auc_score(true['activity'], true['ANGEL']), 2)}\")\n",
    "plt.plot(netchop_fpr, netchop_tpr,\n",
    "         label=f\"NetChop,AUC={round(metrics.roc_auc_score(true['activity'], true['netchop']), 2)}\")\n",
    "plt.plot(pcleavage_fpr, pcleavage_tpr,\n",
    "         label=f\"PCleavage,AUC={round(metrics.roc_auc_score(true['activity'], true['pcleavage']), 2)}\")\n",
    "plt.plot(pepsickle_1_fpr, pepsickle_1_tpr,\n",
    "         label=f\"pepsickle,AUC={round(metrics.roc_auc_score(true['activity'], true['pepsickle']), 2)}\")\n",
    "plt.xlabel(\"1 - Специфичность\")\n",
    "plt.ylabel(\"Чувствительность\")\n",
    "plt.title(\"Модели протеасомы in vivo\")\n",
    "plt.legend()\n",
    "plt.tight_layout()\n",
    "plt.savefig(\"Proteasome/in_vivo/results/validation/plots/roc.png\")"
   ],
   "metadata": {
    "collapsed": false,
    "ExecuteTime": {
     "end_time": "2023-05-15T17:44:09.739242145Z",
     "start_time": "2023-05-15T17:44:09.454048065Z"
    }
   }
  },
  {
   "cell_type": "code",
   "execution_count": 39,
   "outputs": [],
   "source": [
    "angel_coords[\"Gmean\"] = np.sqrt(angel_coords[\"tpr\"] * (1 - angel_coords[\"fpr\"]))\n",
    "angel_coords[\"J\"] = angel_coords[\"tpr\"] - angel_coords[\"fpr\"]\n",
    "optim_threshold_angel = angel_coords.loc[np.argmax(angel_coords[\"J\"]), \"thresholds\"]\n",
    "\n",
    "netchop_coords[\"Gmean\"] = np.sqrt(netchop_coords[\"tpr\"] * (1 - netchop_coords[\"fpr\"]))\n",
    "netchop_coords[\"J\"] = netchop_coords[\"tpr\"] - netchop_coords[\"fpr\"]\n",
    "optim_threshold_netchop = netchop_coords.loc[np.argmax(netchop_coords[\"J\"]), \"thresholds\"]\n",
    "\n",
    "pcleavage_coords[\"Gmean\"] = np.sqrt(pcleavage_coords[\"tpr\"] * (1 - pcleavage_coords[\"fpr\"]))\n",
    "pcleavage_coords[\"J\"] = pcleavage_coords[\"tpr\"] - pcleavage_coords[\"fpr\"]\n",
    "optim_threshold_pcleavage = pcleavage_coords.loc[np.argmax(pcleavage_coords[\"J\"]), \"thresholds\"]\n",
    "\n",
    "pepsickle_1_coords[\"Gmean\"] = np.sqrt(pepsickle_1_coords[\"tpr\"] * (1 - pepsickle_1_coords[\"fpr\"]))\n",
    "pepsickle_1_coords[\"J\"] = pepsickle_1_coords[\"tpr\"] - pepsickle_1_coords[\"fpr\"]\n",
    "optim_threshold_pepsickle = pepsickle_1_coords.loc[np.argmax(pepsickle_1_coords[\"J\"]), \"thresholds\"]"
   ],
   "metadata": {
    "collapsed": false,
    "ExecuteTime": {
     "end_time": "2023-05-15T17:45:33.349520354Z",
     "start_time": "2023-05-15T17:45:33.304978113Z"
    }
   }
  },
  {
   "cell_type": "code",
   "execution_count": 45,
   "outputs": [
    {
     "data": {
      "text/plain": "-0.04"
     },
     "execution_count": 45,
     "metadata": {},
     "output_type": "execute_result"
    }
   ],
   "source": [
    "optim_threshold_pcleavage"
   ],
   "metadata": {
    "collapsed": false,
    "ExecuteTime": {
     "end_time": "2023-05-15T17:50:59.067191980Z",
     "start_time": "2023-05-15T17:50:59.019678776Z"
    }
   }
  },
  {
   "cell_type": "code",
   "execution_count": 52,
   "outputs": [
    {
     "data": {
      "text/plain": "               Sens      Spec       PPV       NPV Precision  Accuracy  \\\nANGEL      0.727931  0.675212  0.074112  0.985813  0.074112   0.67703   \npepsickle  0.798842  0.739921  0.098854  0.990384  0.098854  0.741953   \nPcleavage  0.620839  0.780649  0.091804  0.982949  0.091804  0.775138   \nNetChop    0.826339  0.658776  0.079604  0.990673  0.079604  0.664554   \n\n          Balanced Accuracy        F1       MCC  \nANGEL              0.701571  0.134528   0.15543  \npepsickle          0.769382  0.175936  0.219267  \nPcleavage          0.700744  0.159955  0.173241  \nNetChop            0.742557  0.145219  0.184642  ",
      "text/html": "<div>\n<style scoped>\n    .dataframe tbody tr th:only-of-type {\n        vertical-align: middle;\n    }\n\n    .dataframe tbody tr th {\n        vertical-align: top;\n    }\n\n    .dataframe thead th {\n        text-align: right;\n    }\n</style>\n<table border=\"1\" class=\"dataframe\">\n  <thead>\n    <tr style=\"text-align: right;\">\n      <th></th>\n      <th>Sens</th>\n      <th>Spec</th>\n      <th>PPV</th>\n      <th>NPV</th>\n      <th>Precision</th>\n      <th>Accuracy</th>\n      <th>Balanced Accuracy</th>\n      <th>F1</th>\n      <th>MCC</th>\n    </tr>\n  </thead>\n  <tbody>\n    <tr>\n      <th>ANGEL</th>\n      <td>0.727931</td>\n      <td>0.675212</td>\n      <td>0.074112</td>\n      <td>0.985813</td>\n      <td>0.074112</td>\n      <td>0.67703</td>\n      <td>0.701571</td>\n      <td>0.134528</td>\n      <td>0.15543</td>\n    </tr>\n    <tr>\n      <th>pepsickle</th>\n      <td>0.798842</td>\n      <td>0.739921</td>\n      <td>0.098854</td>\n      <td>0.990384</td>\n      <td>0.098854</td>\n      <td>0.741953</td>\n      <td>0.769382</td>\n      <td>0.175936</td>\n      <td>0.219267</td>\n    </tr>\n    <tr>\n      <th>Pcleavage</th>\n      <td>0.620839</td>\n      <td>0.780649</td>\n      <td>0.091804</td>\n      <td>0.982949</td>\n      <td>0.091804</td>\n      <td>0.775138</td>\n      <td>0.700744</td>\n      <td>0.159955</td>\n      <td>0.173241</td>\n    </tr>\n    <tr>\n      <th>NetChop</th>\n      <td>0.826339</td>\n      <td>0.658776</td>\n      <td>0.079604</td>\n      <td>0.990673</td>\n      <td>0.079604</td>\n      <td>0.664554</td>\n      <td>0.742557</td>\n      <td>0.145219</td>\n      <td>0.184642</td>\n    </tr>\n  </tbody>\n</table>\n</div>"
     },
     "execution_count": 52,
     "metadata": {},
     "output_type": "execute_result"
    }
   ],
   "source": [
    "tbl1 = true.copy(deep = True)\n",
    "tbl1[\"pred\"] = np.where(tbl1[\"ANGEL\"] < optim_threshold_angel, 0, 1)\n",
    "model_summary = pd.DataFrame(columns=[\"Sens\",\"Spec\",\"PPV\",\"NPV\",\"Precision\",'Accuracy',\"Balanced Accuracy\", \"F1\", \"MCC\"])\n",
    "tn, fp, fn, tp = metrics.confusion_matrix(tbl1[\"activity\"],tbl1[\"pred\"]).ravel()\n",
    "model_summary.loc[\"ANGEL\",\"Sens\"] = tp / (tp + fn)\n",
    "model_summary.loc[\"ANGEL\",\"Spec\"] = tn / (tn + fp)\n",
    "model_summary.loc[\"ANGEL\",\"PPV\"] = tp / (tp + fp)\n",
    "model_summary.loc[\"ANGEL\",\"NPV\"] = tn / (tn + fn)\n",
    "model_summary.loc[\"ANGEL\",\"Precision\"] = metrics.precision_score(tbl1[\"activity\"],tbl1[\"pred\"])\n",
    "model_summary.loc[\"ANGEL\",\"Accuracy\"] = metrics.accuracy_score(tbl1[\"activity\"],tbl1[\"pred\"])\n",
    "model_summary.loc[\"ANGEL\",\"Balanced Accuracy\"] = metrics.balanced_accuracy_score(tbl1[\"activity\"],tbl1[\"pred\"])\n",
    "model_summary.loc[\"ANGEL\",\"F1\"] = metrics.f1_score(tbl1[\"activity\"],tbl1[\"pred\"])\n",
    "model_summary.loc[\"ANGEL\",\"MCC\"] = metrics.matthews_corrcoef(tbl1[\"activity\"],tbl1[\"pred\"])\n",
    "\n",
    "tbl1[\"pred\"] = np.where(tbl1[\"pepsickle\"] < optim_threshold_pepsickle, 0, 1)\n",
    "tn, fp, fn, tp = metrics.confusion_matrix(tbl1[\"activity\"],tbl1[\"pred\"]).ravel()\n",
    "model_summary.loc[\"pepsickle\",\"Sens\"] = tp / (tp + fn)\n",
    "model_summary.loc[\"pepsickle\",\"Spec\"] = tn / (tn + fp)\n",
    "model_summary.loc[\"pepsickle\",\"PPV\"] = tp / (tp + fp)\n",
    "model_summary.loc[\"pepsickle\",\"NPV\"] = tn / (tn + fn)\n",
    "model_summary.loc[\"pepsickle\",\"Precision\"] = metrics.precision_score(tbl1[\"activity\"],tbl1[\"pred\"])\n",
    "model_summary.loc[\"pepsickle\",\"Accuracy\"] = metrics.accuracy_score(tbl1[\"activity\"],tbl1[\"pred\"])\n",
    "model_summary.loc[\"pepsickle\",\"Balanced Accuracy\"] = metrics.balanced_accuracy_score(tbl1[\"activity\"],tbl1[\"pred\"])\n",
    "model_summary.loc[\"pepsickle\",\"F1\"] = metrics.f1_score(tbl1[\"activity\"],tbl1[\"pred\"])\n",
    "model_summary.loc[\"pepsickle\",\"MCC\"] = metrics.matthews_corrcoef(tbl1[\"activity\"],tbl1[\"pred\"])\n",
    "\n",
    "tbl1[\"pred\"] = np.where(tbl1[\"pcleavage\"] < optim_threshold_pcleavage, 0, 1)\n",
    "tn, fp, fn, tp = metrics.confusion_matrix(tbl1[\"activity\"],tbl1[\"pred\"]).ravel()\n",
    "model_summary.loc[\"Pcleavage\",\"Sens\"] = tp / (tp + fn)\n",
    "model_summary.loc[\"Pcleavage\",\"Spec\"] = tn / (tn + fp)\n",
    "model_summary.loc[\"Pcleavage\",\"PPV\"] = tp / (tp + fp)\n",
    "model_summary.loc[\"Pcleavage\",\"NPV\"] = tn / (tn + fn)\n",
    "model_summary.loc[\"Pcleavage\",\"Precision\"] = metrics.precision_score(tbl1[\"activity\"],tbl1[\"pred\"])\n",
    "model_summary.loc[\"Pcleavage\",\"Accuracy\"] = metrics.accuracy_score(tbl1[\"activity\"],tbl1[\"pred\"])\n",
    "model_summary.loc[\"Pcleavage\",\"Balanced Accuracy\"] = metrics.balanced_accuracy_score(tbl1[\"activity\"],tbl1[\"pred\"])\n",
    "model_summary.loc[\"Pcleavage\",\"F1\"] = metrics.f1_score(tbl1[\"activity\"],tbl1[\"pred\"])\n",
    "model_summary.loc[\"Pcleavage\",\"MCC\"] = metrics.matthews_corrcoef(tbl1[\"activity\"],tbl1[\"pred\"])\n",
    "\n",
    "tbl1[\"pred\"] = np.where(tbl1[\"netchop\"] < optim_threshold_pepsickle, 0, 1)\n",
    "tn, fp, fn, tp = metrics.confusion_matrix(tbl1[\"activity\"],tbl1[\"pred\"]).ravel()\n",
    "model_summary.loc[\"NetChop\",\"Sens\"] = tp / (tp + fn)\n",
    "model_summary.loc[\"NetChop\",\"Spec\"] = tn / (tn + fp)\n",
    "model_summary.loc[\"NetChop\",\"PPV\"] = tp / (tp + fp)\n",
    "model_summary.loc[\"NetChop\",\"NPV\"] = tn / (tn + fn)\n",
    "model_summary.loc[\"NetChop\",\"Precision\"] = metrics.precision_score(tbl1[\"activity\"],tbl1[\"pred\"])\n",
    "model_summary.loc[\"NetChop\",\"Accuracy\"] = metrics.accuracy_score(tbl1[\"activity\"],tbl1[\"pred\"])\n",
    "model_summary.loc[\"NetChop\",\"Balanced Accuracy\"] = metrics.balanced_accuracy_score(tbl1[\"activity\"],tbl1[\"pred\"])\n",
    "model_summary.loc[\"NetChop\",\"F1\"] = metrics.f1_score(tbl1[\"activity\"],tbl1[\"pred\"])\n",
    "model_summary.loc[\"NetChop\",\"MCC\"] = metrics.matthews_corrcoef(tbl1[\"activity\"],tbl1[\"pred\"])\n",
    "\n",
    "model_summary.head()"
   ],
   "metadata": {
    "collapsed": false,
    "ExecuteTime": {
     "end_time": "2023-05-15T18:29:56.296338192Z",
     "start_time": "2023-05-15T18:29:56.184059504Z"
    }
   }
  },
  {
   "cell_type": "code",
   "execution_count": 47,
   "outputs": [
    {
     "data": {
      "text/plain": "array([[13064,  6284],\n       [  188,   503]])"
     },
     "execution_count": 47,
     "metadata": {},
     "output_type": "execute_result"
    }
   ],
   "source": [
    "tbl1[\"pred\"] = np.where(tbl1[\"ANGEL\"] < optim_threshold_angel, 0, 1)\n",
    "metrics.confusion_matrix(tbl1[\"activity\"],tbl1[\"pred\"])"
   ],
   "metadata": {
    "collapsed": false,
    "ExecuteTime": {
     "end_time": "2023-05-15T17:53:26.319242951Z",
     "start_time": "2023-05-15T17:53:26.308932513Z"
    }
   }
  },
  {
   "cell_type": "code",
   "execution_count": 48,
   "outputs": [
    {
     "data": {
      "text/plain": "array([[15104,  4244],\n       [  262,   429]])"
     },
     "execution_count": 48,
     "metadata": {},
     "output_type": "execute_result"
    }
   ],
   "source": [
    "tbl1[\"pred\"] = np.where(tbl1[\"pcleavage\"] < optim_threshold_pcleavage, 0, 1)\n",
    "metrics.confusion_matrix(tbl1[\"activity\"],tbl1[\"pred\"])"
   ],
   "metadata": {
    "collapsed": false,
    "ExecuteTime": {
     "end_time": "2023-05-15T17:53:47.517432526Z",
     "start_time": "2023-05-15T17:53:47.437161829Z"
    }
   }
  },
  {
   "cell_type": "code",
   "execution_count": 50,
   "outputs": [
    {
     "data": {
      "text/plain": "array([[14316,  5032],\n       [  139,   552]])"
     },
     "execution_count": 50,
     "metadata": {},
     "output_type": "execute_result"
    }
   ],
   "source": [
    "tbl1[\"pred\"] = np.where(tbl1[\"pepsickle\"] < optim_threshold_pepsickle, 0, 1)\n",
    "metrics.confusion_matrix(tbl1[\"activity\"],tbl1[\"pred\"])"
   ],
   "metadata": {
    "collapsed": false,
    "ExecuteTime": {
     "end_time": "2023-05-15T17:54:16.748548692Z",
     "start_time": "2023-05-15T17:54:16.731080115Z"
    }
   }
  },
  {
   "cell_type": "code",
   "execution_count": 54,
   "outputs": [
    {
     "data": {
      "text/plain": "array([[13599,  5749],\n       [  142,   549]])"
     },
     "execution_count": 54,
     "metadata": {},
     "output_type": "execute_result"
    }
   ],
   "source": [
    "tbl1[\"pred\"] = np.where(tbl1[\"netchop\"] < optim_threshold_netchop, 0, 1)\n",
    "metrics.confusion_matrix(tbl1[\"activity\"],tbl1[\"pred\"])"
   ],
   "metadata": {
    "collapsed": false,
    "ExecuteTime": {
     "end_time": "2023-05-15T18:33:36.111485910Z",
     "start_time": "2023-05-15T18:33:36.069072318Z"
    }
   }
  },
  {
   "cell_type": "code",
   "execution_count": 55,
   "outputs": [
    {
     "data": {
      "text/plain": "array([13599,  5749,   142,   549])"
     },
     "execution_count": 55,
     "metadata": {},
     "output_type": "execute_result"
    }
   ],
   "source": [
    "metrics.confusion_matrix(tbl1[\"activity\"],tbl1[\"pred\"]).ravel()"
   ],
   "metadata": {
    "collapsed": false,
    "ExecuteTime": {
     "end_time": "2023-05-15T18:33:36.669959563Z",
     "start_time": "2023-05-15T18:33:36.657886163Z"
    }
   }
  },
  {
   "cell_type": "code",
   "execution_count": null,
   "outputs": [],
   "source": [],
   "metadata": {
    "collapsed": false
   }
  }
 ],
 "metadata": {
  "kernelspec": {
   "display_name": "Python 3",
   "language": "python",
   "name": "python3"
  },
  "language_info": {
   "codemirror_mode": {
    "name": "ipython",
    "version": 2
   },
   "file_extension": ".py",
   "mimetype": "text/x-python",
   "name": "python",
   "nbconvert_exporter": "python",
   "pygments_lexer": "ipython2",
   "version": "2.7.6"
  }
 },
 "nbformat": 4,
 "nbformat_minor": 0
}
