{
 "cells": [
  {
   "cell_type": "code",
   "execution_count": 1,
   "metadata": {
    "collapsed": true,
    "ExecuteTime": {
     "end_time": "2023-05-13T19:14:13.172351795Z",
     "start_time": "2023-05-13T19:14:12.971423701Z"
    }
   },
   "outputs": [
    {
     "name": "stderr",
     "output_type": "stream",
     "text": [
      "/home/stotoshka/Soft/anaconda3/envs/research/lib/python3.9/site-packages/paramiko/transport.py:219: CryptographyDeprecationWarning: Blowfish has been deprecated\n",
      "  \"class\": algorithms.Blowfish,\n"
     ]
    }
   ],
   "source": [
    "import os\n",
    "\n",
    "import numpy as np\n",
    "import pandas as pd\n",
    "import re\n",
    "import paramiko\n",
    "from getpass import getpass\n",
    "import traceback\n",
    "import numpy as np\n",
    "import matplotlib.pyplot as plt\n",
    "from sklearn import metrics"
   ]
  },
  {
   "cell_type": "code",
   "execution_count": 2,
   "outputs": [],
   "source": [
    "os.chdir(\"/home/stotoshka/Documents/ANGEL_dev\")"
   ],
   "metadata": {
    "collapsed": false,
    "ExecuteTime": {
     "end_time": "2023-05-13T19:14:13.174503934Z",
     "start_time": "2023-05-13T19:14:13.172840114Z"
    }
   }
  },
  {
   "cell_type": "code",
   "execution_count": 68,
   "outputs": [
    {
     "name": "stderr",
     "output_type": "stream",
     "text": [
      "/home/stotoshka/Documents/ANGEL_dev/Proteasome/in_vitro/prepareValidation.py:53: FutureWarning: The default value of regex will change from True to False in a future version.\n",
      "  calis_data_filtered[\"sequence\"] = calis_data_filtered[\"cleavage_sites\"].str.replace(\"\\\\|\",\"\")\n",
      "/home/stotoshka/Documents/ANGEL_dev/Proteasome/in_vitro/prepareValidation.py:53: SettingWithCopyWarning: \n",
      "A value is trying to be set on a copy of a slice from a DataFrame.\n",
      "Try using .loc[row_indexer,col_indexer] = value instead\n",
      "\n",
      "See the caveats in the documentation: https://pandas.pydata.org/pandas-docs/stable/user_guide/indexing.html#returning-a-view-versus-a-copy\n",
      "  calis_data_filtered[\"sequence\"] = calis_data_filtered[\"cleavage_sites\"].str.replace(\"\\\\|\",\"\")\n"
     ]
    },
    {
     "name": "stdout",
     "output_type": "stream",
     "text": [
      "0    1745\n",
      "1    1384\n",
      "Name: activity, dtype: int64\n",
      "Num train substrate = 88\n",
      "Num validation substrate = 214\n",
      "0    1650\n",
      "1     637\n",
      "Name: activity, dtype: int64\n"
     ]
    }
   ],
   "source": [
    "%%bash\n",
    "cd /home/stotoshka/Documents/ANGEL_dev\n",
    "python Proteasome/in_vitro/prepareValidation.py -t C -w 2"
   ],
   "metadata": {
    "collapsed": false,
    "ExecuteTime": {
     "end_time": "2023-05-11T06:05:38.051226555Z",
     "start_time": "2023-05-11T06:05:32.151158051Z"
    }
   }
  },
  {
   "cell_type": "code",
   "execution_count": 46,
   "outputs": [
    {
     "name": "stdout",
     "output_type": "stream",
     "text": [
      "Success\n",
      "Convertation\n",
      "Success\n",
      "--- 0.4368584156036377 seconds ---\n",
      "CPU times: user 1.92 ms, sys: 0 ns, total: 1.92 ms\n",
      "Wall time: 758 ms\n"
     ]
    },
    {
     "data": {
      "text/plain": "0"
     },
     "execution_count": 46,
     "metadata": {},
     "output_type": "execute_result"
    }
   ],
   "source": [
    "%%time\n",
    "path_to_config = \"Proteasome/in_vitro/const/converter_config.json\"\n",
    "command = f\"python tools/generateConfigForConverter.py -i {os.path.join(os.getcwd(),'Proteasome/in_vitro/const/validation/ready_train_const_2.csv')} -o {os.path.join(os.getcwd(),'Proteasome/in_vitro/const/sdf')} -c peptide -t 10 {path_to_config}\"\n",
    "os.system(command)\n",
    "print(\"Convertation\")\n",
    "convert_command = f\"python tools/SeqToSDF.py {path_to_config}\"\n",
    "os.system(convert_command)"
   ],
   "metadata": {
    "collapsed": false,
    "ExecuteTime": {
     "end_time": "2023-05-11T05:46:09.092750163Z",
     "start_time": "2023-05-11T05:46:08.335121548Z"
    }
   }
  },
  {
   "cell_type": "code",
   "execution_count": 69,
   "outputs": [
    {
     "name": "stdout",
     "output_type": "stream",
     "text": [
      "Success\n",
      "Convertation\n",
      "Success\n",
      "--- 0.4181962013244629 seconds ---\n",
      "CPU times: user 1.94 ms, sys: 121 µs, total: 2.07 ms\n",
      "Wall time: 759 ms\n"
     ]
    },
    {
     "data": {
      "text/plain": "0"
     },
     "execution_count": 69,
     "metadata": {},
     "output_type": "execute_result"
    }
   ],
   "source": [
    "%%time\n",
    "path_to_config = \"Proteasome/in_vitro/const/converter_config.json\"\n",
    "command = f\"python tools/generateConfigForConverter.py -i {os.path.join(os.getcwd(),'Proteasome/in_vitro/const/validation/ready_validation_const_2.csv')} -o {os.path.join(os.getcwd(),'Proteasome/in_vitro/const/sdf')} -c peptide -t 10 {path_to_config}\"\n",
    "os.system(command)\n",
    "print(\"Convertation\")\n",
    "convert_command = f\"python tools/SeqToSDF.py {path_to_config}\"\n",
    "os.system(convert_command)"
   ],
   "metadata": {
    "collapsed": false,
    "ExecuteTime": {
     "end_time": "2023-05-11T06:06:24.122061705Z",
     "start_time": "2023-05-11T06:06:23.358847379Z"
    }
   }
  },
  {
   "cell_type": "code",
   "execution_count": 70,
   "outputs": [],
   "source": [
    "%%bash\n",
    "cd /home/stotoshka/Documents/ANGEL_dev\n",
    "rm Proteasome/in_vitro/const/sdf/*.txt\n",
    "cp Proteasome/in_vitro/const/sdf/ready_train_const_2.sdf /run/user/1000/gvfs/smb-share:server=192.168.0.10,share=diplom/ANGEL/const/sdf\n",
    "cp Proteasome/in_vitro/const/sdf/ready_validation_const_2.sdf /run/user/1000/gvfs/smb-share:server=192.168.0.10,share=diplom/ANGEL/const/sdf"
   ],
   "metadata": {
    "collapsed": false,
    "ExecuteTime": {
     "end_time": "2023-05-11T06:06:30.854256033Z",
     "start_time": "2023-05-11T06:06:26.742316809Z"
    }
   }
  },
  {
   "cell_type": "code",
   "execution_count": 49,
   "outputs": [
    {
     "name": "stdout",
     "output_type": "stream",
     "text": [
      "Success\n"
     ]
    },
    {
     "data": {
      "text/plain": "0"
     },
     "execution_count": 49,
     "metadata": {},
     "output_type": "execute_result"
    }
   ],
   "source": [
    "command = f\"python tools/generateConfigForTrain.py -l {7} -b total_const_2_7 -s sdf/ready_train_const_2.sdf -a activity -p models/total_const_2_7 /run/user/1000/gvfs/smb-share:server=192.168.0.10,share=diplom/ANGEL/const/total_const_2_7_tr.txt\"\n",
    "os.system(command)"
   ],
   "metadata": {
    "collapsed": false,
    "ExecuteTime": {
     "end_time": "2023-05-11T05:46:13.976873887Z",
     "start_time": "2023-05-11T05:46:13.836680256Z"
    }
   }
  },
  {
   "cell_type": "code",
   "execution_count": 80,
   "outputs": [
    {
     "name": "stdout",
     "output_type": "stream",
     "text": [
      "Success\n"
     ]
    },
    {
     "data": {
      "text/plain": "0"
     },
     "execution_count": 80,
     "metadata": {},
     "output_type": "execute_result"
    }
   ],
   "source": [
    "command = f\"python tools/generateConfigForPrediction.py -m models/total_const_2_7.MSAR -s sdf/ready_validation_const_2.sdf -a sequence -p results /run/user/1000/gvfs/smb-share:server=192.168.0.10,share=diplom/ANGEL/const/total_const_2_7_val.txt\"\n",
    "os.system(command)"
   ],
   "metadata": {
    "collapsed": false,
    "ExecuteTime": {
     "end_time": "2023-05-11T06:17:57.653923108Z",
     "start_time": "2023-05-11T06:17:57.541584219Z"
    }
   }
  },
  {
   "cell_type": "code",
   "execution_count": 81,
   "outputs": [],
   "source": [
    "def checkTrain(path):\n",
    "    flag = False\n",
    "    header = \"No\t Check\t Number\t IAP\t 20-Fold\t Activity Type\"\n",
    "    try:\n",
    "        with open(path, \"r\", encoding=\"cp1252\") as log:\n",
    "            for line in log:\n",
    "                if header in line:\n",
    "                    flag = True\n",
    "    except:\n",
    "        traceback.print_exc()\n",
    "    finally:\n",
    "        return flag\n",
    "\n",
    "\n",
    "def checkValidation(path):\n",
    "    try:\n",
    "        f = False\n",
    "        with open(path, \"r\", encoding=\"cp1252\") as log:\n",
    "            for line in log:\n",
    "                if \"are predicted\" in line:\n",
    "                    comps = line.strip().split(\" \")\n",
    "                    if int(comps[0]) == int(comps[2]):\n",
    "                        f = True\n",
    "                    else:\n",
    "                        f = False\n",
    "    except:\n",
    "        traceback.print_exc()\n",
    "    finally:\n",
    "        return f"
   ],
   "metadata": {
    "collapsed": false,
    "ExecuteTime": {
     "end_time": "2023-05-11T06:17:57.941699696Z",
     "start_time": "2023-05-11T06:17:57.909359727Z"
    }
   }
  },
  {
   "cell_type": "code",
   "execution_count": 59,
   "outputs": [
    {
     "name": "stderr",
     "output_type": "stream",
     "text": [
      "Socket exception: Connection reset by peer (104)\n",
      "Socket exception: Connection reset by peer (104)\n"
     ]
    },
    {
     "name": "stdout",
     "output_type": "stream",
     "text": [
      "Train ended\n",
      "CPU times: user 238 ms, sys: 76.4 ms, total: 315 ms\n",
      "Wall time: 1min 39s\n"
     ]
    }
   ],
   "source": [
    "%%time\n",
    "client = paramiko.SSHClient()\n",
    "client.set_missing_host_key_policy(paramiko.AutoAddPolicy())\n",
    "password = getpass()\n",
    "client.connect('192.168.0.10', username='SmirnygaTotoshka', password=password)\n",
    "\n",
    "tr_command = r\"C:\\Users\\SmirnygaTotoshka\\Desktop\\OLMPASS\\OLMPASSdoSAR.exe C:\\Users\\SmirnygaTotoshka\\Desktop\\diplom\\ANGEL\\const\\total_const_2_7_tr.txt\"\n",
    "stdin, stdout, stderr = client.exec_command(tr_command)  # Non-blocking call\n",
    "exit_status = stdout.channel.recv_exit_status()  # Blocking call\n",
    "if exit_status == 0:\n",
    "    if checkTrain(f\"/run/user/1000/gvfs/smb-share:server=192.168.0.10,share=diplom/ANGEL/const/models/total_const_2_7.HST\"):\n",
    "        print(\"Train ended\")\n",
    "    else:\n",
    "        print(f\"Train ended with errors\")\n",
    "else:\n",
    "    print(\"Error\", exit_status)\n",
    "client.close()"
   ],
   "metadata": {
    "collapsed": false,
    "ExecuteTime": {
     "end_time": "2023-05-11T05:48:33.419106817Z",
     "start_time": "2023-05-11T05:46:54.110382500Z"
    }
   }
  },
  {
   "cell_type": "code",
   "execution_count": 82,
   "outputs": [
    {
     "name": "stdout",
     "output_type": "stream",
     "text": [
      "Validation ended with errors\n",
      "CPU times: user 36.1 ms, sys: 547 µs, total: 36.7 ms\n",
      "Wall time: 9.62 s\n"
     ]
    }
   ],
   "source": [
    "%%time\n",
    "client.connect('192.168.0.10', username='SmirnygaTotoshka', password=password)\n",
    "val_command = r\"C:\\Users\\SmirnygaTotoshka\\Desktop\\OLMPASS\\OLMPASS2CSV.exe C:\\Users\\SmirnygaTotoshka\\Desktop\\diplom\\ANGEL\\const\\total_const_2_7_val.txt\"\n",
    "stdin_val, stdout_val, stderr_val = client.exec_command(val_command)  # Non-blocking call\n",
    "exit_status_val = stdout_val.channel.recv_exit_status()\n",
    "if exit_status_val == 0:\n",
    "    if checkValidation(f\"/run/user/1000/gvfs/smb-share:server=192.168.0.10,share=diplom/ANGEL/const/results/ready_validation_const_2-total_const_2_7.HST\"):\n",
    "        print(\"Validation ended\")\n",
    "    else:\n",
    "        print(f\"Validation ended with errors\")\n",
    "else:\n",
    "    print(\"Error validation\", exit_status_val)\n",
    "client.close()"
   ],
   "metadata": {
    "collapsed": false,
    "ExecuteTime": {
     "end_time": "2023-05-11T06:18:11.538307840Z",
     "start_time": "2023-05-11T06:18:01.867459024Z"
    }
   }
  },
  {
   "cell_type": "code",
   "execution_count": 83,
   "outputs": [],
   "source": [
    "%%bash\n",
    "cd /home/stotoshka/Documents/ANGEL_dev\n",
    "cp /run/user/1000/gvfs/smb-share:server=192.168.0.10,share=diplom/ANGEL/const/models/total* Proteasome/in_vitro/const/results/validation/models/\n",
    "cp /run/user/1000/gvfs/smb-share:server=192.168.0.10,share=diplom/ANGEL/const/results/ready_validation* Proteasome/in_vitro/const/results/validation/results"
   ],
   "metadata": {
    "collapsed": false,
    "ExecuteTime": {
     "end_time": "2023-05-11T06:18:13.659032411Z",
     "start_time": "2023-05-11T06:18:11.526837051Z"
    }
   }
  },
  {
   "cell_type": "code",
   "execution_count": 73,
   "outputs": [],
   "source": [
    "path = f\"Proteasome/in_vitro/const/results/validation/models/total_const_2_7.HST\"\n",
    "header = \"No\t Check\t Number\t IAP\t 20-Fold\t Activity\"\n",
    "tbl = pd.DataFrame(columns=[\"model_name\",\"window\", \"descriptor_level\", \"iap\", \"twentyCV\", \"activity\", \"num_subst\"])\n",
    "with open(path, \"r\", encoding='cp1252') as f:\n",
    "    split_name = re.split(\"_\", os.path.splitext(os.path.basename(path))[0])\n",
    "    model_name = split_name[1]\n",
    "    window = split_name[2]\n",
    "    level = split_name[3]\n",
    "    lines = f.readlines()\n",
    "    flag = False\n",
    "    for line in lines:\n",
    "        if header in line:\n",
    "            flag = True\n",
    "            continue\n",
    "        if line == \"\\n\" and flag:\n",
    "            break\n",
    "        if flag:\n",
    "            components = re.split(\"\\t\\\\s+\", line)\n",
    "            num_subst = components[2]\n",
    "            iap = components[3]\n",
    "            twentyCV = components[4]\n",
    "            activity = components[5].strip()\n",
    "            row = pd.DataFrame.from_dict({\"model_name\": [model_name],\n",
    "                                          \"window\":[int(window)],\n",
    "                                          \"descriptor_level\": [int(level)],\n",
    "                                          \"num_subst\": [int(num_subst)],\n",
    "                                          \"iap\": [float(iap.replace(\",\", \".\"))],\n",
    "                                          \"twentyCV\": [float(twentyCV.replace(\",\", \".\"))],\n",
    "                                          \"activity\": [int(activity)]})\n",
    "            tbl = pd.concat([tbl, row], ignore_index=True)\n",
    "    if not flag:\n",
    "        print(f\"total not any predictable activity\")\n",
    "tbl.to_excel(\"Proteasome/in_vitro/const/results/validation/internal.xlsx\", index = False)"
   ],
   "metadata": {
    "collapsed": false,
    "ExecuteTime": {
     "end_time": "2023-05-11T06:07:26.178507699Z",
     "start_time": "2023-05-11T06:07:26.145241655Z"
    }
   }
  },
  {
   "cell_type": "code",
   "execution_count": 74,
   "outputs": [
    {
     "data": {
      "text/plain": "  model_name  window  descriptor_level     iap  twentyCV  activity  num_subst\n0      const       2                 7  0.6786    0.6798         1       1247\n1      const       2                 7  0.6746    0.6759         0       1621",
      "text/html": "<div>\n<style scoped>\n    .dataframe tbody tr th:only-of-type {\n        vertical-align: middle;\n    }\n\n    .dataframe tbody tr th {\n        vertical-align: top;\n    }\n\n    .dataframe thead th {\n        text-align: right;\n    }\n</style>\n<table border=\"1\" class=\"dataframe\">\n  <thead>\n    <tr style=\"text-align: right;\">\n      <th></th>\n      <th>model_name</th>\n      <th>window</th>\n      <th>descriptor_level</th>\n      <th>iap</th>\n      <th>twentyCV</th>\n      <th>activity</th>\n      <th>num_subst</th>\n    </tr>\n  </thead>\n  <tbody>\n    <tr>\n      <th>0</th>\n      <td>const</td>\n      <td>2</td>\n      <td>7</td>\n      <td>0.6786</td>\n      <td>0.6798</td>\n      <td>1</td>\n      <td>1247</td>\n    </tr>\n    <tr>\n      <th>1</th>\n      <td>const</td>\n      <td>2</td>\n      <td>7</td>\n      <td>0.6746</td>\n      <td>0.6759</td>\n      <td>0</td>\n      <td>1621</td>\n    </tr>\n  </tbody>\n</table>\n</div>"
     },
     "execution_count": 74,
     "metadata": {},
     "output_type": "execute_result"
    }
   ],
   "source": [
    "internal_res = pd.read_excel(\"Proteasome/in_vitro/const/results/validation/internal.xlsx\")\n",
    "internal_res.head()"
   ],
   "metadata": {
    "collapsed": false,
    "ExecuteTime": {
     "end_time": "2023-05-11T06:07:26.178795625Z",
     "start_time": "2023-05-11T06:07:26.167639581Z"
    }
   }
  },
  {
   "cell_type": "code",
   "execution_count": 3,
   "outputs": [],
   "source": [
    "def deconvoluteTrue(X, excluded=None):\n",
    "    seqs = list(X[\"substrate\"].unique())\n",
    "    for i in X.index:\n",
    "        finded_start = X.loc[i, \"substrate\"].find(X.loc[i, \"fragment\"])\n",
    "        X.loc[i, \"start\"] = finded_start - 1  # сайт левее найденной позиции (левее N-конца)\n",
    "        X.loc[i, \"end\"] = finded_start + len(X.loc[i, \"fragment\"]) - 1  # сайт левее найденной позиции (C-конец)\n",
    "    result = pd.DataFrame(columns=[\"residue\", \"sequence\", \"activity\"])\n",
    "    k = 0\n",
    "    for s in seqs:\n",
    "        subset = X.query(\"substrate == @s\").reset_index(drop=True)\n",
    "        start = list(subset['start'])\n",
    "        end = list(subset['end'])\n",
    "        for i in range(0, len(s)):\n",
    "            if excluded is not None:\n",
    "                if not pd.isna(subset.loc[0,excluded]):\n",
    "                    ex = subset.loc[0, excluded].split(\";\")\n",
    "                else:\n",
    "                    ex = []\n",
    "                if i in ex:\n",
    "                    result.loc[k] = [s[i], s, 0]\n",
    "                else:\n",
    "                    result.loc[k] = [s[i], s, int(i in start or i in end)]\n",
    "            else:\n",
    "                result.loc[k] = [s[i], s, int(i in start or i in end)]\n",
    "            k += 1\n",
    "    print(result.activity.value_counts())\n",
    "    return result"
   ],
   "metadata": {
    "collapsed": false,
    "ExecuteTime": {
     "end_time": "2023-05-13T19:14:20.554124644Z",
     "start_time": "2023-05-13T19:14:20.529718140Z"
    }
   }
  },
  {
   "cell_type": "code",
   "execution_count": 4,
   "outputs": [
    {
     "data": {
      "text/plain": "  peptide sequence   full_sequence  activity\n0   ALETG    ALETG  ALETGTIFLPVRHD         0\n1   LETGT    LETGT  ALETGTIFLPVRHD         1\n2   ETGTI    ETGTI  ALETGTIFLPVRHD         0\n3   TGTIF    TGTIF  ALETGTIFLPVRHD         0\n4   GTIFL    GTIFL  ALETGTIFLPVRHD         0",
      "text/html": "<div>\n<style scoped>\n    .dataframe tbody tr th:only-of-type {\n        vertical-align: middle;\n    }\n\n    .dataframe tbody tr th {\n        vertical-align: top;\n    }\n\n    .dataframe thead th {\n        text-align: right;\n    }\n</style>\n<table border=\"1\" class=\"dataframe\">\n  <thead>\n    <tr style=\"text-align: right;\">\n      <th></th>\n      <th>peptide</th>\n      <th>sequence</th>\n      <th>full_sequence</th>\n      <th>activity</th>\n    </tr>\n  </thead>\n  <tbody>\n    <tr>\n      <th>0</th>\n      <td>ALETG</td>\n      <td>ALETG</td>\n      <td>ALETGTIFLPVRHD</td>\n      <td>0</td>\n    </tr>\n    <tr>\n      <th>1</th>\n      <td>LETGT</td>\n      <td>LETGT</td>\n      <td>ALETGTIFLPVRHD</td>\n      <td>1</td>\n    </tr>\n    <tr>\n      <th>2</th>\n      <td>ETGTI</td>\n      <td>ETGTI</td>\n      <td>ALETGTIFLPVRHD</td>\n      <td>0</td>\n    </tr>\n    <tr>\n      <th>3</th>\n      <td>TGTIF</td>\n      <td>TGTIF</td>\n      <td>ALETGTIFLPVRHD</td>\n      <td>0</td>\n    </tr>\n    <tr>\n      <th>4</th>\n      <td>GTIFL</td>\n      <td>GTIFL</td>\n      <td>ALETGTIFLPVRHD</td>\n      <td>0</td>\n    </tr>\n  </tbody>\n</table>\n</div>"
     },
     "execution_count": 4,
     "metadata": {},
     "output_type": "execute_result"
    }
   ],
   "source": [
    "sample = pd.read_csv(\"Proteasome/in_vitro/const/validation/ready_validation_const_2.csv\",sep = \";\")\n",
    "sample.head()"
   ],
   "metadata": {
    "collapsed": false,
    "ExecuteTime": {
     "end_time": "2023-05-13T19:14:23.250232146Z",
     "start_time": "2023-05-13T19:14:23.233371700Z"
    }
   }
  },
  {
   "cell_type": "code",
   "execution_count": 5,
   "outputs": [
    {
     "data": {
      "text/plain": "  sequence       1       0\n0    ALETG -0.0755 -0.0061\n1    LETGT -0.5346  0.5043\n2    ETGTI -0.2856  0.2073\n3    TGTIF -0.5881  0.5598\n4    GTIFL  0.3673 -0.3944",
      "text/html": "<div>\n<style scoped>\n    .dataframe tbody tr th:only-of-type {\n        vertical-align: middle;\n    }\n\n    .dataframe tbody tr th {\n        vertical-align: top;\n    }\n\n    .dataframe thead th {\n        text-align: right;\n    }\n</style>\n<table border=\"1\" class=\"dataframe\">\n  <thead>\n    <tr style=\"text-align: right;\">\n      <th></th>\n      <th>sequence</th>\n      <th>1</th>\n      <th>0</th>\n    </tr>\n  </thead>\n  <tbody>\n    <tr>\n      <th>0</th>\n      <td>ALETG</td>\n      <td>-0.0755</td>\n      <td>-0.0061</td>\n    </tr>\n    <tr>\n      <th>1</th>\n      <td>LETGT</td>\n      <td>-0.5346</td>\n      <td>0.5043</td>\n    </tr>\n    <tr>\n      <th>2</th>\n      <td>ETGTI</td>\n      <td>-0.2856</td>\n      <td>0.2073</td>\n    </tr>\n    <tr>\n      <th>3</th>\n      <td>TGTIF</td>\n      <td>-0.5881</td>\n      <td>0.5598</td>\n    </tr>\n    <tr>\n      <th>4</th>\n      <td>GTIFL</td>\n      <td>0.3673</td>\n      <td>-0.3944</td>\n    </tr>\n  </tbody>\n</table>\n</div>"
     },
     "execution_count": 5,
     "metadata": {},
     "output_type": "execute_result"
    }
   ],
   "source": [
    "prediction = pd.read_csv(\"Proteasome/in_vitro/const/results/validation/results/ready_validation_const_2-total_const_2_7.csv\",sep = \";\", header = 0,decimal=\",\")\n",
    "prediction = prediction.drop(columns=[\"Substructure Descriptors\", \"New Descriptors\", \"Possible Activities at Pa>Pi\"])\n",
    "prediction.head()"
   ],
   "metadata": {
    "collapsed": false,
    "ExecuteTime": {
     "end_time": "2023-05-13T19:14:25.297581401Z",
     "start_time": "2023-05-13T19:14:25.279118082Z"
    }
   }
  },
  {
   "cell_type": "code",
   "execution_count": 6,
   "outputs": [
    {
     "data": {
      "text/plain": "     peptide sequence                  full_sequence  activity    pred  \\\n0      ALETG    ALETG                 ALETGTIFLPVRHD         0 -0.0755   \n1      LETGT    LETGT                 ALETGTIFLPVRHD         1 -0.5346   \n2      ETGTI    ETGTI                 ALETGTIFLPVRHD         0 -0.2856   \n3      TGTIF    TGTIF                 ALETGTIFLPVRHD         0 -0.5881   \n4      GTIFL    GTIFL                 ALETGTIFLPVRHD         0  0.3673   \n...      ...      ...                            ...       ...     ...   \n2282   TMLNT    TMLNT  PEVIPMFSALSEGATPQDLNTMLNTVGGH         1  0.4137   \n2283   MLNTV    MLNTV  PEVIPMFSALSEGATPQDLNTMLNTVGGH         0  0.2455   \n2284   LNTVG    LNTVG  PEVIPMFSALSEGATPQDLNTMLNTVGGH         0  0.2945   \n2285   NTVGG    NTVGG  PEVIPMFSALSEGATPQDLNTMLNTVGGH         0  0.0168   \n2286   TVGGH    TVGGH  PEVIPMFSALSEGATPQDLNTMLNTVGGH         0 -0.3517   \n\n     pred_pep  \n0       ALETG  \n1       LETGT  \n2       ETGTI  \n3       TGTIF  \n4       GTIFL  \n...       ...  \n2282    TMLNT  \n2283    MLNTV  \n2284    LNTVG  \n2285    NTVGG  \n2286    TVGGH  \n\n[2287 rows x 6 columns]",
      "text/html": "<div>\n<style scoped>\n    .dataframe tbody tr th:only-of-type {\n        vertical-align: middle;\n    }\n\n    .dataframe tbody tr th {\n        vertical-align: top;\n    }\n\n    .dataframe thead th {\n        text-align: right;\n    }\n</style>\n<table border=\"1\" class=\"dataframe\">\n  <thead>\n    <tr style=\"text-align: right;\">\n      <th></th>\n      <th>peptide</th>\n      <th>sequence</th>\n      <th>full_sequence</th>\n      <th>activity</th>\n      <th>pred</th>\n      <th>pred_pep</th>\n    </tr>\n  </thead>\n  <tbody>\n    <tr>\n      <th>0</th>\n      <td>ALETG</td>\n      <td>ALETG</td>\n      <td>ALETGTIFLPVRHD</td>\n      <td>0</td>\n      <td>-0.0755</td>\n      <td>ALETG</td>\n    </tr>\n    <tr>\n      <th>1</th>\n      <td>LETGT</td>\n      <td>LETGT</td>\n      <td>ALETGTIFLPVRHD</td>\n      <td>1</td>\n      <td>-0.5346</td>\n      <td>LETGT</td>\n    </tr>\n    <tr>\n      <th>2</th>\n      <td>ETGTI</td>\n      <td>ETGTI</td>\n      <td>ALETGTIFLPVRHD</td>\n      <td>0</td>\n      <td>-0.2856</td>\n      <td>ETGTI</td>\n    </tr>\n    <tr>\n      <th>3</th>\n      <td>TGTIF</td>\n      <td>TGTIF</td>\n      <td>ALETGTIFLPVRHD</td>\n      <td>0</td>\n      <td>-0.5881</td>\n      <td>TGTIF</td>\n    </tr>\n    <tr>\n      <th>4</th>\n      <td>GTIFL</td>\n      <td>GTIFL</td>\n      <td>ALETGTIFLPVRHD</td>\n      <td>0</td>\n      <td>0.3673</td>\n      <td>GTIFL</td>\n    </tr>\n    <tr>\n      <th>...</th>\n      <td>...</td>\n      <td>...</td>\n      <td>...</td>\n      <td>...</td>\n      <td>...</td>\n      <td>...</td>\n    </tr>\n    <tr>\n      <th>2282</th>\n      <td>TMLNT</td>\n      <td>TMLNT</td>\n      <td>PEVIPMFSALSEGATPQDLNTMLNTVGGH</td>\n      <td>1</td>\n      <td>0.4137</td>\n      <td>TMLNT</td>\n    </tr>\n    <tr>\n      <th>2283</th>\n      <td>MLNTV</td>\n      <td>MLNTV</td>\n      <td>PEVIPMFSALSEGATPQDLNTMLNTVGGH</td>\n      <td>0</td>\n      <td>0.2455</td>\n      <td>MLNTV</td>\n    </tr>\n    <tr>\n      <th>2284</th>\n      <td>LNTVG</td>\n      <td>LNTVG</td>\n      <td>PEVIPMFSALSEGATPQDLNTMLNTVGGH</td>\n      <td>0</td>\n      <td>0.2945</td>\n      <td>LNTVG</td>\n    </tr>\n    <tr>\n      <th>2285</th>\n      <td>NTVGG</td>\n      <td>NTVGG</td>\n      <td>PEVIPMFSALSEGATPQDLNTMLNTVGGH</td>\n      <td>0</td>\n      <td>0.0168</td>\n      <td>NTVGG</td>\n    </tr>\n    <tr>\n      <th>2286</th>\n      <td>TVGGH</td>\n      <td>TVGGH</td>\n      <td>PEVIPMFSALSEGATPQDLNTMLNTVGGH</td>\n      <td>0</td>\n      <td>-0.3517</td>\n      <td>TVGGH</td>\n    </tr>\n  </tbody>\n</table>\n<p>2287 rows × 6 columns</p>\n</div>"
     },
     "execution_count": 6,
     "metadata": {},
     "output_type": "execute_result"
    }
   ],
   "source": [
    "j = sample.index[0]\n",
    "flag = True\n",
    "for i in sample.index:\n",
    "    if flag:\n",
    "        j = i\n",
    "    else:\n",
    "        j += 1\n",
    "    if sample.loc[i,\"peptide\"] == prediction.loc[j,\"sequence\"]:\n",
    "        sample.loc[i,\"pred\"] = prediction.loc[j,\"1\"]\n",
    "        sample.loc[i,\"pred_pep\"] = prediction.loc[j,\"sequence\"]\n",
    "    else:\n",
    "        flag = False\n",
    "        print(f\"Mismatch {i} {sample.loc[i,'peptide']} {j} {prediction.loc[j,'sequence']}\")\n",
    "        sample.loc[i,\"pred\"] = 0\n",
    "\n",
    "sample"
   ],
   "metadata": {
    "collapsed": false,
    "ExecuteTime": {
     "end_time": "2023-05-13T19:14:26.789019597Z",
     "start_time": "2023-05-13T19:14:26.425153005Z"
    }
   }
  },
  {
   "cell_type": "code",
   "execution_count": 7,
   "outputs": [
    {
     "data": {
      "text/plain": "     residue                       full_seq peptide  prediction\n0          A                 ALETGTIFLPVRHD              0.0000\n1          L                 ALETGTIFLPVRHD              0.0000\n2          E                 ALETGTIFLPVRHD   ALETG     -0.0755\n3          T                 ALETGTIFLPVRHD   LETGT     -0.5346\n4          G                 ALETGTIFLPVRHD   ETGTI     -0.2856\n...      ...                            ...     ...         ...\n3138       T  PEVIPMFSALSEGATPQDLNTMLNTVGGH   LNTVG      0.2945\n3139       V  PEVIPMFSALSEGATPQDLNTMLNTVGGH   NTVGG      0.0168\n3140       G  PEVIPMFSALSEGATPQDLNTMLNTVGGH   TVGGH     -0.3517\n3141       G  PEVIPMFSALSEGATPQDLNTMLNTVGGH              0.0000\n3142       H  PEVIPMFSALSEGATPQDLNTMLNTVGGH              0.0000\n\n[3143 rows x 4 columns]",
      "text/html": "<div>\n<style scoped>\n    .dataframe tbody tr th:only-of-type {\n        vertical-align: middle;\n    }\n\n    .dataframe tbody tr th {\n        vertical-align: top;\n    }\n\n    .dataframe thead th {\n        text-align: right;\n    }\n</style>\n<table border=\"1\" class=\"dataframe\">\n  <thead>\n    <tr style=\"text-align: right;\">\n      <th></th>\n      <th>residue</th>\n      <th>full_seq</th>\n      <th>peptide</th>\n      <th>prediction</th>\n    </tr>\n  </thead>\n  <tbody>\n    <tr>\n      <th>0</th>\n      <td>A</td>\n      <td>ALETGTIFLPVRHD</td>\n      <td></td>\n      <td>0.0000</td>\n    </tr>\n    <tr>\n      <th>1</th>\n      <td>L</td>\n      <td>ALETGTIFLPVRHD</td>\n      <td></td>\n      <td>0.0000</td>\n    </tr>\n    <tr>\n      <th>2</th>\n      <td>E</td>\n      <td>ALETGTIFLPVRHD</td>\n      <td>ALETG</td>\n      <td>-0.0755</td>\n    </tr>\n    <tr>\n      <th>3</th>\n      <td>T</td>\n      <td>ALETGTIFLPVRHD</td>\n      <td>LETGT</td>\n      <td>-0.5346</td>\n    </tr>\n    <tr>\n      <th>4</th>\n      <td>G</td>\n      <td>ALETGTIFLPVRHD</td>\n      <td>ETGTI</td>\n      <td>-0.2856</td>\n    </tr>\n    <tr>\n      <th>...</th>\n      <td>...</td>\n      <td>...</td>\n      <td>...</td>\n      <td>...</td>\n    </tr>\n    <tr>\n      <th>3138</th>\n      <td>T</td>\n      <td>PEVIPMFSALSEGATPQDLNTMLNTVGGH</td>\n      <td>LNTVG</td>\n      <td>0.2945</td>\n    </tr>\n    <tr>\n      <th>3139</th>\n      <td>V</td>\n      <td>PEVIPMFSALSEGATPQDLNTMLNTVGGH</td>\n      <td>NTVGG</td>\n      <td>0.0168</td>\n    </tr>\n    <tr>\n      <th>3140</th>\n      <td>G</td>\n      <td>PEVIPMFSALSEGATPQDLNTMLNTVGGH</td>\n      <td>TVGGH</td>\n      <td>-0.3517</td>\n    </tr>\n    <tr>\n      <th>3141</th>\n      <td>G</td>\n      <td>PEVIPMFSALSEGATPQDLNTMLNTVGGH</td>\n      <td></td>\n      <td>0.0000</td>\n    </tr>\n    <tr>\n      <th>3142</th>\n      <td>H</td>\n      <td>PEVIPMFSALSEGATPQDLNTMLNTVGGH</td>\n      <td></td>\n      <td>0.0000</td>\n    </tr>\n  </tbody>\n</table>\n<p>3143 rows × 4 columns</p>\n</div>"
     },
     "execution_count": 7,
     "metadata": {},
     "output_type": "execute_result"
    }
   ],
   "source": [
    "window = 2\n",
    "result = pd.DataFrame(columns=[\"residue\",\"full_seq\", \"peptide\",\"prediction\"])\n",
    "unique_fulls = sample.full_sequence.unique()\n",
    "k = 0\n",
    "for seq in unique_fulls:\n",
    "    subset = sample.query(\"full_sequence == @seq\")\n",
    "    sub_i = 0\n",
    "    for i,r in enumerate(seq):\n",
    "        if i < window or i > len(seq)-window-1:\n",
    "            result.loc[k] = [r,seq,\"\",0]\n",
    "            k+=1\n",
    "        else:\n",
    "            pos = subset.index[sub_i]\n",
    "            result.loc[k] = [r,seq,subset.loc[pos,\"peptide\"],subset.loc[pos,\"pred\"]]\n",
    "            k+=1\n",
    "            sub_i+=1\n",
    "\n",
    "result"
   ],
   "metadata": {
    "collapsed": false,
    "ExecuteTime": {
     "end_time": "2023-05-13T19:14:37.701556354Z",
     "start_time": "2023-05-13T19:14:34.747165478Z"
    }
   }
  },
  {
   "cell_type": "code",
   "execution_count": 8,
   "outputs": [],
   "source": [
    "result.to_excel(\"Proteasome/in_vitro/const/results/validation/angel.xlsx\")"
   ],
   "metadata": {
    "collapsed": false,
    "ExecuteTime": {
     "end_time": "2023-05-13T19:15:22.895482394Z",
     "start_time": "2023-05-13T19:15:22.685891305Z"
    }
   }
  },
  {
   "cell_type": "code",
   "execution_count": 9,
   "outputs": [
    {
     "name": "stdout",
     "output_type": "stream",
     "text": [
      "0    2401\n",
      "1     742\n",
      "Name: activity, dtype: int64\n"
     ]
    },
    {
     "data": {
      "text/plain": "     residue                       sequence  activity\n0          A                 ALETGTIFLPVRHD         0\n1          L                 ALETGTIFLPVRHD         0\n2          E                 ALETGTIFLPVRHD         0\n3          T                 ALETGTIFLPVRHD         1\n4          G                 ALETGTIFLPVRHD         0\n...      ...                            ...       ...\n3138       T  PEVIPMFSALSEGATPQDLNTMLNTVGGH         0\n3139       V  PEVIPMFSALSEGATPQDLNTMLNTVGGH         0\n3140       G  PEVIPMFSALSEGATPQDLNTMLNTVGGH         0\n3141       G  PEVIPMFSALSEGATPQDLNTMLNTVGGH         0\n3142       H  PEVIPMFSALSEGATPQDLNTMLNTVGGH         0\n\n[3143 rows x 3 columns]",
      "text/html": "<div>\n<style scoped>\n    .dataframe tbody tr th:only-of-type {\n        vertical-align: middle;\n    }\n\n    .dataframe tbody tr th {\n        vertical-align: top;\n    }\n\n    .dataframe thead th {\n        text-align: right;\n    }\n</style>\n<table border=\"1\" class=\"dataframe\">\n  <thead>\n    <tr style=\"text-align: right;\">\n      <th></th>\n      <th>residue</th>\n      <th>sequence</th>\n      <th>activity</th>\n    </tr>\n  </thead>\n  <tbody>\n    <tr>\n      <th>0</th>\n      <td>A</td>\n      <td>ALETGTIFLPVRHD</td>\n      <td>0</td>\n    </tr>\n    <tr>\n      <th>1</th>\n      <td>L</td>\n      <td>ALETGTIFLPVRHD</td>\n      <td>0</td>\n    </tr>\n    <tr>\n      <th>2</th>\n      <td>E</td>\n      <td>ALETGTIFLPVRHD</td>\n      <td>0</td>\n    </tr>\n    <tr>\n      <th>3</th>\n      <td>T</td>\n      <td>ALETGTIFLPVRHD</td>\n      <td>1</td>\n    </tr>\n    <tr>\n      <th>4</th>\n      <td>G</td>\n      <td>ALETGTIFLPVRHD</td>\n      <td>0</td>\n    </tr>\n    <tr>\n      <th>...</th>\n      <td>...</td>\n      <td>...</td>\n      <td>...</td>\n    </tr>\n    <tr>\n      <th>3138</th>\n      <td>T</td>\n      <td>PEVIPMFSALSEGATPQDLNTMLNTVGGH</td>\n      <td>0</td>\n    </tr>\n    <tr>\n      <th>3139</th>\n      <td>V</td>\n      <td>PEVIPMFSALSEGATPQDLNTMLNTVGGH</td>\n      <td>0</td>\n    </tr>\n    <tr>\n      <th>3140</th>\n      <td>G</td>\n      <td>PEVIPMFSALSEGATPQDLNTMLNTVGGH</td>\n      <td>0</td>\n    </tr>\n    <tr>\n      <th>3141</th>\n      <td>G</td>\n      <td>PEVIPMFSALSEGATPQDLNTMLNTVGGH</td>\n      <td>0</td>\n    </tr>\n    <tr>\n      <th>3142</th>\n      <td>H</td>\n      <td>PEVIPMFSALSEGATPQDLNTMLNTVGGH</td>\n      <td>0</td>\n    </tr>\n  </tbody>\n</table>\n<p>3143 rows × 3 columns</p>\n</div>"
     },
     "execution_count": 9,
     "metadata": {},
     "output_type": "execute_result"
    }
   ],
   "source": [
    "angel_result = pd.DataFrame(columns=[\"residue\", \"sequence\", \"true\",\"prediction\"])\n",
    "total_validation = pd.read_csv(\"Proteasome/in_vitro/const/validation/total_validation_const.csv\",sep = \";\")\n",
    "true = deconvoluteTrue(total_validation,\"exclusions\")\n",
    "true"
   ],
   "metadata": {
    "collapsed": false,
    "ExecuteTime": {
     "end_time": "2023-05-13T19:15:26.941532109Z",
     "start_time": "2023-05-13T19:15:23.875014528Z"
    }
   }
  },
  {
   "cell_type": "code",
   "execution_count": 10,
   "outputs": [],
   "source": [
    "true[\"ANGEL\"] = result[\"prediction\"]"
   ],
   "metadata": {
    "collapsed": false,
    "ExecuteTime": {
     "end_time": "2023-05-13T19:15:40.727385176Z",
     "start_time": "2023-05-13T19:15:40.722615941Z"
    }
   }
  },
  {
   "cell_type": "code",
   "execution_count": 21,
   "outputs": [
    {
     "data": {
      "text/plain": "True"
     },
     "execution_count": 21,
     "metadata": {},
     "output_type": "execute_result"
    }
   ],
   "source": [
    "(true[\"residue\"] == result['residue']).sum() == len(true.index)"
   ],
   "metadata": {
    "collapsed": false,
    "ExecuteTime": {
     "end_time": "2023-05-11T22:43:02.515067030Z",
     "start_time": "2023-05-11T22:43:02.506452025Z"
    }
   }
  },
  {
   "cell_type": "code",
   "execution_count": 22,
   "outputs": [],
   "source": [
    "true[\"ANGEL\"] = result[\"prediction\"]"
   ],
   "metadata": {
    "collapsed": false,
    "ExecuteTime": {
     "end_time": "2023-05-11T22:43:18.596980839Z",
     "start_time": "2023-05-11T22:43:18.556644053Z"
    }
   }
  },
  {
   "cell_type": "code",
   "execution_count": 11,
   "outputs": [
    {
     "data": {
      "text/plain": "     residue                       sequence  activity   ANGEL\n0          A                 ALETGTIFLPVRHD         0  0.0000\n1          L                 ALETGTIFLPVRHD         0  0.0000\n2          E                 ALETGTIFLPVRHD         0 -0.0755\n3          T                 ALETGTIFLPVRHD         1 -0.5346\n4          G                 ALETGTIFLPVRHD         0 -0.2856\n...      ...                            ...       ...     ...\n3138       T  PEVIPMFSALSEGATPQDLNTMLNTVGGH         0  0.2945\n3139       V  PEVIPMFSALSEGATPQDLNTMLNTVGGH         0  0.0168\n3140       G  PEVIPMFSALSEGATPQDLNTMLNTVGGH         0 -0.3517\n3141       G  PEVIPMFSALSEGATPQDLNTMLNTVGGH         0  0.0000\n3142       H  PEVIPMFSALSEGATPQDLNTMLNTVGGH         0  0.0000\n\n[3143 rows x 4 columns]",
      "text/html": "<div>\n<style scoped>\n    .dataframe tbody tr th:only-of-type {\n        vertical-align: middle;\n    }\n\n    .dataframe tbody tr th {\n        vertical-align: top;\n    }\n\n    .dataframe thead th {\n        text-align: right;\n    }\n</style>\n<table border=\"1\" class=\"dataframe\">\n  <thead>\n    <tr style=\"text-align: right;\">\n      <th></th>\n      <th>residue</th>\n      <th>sequence</th>\n      <th>activity</th>\n      <th>ANGEL</th>\n    </tr>\n  </thead>\n  <tbody>\n    <tr>\n      <th>0</th>\n      <td>A</td>\n      <td>ALETGTIFLPVRHD</td>\n      <td>0</td>\n      <td>0.0000</td>\n    </tr>\n    <tr>\n      <th>1</th>\n      <td>L</td>\n      <td>ALETGTIFLPVRHD</td>\n      <td>0</td>\n      <td>0.0000</td>\n    </tr>\n    <tr>\n      <th>2</th>\n      <td>E</td>\n      <td>ALETGTIFLPVRHD</td>\n      <td>0</td>\n      <td>-0.0755</td>\n    </tr>\n    <tr>\n      <th>3</th>\n      <td>T</td>\n      <td>ALETGTIFLPVRHD</td>\n      <td>1</td>\n      <td>-0.5346</td>\n    </tr>\n    <tr>\n      <th>4</th>\n      <td>G</td>\n      <td>ALETGTIFLPVRHD</td>\n      <td>0</td>\n      <td>-0.2856</td>\n    </tr>\n    <tr>\n      <th>...</th>\n      <td>...</td>\n      <td>...</td>\n      <td>...</td>\n      <td>...</td>\n    </tr>\n    <tr>\n      <th>3138</th>\n      <td>T</td>\n      <td>PEVIPMFSALSEGATPQDLNTMLNTVGGH</td>\n      <td>0</td>\n      <td>0.2945</td>\n    </tr>\n    <tr>\n      <th>3139</th>\n      <td>V</td>\n      <td>PEVIPMFSALSEGATPQDLNTMLNTVGGH</td>\n      <td>0</td>\n      <td>0.0168</td>\n    </tr>\n    <tr>\n      <th>3140</th>\n      <td>G</td>\n      <td>PEVIPMFSALSEGATPQDLNTMLNTVGGH</td>\n      <td>0</td>\n      <td>-0.3517</td>\n    </tr>\n    <tr>\n      <th>3141</th>\n      <td>G</td>\n      <td>PEVIPMFSALSEGATPQDLNTMLNTVGGH</td>\n      <td>0</td>\n      <td>0.0000</td>\n    </tr>\n    <tr>\n      <th>3142</th>\n      <td>H</td>\n      <td>PEVIPMFSALSEGATPQDLNTMLNTVGGH</td>\n      <td>0</td>\n      <td>0.0000</td>\n    </tr>\n  </tbody>\n</table>\n<p>3143 rows × 4 columns</p>\n</div>"
     },
     "execution_count": 11,
     "metadata": {},
     "output_type": "execute_result"
    }
   ],
   "source": [
    "true"
   ],
   "metadata": {
    "collapsed": false,
    "ExecuteTime": {
     "end_time": "2023-05-13T19:15:45.815544820Z",
     "start_time": "2023-05-13T19:15:45.773267999Z"
    }
   }
  },
  {
   "cell_type": "code",
   "execution_count": 24,
   "outputs": [
    {
     "name": "stdout",
     "output_type": "stream",
     "text": [
      "0.6222474687658219 0.3212639603673641\n"
     ]
    }
   ],
   "source": [
    "roc = metrics.roc_auc_score(true[\"activity\"],true[\"ANGEL\"])\n",
    "ap = metrics.average_precision_score(true[\"activity\"],true[\"ANGEL\"])\n",
    "print(roc,ap)"
   ],
   "metadata": {
    "collapsed": false,
    "ExecuteTime": {
     "end_time": "2023-05-11T22:44:07.435628630Z",
     "start_time": "2023-05-11T22:44:07.402911113Z"
    }
   }
  },
  {
   "cell_type": "code",
   "execution_count": 25,
   "outputs": [],
   "source": [
    "with open(\"Proteasome/in_vitro/const/validation/val_seqs.txt\",\"w\") as txt:\n",
    "    unique_fulls = sample.full_sequence.unique()\n",
    "    for f in unique_fulls:\n",
    "        txt.write(f\"{f}\\n\")"
   ],
   "metadata": {
    "collapsed": false,
    "ExecuteTime": {
     "end_time": "2023-05-11T22:48:21.141294454Z",
     "start_time": "2023-05-11T22:48:21.102020683Z"
    }
   }
  },
  {
   "cell_type": "code",
   "execution_count": 26,
   "outputs": [
    {
     "name": "stderr",
     "output_type": "stream",
     "text": [
      "[WDM] - Downloading: 100%|██████████| 6.75M/6.75M [00:00<00:00, 19.2MB/s]\n"
     ]
    },
    {
     "name": "stdout",
     "output_type": "stream",
     "text": [
      "0 Finish\n",
      "1 Finish\n",
      "2 Finish\n",
      "3 Finish\n",
      "4 Finish\n",
      "5 Finish\n",
      "6 Finish\n",
      "7 Finish\n",
      "8 Finish\n",
      "9 Finish\n",
      "10 Finish\n",
      "11 Finish\n",
      "12 Finish\n",
      "13 Finish\n",
      "14 Finish\n",
      "15 Finish\n",
      "16 Finish\n",
      "17 Finish\n",
      "18 Finish\n",
      "19 Finish\n",
      "20 Finish\n",
      "21 Finish\n",
      "22 Finish\n",
      "23 Finish\n",
      "24 Finish\n",
      "25 Finish\n",
      "26 Finish\n",
      "27 Finish\n",
      "28 Finish\n",
      "29 Finish\n",
      "30 Finish\n",
      "31 Finish\n",
      "32 Finish\n",
      "33 Finish\n",
      "34 Finish\n",
      "35 Finish\n",
      "36 Finish\n",
      "37 Finish\n",
      "38 Finish\n",
      "39 Finish\n",
      "40 Finish\n",
      "41 Finish\n",
      "42 Finish\n",
      "43 Finish\n",
      "44 Finish\n",
      "45 Finish\n",
      "46 Finish\n",
      "47 Finish\n",
      "48 Finish\n",
      "49 Finish\n",
      "50 Finish\n",
      "51 Finish\n",
      "52 Finish\n",
      "53 Finish\n",
      "54 Finish\n",
      "55 Finish\n",
      "56 Finish\n",
      "57 Finish\n",
      "58 Finish\n",
      "59 Finish\n",
      "60 Finish\n",
      "61 Finish\n",
      "62 Finish\n",
      "63 Finish\n",
      "64 Finish\n",
      "65 Finish\n",
      "66 Finish\n",
      "67 Finish\n",
      "68 Finish\n",
      "69 Finish\n",
      "70 Finish\n",
      "71 Finish\n",
      "72 Finish\n",
      "73 Finish\n",
      "74 Finish\n",
      "75 Finish\n",
      "76 Finish\n",
      "77 Finish\n",
      "78 Finish\n",
      "79 Finish\n",
      "80 Finish\n",
      "81 Finish\n",
      "82 Finish\n",
      "83 Finish\n",
      "84 Finish\n",
      "85 Finish\n",
      "86 Finish\n",
      "87 Finish\n",
      "88 Finish\n",
      "89 Finish\n",
      "90 Finish\n",
      "91 Finish\n",
      "92 Finish\n",
      "93 Finish\n",
      "94 Finish\n",
      "95 Finish\n",
      "96 Finish\n",
      "97 Finish\n",
      "98 Finish\n",
      "99 Finish\n",
      "100 Finish\n",
      "101 Finish\n",
      "102 Finish\n",
      "103 Finish\n",
      "104 Finish\n",
      "105 Finish\n",
      "106 Finish\n",
      "107 Finish\n",
      "108 Finish\n",
      "109 Finish\n",
      "110 Finish\n",
      "111 Finish\n",
      "112 Finish\n",
      "113 Finish\n",
      "114 Finish\n",
      "115 Finish\n",
      "116 Finish\n",
      "117 Finish\n",
      "118 Finish\n",
      "119 Finish\n",
      "120 Finish\n",
      "121 Finish\n",
      "122 Finish\n",
      "123 Finish\n",
      "124 Finish\n",
      "125 Finish\n",
      "126 Finish\n",
      "127 Finish\n",
      "128 Finish\n",
      "129 Finish\n",
      "130 Finish\n",
      "131 Finish\n",
      "132 Finish\n",
      "133 Finish\n",
      "134 Finish\n",
      "135 Finish\n",
      "136 Finish\n",
      "137 Finish\n",
      "138 Finish\n",
      "139 Finish\n",
      "140 Finish\n",
      "141 Finish\n",
      "142 Finish\n",
      "143 Finish\n",
      "144 Finish\n",
      "145 Finish\n",
      "146 Finish\n",
      "147 Finish\n",
      "148 Finish\n",
      "149 Finish\n",
      "150 Finish\n",
      "151 Finish\n",
      "152 Finish\n",
      "153 Finish\n",
      "154 Finish\n",
      "155 Finish\n",
      "156 Finish\n",
      "157 Finish\n",
      "158 Finish\n",
      "159 Finish\n",
      "160 Finish\n",
      "161 Finish\n",
      "162 Finish\n",
      "163 Finish\n",
      "164 Finish\n",
      "165 Finish\n",
      "166 Finish\n",
      "167 Finish\n",
      "168 Finish\n",
      "169 Finish\n",
      "170 Finish\n",
      "171 Finish\n",
      "172 Finish\n",
      "173 Finish\n",
      "174 Finish\n",
      "175 Finish\n",
      "176 Finish\n",
      "177 Finish\n",
      "178 Finish\n",
      "179 Finish\n",
      "180 Finish\n",
      "181 Finish\n",
      "182 Finish\n",
      "183 Finish\n",
      "184 Finish\n",
      "185 Finish\n",
      "186 Finish\n",
      "187 Finish\n",
      "188 Finish\n",
      "189 Finish\n",
      "190 Finish\n",
      "191 Finish\n",
      "192 Finish\n",
      "193 Finish\n",
      "194 Finish\n",
      "195 Finish\n",
      "196 Finish\n",
      "197 Finish\n",
      "198 Finish\n",
      "199 Finish\n",
      "200 Finish\n",
      "201 Finish\n",
      "202 Finish\n",
      "203 Finish\n",
      "204 Finish\n",
      "205 Finish\n",
      "206 Finish\n",
      "207 Finish\n",
      "208 Finish\n",
      "209 Finish\n",
      "210 Finish\n",
      "211 Finish\n",
      "212 Finish\n",
      "213 Finish\n"
     ]
    },
    {
     "name": "stderr",
     "output_type": "stream",
     "text": [
      "\n",
      "real\t20m5.572s\n",
      "user\t0m9.128s\n",
      "sys\t0m0.357s\n"
     ]
    }
   ],
   "source": [
    "%%bash\n",
    "cd /home/stotoshka/Documents/ANGEL_dev\n",
    "time python Proteasome/competitors/runNetChop.py -t vitro Proteasome/in_vitro/const/validation/val_seqs.txt Proteasome/in_vitro/const/results/validation/netchop.xlsx"
   ],
   "metadata": {
    "collapsed": false,
    "ExecuteTime": {
     "end_time": "2023-05-11T23:12:34.346902190Z",
     "start_time": "2023-05-11T22:52:28.707535494Z"
    }
   }
  },
  {
   "cell_type": "code",
   "execution_count": 27,
   "outputs": [
    {
     "name": "stdout",
     "output_type": "stream",
     "text": [
      "conda run -p /home/stotoshka/Soft/anaconda3/envs/pepsickle-v0-2-1/ pepsickle -f Proteasome/in_vitro/const/validation/pepsickle_tmp.fasta -m in-vitro -p C --human-only >> Proteasome/in_vitro/const/validation/pepsickle_result.txt\n",
      "Finish\n"
     ]
    },
    {
     "name": "stderr",
     "output_type": "stream",
     "text": [
      "\n",
      "real\t0m4.781s\n",
      "user\t0m3.531s\n",
      "sys\t0m1.459s\n"
     ]
    }
   ],
   "source": [
    "%%bash\n",
    "cd /home/stotoshka/Documents/ANGEL_dev\n",
    "time python Proteasome/competitors/runPepsickle.py -t C -m in-vitro Proteasome/in_vitro/const/validation/val_seqs.txt Proteasome/in_vitro/const/results/validation/pepsickle_in_vitro.xlsx"
   ],
   "metadata": {
    "collapsed": false,
    "ExecuteTime": {
     "end_time": "2023-05-11T23:21:29.525864058Z",
     "start_time": "2023-05-11T23:21:24.693014655Z"
    }
   }
  },
  {
   "cell_type": "code",
   "execution_count": 28,
   "outputs": [
    {
     "name": "stdout",
     "output_type": "stream",
     "text": [
      "conda run -p /home/stotoshka/Soft/anaconda3/envs/pepsickle-v0-2-1/ pepsickle -f Proteasome/in_vitro/const/validation/pepsickle_tmp.fasta -m in-vitro-2 -p C --human-only >> Proteasome/in_vitro/const/validation/pepsickle_result.txt\n",
      "Finish\n"
     ]
    },
    {
     "name": "stderr",
     "output_type": "stream",
     "text": [
      "\n",
      "real\t0m3.085s\n",
      "user\t0m4.228s\n",
      "sys\t0m1.259s\n"
     ]
    }
   ],
   "source": [
    "%%bash\n",
    "cd /home/stotoshka/Documents/ANGEL_dev\n",
    "time python Proteasome/competitors/runPepsickle.py -t C -m in-vitro-2 Proteasome/in_vitro/const/validation/val_seqs.txt Proteasome/in_vitro/const/results/validation/pepsickle_in_vitro_2.xlsx"
   ],
   "metadata": {
    "collapsed": false,
    "ExecuteTime": {
     "end_time": "2023-05-11T23:21:32.584294308Z",
     "start_time": "2023-05-11T23:21:29.525251662Z"
    }
   }
  },
  {
   "cell_type": "code",
   "execution_count": 29,
   "outputs": [
    {
     "name": "stdout",
     "output_type": "stream",
     "text": [
      "0 0\n",
      "0 1\n",
      "0 2\n",
      "1 0\n",
      "1 1\n",
      "1 2\n",
      "2 0\n",
      "2 1\n",
      "2 2\n",
      "3 0\n",
      "3 1\n",
      "3 2\n",
      "4 0\n",
      "4 1\n",
      "4 2\n",
      "5 0\n",
      "5 1\n",
      "5 2\n",
      "6 0\n",
      "6 1\n",
      "6 2\n",
      "7 0\n",
      "7 1\n",
      "7 2\n",
      "8 0\n",
      "8 1\n",
      "8 2\n",
      "9 0\n",
      "9 1\n",
      "9 2\n",
      "10 0\n",
      "10 1\n",
      "10 2\n",
      "11 0\n",
      "11 1\n",
      "11 2\n",
      "12 0\n",
      "12 1\n",
      "12 2\n",
      "13 0\n",
      "13 1\n",
      "13 2\n",
      "14 0\n",
      "14 1\n",
      "14 2\n",
      "15 0\n",
      "15 1\n",
      "15 2\n",
      "16 0\n",
      "16 1\n",
      "16 2\n",
      "17 0\n",
      "17 1\n",
      "17 2\n",
      "18 0\n",
      "18 1\n",
      "18 2\n",
      "19 0\n",
      "19 1\n",
      "19 2\n",
      "20 0\n",
      "20 1\n",
      "20 2\n",
      "21 0\n",
      "21 1\n",
      "21 2\n",
      "22 0\n",
      "22 1\n",
      "22 2\n",
      "23 0\n",
      "23 1\n",
      "23 2\n",
      "24 0\n",
      "24 1\n",
      "24 2\n",
      "25 0\n",
      "25 1\n",
      "25 2\n",
      "26 0\n",
      "26 1\n",
      "26 2\n",
      "27 0\n",
      "27 1\n",
      "27 2\n",
      "28 0\n",
      "28 1\n",
      "28 2\n",
      "29 0\n",
      "29 1\n",
      "29 2\n",
      "30 0\n",
      "30 1\n",
      "30 2\n",
      "31 0\n",
      "31 1\n",
      "31 2\n",
      "32 0\n",
      "32 1\n",
      "32 2\n",
      "33 0\n",
      "33 1\n",
      "33 2\n",
      "34 0\n",
      "34 1\n",
      "34 2\n",
      "35 0\n",
      "35 1\n",
      "35 2\n",
      "36 0\n",
      "36 1\n",
      "36 2\n",
      "37 0\n",
      "37 1\n",
      "37 2\n",
      "38 0\n",
      "38 1\n",
      "38 2\n",
      "39 0\n",
      "39 1\n",
      "39 2\n",
      "40 0\n",
      "40 1\n",
      "40 2\n",
      "41 0\n",
      "41 1\n",
      "41 2\n",
      "42 0\n",
      "42 1\n",
      "42 2\n",
      "43 0\n",
      "43 1\n",
      "43 2\n",
      "44 0\n",
      "44 1\n",
      "44 2\n",
      "45 0\n",
      "45 1\n",
      "45 2\n",
      "46 0\n",
      "46 1\n",
      "46 2\n",
      "47 0\n",
      "47 1\n",
      "47 2\n",
      "48 0\n",
      "48 1\n",
      "48 2\n",
      "49 0\n",
      "49 1\n",
      "49 2\n",
      "50 0\n",
      "50 1\n",
      "50 2\n",
      "51 0\n",
      "51 1\n",
      "51 2\n",
      "52 0\n",
      "52 1\n",
      "52 2\n",
      "53 0\n",
      "53 1\n",
      "53 2\n",
      "54 0\n",
      "54 1\n",
      "54 2\n",
      "55 0\n",
      "55 1\n",
      "55 2\n",
      "56 0\n",
      "56 1\n",
      "56 2\n",
      "57 0\n",
      "57 1\n",
      "57 2\n",
      "58 0\n",
      "58 1\n",
      "58 2\n",
      "59 0\n",
      "59 1\n",
      "59 2\n",
      "60 0\n",
      "60 1\n",
      "60 2\n",
      "61 0\n",
      "61 1\n",
      "61 2\n",
      "62 0\n",
      "62 1\n",
      "62 2\n",
      "63 0\n",
      "63 1\n",
      "63 2\n",
      "64 0\n",
      "64 1\n",
      "64 2\n",
      "65 0\n",
      "65 1\n",
      "65 2\n",
      "66 0\n",
      "66 1\n",
      "66 2\n",
      "67 0\n",
      "67 1\n",
      "67 2\n",
      "68 0\n",
      "68 1\n",
      "68 2\n",
      "69 0\n",
      "69 1\n",
      "69 2\n",
      "70 0\n",
      "70 1\n",
      "70 2\n",
      "71 0\n",
      "71 1\n",
      "71 2\n",
      "72 0\n",
      "72 1\n",
      "72 2\n",
      "73 0\n",
      "73 1\n",
      "73 2\n",
      "74 0\n",
      "74 1\n",
      "74 2\n",
      "75 0\n",
      "75 1\n",
      "75 2\n",
      "76 0\n",
      "76 1\n",
      "76 2\n",
      "77 0\n",
      "77 1\n",
      "77 2\n",
      "78 0\n",
      "78 1\n",
      "78 2\n",
      "79 0\n",
      "79 1\n",
      "79 2\n",
      "80 0\n",
      "80 1\n",
      "80 2\n",
      "81 0\n",
      "81 1\n",
      "81 2\n",
      "82 0\n",
      "82 1\n",
      "82 2\n",
      "83 0\n",
      "83 1\n",
      "83 2\n",
      "84 0\n",
      "84 1\n",
      "84 2\n",
      "85 0\n",
      "85 1\n",
      "85 2\n",
      "86 0\n",
      "86 1\n",
      "86 2\n",
      "87 0\n",
      "87 1\n",
      "87 2\n",
      "88 0\n",
      "88 1\n",
      "88 2\n",
      "89 0\n",
      "89 1\n",
      "89 2\n",
      "90 0\n",
      "90 1\n",
      "90 2\n",
      "91 0\n",
      "91 1\n",
      "91 2\n",
      "92 0\n",
      "92 1\n",
      "92 2\n",
      "93 0\n",
      "93 1\n",
      "93 2\n",
      "94 0\n",
      "94 1\n",
      "94 2\n",
      "95 0\n",
      "95 1\n",
      "95 2\n",
      "96 0\n",
      "96 1\n",
      "96 2\n",
      "97 0\n",
      "97 1\n",
      "97 2\n",
      "98 0\n",
      "98 1\n",
      "98 2\n",
      "99 0\n",
      "99 1\n",
      "99 2\n",
      "100 0\n",
      "100 1\n",
      "100 2\n",
      "101 0\n",
      "101 1\n",
      "101 2\n",
      "102 0\n",
      "102 1\n",
      "102 2\n",
      "103 0\n",
      "103 1\n",
      "103 2\n",
      "104 0\n",
      "104 1\n",
      "104 2\n",
      "105 0\n",
      "105 1\n",
      "105 2\n",
      "106 0\n",
      "106 1\n",
      "106 2\n",
      "107 0\n",
      "107 1\n",
      "107 2\n",
      "108 0\n",
      "108 1\n",
      "108 2\n",
      "109 0\n",
      "109 1\n",
      "109 2\n",
      "110 0\n",
      "110 1\n",
      "110 2\n",
      "111 0\n",
      "111 1\n",
      "111 2\n",
      "112 0\n",
      "112 1\n",
      "112 2\n",
      "113 0\n",
      "113 1\n",
      "113 2\n",
      "114 0\n",
      "114 1\n",
      "114 2\n",
      "115 0\n",
      "115 1\n",
      "115 2\n",
      "116 0\n",
      "116 1\n",
      "116 2\n",
      "117 0\n",
      "117 1\n",
      "117 2\n",
      "118 0\n",
      "118 1\n",
      "118 2\n",
      "119 0\n",
      "119 1\n",
      "119 2\n",
      "120 0\n",
      "120 1\n",
      "120 2\n",
      "121 0\n",
      "121 1\n",
      "121 2\n",
      "122 0\n",
      "122 1\n",
      "122 2\n",
      "123 0\n",
      "123 1\n",
      "123 2\n",
      "124 0\n",
      "124 1\n",
      "124 2\n",
      "125 0\n",
      "125 1\n",
      "125 2\n",
      "126 0\n",
      "126 1\n",
      "126 2\n",
      "127 0\n",
      "127 1\n",
      "127 2\n",
      "128 0\n",
      "128 1\n",
      "128 2\n",
      "129 0\n",
      "129 1\n",
      "129 2\n",
      "130 0\n",
      "130 1\n",
      "130 2\n",
      "131 0\n",
      "131 1\n",
      "131 2\n",
      "132 0\n",
      "132 1\n",
      "132 2\n",
      "133 0\n",
      "133 1\n",
      "133 2\n",
      "134 0\n",
      "134 1\n",
      "134 2\n",
      "135 0\n",
      "135 1\n",
      "135 2\n",
      "136 0\n",
      "136 1\n",
      "136 2\n",
      "137 0\n",
      "137 1\n",
      "137 2\n",
      "138 0\n",
      "138 1\n",
      "138 2\n",
      "139 0\n",
      "139 1\n",
      "139 2\n",
      "140 0\n",
      "140 1\n",
      "140 2\n",
      "141 0\n",
      "141 1\n",
      "141 2\n",
      "142 0\n",
      "142 1\n",
      "142 2\n",
      "143 0\n",
      "143 1\n",
      "143 2\n",
      "144 0\n",
      "144 1\n",
      "144 2\n",
      "145 0\n",
      "145 1\n",
      "145 2\n",
      "146 0\n",
      "146 1\n",
      "146 2\n",
      "147 0\n",
      "147 1\n",
      "147 2\n",
      "148 0\n",
      "148 1\n",
      "148 2\n",
      "149 0\n",
      "149 1\n",
      "149 2\n",
      "150 0\n",
      "150 1\n",
      "150 2\n",
      "151 0\n",
      "151 1\n",
      "151 2\n",
      "152 0\n",
      "152 1\n",
      "152 2\n",
      "153 0\n",
      "153 1\n",
      "153 2\n",
      "154 0\n",
      "154 1\n",
      "154 2\n",
      "155 0\n",
      "155 1\n",
      "155 2\n",
      "156 0\n",
      "156 1\n",
      "156 2\n",
      "157 0\n",
      "157 1\n",
      "157 2\n",
      "158 0\n",
      "158 1\n",
      "158 2\n",
      "159 0\n",
      "159 1\n",
      "159 2\n",
      "160 0\n",
      "160 1\n",
      "160 2\n",
      "161 0\n",
      "161 1\n",
      "161 2\n",
      "162 0\n",
      "162 1\n",
      "162 2\n",
      "163 0\n",
      "163 1\n",
      "163 2\n",
      "164 0\n",
      "164 1\n",
      "164 2\n",
      "165 0\n",
      "165 1\n",
      "165 2\n",
      "166 0\n",
      "166 1\n",
      "166 2\n",
      "167 0\n",
      "167 1\n",
      "167 2\n",
      "168 0\n",
      "168 1\n",
      "168 2\n",
      "169 0\n",
      "169 1\n",
      "169 2\n",
      "170 0\n",
      "170 1\n",
      "170 2\n",
      "171 0\n",
      "171 1\n",
      "171 2\n",
      "172 0\n",
      "172 1\n",
      "172 2\n",
      "173 0\n",
      "173 1\n",
      "173 2\n",
      "174 0\n",
      "174 1\n",
      "174 2\n",
      "175 0\n",
      "175 1\n",
      "175 2\n",
      "176 0\n",
      "176 1\n",
      "176 2\n",
      "177 0\n",
      "177 1\n",
      "177 2\n",
      "178 0\n",
      "178 1\n",
      "178 2\n",
      "179 0\n",
      "179 1\n",
      "179 2\n",
      "180 0\n",
      "180 1\n",
      "180 2\n",
      "181 0\n",
      "181 1\n",
      "181 2\n",
      "182 0\n",
      "182 1\n",
      "182 2\n",
      "183 0\n",
      "183 1\n",
      "183 2\n",
      "184 0\n",
      "184 1\n",
      "184 2\n",
      "185 0\n",
      "185 1\n",
      "185 2\n",
      "186 0\n",
      "186 1\n",
      "186 2\n",
      "187 0\n",
      "187 1\n",
      "187 2\n",
      "188 0\n",
      "188 1\n",
      "188 2\n",
      "189 0\n",
      "189 1\n",
      "189 2\n",
      "190 0\n",
      "190 1\n",
      "190 2\n",
      "191 0\n",
      "191 1\n",
      "191 2\n",
      "192 0\n",
      "192 1\n",
      "192 2\n",
      "193 0\n",
      "193 1\n",
      "193 2\n",
      "194 0\n",
      "194 1\n",
      "194 2\n",
      "195 0\n",
      "195 1\n",
      "195 2\n",
      "196 0\n",
      "196 1\n",
      "196 2\n",
      "197 0\n",
      "197 1\n",
      "197 2\n",
      "198 0\n",
      "198 1\n",
      "198 2\n",
      "199 0\n",
      "199 1\n",
      "199 2\n",
      "200 0\n",
      "200 1\n",
      "200 2\n",
      "201 0\n",
      "201 1\n",
      "201 2\n",
      "202 0\n",
      "202 1\n",
      "202 2\n",
      "203 0\n",
      "203 1\n",
      "203 2\n",
      "204 0\n",
      "204 1\n",
      "204 2\n",
      "205 0\n",
      "205 1\n",
      "205 2\n",
      "206 0\n",
      "206 1\n",
      "206 2\n",
      "207 0\n",
      "207 1\n",
      "207 2\n",
      "208 0\n",
      "208 1\n",
      "208 2\n",
      "209 0\n",
      "209 1\n",
      "209 2\n",
      "210 0\n",
      "210 1\n",
      "210 2\n",
      "211 0\n",
      "211 1\n",
      "211 2\n",
      "212 0\n",
      "212 1\n",
      "212 2\n",
      "213 0\n",
      "213 1\n",
      "213 2\n"
     ]
    },
    {
     "name": "stderr",
     "output_type": "stream",
     "text": [
      "\n",
      "real\t80m53.868s\n",
      "user\t0m24.728s\n",
      "sys\t0m1.086s\n"
     ]
    }
   ],
   "source": [
    "%%bash\n",
    "cd /home/stotoshka/Documents/ANGEL_dev\n",
    "time python Proteasome/competitors/runPCPS.py -t C Proteasome/in_vitro/const/validation/val_seqs.txt Proteasome/in_vitro/const/results/validation"
   ],
   "metadata": {
    "collapsed": false,
    "ExecuteTime": {
     "end_time": "2023-05-12T00:43:31.789659856Z",
     "start_time": "2023-05-11T23:22:37.790805095Z"
    }
   }
  },
  {
   "cell_type": "code",
   "execution_count": 30,
   "outputs": [
    {
     "name": "stdout",
     "output_type": "stream",
     "text": [
      "0 Finish\n",
      "1 Finish\n",
      "2 Finish\n",
      "3 Finish\n",
      "4 Finish\n",
      "5 Finish\n",
      "6 Finish\n",
      "7 Finish\n",
      "8 Finish\n",
      "9 Finish\n",
      "10 Finish\n",
      "11 Finish\n",
      "12 Finish\n",
      "13 Finish\n",
      "14 Finish\n",
      "15 Finish\n",
      "16 Finish\n",
      "17 Finish\n",
      "18 Finish\n",
      "19 Finish\n",
      "20 Finish\n",
      "21 Finish\n",
      "22 Finish\n",
      "23 Finish\n",
      "24 Finish\n",
      "25 Finish\n",
      "26 Finish\n",
      "27 Finish\n",
      "28 Finish\n",
      "29 Finish\n",
      "30 Finish\n",
      "31 Finish\n",
      "32 Finish\n",
      "33 Finish\n",
      "34 Finish\n",
      "35 Finish\n",
      "36 Finish\n",
      "37 Finish\n",
      "38 Finish\n",
      "39 Finish\n",
      "40 Finish\n",
      "41 Finish\n",
      "42 Finish\n",
      "43 Finish\n",
      "44 Finish\n",
      "45 Finish\n",
      "46 Finish\n",
      "47 Finish\n",
      "48 Finish\n",
      "49 Finish\n",
      "50 Finish\n",
      "51 Finish\n",
      "52 Finish\n",
      "53 Finish\n",
      "54 Finish\n",
      "55 Finish\n",
      "56 Finish\n",
      "57 Finish\n",
      "58 Finish\n",
      "59 Finish\n",
      "60 Finish\n",
      "61 Finish\n",
      "62 Finish\n",
      "63 Finish\n",
      "64 Finish\n",
      "65 Finish\n",
      "66 Finish\n",
      "67 Finish\n",
      "68 Finish\n",
      "69 Finish\n",
      "70 Finish\n",
      "71 Finish\n",
      "72 Finish\n",
      "73 Finish\n",
      "74 Finish\n",
      "75 Finish\n",
      "76 Finish\n",
      "77 Finish\n",
      "78 Finish\n",
      "79 Finish\n",
      "80 Finish\n",
      "81 Finish\n",
      "82 Finish\n",
      "83 Finish\n",
      "84 Finish\n",
      "85 Finish\n",
      "86 Finish\n",
      "87 Finish\n",
      "88 Finish\n",
      "89 Finish\n",
      "90 Finish\n",
      "91 Finish\n",
      "92 Finish\n",
      "93 Finish\n",
      "94 Finish\n",
      "95 Finish\n",
      "96 Finish\n",
      "97 Finish\n",
      "98 Finish\n",
      "99 Finish\n",
      "100 Finish\n",
      "101 Finish\n",
      "102 Finish\n",
      "103 Finish\n",
      "104 Finish\n",
      "105 Finish\n",
      "106 Finish\n",
      "107 Finish\n",
      "108 Finish\n",
      "109 Finish\n",
      "110 Finish\n",
      "111 Finish\n",
      "112 Finish\n",
      "113 Finish\n",
      "114 Finish\n",
      "115 Finish\n",
      "116 Finish\n",
      "117 Finish\n",
      "118 Finish\n",
      "119 Finish\n",
      "120 Finish\n",
      "121 Finish\n",
      "122 Finish\n",
      "123 Finish\n",
      "124 Finish\n",
      "125 Finish\n",
      "126 Finish\n",
      "127 Finish\n",
      "128 Finish\n",
      "129 Finish\n",
      "130 Finish\n",
      "131 Finish\n",
      "132 Finish\n",
      "133 Finish\n",
      "134 Finish\n",
      "135 Finish\n",
      "136 Finish\n",
      "137 Finish\n",
      "138 Finish\n",
      "139 Finish\n",
      "140 Finish\n",
      "141 Finish\n",
      "142 Finish\n",
      "143 Finish\n",
      "144 Finish\n",
      "145 Finish\n",
      "146 Finish\n",
      "147 Finish\n",
      "148 Finish\n",
      "149 Finish\n",
      "150 Finish\n",
      "151 Finish\n",
      "152 Finish\n",
      "153 Finish\n",
      "154 Finish\n",
      "155 Finish\n",
      "156 Finish\n",
      "157 Finish\n",
      "158 Finish\n",
      "159 Finish\n",
      "160 Finish\n",
      "161 Finish\n",
      "162 Finish\n",
      "163 Finish\n",
      "164 Finish\n",
      "165 Finish\n",
      "166 Finish\n",
      "167 Finish\n",
      "168 Finish\n",
      "169 Finish\n",
      "170 Finish\n",
      "171 Finish\n",
      "172 Finish\n",
      "173 Finish\n",
      "174 Finish\n",
      "175 Finish\n",
      "176 Finish\n",
      "177 Finish\n",
      "178 Finish\n",
      "179 Finish\n",
      "180 Finish\n",
      "181 Finish\n",
      "182 Finish\n",
      "183 Finish\n",
      "184 Finish\n",
      "185 Finish\n",
      "186 Finish\n",
      "187 Finish\n",
      "188 Finish\n",
      "189 Finish\n",
      "190 Finish\n",
      "191 Finish\n",
      "192 Finish\n",
      "193 Finish\n",
      "194 Finish\n",
      "195 Finish\n",
      "196 Finish\n",
      "197 Finish\n",
      "198 Finish\n",
      "199 Finish\n",
      "200 Finish\n",
      "201 Finish\n",
      "202 Finish\n",
      "203 Finish\n",
      "204 Finish\n",
      "205 Finish\n",
      "206 Finish\n",
      "207 Finish\n",
      "208 Finish\n",
      "209 Finish\n",
      "210 Finish\n",
      "211 Finish\n",
      "212 Finish\n",
      "213 Finish\n"
     ]
    },
    {
     "name": "stderr",
     "output_type": "stream",
     "text": [
      "\n",
      "real\t2m36.653s\n",
      "user\t0m2.470s\n",
      "sys\t0m0.141s\n"
     ]
    }
   ],
   "source": [
    "%%bash\n",
    "cd /home/stotoshka/Documents/ANGEL_dev\n",
    "time python Proteasome/competitors/runPcleavage.py -t vitro Proteasome/in_vitro/const/validation/val_seqs.txt Proteasome/in_vitro/const/results/validation/pcleavage.xlsx"
   ],
   "metadata": {
    "collapsed": false,
    "ExecuteTime": {
     "end_time": "2023-05-12T00:46:08.467287249Z",
     "start_time": "2023-05-12T00:43:31.885231451Z"
    }
   }
  },
  {
   "cell_type": "code",
   "execution_count": 12,
   "outputs": [],
   "source": [
    "netchop = pd.read_excel(\"Proteasome/in_vitro/const/results/validation/netchop.xlsx\")\n",
    "pcleavage = pd.read_excel(\"Proteasome/in_vitro/const/results/validation/pcleavage.xlsx\")\n",
    "pcps_1 = pd.read_excel(\"Proteasome/in_vitro/const/results/validation/pcps_1.xlsx\")\n",
    "pcps_2 = pd.read_excel(\"Proteasome/in_vitro/const/results/validation/pcps_2.xlsx\")\n",
    "pcps_3 = pd.read_excel(\"Proteasome/in_vitro/const/results/validation/pcps_3.xlsx\")\n",
    "pepsickle_1 = pd.read_excel(\"Proteasome/in_vitro/const/results/validation/pepsickle_in_vitro.xlsx\")\n",
    "pepsickle_2 = pd.read_excel(\"Proteasome/in_vitro/const/results/validation/pepsickle_in_vitro_2.xlsx\")"
   ],
   "metadata": {
    "collapsed": false,
    "ExecuteTime": {
     "end_time": "2023-05-13T19:17:31.955472027Z",
     "start_time": "2023-05-13T19:17:30.878216225Z"
    }
   }
  },
  {
   "cell_type": "code",
   "execution_count": 13,
   "outputs": [
    {
     "data": {
      "text/plain": "   pos AA  C     score  Ident          sequence\n0    1  A  .  0.169093      0  ALETGTIFLPVRHD\\n\n1    2  L  S  0.601548      0  ALETGTIFLPVRHD\\n\n2    3  E  S  0.522118      0  ALETGTIFLPVRHD\\n\n3    4  T  .  0.450576      0  ALETGTIFLPVRHD\\n\n4    5  G  S  0.570392      0  ALETGTIFLPVRHD\\n",
      "text/html": "<div>\n<style scoped>\n    .dataframe tbody tr th:only-of-type {\n        vertical-align: middle;\n    }\n\n    .dataframe tbody tr th {\n        vertical-align: top;\n    }\n\n    .dataframe thead th {\n        text-align: right;\n    }\n</style>\n<table border=\"1\" class=\"dataframe\">\n  <thead>\n    <tr style=\"text-align: right;\">\n      <th></th>\n      <th>pos</th>\n      <th>AA</th>\n      <th>C</th>\n      <th>score</th>\n      <th>Ident</th>\n      <th>sequence</th>\n    </tr>\n  </thead>\n  <tbody>\n    <tr>\n      <th>0</th>\n      <td>1</td>\n      <td>A</td>\n      <td>.</td>\n      <td>0.169093</td>\n      <td>0</td>\n      <td>ALETGTIFLPVRHD\\n</td>\n    </tr>\n    <tr>\n      <th>1</th>\n      <td>2</td>\n      <td>L</td>\n      <td>S</td>\n      <td>0.601548</td>\n      <td>0</td>\n      <td>ALETGTIFLPVRHD\\n</td>\n    </tr>\n    <tr>\n      <th>2</th>\n      <td>3</td>\n      <td>E</td>\n      <td>S</td>\n      <td>0.522118</td>\n      <td>0</td>\n      <td>ALETGTIFLPVRHD\\n</td>\n    </tr>\n    <tr>\n      <th>3</th>\n      <td>4</td>\n      <td>T</td>\n      <td>.</td>\n      <td>0.450576</td>\n      <td>0</td>\n      <td>ALETGTIFLPVRHD\\n</td>\n    </tr>\n    <tr>\n      <th>4</th>\n      <td>5</td>\n      <td>G</td>\n      <td>S</td>\n      <td>0.570392</td>\n      <td>0</td>\n      <td>ALETGTIFLPVRHD\\n</td>\n    </tr>\n  </tbody>\n</table>\n</div>"
     },
     "execution_count": 13,
     "metadata": {},
     "output_type": "execute_result"
    }
   ],
   "source": [
    "netchop.head()"
   ],
   "metadata": {
    "collapsed": false,
    "ExecuteTime": {
     "end_time": "2023-05-13T19:17:38.411261724Z",
     "start_time": "2023-05-13T19:17:38.392337660Z"
    }
   }
  },
  {
   "cell_type": "code",
   "execution_count": 14,
   "outputs": [
    {
     "data": {
      "text/plain": "   Position Amino Acid State  Score          sequence\n0         1          A     N  -0.70  ALETGTIFLPVRHD\\n\n1         2          L     N  -0.50  ALETGTIFLPVRHD\\n\n2         3          E     N  -0.31  ALETGTIFLPVRHD\\n\n3         4          T     N  -0.22  ALETGTIFLPVRHD\\n\n4         5          G     S   0.33  ALETGTIFLPVRHD\\n",
      "text/html": "<div>\n<style scoped>\n    .dataframe tbody tr th:only-of-type {\n        vertical-align: middle;\n    }\n\n    .dataframe tbody tr th {\n        vertical-align: top;\n    }\n\n    .dataframe thead th {\n        text-align: right;\n    }\n</style>\n<table border=\"1\" class=\"dataframe\">\n  <thead>\n    <tr style=\"text-align: right;\">\n      <th></th>\n      <th>Position</th>\n      <th>Amino Acid</th>\n      <th>State</th>\n      <th>Score</th>\n      <th>sequence</th>\n    </tr>\n  </thead>\n  <tbody>\n    <tr>\n      <th>0</th>\n      <td>1</td>\n      <td>A</td>\n      <td>N</td>\n      <td>-0.70</td>\n      <td>ALETGTIFLPVRHD\\n</td>\n    </tr>\n    <tr>\n      <th>1</th>\n      <td>2</td>\n      <td>L</td>\n      <td>N</td>\n      <td>-0.50</td>\n      <td>ALETGTIFLPVRHD\\n</td>\n    </tr>\n    <tr>\n      <th>2</th>\n      <td>3</td>\n      <td>E</td>\n      <td>N</td>\n      <td>-0.31</td>\n      <td>ALETGTIFLPVRHD\\n</td>\n    </tr>\n    <tr>\n      <th>3</th>\n      <td>4</td>\n      <td>T</td>\n      <td>N</td>\n      <td>-0.22</td>\n      <td>ALETGTIFLPVRHD\\n</td>\n    </tr>\n    <tr>\n      <th>4</th>\n      <td>5</td>\n      <td>G</td>\n      <td>S</td>\n      <td>0.33</td>\n      <td>ALETGTIFLPVRHD\\n</td>\n    </tr>\n  </tbody>\n</table>\n</div>"
     },
     "execution_count": 14,
     "metadata": {},
     "output_type": "execute_result"
    }
   ],
   "source": [
    "pcleavage.head()"
   ],
   "metadata": {
    "collapsed": false,
    "ExecuteTime": {
     "end_time": "2023-05-13T19:17:46.157013108Z",
     "start_time": "2023-05-13T19:17:46.129405232Z"
    }
   }
  },
  {
   "cell_type": "code",
   "execution_count": 15,
   "outputs": [
    {
     "data": {
      "text/plain": "  Aminoacid  Proteasome Cleavage   Score          sequence\n0         A                  NaN  0.0979  ALETGTIFLPVRHD\\n\n1         L                  NaN  0.6459  ALETGTIFLPVRHD\\n\n2         E                  NaN  0.0115  ALETGTIFLPVRHD\\n\n3         T                  NaN  0.0349  ALETGTIFLPVRHD\\n\n4         G                  NaN  0.0239  ALETGTIFLPVRHD\\n",
      "text/html": "<div>\n<style scoped>\n    .dataframe tbody tr th:only-of-type {\n        vertical-align: middle;\n    }\n\n    .dataframe tbody tr th {\n        vertical-align: top;\n    }\n\n    .dataframe thead th {\n        text-align: right;\n    }\n</style>\n<table border=\"1\" class=\"dataframe\">\n  <thead>\n    <tr style=\"text-align: right;\">\n      <th></th>\n      <th>Aminoacid</th>\n      <th>Proteasome Cleavage</th>\n      <th>Score</th>\n      <th>sequence</th>\n    </tr>\n  </thead>\n  <tbody>\n    <tr>\n      <th>0</th>\n      <td>A</td>\n      <td>NaN</td>\n      <td>0.0979</td>\n      <td>ALETGTIFLPVRHD\\n</td>\n    </tr>\n    <tr>\n      <th>1</th>\n      <td>L</td>\n      <td>NaN</td>\n      <td>0.6459</td>\n      <td>ALETGTIFLPVRHD\\n</td>\n    </tr>\n    <tr>\n      <th>2</th>\n      <td>E</td>\n      <td>NaN</td>\n      <td>0.0115</td>\n      <td>ALETGTIFLPVRHD\\n</td>\n    </tr>\n    <tr>\n      <th>3</th>\n      <td>T</td>\n      <td>NaN</td>\n      <td>0.0349</td>\n      <td>ALETGTIFLPVRHD\\n</td>\n    </tr>\n    <tr>\n      <th>4</th>\n      <td>G</td>\n      <td>NaN</td>\n      <td>0.0239</td>\n      <td>ALETGTIFLPVRHD\\n</td>\n    </tr>\n  </tbody>\n</table>\n</div>"
     },
     "execution_count": 15,
     "metadata": {},
     "output_type": "execute_result"
    }
   ],
   "source": [
    "pcps_1.head()"
   ],
   "metadata": {
    "collapsed": false,
    "ExecuteTime": {
     "end_time": "2023-05-13T19:17:53.367736964Z",
     "start_time": "2023-05-13T19:17:53.348739978Z"
    }
   }
  },
  {
   "cell_type": "code",
   "execution_count": 16,
   "outputs": [
    {
     "data": {
      "text/plain": "   position residue  cleav_prob  cleaved      protein_id\n0         1       A      0.0762    False  ALETGTIFLPVRHD\n1         2       L      0.3886    False  ALETGTIFLPVRHD\n2         3       E      0.4286    False  ALETGTIFLPVRHD\n3         4       T      0.6097     True  ALETGTIFLPVRHD\n4         5       G      0.5167     True  ALETGTIFLPVRHD",
      "text/html": "<div>\n<style scoped>\n    .dataframe tbody tr th:only-of-type {\n        vertical-align: middle;\n    }\n\n    .dataframe tbody tr th {\n        vertical-align: top;\n    }\n\n    .dataframe thead th {\n        text-align: right;\n    }\n</style>\n<table border=\"1\" class=\"dataframe\">\n  <thead>\n    <tr style=\"text-align: right;\">\n      <th></th>\n      <th>position</th>\n      <th>residue</th>\n      <th>cleav_prob</th>\n      <th>cleaved</th>\n      <th>protein_id</th>\n    </tr>\n  </thead>\n  <tbody>\n    <tr>\n      <th>0</th>\n      <td>1</td>\n      <td>A</td>\n      <td>0.0762</td>\n      <td>False</td>\n      <td>ALETGTIFLPVRHD</td>\n    </tr>\n    <tr>\n      <th>1</th>\n      <td>2</td>\n      <td>L</td>\n      <td>0.3886</td>\n      <td>False</td>\n      <td>ALETGTIFLPVRHD</td>\n    </tr>\n    <tr>\n      <th>2</th>\n      <td>3</td>\n      <td>E</td>\n      <td>0.4286</td>\n      <td>False</td>\n      <td>ALETGTIFLPVRHD</td>\n    </tr>\n    <tr>\n      <th>3</th>\n      <td>4</td>\n      <td>T</td>\n      <td>0.6097</td>\n      <td>True</td>\n      <td>ALETGTIFLPVRHD</td>\n    </tr>\n    <tr>\n      <th>4</th>\n      <td>5</td>\n      <td>G</td>\n      <td>0.5167</td>\n      <td>True</td>\n      <td>ALETGTIFLPVRHD</td>\n    </tr>\n  </tbody>\n</table>\n</div>"
     },
     "execution_count": 16,
     "metadata": {},
     "output_type": "execute_result"
    }
   ],
   "source": [
    "pepsickle_1.head()"
   ],
   "metadata": {
    "collapsed": false,
    "ExecuteTime": {
     "end_time": "2023-05-13T19:18:01.728535138Z",
     "start_time": "2023-05-13T19:18:01.700674789Z"
    }
   }
  },
  {
   "cell_type": "code",
   "execution_count": 17,
   "outputs": [],
   "source": [
    "true[\"netchop\"] = netchop[\"score\"]\n",
    "true[\"pcleavage\"] = pcleavage[\"Score\"]\n",
    "true[\"pcps_1\"] = pcps_1[\"Score\"]\n",
    "true[\"pcps_2\"] = pcps_2[\"Score\"]\n",
    "true[\"pcps_3\"] = pcps_3[\"Score\"]\n",
    "true[\"pepsickle_1\"] = pepsickle_1[\"cleav_prob\"]\n",
    "true[\"pepsickle_2\"] = pepsickle_2[\"cleav_prob\"]"
   ],
   "metadata": {
    "collapsed": false,
    "ExecuteTime": {
     "end_time": "2023-05-13T19:19:39.714188678Z",
     "start_time": "2023-05-13T19:19:39.674727783Z"
    }
   }
  },
  {
   "cell_type": "code",
   "execution_count": 19,
   "outputs": [
    {
     "name": "stdout",
     "output_type": "stream",
     "text": [
      "ANGEL AUC=0.6222474687658219 AP=0.3212639603673641\n",
      "netchop AUC=0.6933667575617077 AP=0.3859257335521086\n",
      "pcleavage AUC=0.6680462767647353 AP=0.35556372798082336\n",
      "pcps_1 AUC=0.6573530121658655 AP=0.36451203974685253\n",
      "pcps_2 AUC=0.6553945963665184 AP=0.3656149004393586\n",
      "pcps_3 AUC=0.651462328701765 AP=0.3509966914962307\n",
      "pepsickle_1 AUC=0.8074434955785494 AP=0.5227011892854332\n",
      "pepsickle_2 AUC=0.7669692884029677 AP=0.4512713051758792\n"
     ]
    }
   ],
   "source": [
    "print(f\"ANGEL AUC={metrics.roc_auc_score(true['activity'],true['ANGEL'])} AP={metrics.average_precision_score(true['activity'],true['ANGEL'])}\")\n",
    "print(f\"netchop AUC={metrics.roc_auc_score(true['activity'],true['netchop'])} AP={metrics.average_precision_score(true['activity'],true['netchop'])}\")\n",
    "print(f\"pcleavage AUC={metrics.roc_auc_score(true['activity'],true['pcleavage'])} AP={metrics.average_precision_score(true['activity'],true['pcleavage'])}\")\n",
    "print(f\"pcps_1 AUC={metrics.roc_auc_score(true['activity'],true['pcps_1'])} AP={metrics.average_precision_score(true['activity'],true['pcps_1'])}\")\n",
    "print(f\"pcps_2 AUC={metrics.roc_auc_score(true['activity'],true['pcps_2'])} AP={metrics.average_precision_score(true['activity'],true['pcps_2'])}\")\n",
    "print(f\"pcps_3 AUC={metrics.roc_auc_score(true['activity'],true['pcps_3'])} AP={metrics.average_precision_score(true['activity'],true['pcps_3'])}\")\n",
    "print(f\"pepsickle_1 AUC={metrics.roc_auc_score(true['activity'],true['pepsickle_1'])} AP={metrics.average_precision_score(true['activity'],true['pepsickle_1'])}\")\n",
    "print(f\"pepsickle_2 AUC={metrics.roc_auc_score(true['activity'],true['pepsickle_2'])} AP={metrics.average_precision_score(true['activity'],true['pepsickle_2'])}\")"
   ],
   "metadata": {
    "collapsed": false,
    "ExecuteTime": {
     "end_time": "2023-05-13T19:22:30.476468236Z",
     "start_time": "2023-05-13T19:22:30.452714874Z"
    }
   }
  },
  {
   "cell_type": "code",
   "execution_count": 20,
   "outputs": [],
   "source": [
    "angel_fpr, angel_tpr, angel_thres = metrics.roc_curve(true['activity'],true['ANGEL'])\n",
    "netchop_fpr, netchop_tpr, netchop_thres = metrics.roc_curve(true['activity'],true['netchop'])\n",
    "pcleavage_fpr, pcleavage_tpr, pcleavage_thres = metrics.roc_curve(true['activity'],true['pcleavage'])\n",
    "pcps_1_fpr, pcps_1_tpr, pcps_1_thres = metrics.roc_curve(true['activity'],true['pcps_1'])\n",
    "pcps_2_fpr, pcps_2_tpr, pcps_2_thres = metrics.roc_curve(true['activity'],true['pcps_2'])\n",
    "pcps_3_fpr, pcps_3_tpr, pcps_3_thres = metrics.roc_curve(true['activity'],true['pcps_3'])\n",
    "pepsickle_1_fpr, pepsickle_1_tpr, pepsickle_1_thres = metrics.roc_curve(true['activity'],true['pepsickle_1'])\n",
    "pepsickle_2_fpr, pepsickle_2_tpr, pepsickle_2_thres = metrics.roc_curve(true['activity'],true['pepsickle_2'])"
   ],
   "metadata": {
    "collapsed": false,
    "ExecuteTime": {
     "end_time": "2023-05-13T19:26:59.670985121Z",
     "start_time": "2023-05-13T19:26:59.617258474Z"
    }
   }
  },
  {
   "cell_type": "code",
   "execution_count": 22,
   "outputs": [
    {
     "data": {
      "text/plain": "<Figure size 640x480 with 1 Axes>",
      "image/png": "[encoded data removed]"
     },
     "metadata": {},
     "output_type": "display_data"
    }
   ],
   "source": [
    "plt.plot(np.arange(0,1.1,0.1),np.arange(0,1.1,0.1), color = \"red\")\n",
    "plt.plot(angel_fpr, angel_tpr, label = f\"ANGEL,AUC={round(metrics.roc_auc_score(true['activity'],true['ANGEL']),2)}\")\n",
    "plt.plot(netchop_fpr, netchop_tpr, label = f\"NetChop,AUC={round(metrics.roc_auc_score(true['activity'],true['netchop']),2)}\")\n",
    "plt.plot(pcleavage_fpr, pcleavage_tpr, label = f\"PCleavage,AUC={round(metrics.roc_auc_score(true['activity'],true['pcleavage']),2)}\")\n",
    "plt.plot(pcps_1_fpr, pcps_1_tpr, label = f\"PCPS_m1,AUC={round(metrics.roc_auc_score(true['activity'],true['pcps_1']),2)}\")\n",
    "plt.plot(pcps_2_fpr, pcps_2_tpr, label = f\"PCPS_m2,AUC={round(metrics.roc_auc_score(true['activity'],true['pcps_2']),2)}\")\n",
    "plt.plot(pcps_3_fpr, pcps_3_tpr, label = f\"PCPS_m3,AUC={round(metrics.roc_auc_score(true['activity'],true['pcps_3']),2)}\")\n",
    "plt.plot(pepsickle_1_fpr, pepsickle_1_tpr, label = f\"pepsickle_m1,AUC={round(metrics.roc_auc_score(true['activity'],true['pepsickle_1']),2)}\")\n",
    "plt.plot(pepsickle_2_fpr, pepsickle_2_tpr, label = f\"pepsickle_m2,AUC={round(metrics.roc_auc_score(true['activity'],true['pepsickle_2']),2)}\")\n",
    "plt.xlabel(\"1 - Специфичность\")\n",
    "plt.ylabel(\"Чувствительность\")\n",
    "plt.title(\"Модели конститутивной протеасомы in vitro\")\n",
    "plt.legend()\n",
    "plt.tight_layout()\n",
    "plt.savefig(\"Proteasome/in_vitro/const/results/validation/plots/roc.png\")"
   ],
   "metadata": {
    "collapsed": false,
    "ExecuteTime": {
     "end_time": "2023-05-13T19:30:46.742824339Z",
     "start_time": "2023-05-13T19:30:46.272263131Z"
    }
   }
  },
  {
   "cell_type": "code",
   "execution_count": null,
   "outputs": [],
   "source": [],
   "metadata": {
    "collapsed": false
   }
  }
 ],
 "metadata": {
  "kernelspec": {
   "display_name": "Python 3",
   "language": "python",
   "name": "python3"
  },
  "language_info": {
   "codemirror_mode": {
    "name": "ipython",
    "version": 2
   },
   "file_extension": ".py",
   "mimetype": "text/x-python",
   "name": "python",
   "nbconvert_exporter": "python",
   "pygments_lexer": "ipython2",
   "version": "2.7.6"
  }
 },
 "nbformat": 4,
 "nbformat_minor": 0
}
