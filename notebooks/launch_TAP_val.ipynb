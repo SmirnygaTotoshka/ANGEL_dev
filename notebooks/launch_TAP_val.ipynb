{
 "cells": [
  {
   "cell_type": "code",
   "execution_count": 81,
   "metadata": {
    "collapsed": true,
    "ExecuteTime": {
     "end_time": "2023-05-11T18:40:05.542950040Z",
     "start_time": "2023-05-11T18:40:05.496832656Z"
    }
   },
   "outputs": [],
   "source": [
    "import os\n",
    "\n",
    "import numpy as np\n",
    "import pandas as pd\n",
    "import re\n",
    "import paramiko\n",
    "from getpass import getpass\n",
    "import traceback\n",
    "import numpy as np\n",
    "import matplotlib.pyplot as plt\n",
    "from sklearn import metrics"
   ]
  },
  {
   "cell_type": "code",
   "execution_count": 82,
   "outputs": [],
   "source": [
    "os.chdir(\"/home/stotoshka/Documents/ANGEL_dev\")"
   ],
   "metadata": {
    "collapsed": false,
    "ExecuteTime": {
     "end_time": "2023-05-11T18:40:06.309330729Z",
     "start_time": "2023-05-11T18:40:06.306767634Z"
    }
   }
  },
  {
   "cell_type": "code",
   "execution_count": null,
   "outputs": [],
   "source": [
    "%%time\n",
    "path_to_config = \"TAP/data/converter_config.json\"\n",
    "command = f\"python tools/generateConfigForConverter.py -i {os.path.join(os.getcwd(),'TAP/data/train/total_train_TAP.csv')} -o {os.path.join(os.getcwd(),'TAP/data/sdf')} -c PEPTIDE -t 10 {path_to_config}\"\n",
    "os.system(command)\n",
    "print(\"Convertation\")\n",
    "convert_command = f\"python tools/SeqToSDF.py {path_to_config}\"\n",
    "os.system(convert_command)"
   ],
   "metadata": {
    "collapsed": false
   }
  },
  {
   "cell_type": "code",
   "execution_count": null,
   "outputs": [],
   "source": [
    "%%time\n",
    "path_to_config = \"TAP/data/converter_config.json\"\n",
    "command = f\"python tools/generateConfigForConverter.py -i {os.path.join(os.getcwd(),'TAP/data/validation/validation_TAP.csv')} -o {os.path.join(os.getcwd(),'TAP/data/sdf')} -c PEPTIDE -t 10 {path_to_config}\"\n",
    "os.system(command)\n",
    "print(\"Convertation\")\n",
    "convert_command = f\"python tools/SeqToSDF.py {path_to_config}\"\n",
    "os.system(convert_command)"
   ],
   "metadata": {
    "collapsed": false
   }
  },
  {
   "cell_type": "code",
   "execution_count": null,
   "outputs": [],
   "source": [
    "%%bash\n",
    "cd /home/stotoshka/Documents/ANGEL_dev\n",
    "rm TAP/data/sdf/*.txt\n",
    "cp TAP/data/sdf/total_train_TAP.sdf /run/user/1000/gvfs/smb-share:server=192.168.0.10,share=diplom/ANGEL/TAP/sdf\n",
    "cp TAP/data/sdf/validation_TAP.sdf /run/user/1000/gvfs/smb-share:server=192.168.0.10,share=diplom/ANGEL/TAP/sdf"
   ],
   "metadata": {
    "collapsed": false
   }
  },
  {
   "cell_type": "code",
   "execution_count": null,
   "outputs": [],
   "source": [
    "command = f\"python tools/generateConfigForTrain.py -l {6} -b total_TAP_6 -s sdf/total_train_TAP.sdf -a activity -p models/total_TAP_6 /run/user/1000/gvfs/smb-share:server=192.168.0.10,share=diplom/ANGEL/TAP/total_TAP_6_tr.txt\"\n",
    "os.system(command)"
   ],
   "metadata": {
    "collapsed": false
   }
  },
  {
   "cell_type": "code",
   "execution_count": null,
   "outputs": [],
   "source": [
    "command = f\"python tools/generateConfigForPrediction.py -m models/total_TAP_6.MSAR -s sdf/validation_TAP.sdf -a activity -p results /run/user/1000/gvfs/smb-share:server=192.168.0.10,share=diplom/ANGEL/TAP/total_TAP_6_val.txt\"\n",
    "os.system(command)"
   ],
   "metadata": {
    "collapsed": false
   }
  },
  {
   "cell_type": "code",
   "execution_count": null,
   "outputs": [],
   "source": [
    "def checkTrain(path):\n",
    "    flag = False\n",
    "    header = \"No\t Check\t Number\t IAP\t 20-Fold\t Activity Type\"\n",
    "    try:\n",
    "        with open(path, \"r\", encoding=\"cp1252\") as log:\n",
    "            for line in log:\n",
    "                if header in line:\n",
    "                    flag = True\n",
    "    except:\n",
    "        traceback.print_exc()\n",
    "    finally:\n",
    "        return flag\n",
    "\n",
    "\n",
    "def checkValidation(path):\n",
    "    try:\n",
    "        f = False\n",
    "        with open(path, \"r\", encoding=\"cp1252\") as log:\n",
    "            for line in log:\n",
    "                if \"are predicted\" in line:\n",
    "                    comps = line.strip().split(\" \")\n",
    "                    if int(comps[0]) == int(comps[2]):\n",
    "                        f = True\n",
    "                    else:\n",
    "                        f = False\n",
    "    except:\n",
    "        traceback.print_exc()\n",
    "    finally:\n",
    "        return f"
   ],
   "metadata": {
    "collapsed": false
   }
  },
  {
   "cell_type": "code",
   "execution_count": null,
   "outputs": [],
   "source": [
    "%%time\n",
    "client = paramiko.SSHClient()\n",
    "client.set_missing_host_key_policy(paramiko.AutoAddPolicy())\n",
    "password = getpass()\n",
    "client.connect('192.168.0.10', username='SmirnygaTotoshka', password=password)\n",
    "\n",
    "tr_command = r\"C:\\Users\\SmirnygaTotoshka\\Desktop\\OLMPASS\\OLMPASSdoSAR.exe C:\\Users\\SmirnygaTotoshka\\Desktop\\diplom\\ANGEL\\TAP\\total_TAP_6_tr.txt\"\n",
    "stdin, stdout, stderr = client.exec_command(tr_command)  # Non-blocking call\n",
    "exit_status = stdout.channel.recv_exit_status()  # Blocking call\n",
    "if exit_status == 0:\n",
    "    if checkTrain(f\"/run/user/1000/gvfs/smb-share:server=192.168.0.10,share=diplom/ANGEL/TAP/models/total_TAP_6.HST\"):\n",
    "        print(\"Train ended\")\n",
    "    else:\n",
    "        print(f\"Train ended with errors\")\n",
    "else:\n",
    "    print(\"Error\", exit_status)\n",
    "client.close()"
   ],
   "metadata": {
    "collapsed": false
   }
  },
  {
   "cell_type": "code",
   "execution_count": null,
   "outputs": [],
   "source": [
    "%%time\n",
    "client.connect('192.168.0.10', username='SmirnygaTotoshka', password=password)\n",
    "val_command = r\"C:\\Users\\SmirnygaTotoshka\\Desktop\\OLMPASS\\OLMPASS2CSV.exe C:\\Users\\SmirnygaTotoshka\\Desktop\\diplom\\ANGEL\\TAP\\total_TAP_6_val.txt\"\n",
    "stdin_val, stdout_val, stderr_val = client.exec_command(val_command)  # Non-blocking call\n",
    "exit_status_val = stdout_val.channel.recv_exit_status()\n",
    "if exit_status_val == 0:\n",
    "    if checkValidation(f\"/run/user/1000/gvfs/smb-share:server=192.168.0.10,share=diplom/ANGEL/TAP/results/validation_TAP-total_TAP_6.HST\"):\n",
    "        print(\"Validation ended\")\n",
    "    else:\n",
    "        print(f\"Validation ended with errors\")\n",
    "else:\n",
    "    print(\"Error validation\", exit_status_val)\n",
    "client.close()"
   ],
   "metadata": {
    "collapsed": false
   }
  },
  {
   "cell_type": "code",
   "execution_count": null,
   "outputs": [],
   "source": [
    "%%bash\n",
    "cd /home/stotoshka/Documents/ANGEL_dev\n",
    "cp /run/user/1000/gvfs/smb-share:server=192.168.0.10,share=diplom/ANGEL/TAP/models/total* TAP/data/validation/models/\n",
    "cp /run/user/1000/gvfs/smb-share:server=192.168.0.10,share=diplom/ANGEL/TAP/results/validation* TAP/data/validation/results"
   ],
   "metadata": {
    "collapsed": false
   }
  },
  {
   "cell_type": "code",
   "execution_count": null,
   "outputs": [],
   "source": [
    "path = f\"TAP/data/validation/models/total_TAP_6.HST\"\n",
    "header = \"No\t Check\t Number\t IAP\t 20-Fold\t Activity\"\n",
    "tbl = pd.DataFrame(columns=[\"model_name\", \"descriptor_level\", \"iap\", \"twentyCV\", \"activity\", \"num_subst\"])\n",
    "with open(path, \"r\", encoding='cp1252') as f:\n",
    "    split_name = re.split(\"_\", os.path.splitext(os.path.basename(path))[0])\n",
    "    model_name = split_name[1]\n",
    "    level = split_name[2]\n",
    "    lines = f.readlines()\n",
    "    flag = False\n",
    "    for line in lines:\n",
    "        if header in line:\n",
    "            flag = True\n",
    "            continue\n",
    "        if line == \"\\n\" and flag:\n",
    "            break\n",
    "        if flag:\n",
    "            components = re.split(\"\\t\\\\s+\", line)\n",
    "            num_subst = components[2]\n",
    "            iap = components[3]\n",
    "            twentyCV = components[4]\n",
    "            activity = components[5].strip()\n",
    "            row = pd.DataFrame.from_dict({\"model_name\": [model_name],\n",
    "                                          \"descriptor_level\": [int(level)],\n",
    "                                          \"num_subst\": [int(num_subst)],\n",
    "                                          \"iap\": [float(iap.replace(\",\", \".\"))],\n",
    "                                          \"twentyCV\": [float(twentyCV.replace(\",\", \".\"))],\n",
    "                                          \"activity\": [int(activity)]})\n",
    "            tbl = pd.concat([tbl, row], ignore_index=True)\n",
    "    if not flag:\n",
    "        print(f\"total not any predictable activity\")\n",
    "tbl.to_excel(\"TAP/data/validation/internal.xlsx\", index = False)"
   ],
   "metadata": {
    "collapsed": false
   }
  },
  {
   "cell_type": "code",
   "execution_count": null,
   "outputs": [],
   "source": [
    "internal_res = pd.read_excel(\"TAP/data/validation/internal.xlsx\")\n",
    "internal_res.head()"
   ],
   "metadata": {
    "collapsed": false
   }
  },
  {
   "cell_type": "code",
   "execution_count": 83,
   "outputs": [
    {
     "data": {
      "text/plain": "   model   auc_roc        ap\n0  ANGEL  0.604798  0.369246",
      "text/html": "<div>\n<style scoped>\n    .dataframe tbody tr th:only-of-type {\n        vertical-align: middle;\n    }\n\n    .dataframe tbody tr th {\n        vertical-align: top;\n    }\n\n    .dataframe thead th {\n        text-align: right;\n    }\n</style>\n<table border=\"1\" class=\"dataframe\">\n  <thead>\n    <tr style=\"text-align: right;\">\n      <th></th>\n      <th>model</th>\n      <th>auc_roc</th>\n      <th>ap</th>\n    </tr>\n  </thead>\n  <tbody>\n    <tr>\n      <th>0</th>\n      <td>ANGEL</td>\n      <td>0.604798</td>\n      <td>0.369246</td>\n    </tr>\n  </tbody>\n</table>\n</div>"
     },
     "execution_count": 83,
     "metadata": {},
     "output_type": "execute_result"
    }
   ],
   "source": [
    "path = f\"TAP/data/validation/results/validation_TAP-total_TAP_6.csv\"\n",
    "columns_to_drop = [\"Substructure Descriptors\", \"New Descriptors\", \"Possible Activities at Pa>Pi\"]\n",
    "header = 0\n",
    "result = pd.DataFrame(columns=[\"model\", \"auc_roc\", \"ap\"])\n",
    "i = 0\n",
    "model_name = f\"ANGEL\"\n",
    "tbl = pd.read_csv(path, sep=\";\", header=header,decimal=\",\")\n",
    "tbl = tbl.drop(columns=columns_to_drop)\n",
    "tbl = tbl.dropna()\n",
    "tbl = tbl.rename(columns={tbl.columns[0]: \"activity\"})\n",
    "auc_roc = metrics.roc_auc_score(tbl[\"activity\"], tbl[\"1\"])\n",
    "ap = metrics.average_precision_score(tbl[\"activity\"], tbl[\"1\"])\n",
    "result.loc[i] = [model_name, auc_roc, ap]\n",
    "i += 1\n",
    "result.head()"
   ],
   "metadata": {
    "collapsed": false,
    "ExecuteTime": {
     "end_time": "2023-05-11T18:40:28.656302976Z",
     "start_time": "2023-05-11T18:40:28.601365253Z"
    }
   }
  },
  {
   "cell_type": "code",
   "execution_count": null,
   "outputs": [],
   "source": [
    "with open(\"TAP/data/validation/for_competitors.txt\",\"w\") as compet:\n",
    "    val = pd.read_csv(\"TAP/data/validation/validation_TAP.csv\",sep = \";\")\n",
    "    for i in val.index:\n",
    "        compet.write(val.loc[i,\"PEPTIDE\"] + \"\\n\")"
   ],
   "metadata": {
    "collapsed": false
   }
  },
  {
   "cell_type": "code",
   "execution_count": null,
   "outputs": [],
   "source": [
    "%%bash\n",
    "echo \"Sparse\"\n",
    "python TAP/competitors/runTAPREG.py -t sparse /home/stotoshka/Documents/ANGEL_dev/TAP/data/validation/for_competitors.txt /home/stotoshka/Documents/ANGEL_dev/TAP/data/validation/TAPREG_sparse.xlsx\n",
    "echo \"Blosum\"\n",
    "python TAP/competitors/runTAPREG.py -t blosum /home/stotoshka/Documents/ANGEL_dev/TAP/data/validation/for_competitors.txt /home/stotoshka/Documents/ANGEL_dev/TAP/data/validation/TAPREG_blosum.xlsx"
   ],
   "metadata": {
    "collapsed": false
   }
  },
  {
   "cell_type": "code",
   "execution_count": 84,
   "outputs": [
    {
     "data": {
      "text/plain": "   NAME        SEQUENCE  TAP AFFINITY IC50 (nM)         PEPTIDE  \\\n0    23      ARWAAAIAKK                   63.23      ARWAAAIAKK   \n1    49      RYWANATRSF                   72.91      RYWANATRSF   \n2     9  AEFSPDAPDAAAAY                  100.02  AEFSPDAPDAAAAY   \n3     8     AEFSPDAAAAY                  100.02     AEFSPDAAAAY   \n4     6     AEFSAAPDAAY                  100.02     AEFSAAPDAAY   \n\n  median_IC50_rel  activity  \n0             320         0  \n1            1900         0  \n2              40         1  \n3              48         1  \n4              80         1  ",
      "text/html": "<div>\n<style scoped>\n    .dataframe tbody tr th:only-of-type {\n        vertical-align: middle;\n    }\n\n    .dataframe tbody tr th {\n        vertical-align: top;\n    }\n\n    .dataframe thead th {\n        text-align: right;\n    }\n</style>\n<table border=\"1\" class=\"dataframe\">\n  <thead>\n    <tr style=\"text-align: right;\">\n      <th></th>\n      <th>NAME</th>\n      <th>SEQUENCE</th>\n      <th>TAP AFFINITY IC50 (nM)</th>\n      <th>PEPTIDE</th>\n      <th>median_IC50_rel</th>\n      <th>activity</th>\n    </tr>\n  </thead>\n  <tbody>\n    <tr>\n      <th>0</th>\n      <td>23</td>\n      <td>ARWAAAIAKK</td>\n      <td>63.23</td>\n      <td>ARWAAAIAKK</td>\n      <td>320</td>\n      <td>0</td>\n    </tr>\n    <tr>\n      <th>1</th>\n      <td>49</td>\n      <td>RYWANATRSF</td>\n      <td>72.91</td>\n      <td>RYWANATRSF</td>\n      <td>1900</td>\n      <td>0</td>\n    </tr>\n    <tr>\n      <th>2</th>\n      <td>9</td>\n      <td>AEFSPDAPDAAAAY</td>\n      <td>100.02</td>\n      <td>AEFSPDAPDAAAAY</td>\n      <td>40</td>\n      <td>1</td>\n    </tr>\n    <tr>\n      <th>3</th>\n      <td>8</td>\n      <td>AEFSPDAAAAY</td>\n      <td>100.02</td>\n      <td>AEFSPDAAAAY</td>\n      <td>48</td>\n      <td>1</td>\n    </tr>\n    <tr>\n      <th>4</th>\n      <td>6</td>\n      <td>AEFSAAPDAAY</td>\n      <td>100.02</td>\n      <td>AEFSAAPDAAY</td>\n      <td>80</td>\n      <td>1</td>\n    </tr>\n  </tbody>\n</table>\n</div>"
     },
     "execution_count": 84,
     "metadata": {},
     "output_type": "execute_result"
    }
   ],
   "source": [
    "val = pd.read_csv(\"TAP/data/validation/validation_TAP.csv\",sep = \";\")\n",
    "sparse = pd.read_excel(\"TAP/data/validation/TAPREG_sparse.xlsx\")\n",
    "sparse = pd.merge(sparse,val, left_on=\"SEQUENCE\", right_on=\"PEPTIDE\")\n",
    "sparse.head()"
   ],
   "metadata": {
    "collapsed": false,
    "ExecuteTime": {
     "end_time": "2023-05-11T18:40:40.131257436Z",
     "start_time": "2023-05-11T18:40:40.085862835Z"
    }
   }
  },
  {
   "cell_type": "code",
   "execution_count": 85,
   "outputs": [
    {
     "data": {
      "text/plain": "0    60\n1     2\nName: pred, dtype: int64"
     },
     "execution_count": 85,
     "metadata": {},
     "output_type": "execute_result"
    }
   ],
   "source": [
    "sparse[\"pred\"] = np.where(sparse[\"TAP AFFINITY IC50 (nM)\"] > 100, 0, 1)\n",
    "sparse[\"pred\"].value_counts()"
   ],
   "metadata": {
    "collapsed": false,
    "ExecuteTime": {
     "end_time": "2023-05-11T18:40:40.803667024Z",
     "start_time": "2023-05-11T18:40:40.800746880Z"
    }
   }
  },
  {
   "cell_type": "code",
   "execution_count": 86,
   "outputs": [
    {
     "data": {
      "text/plain": "           model   auc_roc        ap\n0          ANGEL  0.604798  0.369246\n1  TAPREG_sparse  0.477273  0.290323",
      "text/html": "<div>\n<style scoped>\n    .dataframe tbody tr th:only-of-type {\n        vertical-align: middle;\n    }\n\n    .dataframe tbody tr th {\n        vertical-align: top;\n    }\n\n    .dataframe thead th {\n        text-align: right;\n    }\n</style>\n<table border=\"1\" class=\"dataframe\">\n  <thead>\n    <tr style=\"text-align: right;\">\n      <th></th>\n      <th>model</th>\n      <th>auc_roc</th>\n      <th>ap</th>\n    </tr>\n  </thead>\n  <tbody>\n    <tr>\n      <th>0</th>\n      <td>ANGEL</td>\n      <td>0.604798</td>\n      <td>0.369246</td>\n    </tr>\n    <tr>\n      <th>1</th>\n      <td>TAPREG_sparse</td>\n      <td>0.477273</td>\n      <td>0.290323</td>\n    </tr>\n  </tbody>\n</table>\n</div>"
     },
     "execution_count": 86,
     "metadata": {},
     "output_type": "execute_result"
    }
   ],
   "source": [
    "result.loc[1] = [\"TAPREG_sparse\", metrics.roc_auc_score(sparse[\"activity\"],sparse[\"pred\"]), metrics.average_precision_score(sparse[\"activity\"],sparse[\"pred\"])]\n",
    "result.head()"
   ],
   "metadata": {
    "collapsed": false,
    "ExecuteTime": {
     "end_time": "2023-05-11T18:40:42.376009727Z",
     "start_time": "2023-05-11T18:40:42.336487406Z"
    }
   }
  },
  {
   "cell_type": "code",
   "execution_count": 87,
   "outputs": [
    {
     "data": {
      "text/plain": "           model   auc_roc        ap\n0          ANGEL  0.604798  0.369246\n1  TAPREG_sparse  0.477273  0.290323\n2  TAPREG_blosum  0.477273  0.290323",
      "text/html": "<div>\n<style scoped>\n    .dataframe tbody tr th:only-of-type {\n        vertical-align: middle;\n    }\n\n    .dataframe tbody tr th {\n        vertical-align: top;\n    }\n\n    .dataframe thead th {\n        text-align: right;\n    }\n</style>\n<table border=\"1\" class=\"dataframe\">\n  <thead>\n    <tr style=\"text-align: right;\">\n      <th></th>\n      <th>model</th>\n      <th>auc_roc</th>\n      <th>ap</th>\n    </tr>\n  </thead>\n  <tbody>\n    <tr>\n      <th>0</th>\n      <td>ANGEL</td>\n      <td>0.604798</td>\n      <td>0.369246</td>\n    </tr>\n    <tr>\n      <th>1</th>\n      <td>TAPREG_sparse</td>\n      <td>0.477273</td>\n      <td>0.290323</td>\n    </tr>\n    <tr>\n      <th>2</th>\n      <td>TAPREG_blosum</td>\n      <td>0.477273</td>\n      <td>0.290323</td>\n    </tr>\n  </tbody>\n</table>\n</div>"
     },
     "execution_count": 87,
     "metadata": {},
     "output_type": "execute_result"
    }
   ],
   "source": [
    "val = pd.read_csv(\"TAP/data/validation/validation_TAP.csv\",sep = \";\")\n",
    "blosum = pd.read_excel(\"TAP/data/validation/TAPREG_blosum.xlsx\")\n",
    "blosum = pd.merge(blosum,val, left_on=\"SEQUENCE\", right_on=\"PEPTIDE\")\n",
    "blosum[\"pred\"] = np.where(blosum[\"TAP AFFINITY IC50 (nM)\"] > 100, 0, 1)\n",
    "result.loc[2] = [\"TAPREG_blosum\", metrics.roc_auc_score(blosum[\"activity\"],blosum[\"pred\"]), metrics.average_precision_score(blosum[\"activity\"],blosum[\"pred\"])]\n",
    "result.head()"
   ],
   "metadata": {
    "collapsed": false,
    "ExecuteTime": {
     "end_time": "2023-05-11T18:40:48.751192243Z",
     "start_time": "2023-05-11T18:40:48.713262222Z"
    }
   }
  },
  {
   "cell_type": "code",
   "execution_count": 88,
   "outputs": [
    {
     "data": {
      "text/plain": "<Figure size 640x480 with 1 Axes>",
      "image/png": "[encoded data removed]"
     },
     "metadata": {},
     "output_type": "display_data"
    }
   ],
   "source": [
    "angel_fpr,angel_tpr,angel_tresholds = metrics.roc_curve(tbl[\"activity\"], tbl[\"1\"])\n",
    "tapreg_fpr,tapreg_tpr,tapreg_tresholds = metrics.roc_curve(sparse[\"activity\"],sparse[\"pred\"])\n",
    "angel_coords = pd.DataFrame({\"fpr\":angel_fpr,\"tpr\":angel_tpr,\"thresholds\":angel_tresholds})\n",
    "tapreg_coords = pd.DataFrame({\"fpr\":tapreg_fpr,\"tpr\":tapreg_tpr,\"thresholds\":tapreg_tresholds})\n",
    "plt.plot(np.arange(0,1.1,0.1),np.arange(0,1.1,0.1), color = \"red\")\n",
    "plt.plot(angel_fpr, angel_tpr, color = \"black\", label = f\"ANGEL,AUC={round(result.loc[0,'auc_roc'],2)}\")\n",
    "plt.plot(tapreg_fpr, tapreg_tpr,color = \"green\", label = f\"TAPREG,AUC={round(result.loc[1,'auc_roc'],2)}\")\n",
    "plt.xlabel(\"1 - Специфичность\")\n",
    "plt.ylabel(\"Чувствительность\")\n",
    "plt.title(\"ROC-кривые моделей ТАР транспортеров\")\n",
    "plt.legend()\n",
    "plt.tight_layout()\n",
    "plt.savefig(\"TAP/data/validation/roc.png\")"
   ],
   "metadata": {
    "collapsed": false,
    "ExecuteTime": {
     "end_time": "2023-05-11T18:40:49.614060335Z",
     "start_time": "2023-05-11T18:40:49.312555708Z"
    }
   }
  },
  {
   "cell_type": "code",
   "execution_count": 79,
   "outputs": [
    {
     "data": {
      "text/plain": "0.0261"
     },
     "execution_count": 79,
     "metadata": {},
     "output_type": "execute_result"
    }
   ],
   "source": [
    "angel_coords[\"Gmean\"] = np.sqrt(angel_coords[\"tpr\"] * (1 - angel_coords[\"fpr\"]))\n",
    "angel_coords[\"J\"] = angel_coords[\"tpr\"] - angel_coords[\"fpr\"]\n",
    "optim_threshold_angel = angel_coords.loc[np.argmax(angel_coords[\"J\"]),\"thresholds\"]\n",
    "optim_threshold_angel"
   ],
   "metadata": {
    "collapsed": false,
    "ExecuteTime": {
     "end_time": "2023-05-10T19:37:43.223132119Z",
     "start_time": "2023-05-10T19:37:43.182566800Z"
    }
   }
  },
  {
   "cell_type": "code",
   "execution_count": 80,
   "outputs": [
    {
     "data": {
      "text/plain": "            Sens      Spec       PPV       NPV Precision  Accuracy  \\\nANGEL   0.944444  0.386364  0.386364  0.944444  0.386364  0.548387   \nTAPREG       0.0  0.954545       0.0       0.7       0.0  0.677419   \n\n       Balanced Accuracy        F1       MCC  \nANGEL           0.665404  0.548387  0.330808  \nTAPREG          0.477273       0.0 -0.116775  ",
      "text/html": "<div>\n<style scoped>\n    .dataframe tbody tr th:only-of-type {\n        vertical-align: middle;\n    }\n\n    .dataframe tbody tr th {\n        vertical-align: top;\n    }\n\n    .dataframe thead th {\n        text-align: right;\n    }\n</style>\n<table border=\"1\" class=\"dataframe\">\n  <thead>\n    <tr style=\"text-align: right;\">\n      <th></th>\n      <th>Sens</th>\n      <th>Spec</th>\n      <th>PPV</th>\n      <th>NPV</th>\n      <th>Precision</th>\n      <th>Accuracy</th>\n      <th>Balanced Accuracy</th>\n      <th>F1</th>\n      <th>MCC</th>\n    </tr>\n  </thead>\n  <tbody>\n    <tr>\n      <th>ANGEL</th>\n      <td>0.944444</td>\n      <td>0.386364</td>\n      <td>0.386364</td>\n      <td>0.944444</td>\n      <td>0.386364</td>\n      <td>0.548387</td>\n      <td>0.665404</td>\n      <td>0.548387</td>\n      <td>0.330808</td>\n    </tr>\n    <tr>\n      <th>TAPREG</th>\n      <td>0.0</td>\n      <td>0.954545</td>\n      <td>0.0</td>\n      <td>0.7</td>\n      <td>0.0</td>\n      <td>0.677419</td>\n      <td>0.477273</td>\n      <td>0.0</td>\n      <td>-0.116775</td>\n    </tr>\n  </tbody>\n</table>\n</div>"
     },
     "execution_count": 80,
     "metadata": {},
     "output_type": "execute_result"
    }
   ],
   "source": [
    "tbl1 = tbl.copy(deep = True)\n",
    "tbl1[\"pred\"] = np.where(tbl1[\"1\"] < optim_threshold_angel, 0, 1)\n",
    "model_summary = pd.DataFrame(columns=[\"Sens\",\"Spec\",\"PPV\",\"NPV\",\"Precision\",'Accuracy',\"Balanced Accuracy\", \"F1\", \"MCC\"])\n",
    "tn, fp, fn, tp = metrics.confusion_matrix(tbl1[\"activity\"],tbl1[\"pred\"]).ravel()\n",
    "model_summary.loc[\"ANGEL\",\"Sens\"] = tp / (tp + fn)\n",
    "model_summary.loc[\"ANGEL\",\"Spec\"] = tn / (tn + fp)\n",
    "model_summary.loc[\"ANGEL\",\"PPV\"] = tp / (tp + fp)\n",
    "model_summary.loc[\"ANGEL\",\"NPV\"] = tn / (tn + fn)\n",
    "model_summary.loc[\"ANGEL\",\"Precision\"] = metrics.precision_score(tbl1[\"activity\"],tbl1[\"pred\"])\n",
    "model_summary.loc[\"ANGEL\",\"Accuracy\"] = metrics.accuracy_score(tbl1[\"activity\"],tbl1[\"pred\"])\n",
    "model_summary.loc[\"ANGEL\",\"Balanced Accuracy\"] = metrics.balanced_accuracy_score(tbl1[\"activity\"],tbl1[\"pred\"])\n",
    "model_summary.loc[\"ANGEL\",\"F1\"] = metrics.f1_score(tbl1[\"activity\"],tbl1[\"pred\"])\n",
    "model_summary.loc[\"ANGEL\",\"MCC\"] = metrics.matthews_corrcoef(tbl1[\"activity\"],tbl1[\"pred\"])\n",
    "\n",
    "tn, fp, fn, tp = metrics.confusion_matrix(sparse[\"activity\"],sparse[\"pred\"]).ravel()\n",
    "model_summary.loc[\"TAPREG\",\"Sens\"] = tp / (tp + fn)\n",
    "model_summary.loc[\"TAPREG\",\"Spec\"] = tn / (tn + fp)\n",
    "model_summary.loc[\"TAPREG\",\"PPV\"] = tp / (tp + fp)\n",
    "model_summary.loc[\"TAPREG\",\"NPV\"] = tn / (tn + fn)\n",
    "model_summary.loc[\"TAPREG\",\"Precision\"] = metrics.precision_score(sparse[\"activity\"],sparse[\"pred\"])\n",
    "model_summary.loc[\"TAPREG\",\"Accuracy\"] = metrics.accuracy_score(sparse[\"activity\"],sparse[\"pred\"])\n",
    "model_summary.loc[\"TAPREG\",\"Balanced Accuracy\"] = metrics.balanced_accuracy_score(sparse[\"activity\"],sparse[\"pred\"])\n",
    "model_summary.loc[\"TAPREG\",\"F1\"] = metrics.f1_score(sparse[\"activity\"],sparse[\"pred\"])\n",
    "model_summary.loc[\"TAPREG\",\"MCC\"] = metrics.matthews_corrcoef(sparse[\"activity\"],sparse[\"pred\"])\n",
    "\n",
    "model_summary.head()"
   ],
   "metadata": {
    "collapsed": false,
    "ExecuteTime": {
     "end_time": "2023-05-10T19:37:49.967789890Z",
     "start_time": "2023-05-10T19:37:49.936623275Z"
    }
   }
  },
  {
   "cell_type": "code",
   "execution_count": null,
   "outputs": [],
   "source": [
    "tp"
   ],
   "metadata": {
    "collapsed": false
   }
  }
 ],
 "metadata": {
  "kernelspec": {
   "display_name": "Python 3",
   "language": "python",
   "name": "python3"
  },
  "language_info": {
   "codemirror_mode": {
    "name": "ipython",
    "version": 2
   },
   "file_extension": ".py",
   "mimetype": "text/x-python",
   "name": "python",
   "nbconvert_exporter": "python",
   "pygments_lexer": "ipython2",
   "version": "2.7.6"
  }
 },
 "nbformat": 4,
 "nbformat_minor": 0
}
