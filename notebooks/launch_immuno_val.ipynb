{
 "cells": [
  {
   "cell_type": "code",
   "execution_count": 1,
   "metadata": {
    "collapsed": true,
    "ExecuteTime": {
     "end_time": "2023-05-11T22:57:37.117957341Z",
     "start_time": "2023-05-11T22:57:36.360823217Z"
    }
   },
   "outputs": [
    {
     "name": "stderr",
     "output_type": "stream",
     "text": [
      "/home/stotoshka/Soft/anaconda3/envs/research/lib/python3.9/site-packages/paramiko/transport.py:219: CryptographyDeprecationWarning: Blowfish has been deprecated\n",
      "  \"class\": algorithms.Blowfish,\n"
     ]
    }
   ],
   "source": [
    "import os\n",
    "\n",
    "import numpy as np\n",
    "import pandas as pd\n",
    "import re\n",
    "import paramiko\n",
    "from getpass import getpass\n",
    "import traceback\n",
    "import numpy as np\n",
    "import matplotlib.pyplot as plt\n",
    "from sklearn import metrics"
   ]
  },
  {
   "cell_type": "code",
   "execution_count": 2,
   "outputs": [],
   "source": [
    "os.chdir(\"/home/stotoshka/Documents/ANGEL_dev\")\n"
   ],
   "metadata": {
    "collapsed": false,
    "ExecuteTime": {
     "end_time": "2023-05-11T22:57:43.311828875Z",
     "start_time": "2023-05-11T22:57:43.293300092Z"
    }
   }
  },
  {
   "cell_type": "code",
   "execution_count": 3,
   "outputs": [
    {
     "name": "stderr",
     "output_type": "stream",
     "text": [
      "/home/stotoshka/Documents/ANGEL_dev/Proteasome/in_vitro/prepareValidation.py:53: FutureWarning: The default value of regex will change from True to False in a future version.\n",
      "  calis_data_filtered[\"sequence\"] = calis_data_filtered[\"cleavage_sites\"].str.replace(\"\\\\|\",\"\")\n",
      "/home/stotoshka/Documents/ANGEL_dev/Proteasome/in_vitro/prepareValidation.py:53: SettingWithCopyWarning: \n",
      "A value is trying to be set on a copy of a slice from a DataFrame.\n",
      "Try using .loc[row_indexer,col_indexer] = value instead\n",
      "\n",
      "See the caveats in the documentation: https://pandas.pydata.org/pandas-docs/stable/user_guide/indexing.html#returning-a-view-versus-a-copy\n",
      "  calis_data_filtered[\"sequence\"] = calis_data_filtered[\"cleavage_sites\"].str.replace(\"\\\\|\",\"\")\n"
     ]
    },
    {
     "name": "stdout",
     "output_type": "stream",
     "text": [
      "0    753\n",
      "1    389\n",
      "Name: activity, dtype: int64\n",
      "Num train substrate = 24\n",
      "Num validation substrate = 215\n",
      "0    1560\n",
      "1     737\n",
      "Name: activity, dtype: int64\n"
     ]
    }
   ],
   "source": [
    "%%bash\n",
    "cd /home/stotoshka/Documents/ANGEL_dev\n",
    "python Proteasome/in_vitro/prepareValidation.py -t I -w 2"
   ],
   "metadata": {
    "collapsed": false,
    "ExecuteTime": {
     "end_time": "2023-05-11T22:58:21.713440658Z",
     "start_time": "2023-05-11T22:58:17.838267638Z"
    }
   }
  },
  {
   "cell_type": "code",
   "execution_count": 4,
   "outputs": [
    {
     "name": "stdout",
     "output_type": "stream",
     "text": [
      "Success\n",
      "Convertation\n",
      "Success\n",
      "--- 0.17413783073425293 seconds ---\n",
      "CPU times: user 901 µs, sys: 3.39 ms, total: 4.29 ms\n",
      "Wall time: 610 ms\n"
     ]
    },
    {
     "data": {
      "text/plain": "0"
     },
     "execution_count": 4,
     "metadata": {},
     "output_type": "execute_result"
    }
   ],
   "source": [
    "%%time\n",
    "path_to_config = \"Proteasome/in_vitro/immuno/converter_config.json\"\n",
    "command = f\"python tools/generateConfigForConverter.py -i {os.path.join(os.getcwd(),'Proteasome/in_vitro/immuno/validation/ready_train_immuno_2.csv')} -o {os.path.join(os.getcwd(),'Proteasome/in_vitro/immuno/sdf')} -c peptide -t 10 {path_to_config}\"\n",
    "os.system(command)\n",
    "print(\"Convertation\")\n",
    "convert_command = f\"python tools/SeqToSDF.py {path_to_config}\"\n",
    "os.system(convert_command)"
   ],
   "metadata": {
    "collapsed": false,
    "ExecuteTime": {
     "end_time": "2023-05-11T23:01:28.893821710Z",
     "start_time": "2023-05-11T23:01:28.284552524Z"
    }
   }
  },
  {
   "cell_type": "code",
   "execution_count": 5,
   "outputs": [
    {
     "name": "stdout",
     "output_type": "stream",
     "text": [
      "Success\n",
      "Convertation\n",
      "Success\n",
      "--- 0.3956427574157715 seconds ---\n",
      "CPU times: user 3.16 ms, sys: 408 µs, total: 3.56 ms\n",
      "Wall time: 725 ms\n"
     ]
    },
    {
     "data": {
      "text/plain": "0"
     },
     "execution_count": 5,
     "metadata": {},
     "output_type": "execute_result"
    }
   ],
   "source": [
    "%%time\n",
    "path_to_config = \"Proteasome/in_vitro/immuno/converter_config.json\"\n",
    "command = f\"python tools/generateConfigForConverter.py -i {os.path.join(os.getcwd(),'Proteasome/in_vitro/immuno/validation/ready_validation_immuno_2.csv')} -o {os.path.join(os.getcwd(),'Proteasome/in_vitro/immuno/sdf')} -c peptide -t 10 {path_to_config}\"\n",
    "os.system(command)\n",
    "print(\"Convertation\")\n",
    "convert_command = f\"python tools/SeqToSDF.py {path_to_config}\"\n",
    "os.system(convert_command)"
   ],
   "metadata": {
    "collapsed": false,
    "ExecuteTime": {
     "end_time": "2023-05-11T23:01:46.469994545Z",
     "start_time": "2023-05-11T23:01:45.746598446Z"
    }
   }
  },
  {
   "cell_type": "code",
   "execution_count": 8,
   "outputs": [],
   "source": [
    "%%bash\n",
    "cd /home/stotoshka/Documents/ANGEL_dev\n",
    "rm Proteasome/in_vitro/immuno/sdf/*.txt\n",
    "cp Proteasome/in_vitro/immuno/sdf/ready_train_immuno_2.sdf /run/user/1000/gvfs/smb-share:server=192.168.0.10,share=diplom/ANGEL/immuno/sdf\n",
    "cp Proteasome/in_vitro/immuno/sdf/ready_validation_immuno_2.sdf /run/user/1000/gvfs/smb-share:server=192.168.0.10,share=diplom/ANGEL/immuno/sdf"
   ],
   "metadata": {
    "collapsed": false,
    "ExecuteTime": {
     "end_time": "2023-05-11T23:02:42.125768301Z",
     "start_time": "2023-05-11T23:02:39.484564215Z"
    }
   }
  },
  {
   "cell_type": "code",
   "execution_count": 9,
   "outputs": [
    {
     "name": "stdout",
     "output_type": "stream",
     "text": [
      "Success\n"
     ]
    },
    {
     "data": {
      "text/plain": "0"
     },
     "execution_count": 9,
     "metadata": {},
     "output_type": "execute_result"
    }
   ],
   "source": [
    "command = f\"python tools/generateConfigForTrain.py -l {7} -b total_immuno_2_7 -s sdf/ready_train_immuno_2.sdf -a activity -p models/total_immuno_2_7 /run/user/1000/gvfs/smb-share:server=192.168.0.10,share=diplom/ANGEL/immuno/total_immuno_2_7_tr.txt\"\n",
    "os.system(command)"
   ],
   "metadata": {
    "collapsed": false,
    "ExecuteTime": {
     "end_time": "2023-05-11T23:03:04.512211627Z",
     "start_time": "2023-05-11T23:03:04.317725283Z"
    }
   }
  },
  {
   "cell_type": "code",
   "execution_count": 11,
   "outputs": [
    {
     "name": "stdout",
     "output_type": "stream",
     "text": [
      "Success\n"
     ]
    },
    {
     "data": {
      "text/plain": "0"
     },
     "execution_count": 11,
     "metadata": {},
     "output_type": "execute_result"
    }
   ],
   "source": [
    "command = f\"python tools/generateConfigForPrediction.py -m models/total_immuno_2_7.MSAR -s sdf/ready_validation_immuno_2.sdf -a sequence -p results /run/user/1000/gvfs/smb-share:server=192.168.0.10,share=diplom/ANGEL/immuno/total_immuno_2_7_val.txt\"\n",
    "os.system(command)"
   ],
   "metadata": {
    "collapsed": false,
    "ExecuteTime": {
     "end_time": "2023-05-11T23:04:42.540258511Z",
     "start_time": "2023-05-11T23:04:42.224826504Z"
    }
   }
  },
  {
   "cell_type": "code",
   "execution_count": 12,
   "outputs": [],
   "source": [
    "def checkTrain(path):\n",
    "    flag = False\n",
    "    header = \"No\t Check\t Number\t IAP\t 20-Fold\t Activity Type\"\n",
    "    try:\n",
    "        with open(path, \"r\", encoding=\"cp1252\") as log:\n",
    "            for line in log:\n",
    "                if header in line:\n",
    "                    flag = True\n",
    "    except:\n",
    "        traceback.print_exc()\n",
    "    finally:\n",
    "        return flag\n",
    "\n",
    "\n",
    "def checkValidation(path):\n",
    "    try:\n",
    "        f = False\n",
    "        with open(path, \"r\", encoding=\"cp1252\") as log:\n",
    "            for line in log:\n",
    "                if \"are predicted\" in line:\n",
    "                    comps = line.strip().split(\" \")\n",
    "                    if int(comps[0]) == int(comps[2]):\n",
    "                        f = True\n",
    "                    else:\n",
    "                        f = False\n",
    "    except:\n",
    "        traceback.print_exc()\n",
    "    finally:\n",
    "        return f"
   ],
   "metadata": {
    "collapsed": false,
    "ExecuteTime": {
     "end_time": "2023-05-11T23:04:45.978335091Z",
     "start_time": "2023-05-11T23:04:45.972886294Z"
    }
   }
  },
  {
   "cell_type": "code",
   "execution_count": 13,
   "outputs": [
    {
     "name": "stdout",
     "output_type": "stream",
     "text": [
      "Train ended\n",
      "CPU times: user 71.5 ms, sys: 17.7 ms, total: 89.1 ms\n",
      "Wall time: 36.2 s\n"
     ]
    }
   ],
   "source": [
    "%%time\n",
    "client = paramiko.SSHClient()\n",
    "client.set_missing_host_key_policy(paramiko.AutoAddPolicy())\n",
    "password = getpass()\n",
    "client.connect('192.168.0.10', username='SmirnygaTotoshka', password=password)\n",
    "\n",
    "tr_command = r\"C:\\Users\\SmirnygaTotoshka\\Desktop\\OLMPASS\\OLMPASSdoSAR.exe C:\\Users\\SmirnygaTotoshka\\Desktop\\diplom\\ANGEL\\immuno\\total_immuno_2_7_tr.txt\"\n",
    "stdin, stdout, stderr = client.exec_command(tr_command)  # Non-blocking call\n",
    "exit_status = stdout.channel.recv_exit_status()  # Blocking call\n",
    "if exit_status == 0:\n",
    "    if checkTrain(f\"/run/user/1000/gvfs/smb-share:server=192.168.0.10,share=diplom/ANGEL/immuno/models/total_immuno_2_7.HST\"):\n",
    "        print(\"Train ended\")\n",
    "    else:\n",
    "        print(f\"Train ended with errors\")\n",
    "else:\n",
    "    print(\"Error\", exit_status)\n",
    "client.close()"
   ],
   "metadata": {
    "collapsed": false,
    "ExecuteTime": {
     "end_time": "2023-05-11T23:05:39.553425265Z",
     "start_time": "2023-05-11T23:05:03.284341937Z"
    }
   }
  },
  {
   "cell_type": "code",
   "execution_count": 14,
   "outputs": [
    {
     "name": "stdout",
     "output_type": "stream",
     "text": [
      "Validation ended with errors\n",
      "CPU times: user 41.1 ms, sys: 7.62 ms, total: 48.7 ms\n",
      "Wall time: 10.9 s\n"
     ]
    }
   ],
   "source": [
    "%%time\n",
    "client.connect('192.168.0.10', username='SmirnygaTotoshka', password=password)\n",
    "val_command = r\"C:\\Users\\SmirnygaTotoshka\\Desktop\\OLMPASS\\OLMPASS2CSV.exe C:\\Users\\SmirnygaTotoshka\\Desktop\\diplom\\ANGEL\\immuno\\total_immuno_2_7_val.txt\"\n",
    "stdin_val, stdout_val, stderr_val = client.exec_command(val_command)  # Non-blocking call\n",
    "exit_status_val = stdout_val.channel.recv_exit_status()\n",
    "if exit_status_val == 0:\n",
    "    if checkValidation(f\"/run/user/1000/gvfs/smb-share:server=192.168.0.10,share=diplom/ANGEL/immuno/results/ready_validation_immuno_2-total_immuno_2_7.HST\"):\n",
    "        print(\"Validation ended\")\n",
    "    else:\n",
    "        print(f\"Validation ended with errors\")\n",
    "else:\n",
    "    print(\"Error validation\", exit_status_val)\n",
    "client.close()"
   ],
   "metadata": {
    "collapsed": false,
    "ExecuteTime": {
     "end_time": "2023-05-11T23:05:50.387664235Z",
     "start_time": "2023-05-11T23:05:39.537163575Z"
    }
   }
  },
  {
   "cell_type": "code",
   "execution_count": 16,
   "outputs": [],
   "source": [
    "%%bash\n",
    "cd /home/stotoshka/Documents/ANGEL_dev\n",
    "cp /run/user/1000/gvfs/smb-share:server=192.168.0.10,share=diplom/ANGEL/immuno/models/total* Proteasome/in_vitro/immuno/results/validation/models/\n",
    "cp /run/user/1000/gvfs/smb-share:server=192.168.0.10,share=diplom/ANGEL/immuno/results/ready_validation* Proteasome/in_vitro/immuno/results/validation/results"
   ],
   "metadata": {
    "collapsed": false,
    "ExecuteTime": {
     "end_time": "2023-05-11T23:06:38.073718972Z",
     "start_time": "2023-05-11T23:06:36.585072539Z"
    }
   }
  },
  {
   "cell_type": "code",
   "execution_count": 17,
   "outputs": [],
   "source": [
    "path = f\"Proteasome/in_vitro/immuno/results/validation/models/total_immuno_2_7.HST\"\n",
    "header = \"No\t Check\t Number\t IAP\t 20-Fold\t Activity\"\n",
    "tbl = pd.DataFrame(columns=[\"model_name\",\"window\", \"descriptor_level\", \"iap\", \"twentyCV\", \"activity\", \"num_subst\"])\n",
    "with open(path, \"r\", encoding='cp1252') as f:\n",
    "    split_name = re.split(\"_\", os.path.splitext(os.path.basename(path))[0])\n",
    "    model_name = split_name[1]\n",
    "    window = split_name[2]\n",
    "    level = split_name[3]\n",
    "    lines = f.readlines()\n",
    "    flag = False\n",
    "    for line in lines:\n",
    "        if header in line:\n",
    "            flag = True\n",
    "            continue\n",
    "        if line == \"\\n\" and flag:\n",
    "            break\n",
    "        if flag:\n",
    "            components = re.split(\"\\t\\\\s+\", line)\n",
    "            num_subst = components[2]\n",
    "            iap = components[3]\n",
    "            twentyCV = components[4]\n",
    "            activity = components[5].strip()\n",
    "            row = pd.DataFrame.from_dict({\"model_name\": [model_name],\n",
    "                                          \"window\":[int(window)],\n",
    "                                          \"descriptor_level\": [int(level)],\n",
    "                                          \"num_subst\": [int(num_subst)],\n",
    "                                          \"iap\": [float(iap.replace(\",\", \".\"))],\n",
    "                                          \"twentyCV\": [float(twentyCV.replace(\",\", \".\"))],\n",
    "                                          \"activity\": [int(activity)]})\n",
    "            tbl = pd.concat([tbl, row], ignore_index=True)\n",
    "    if not flag:\n",
    "        print(f\"total not any predictable activity\")\n",
    "tbl.to_excel(\"Proteasome/in_vitro/immuno/results/validation/internal.xlsx\", index = False)"
   ],
   "metadata": {
    "collapsed": false,
    "ExecuteTime": {
     "end_time": "2023-05-11T23:07:00.861195234Z",
     "start_time": "2023-05-11T23:07:00.834610656Z"
    }
   }
  },
  {
   "cell_type": "code",
   "execution_count": 18,
   "outputs": [
    {
     "data": {
      "text/plain": "  model_name  window  descriptor_level     iap  twentyCV  activity  num_subst\n0     immuno       2                 7  0.6392    0.6347         1        350\n1     immuno       2                 7  0.6469    0.6426         0        717",
      "text/html": "<div>\n<style scoped>\n    .dataframe tbody tr th:only-of-type {\n        vertical-align: middle;\n    }\n\n    .dataframe tbody tr th {\n        vertical-align: top;\n    }\n\n    .dataframe thead th {\n        text-align: right;\n    }\n</style>\n<table border=\"1\" class=\"dataframe\">\n  <thead>\n    <tr style=\"text-align: right;\">\n      <th></th>\n      <th>model_name</th>\n      <th>window</th>\n      <th>descriptor_level</th>\n      <th>iap</th>\n      <th>twentyCV</th>\n      <th>activity</th>\n      <th>num_subst</th>\n    </tr>\n  </thead>\n  <tbody>\n    <tr>\n      <th>0</th>\n      <td>immuno</td>\n      <td>2</td>\n      <td>7</td>\n      <td>0.6392</td>\n      <td>0.6347</td>\n      <td>1</td>\n      <td>350</td>\n    </tr>\n    <tr>\n      <th>1</th>\n      <td>immuno</td>\n      <td>2</td>\n      <td>7</td>\n      <td>0.6469</td>\n      <td>0.6426</td>\n      <td>0</td>\n      <td>717</td>\n    </tr>\n  </tbody>\n</table>\n</div>"
     },
     "execution_count": 18,
     "metadata": {},
     "output_type": "execute_result"
    }
   ],
   "source": [
    "internal_res = pd.read_excel(\"Proteasome/in_vitro/immuno/results/validation/internal.xlsx\")\n",
    "internal_res.head()"
   ],
   "metadata": {
    "collapsed": false,
    "ExecuteTime": {
     "end_time": "2023-05-11T23:07:13.194722207Z",
     "start_time": "2023-05-11T23:07:13.109478422Z"
    }
   }
  },
  {
   "cell_type": "code",
   "execution_count": 19,
   "outputs": [],
   "source": [
    "def deconvoluteTrue(X, excluded=None):\n",
    "    seqs = list(X[\"substrate\"].unique())\n",
    "    for i in X.index:\n",
    "        finded_start = X.loc[i, \"substrate\"].find(X.loc[i, \"fragment\"])\n",
    "        X.loc[i, \"start\"] = finded_start - 1  # сайт левее найденной позиции (левее N-конца)\n",
    "        X.loc[i, \"end\"] = finded_start + len(X.loc[i, \"fragment\"]) - 1  # сайт левее найденной позиции (C-конец)\n",
    "    result = pd.DataFrame(columns=[\"residue\", \"sequence\", \"activity\"])\n",
    "    k = 0\n",
    "    for s in seqs:\n",
    "        subset = X.query(\"substrate == @s\").reset_index(drop=True)\n",
    "        start = list(subset['start'])\n",
    "        end = list(subset['end'])\n",
    "        for i in range(0, len(s)):\n",
    "            if excluded is not None:\n",
    "                if not pd.isna(subset.loc[0,excluded]):\n",
    "                    ex = subset.loc[0, excluded].split(\";\")\n",
    "                else:\n",
    "                    ex = []\n",
    "                if i in ex:\n",
    "                    result.loc[k] = [s[i], s, 0]\n",
    "                else:\n",
    "                    result.loc[k] = [s[i], s, int(i in start or i in end)]\n",
    "            else:\n",
    "                result.loc[k] = [s[i], s, int(i in start or i in end)]\n",
    "            k += 1\n",
    "    print(result.activity.value_counts())\n",
    "    return result"
   ],
   "metadata": {
    "collapsed": false,
    "ExecuteTime": {
     "end_time": "2023-05-11T23:07:31.284693847Z",
     "start_time": "2023-05-11T23:07:31.263632838Z"
    }
   }
  },
  {
   "cell_type": "code",
   "execution_count": 20,
   "outputs": [
    {
     "data": {
      "text/plain": "  peptide sequence   full_sequence  activity\n0   ALETG    ALETG  ALETGTIFLPVRHD         0\n1   LETGT    LETGT  ALETGTIFLPVRHD         1\n2   ETGTI    ETGTI  ALETGTIFLPVRHD         0\n3   TGTIF    TGTIF  ALETGTIFLPVRHD         0\n4   GTIFL    GTIFL  ALETGTIFLPVRHD         0",
      "text/html": "<div>\n<style scoped>\n    .dataframe tbody tr th:only-of-type {\n        vertical-align: middle;\n    }\n\n    .dataframe tbody tr th {\n        vertical-align: top;\n    }\n\n    .dataframe thead th {\n        text-align: right;\n    }\n</style>\n<table border=\"1\" class=\"dataframe\">\n  <thead>\n    <tr style=\"text-align: right;\">\n      <th></th>\n      <th>peptide</th>\n      <th>sequence</th>\n      <th>full_sequence</th>\n      <th>activity</th>\n    </tr>\n  </thead>\n  <tbody>\n    <tr>\n      <th>0</th>\n      <td>ALETG</td>\n      <td>ALETG</td>\n      <td>ALETGTIFLPVRHD</td>\n      <td>0</td>\n    </tr>\n    <tr>\n      <th>1</th>\n      <td>LETGT</td>\n      <td>LETGT</td>\n      <td>ALETGTIFLPVRHD</td>\n      <td>1</td>\n    </tr>\n    <tr>\n      <th>2</th>\n      <td>ETGTI</td>\n      <td>ETGTI</td>\n      <td>ALETGTIFLPVRHD</td>\n      <td>0</td>\n    </tr>\n    <tr>\n      <th>3</th>\n      <td>TGTIF</td>\n      <td>TGTIF</td>\n      <td>ALETGTIFLPVRHD</td>\n      <td>0</td>\n    </tr>\n    <tr>\n      <th>4</th>\n      <td>GTIFL</td>\n      <td>GTIFL</td>\n      <td>ALETGTIFLPVRHD</td>\n      <td>0</td>\n    </tr>\n  </tbody>\n</table>\n</div>"
     },
     "execution_count": 20,
     "metadata": {},
     "output_type": "execute_result"
    }
   ],
   "source": [
    "sample = pd.read_csv(\"Proteasome/in_vitro/immuno/validation/ready_validation_immuno_2.csv\",sep = \";\")\n",
    "sample.head()"
   ],
   "metadata": {
    "collapsed": false,
    "ExecuteTime": {
     "end_time": "2023-05-11T23:07:42.852543712Z",
     "start_time": "2023-05-11T23:07:42.809927840Z"
    }
   }
  },
  {
   "cell_type": "code",
   "execution_count": 21,
   "outputs": [
    {
     "data": {
      "text/plain": "  sequence       1       0\n0    ALETG -0.8602  0.8234\n1    LETGT  0.0923 -0.2207\n2    ETGTI  0.5642 -0.1767\n3    TGTIF -0.6327  0.5601\n4    GTIFL  0.6356 -0.6448",
      "text/html": "<div>\n<style scoped>\n    .dataframe tbody tr th:only-of-type {\n        vertical-align: middle;\n    }\n\n    .dataframe tbody tr th {\n        vertical-align: top;\n    }\n\n    .dataframe thead th {\n        text-align: right;\n    }\n</style>\n<table border=\"1\" class=\"dataframe\">\n  <thead>\n    <tr style=\"text-align: right;\">\n      <th></th>\n      <th>sequence</th>\n      <th>1</th>\n      <th>0</th>\n    </tr>\n  </thead>\n  <tbody>\n    <tr>\n      <th>0</th>\n      <td>ALETG</td>\n      <td>-0.8602</td>\n      <td>0.8234</td>\n    </tr>\n    <tr>\n      <th>1</th>\n      <td>LETGT</td>\n      <td>0.0923</td>\n      <td>-0.2207</td>\n    </tr>\n    <tr>\n      <th>2</th>\n      <td>ETGTI</td>\n      <td>0.5642</td>\n      <td>-0.1767</td>\n    </tr>\n    <tr>\n      <th>3</th>\n      <td>TGTIF</td>\n      <td>-0.6327</td>\n      <td>0.5601</td>\n    </tr>\n    <tr>\n      <th>4</th>\n      <td>GTIFL</td>\n      <td>0.6356</td>\n      <td>-0.6448</td>\n    </tr>\n  </tbody>\n</table>\n</div>"
     },
     "execution_count": 21,
     "metadata": {},
     "output_type": "execute_result"
    }
   ],
   "source": [
    "prediction = pd.read_csv(\"Proteasome/in_vitro/immuno/results/validation/results/ready_validation_immuno_2-total_immuno_2_7.csv\",sep = \";\", header = 0,decimal=\",\")\n",
    "prediction = prediction.drop(columns=[\"Substructure Descriptors\", \"New Descriptors\", \"Possible Activities at Pa>Pi\"])\n",
    "prediction.head()"
   ],
   "metadata": {
    "collapsed": false,
    "ExecuteTime": {
     "end_time": "2023-05-11T23:08:00.132137064Z",
     "start_time": "2023-05-11T23:08:00.109409775Z"
    }
   }
  },
  {
   "cell_type": "code",
   "execution_count": null,
   "outputs": [],
   "source": [],
   "metadata": {
    "collapsed": false
   }
  },
  {
   "cell_type": "code",
   "execution_count": 22,
   "outputs": [
    {
     "data": {
      "text/plain": "     peptide sequence                  full_sequence  activity    pred  \\\n0      ALETG    ALETG                 ALETGTIFLPVRHD         0 -0.8602   \n1      LETGT    LETGT                 ALETGTIFLPVRHD         1  0.0923   \n2      ETGTI    ETGTI                 ALETGTIFLPVRHD         0  0.5642   \n3      TGTIF    TGTIF                 ALETGTIFLPVRHD         0 -0.6327   \n4      GTIFL    GTIFL                 ALETGTIFLPVRHD         0  0.6356   \n...      ...      ...                            ...       ...     ...   \n2292   TMLNT    TMLNT  PEVIPMFSALSEGATPQDLNTMLNTVGGH         1  0.5622   \n2293   MLNTV    MLNTV  PEVIPMFSALSEGATPQDLNTMLNTVGGH         0  0.7821   \n2294   LNTVG    LNTVG  PEVIPMFSALSEGATPQDLNTMLNTVGGH         0 -0.4036   \n2295   NTVGG    NTVGG  PEVIPMFSALSEGATPQDLNTMLNTVGGH         0 -0.7940   \n2296   TVGGH    TVGGH  PEVIPMFSALSEGATPQDLNTMLNTVGGH         0 -0.8650   \n\n     pred_pep  \n0       ALETG  \n1       LETGT  \n2       ETGTI  \n3       TGTIF  \n4       GTIFL  \n...       ...  \n2292    TMLNT  \n2293    MLNTV  \n2294    LNTVG  \n2295    NTVGG  \n2296    TVGGH  \n\n[2297 rows x 6 columns]",
      "text/html": "<div>\n<style scoped>\n    .dataframe tbody tr th:only-of-type {\n        vertical-align: middle;\n    }\n\n    .dataframe tbody tr th {\n        vertical-align: top;\n    }\n\n    .dataframe thead th {\n        text-align: right;\n    }\n</style>\n<table border=\"1\" class=\"dataframe\">\n  <thead>\n    <tr style=\"text-align: right;\">\n      <th></th>\n      <th>peptide</th>\n      <th>sequence</th>\n      <th>full_sequence</th>\n      <th>activity</th>\n      <th>pred</th>\n      <th>pred_pep</th>\n    </tr>\n  </thead>\n  <tbody>\n    <tr>\n      <th>0</th>\n      <td>ALETG</td>\n      <td>ALETG</td>\n      <td>ALETGTIFLPVRHD</td>\n      <td>0</td>\n      <td>-0.8602</td>\n      <td>ALETG</td>\n    </tr>\n    <tr>\n      <th>1</th>\n      <td>LETGT</td>\n      <td>LETGT</td>\n      <td>ALETGTIFLPVRHD</td>\n      <td>1</td>\n      <td>0.0923</td>\n      <td>LETGT</td>\n    </tr>\n    <tr>\n      <th>2</th>\n      <td>ETGTI</td>\n      <td>ETGTI</td>\n      <td>ALETGTIFLPVRHD</td>\n      <td>0</td>\n      <td>0.5642</td>\n      <td>ETGTI</td>\n    </tr>\n    <tr>\n      <th>3</th>\n      <td>TGTIF</td>\n      <td>TGTIF</td>\n      <td>ALETGTIFLPVRHD</td>\n      <td>0</td>\n      <td>-0.6327</td>\n      <td>TGTIF</td>\n    </tr>\n    <tr>\n      <th>4</th>\n      <td>GTIFL</td>\n      <td>GTIFL</td>\n      <td>ALETGTIFLPVRHD</td>\n      <td>0</td>\n      <td>0.6356</td>\n      <td>GTIFL</td>\n    </tr>\n    <tr>\n      <th>...</th>\n      <td>...</td>\n      <td>...</td>\n      <td>...</td>\n      <td>...</td>\n      <td>...</td>\n      <td>...</td>\n    </tr>\n    <tr>\n      <th>2292</th>\n      <td>TMLNT</td>\n      <td>TMLNT</td>\n      <td>PEVIPMFSALSEGATPQDLNTMLNTVGGH</td>\n      <td>1</td>\n      <td>0.5622</td>\n      <td>TMLNT</td>\n    </tr>\n    <tr>\n      <th>2293</th>\n      <td>MLNTV</td>\n      <td>MLNTV</td>\n      <td>PEVIPMFSALSEGATPQDLNTMLNTVGGH</td>\n      <td>0</td>\n      <td>0.7821</td>\n      <td>MLNTV</td>\n    </tr>\n    <tr>\n      <th>2294</th>\n      <td>LNTVG</td>\n      <td>LNTVG</td>\n      <td>PEVIPMFSALSEGATPQDLNTMLNTVGGH</td>\n      <td>0</td>\n      <td>-0.4036</td>\n      <td>LNTVG</td>\n    </tr>\n    <tr>\n      <th>2295</th>\n      <td>NTVGG</td>\n      <td>NTVGG</td>\n      <td>PEVIPMFSALSEGATPQDLNTMLNTVGGH</td>\n      <td>0</td>\n      <td>-0.7940</td>\n      <td>NTVGG</td>\n    </tr>\n    <tr>\n      <th>2296</th>\n      <td>TVGGH</td>\n      <td>TVGGH</td>\n      <td>PEVIPMFSALSEGATPQDLNTMLNTVGGH</td>\n      <td>0</td>\n      <td>-0.8650</td>\n      <td>TVGGH</td>\n    </tr>\n  </tbody>\n</table>\n<p>2297 rows × 6 columns</p>\n</div>"
     },
     "execution_count": 22,
     "metadata": {},
     "output_type": "execute_result"
    }
   ],
   "source": [
    "j = sample.index[0]\n",
    "flag = True\n",
    "for i in sample.index:\n",
    "    if flag:\n",
    "        j = i\n",
    "    else:\n",
    "        j += 1\n",
    "    if sample.loc[i,\"peptide\"] == prediction.loc[j,\"sequence\"]:\n",
    "        sample.loc[i,\"pred\"] = prediction.loc[j,\"1\"]\n",
    "        sample.loc[i,\"pred_pep\"] = prediction.loc[j,\"sequence\"]\n",
    "    else:\n",
    "        flag = False\n",
    "        print(f\"Mismatch {i} {sample.loc[i,'peptide']} {j} {prediction.loc[j,'sequence']}\")\n",
    "        sample.loc[i,\"pred\"] = 0\n",
    "\n",
    "sample"
   ],
   "metadata": {
    "collapsed": false,
    "ExecuteTime": {
     "end_time": "2023-05-11T23:08:13.324486814Z",
     "start_time": "2023-05-11T23:08:12.925223096Z"
    }
   }
  },
  {
   "cell_type": "code",
   "execution_count": 23,
   "outputs": [
    {
     "data": {
      "text/plain": "     residue                       full_seq peptide  prediction\n0          A                 ALETGTIFLPVRHD              0.0000\n1          L                 ALETGTIFLPVRHD              0.0000\n2          E                 ALETGTIFLPVRHD   ALETG     -0.8602\n3          T                 ALETGTIFLPVRHD   LETGT      0.0923\n4          G                 ALETGTIFLPVRHD   ETGTI      0.5642\n...      ...                            ...     ...         ...\n3152       T  PEVIPMFSALSEGATPQDLNTMLNTVGGH   LNTVG     -0.4036\n3153       V  PEVIPMFSALSEGATPQDLNTMLNTVGGH   NTVGG     -0.7940\n3154       G  PEVIPMFSALSEGATPQDLNTMLNTVGGH   TVGGH     -0.8650\n3155       G  PEVIPMFSALSEGATPQDLNTMLNTVGGH              0.0000\n3156       H  PEVIPMFSALSEGATPQDLNTMLNTVGGH              0.0000\n\n[3157 rows x 4 columns]",
      "text/html": "<div>\n<style scoped>\n    .dataframe tbody tr th:only-of-type {\n        vertical-align: middle;\n    }\n\n    .dataframe tbody tr th {\n        vertical-align: top;\n    }\n\n    .dataframe thead th {\n        text-align: right;\n    }\n</style>\n<table border=\"1\" class=\"dataframe\">\n  <thead>\n    <tr style=\"text-align: right;\">\n      <th></th>\n      <th>residue</th>\n      <th>full_seq</th>\n      <th>peptide</th>\n      <th>prediction</th>\n    </tr>\n  </thead>\n  <tbody>\n    <tr>\n      <th>0</th>\n      <td>A</td>\n      <td>ALETGTIFLPVRHD</td>\n      <td></td>\n      <td>0.0000</td>\n    </tr>\n    <tr>\n      <th>1</th>\n      <td>L</td>\n      <td>ALETGTIFLPVRHD</td>\n      <td></td>\n      <td>0.0000</td>\n    </tr>\n    <tr>\n      <th>2</th>\n      <td>E</td>\n      <td>ALETGTIFLPVRHD</td>\n      <td>ALETG</td>\n      <td>-0.8602</td>\n    </tr>\n    <tr>\n      <th>3</th>\n      <td>T</td>\n      <td>ALETGTIFLPVRHD</td>\n      <td>LETGT</td>\n      <td>0.0923</td>\n    </tr>\n    <tr>\n      <th>4</th>\n      <td>G</td>\n      <td>ALETGTIFLPVRHD</td>\n      <td>ETGTI</td>\n      <td>0.5642</td>\n    </tr>\n    <tr>\n      <th>...</th>\n      <td>...</td>\n      <td>...</td>\n      <td>...</td>\n      <td>...</td>\n    </tr>\n    <tr>\n      <th>3152</th>\n      <td>T</td>\n      <td>PEVIPMFSALSEGATPQDLNTMLNTVGGH</td>\n      <td>LNTVG</td>\n      <td>-0.4036</td>\n    </tr>\n    <tr>\n      <th>3153</th>\n      <td>V</td>\n      <td>PEVIPMFSALSEGATPQDLNTMLNTVGGH</td>\n      <td>NTVGG</td>\n      <td>-0.7940</td>\n    </tr>\n    <tr>\n      <th>3154</th>\n      <td>G</td>\n      <td>PEVIPMFSALSEGATPQDLNTMLNTVGGH</td>\n      <td>TVGGH</td>\n      <td>-0.8650</td>\n    </tr>\n    <tr>\n      <th>3155</th>\n      <td>G</td>\n      <td>PEVIPMFSALSEGATPQDLNTMLNTVGGH</td>\n      <td></td>\n      <td>0.0000</td>\n    </tr>\n    <tr>\n      <th>3156</th>\n      <td>H</td>\n      <td>PEVIPMFSALSEGATPQDLNTMLNTVGGH</td>\n      <td></td>\n      <td>0.0000</td>\n    </tr>\n  </tbody>\n</table>\n<p>3157 rows × 4 columns</p>\n</div>"
     },
     "execution_count": 23,
     "metadata": {},
     "output_type": "execute_result"
    }
   ],
   "source": [
    "window = 2\n",
    "result = pd.DataFrame(columns=[\"residue\",\"full_seq\", \"peptide\",\"prediction\"])\n",
    "unique_fulls = sample.full_sequence.unique()\n",
    "k = 0\n",
    "for seq in unique_fulls:\n",
    "    subset = sample.query(\"full_sequence == @seq\")\n",
    "    sub_i = 0\n",
    "    for i,r in enumerate(seq):\n",
    "        if i < window or i > len(seq)-window-1:\n",
    "            result.loc[k] = [r,seq,\"\",0]\n",
    "            k+=1\n",
    "        else:\n",
    "            pos = subset.index[sub_i]\n",
    "            result.loc[k] = [r,seq,subset.loc[pos,\"peptide\"],subset.loc[pos,\"pred\"]]\n",
    "            k+=1\n",
    "            sub_i+=1\n",
    "\n",
    "result"
   ],
   "metadata": {
    "collapsed": false,
    "ExecuteTime": {
     "end_time": "2023-05-12T00:47:50.940125506Z",
     "start_time": "2023-05-12T00:47:47.822706002Z"
    }
   }
  },
  {
   "cell_type": "code",
   "execution_count": 24,
   "outputs": [
    {
     "name": "stdout",
     "output_type": "stream",
     "text": [
      "0    2306\n",
      "1     851\n",
      "Name: activity, dtype: int64\n"
     ]
    },
    {
     "data": {
      "text/plain": "     residue                       sequence  activity\n0          A                 ALETGTIFLPVRHD         0\n1          L                 ALETGTIFLPVRHD         0\n2          E                 ALETGTIFLPVRHD         0\n3          T                 ALETGTIFLPVRHD         1\n4          G                 ALETGTIFLPVRHD         0\n...      ...                            ...       ...\n3152       T  PEVIPMFSALSEGATPQDLNTMLNTVGGH         0\n3153       V  PEVIPMFSALSEGATPQDLNTMLNTVGGH         0\n3154       G  PEVIPMFSALSEGATPQDLNTMLNTVGGH         0\n3155       G  PEVIPMFSALSEGATPQDLNTMLNTVGGH         0\n3156       H  PEVIPMFSALSEGATPQDLNTMLNTVGGH         0\n\n[3157 rows x 3 columns]",
      "text/html": "<div>\n<style scoped>\n    .dataframe tbody tr th:only-of-type {\n        vertical-align: middle;\n    }\n\n    .dataframe tbody tr th {\n        vertical-align: top;\n    }\n\n    .dataframe thead th {\n        text-align: right;\n    }\n</style>\n<table border=\"1\" class=\"dataframe\">\n  <thead>\n    <tr style=\"text-align: right;\">\n      <th></th>\n      <th>residue</th>\n      <th>sequence</th>\n      <th>activity</th>\n    </tr>\n  </thead>\n  <tbody>\n    <tr>\n      <th>0</th>\n      <td>A</td>\n      <td>ALETGTIFLPVRHD</td>\n      <td>0</td>\n    </tr>\n    <tr>\n      <th>1</th>\n      <td>L</td>\n      <td>ALETGTIFLPVRHD</td>\n      <td>0</td>\n    </tr>\n    <tr>\n      <th>2</th>\n      <td>E</td>\n      <td>ALETGTIFLPVRHD</td>\n      <td>0</td>\n    </tr>\n    <tr>\n      <th>3</th>\n      <td>T</td>\n      <td>ALETGTIFLPVRHD</td>\n      <td>1</td>\n    </tr>\n    <tr>\n      <th>4</th>\n      <td>G</td>\n      <td>ALETGTIFLPVRHD</td>\n      <td>0</td>\n    </tr>\n    <tr>\n      <th>...</th>\n      <td>...</td>\n      <td>...</td>\n      <td>...</td>\n    </tr>\n    <tr>\n      <th>3152</th>\n      <td>T</td>\n      <td>PEVIPMFSALSEGATPQDLNTMLNTVGGH</td>\n      <td>0</td>\n    </tr>\n    <tr>\n      <th>3153</th>\n      <td>V</td>\n      <td>PEVIPMFSALSEGATPQDLNTMLNTVGGH</td>\n      <td>0</td>\n    </tr>\n    <tr>\n      <th>3154</th>\n      <td>G</td>\n      <td>PEVIPMFSALSEGATPQDLNTMLNTVGGH</td>\n      <td>0</td>\n    </tr>\n    <tr>\n      <th>3155</th>\n      <td>G</td>\n      <td>PEVIPMFSALSEGATPQDLNTMLNTVGGH</td>\n      <td>0</td>\n    </tr>\n    <tr>\n      <th>3156</th>\n      <td>H</td>\n      <td>PEVIPMFSALSEGATPQDLNTMLNTVGGH</td>\n      <td>0</td>\n    </tr>\n  </tbody>\n</table>\n<p>3157 rows × 3 columns</p>\n</div>"
     },
     "execution_count": 24,
     "metadata": {},
     "output_type": "execute_result"
    }
   ],
   "source": [
    "angel_result = pd.DataFrame(columns=[\"residue\", \"sequence\", \"true\",\"prediction\"])\n",
    "total_validation = pd.read_csv(\"Proteasome/in_vitro/immuno/validation/total_validation_immuno.csv\",sep = \";\")\n",
    "true = deconvoluteTrue(total_validation,\"exclusions\")\n",
    "true"
   ],
   "metadata": {
    "collapsed": false,
    "ExecuteTime": {
     "end_time": "2023-05-12T00:48:19.825361371Z",
     "start_time": "2023-05-12T00:48:16.777678542Z"
    }
   }
  },
  {
   "cell_type": "code",
   "execution_count": 25,
   "outputs": [],
   "source": [
    "true[\"ANGEL\"] = result[\"prediction\"]"
   ],
   "metadata": {
    "collapsed": false,
    "ExecuteTime": {
     "end_time": "2023-05-12T00:48:38.166555717Z",
     "start_time": "2023-05-12T00:48:38.131321629Z"
    }
   }
  },
  {
   "cell_type": "code",
   "execution_count": 26,
   "outputs": [
    {
     "name": "stdout",
     "output_type": "stream",
     "text": [
      "0.5825901979508827 0.3503160511991559\n"
     ]
    }
   ],
   "source": [
    "roc = metrics.roc_auc_score(true[\"activity\"],true[\"ANGEL\"])\n",
    "ap = metrics.average_precision_score(true[\"activity\"],true[\"ANGEL\"])\n",
    "print(roc,ap)"
   ],
   "metadata": {
    "collapsed": false,
    "ExecuteTime": {
     "end_time": "2023-05-12T00:49:44.276361566Z",
     "start_time": "2023-05-12T00:49:44.246562069Z"
    }
   }
  },
  {
   "cell_type": "code",
   "execution_count": 27,
   "outputs": [],
   "source": [
    "with open(\"Proteasome/in_vitro/immuno/validation/val_seqs.txt\",\"w\") as txt:\n",
    "    unique_fulls = sample.full_sequence.unique()\n",
    "    for f in unique_fulls:\n",
    "        txt.write(f\"{f}\\n\")"
   ],
   "metadata": {
    "collapsed": false,
    "ExecuteTime": {
     "end_time": "2023-05-12T00:49:57.171016260Z",
     "start_time": "2023-05-12T00:49:57.145057524Z"
    }
   }
  },
  {
   "cell_type": "code",
   "execution_count": 28,
   "outputs": [
    {
     "name": "stdout",
     "output_type": "stream",
     "text": [
      "conda run -p /home/stotoshka/Soft/anaconda3/envs/pepsickle-v0-2-1/ pepsickle -f Proteasome/in_vitro/immuno/validation/pepsickle_tmp.fasta -m in-vitro -p I --human-only >> Proteasome/in_vitro/immuno/validation/pepsickle_result.txt\n",
      "Finish\n"
     ]
    },
    {
     "name": "stderr",
     "output_type": "stream",
     "text": [
      "\n",
      "real\t0m3.496s\n",
      "user\t0m3.347s\n",
      "sys\t0m1.292s\n"
     ]
    }
   ],
   "source": [
    "%%bash\n",
    "cd /home/stotoshka/Documents/ANGEL_dev\n",
    "time python Proteasome/competitors/runPepsickle.py -t I -m in-vitro Proteasome/in_vitro/immuno/validation/val_seqs.txt Proteasome/in_vitro/immuno/results/validation/pepsickle_in_vitro.xlsx"
   ],
   "metadata": {
    "collapsed": false,
    "ExecuteTime": {
     "end_time": "2023-05-12T00:50:29.670507345Z",
     "start_time": "2023-05-12T00:50:26.120439200Z"
    }
   }
  },
  {
   "cell_type": "code",
   "execution_count": 29,
   "outputs": [
    {
     "name": "stdout",
     "output_type": "stream",
     "text": [
      "conda run -p /home/stotoshka/Soft/anaconda3/envs/pepsickle-v0-2-1/ pepsickle -f Proteasome/in_vitro/immuno/validation/pepsickle_tmp.fasta -m in-vitro-2 -p I --human-only >> Proteasome/in_vitro/immuno/validation/pepsickle_result.txt\n",
      "Finish\n"
     ]
    },
    {
     "name": "stderr",
     "output_type": "stream",
     "text": [
      "\n",
      "real\t0m3.256s\n",
      "user\t0m4.287s\n",
      "sys\t0m1.338s\n"
     ]
    }
   ],
   "source": [
    "%%bash\n",
    "cd /home/stotoshka/Documents/ANGEL_dev\n",
    "time python Proteasome/competitors/runPepsickle.py -t I -m in-vitro-2 Proteasome/in_vitro/immuno/validation/val_seqs.txt Proteasome/in_vitro/immuno/results/validation/pepsickle_in_vitro_2.xlsx"
   ],
   "metadata": {
    "collapsed": false,
    "ExecuteTime": {
     "end_time": "2023-05-12T00:50:47.090058079Z",
     "start_time": "2023-05-12T00:50:43.787751579Z"
    }
   }
  },
  {
   "cell_type": "code",
   "execution_count": 30,
   "outputs": [
    {
     "name": "stdout",
     "output_type": "stream",
     "text": [
      "0 0\n",
      "0 1\n",
      "0 2\n",
      "1 0\n",
      "1 1\n",
      "1 2\n",
      "2 0\n",
      "2 1\n",
      "2 2\n",
      "3 0\n",
      "3 1\n",
      "3 2\n",
      "4 0\n",
      "4 1\n",
      "4 2\n",
      "5 0\n",
      "5 1\n",
      "5 2\n",
      "6 0\n",
      "6 1\n",
      "6 2\n",
      "7 0\n",
      "7 1\n",
      "7 2\n",
      "8 0\n",
      "8 1\n",
      "8 2\n",
      "9 0\n",
      "9 1\n",
      "9 2\n",
      "10 0\n",
      "10 1\n",
      "10 2\n",
      "11 0\n",
      "11 1\n",
      "11 2\n",
      "12 0\n",
      "12 1\n",
      "12 2\n",
      "13 0\n",
      "13 1\n",
      "13 2\n",
      "14 0\n",
      "14 1\n",
      "14 2\n",
      "15 0\n",
      "15 1\n",
      "15 2\n",
      "16 0\n",
      "16 1\n",
      "16 2\n",
      "17 0\n",
      "17 1\n",
      "17 2\n",
      "18 0\n",
      "18 1\n",
      "18 2\n",
      "19 0\n",
      "19 1\n",
      "19 2\n",
      "20 0\n",
      "20 1\n",
      "20 2\n",
      "21 0\n",
      "21 1\n",
      "21 2\n",
      "22 0\n",
      "22 1\n",
      "22 2\n",
      "23 0\n",
      "23 1\n",
      "23 2\n",
      "24 0\n",
      "24 1\n",
      "24 2\n",
      "25 0\n",
      "25 1\n",
      "25 2\n",
      "26 0\n",
      "26 1\n",
      "26 2\n",
      "27 0\n",
      "27 1\n",
      "27 2\n",
      "28 0\n",
      "28 1\n",
      "28 2\n",
      "29 0\n",
      "29 1\n",
      "29 2\n",
      "30 0\n",
      "30 1\n",
      "30 2\n",
      "31 0\n",
      "31 1\n",
      "31 2\n",
      "32 0\n",
      "32 1\n",
      "32 2\n",
      "33 0\n",
      "33 1\n",
      "33 2\n",
      "34 0\n",
      "34 1\n",
      "34 2\n",
      "35 0\n",
      "35 1\n",
      "35 2\n",
      "36 0\n",
      "36 1\n",
      "36 2\n",
      "37 0\n",
      "37 1\n",
      "37 2\n",
      "38 0\n",
      "38 1\n",
      "38 2\n",
      "39 0\n",
      "39 1\n",
      "39 2\n",
      "40 0\n",
      "40 1\n",
      "40 2\n",
      "41 0\n",
      "41 1\n",
      "41 2\n",
      "42 0\n",
      "42 1\n",
      "42 2\n",
      "43 0\n",
      "43 1\n",
      "43 2\n",
      "44 0\n",
      "44 1\n",
      "44 2\n",
      "45 0\n",
      "45 1\n",
      "45 2\n",
      "46 0\n",
      "46 1\n",
      "46 2\n",
      "47 0\n",
      "47 1\n",
      "47 2\n",
      "48 0\n",
      "48 1\n",
      "48 2\n",
      "49 0\n",
      "49 1\n",
      "49 2\n",
      "50 0\n",
      "50 1\n",
      "50 2\n",
      "51 0\n",
      "51 1\n",
      "51 2\n",
      "52 0\n",
      "52 1\n",
      "52 2\n",
      "53 0\n",
      "53 1\n",
      "53 2\n",
      "54 0\n",
      "54 1\n",
      "54 2\n",
      "55 0\n",
      "55 1\n",
      "55 2\n",
      "56 0\n",
      "56 1\n",
      "56 2\n",
      "57 0\n",
      "57 1\n",
      "57 2\n",
      "58 0\n",
      "58 1\n",
      "58 2\n",
      "59 0\n",
      "59 1\n",
      "59 2\n",
      "60 0\n",
      "60 1\n",
      "60 2\n",
      "61 0\n",
      "61 1\n",
      "61 2\n",
      "62 0\n",
      "62 1\n",
      "62 2\n",
      "63 0\n",
      "63 1\n",
      "63 2\n",
      "64 0\n",
      "64 1\n",
      "64 2\n",
      "65 0\n",
      "65 1\n",
      "65 2\n",
      "66 0\n",
      "66 1\n",
      "66 2\n",
      "67 0\n",
      "67 1\n",
      "67 2\n",
      "68 0\n",
      "68 1\n",
      "68 2\n",
      "69 0\n",
      "69 1\n",
      "69 2\n",
      "70 0\n",
      "70 1\n",
      "70 2\n",
      "71 0\n",
      "71 1\n",
      "71 2\n",
      "72 0\n",
      "72 1\n",
      "72 2\n",
      "73 0\n",
      "73 1\n",
      "73 2\n",
      "74 0\n",
      "74 1\n",
      "74 2\n",
      "75 0\n",
      "75 1\n",
      "75 2\n",
      "76 0\n",
      "76 1\n",
      "76 2\n",
      "77 0\n",
      "77 1\n",
      "77 2\n",
      "78 0\n",
      "78 1\n",
      "78 2\n",
      "79 0\n",
      "79 1\n",
      "79 2\n",
      "80 0\n",
      "80 1\n",
      "80 2\n",
      "81 0\n",
      "81 1\n",
      "81 2\n",
      "82 0\n",
      "82 1\n",
      "82 2\n",
      "83 0\n",
      "83 1\n",
      "83 2\n",
      "84 0\n",
      "84 1\n",
      "84 2\n",
      "85 0\n",
      "85 1\n",
      "85 2\n",
      "86 0\n",
      "86 1\n",
      "86 2\n",
      "87 0\n",
      "87 1\n",
      "87 2\n",
      "88 0\n",
      "88 1\n",
      "88 2\n",
      "89 0\n",
      "89 1\n",
      "89 2\n",
      "90 0\n",
      "90 1\n",
      "90 2\n",
      "91 0\n",
      "91 1\n",
      "91 2\n",
      "92 0\n",
      "92 1\n",
      "92 2\n",
      "93 0\n",
      "93 1\n",
      "93 2\n",
      "94 0\n",
      "94 1\n",
      "94 2\n",
      "95 0\n",
      "95 1\n",
      "95 2\n",
      "96 0\n",
      "96 1\n",
      "96 2\n",
      "97 0\n",
      "97 1\n",
      "97 2\n",
      "98 0\n",
      "98 1\n",
      "98 2\n",
      "99 0\n",
      "99 1\n",
      "99 2\n",
      "100 0\n",
      "100 1\n",
      "100 2\n",
      "101 0\n",
      "101 1\n",
      "101 2\n",
      "102 0\n",
      "102 1\n",
      "102 2\n",
      "103 0\n",
      "103 1\n",
      "103 2\n",
      "104 0\n",
      "104 1\n",
      "104 2\n",
      "105 0\n",
      "105 1\n",
      "105 2\n",
      "106 0\n",
      "106 1\n",
      "106 2\n",
      "107 0\n",
      "107 1\n",
      "107 2\n",
      "108 0\n",
      "108 1\n",
      "108 2\n",
      "109 0\n",
      "109 1\n",
      "109 2\n",
      "110 0\n",
      "110 1\n",
      "110 2\n",
      "111 0\n",
      "111 1\n",
      "111 2\n",
      "112 0\n",
      "112 1\n",
      "112 2\n",
      "113 0\n",
      "113 1\n",
      "113 2\n",
      "114 0\n",
      "114 1\n",
      "114 2\n",
      "115 0\n",
      "115 1\n",
      "115 2\n",
      "116 0\n",
      "116 1\n",
      "116 2\n",
      "117 0\n",
      "117 1\n",
      "117 2\n",
      "118 0\n",
      "118 1\n",
      "118 2\n",
      "119 0\n",
      "119 1\n",
      "119 2\n",
      "120 0\n",
      "120 1\n",
      "120 2\n",
      "121 0\n",
      "121 1\n",
      "121 2\n",
      "122 0\n",
      "122 1\n",
      "122 2\n",
      "123 0\n",
      "123 1\n",
      "123 2\n",
      "124 0\n",
      "124 1\n",
      "124 2\n",
      "125 0\n",
      "125 1\n",
      "125 2\n",
      "126 0\n",
      "126 1\n",
      "126 2\n",
      "127 0\n",
      "127 1\n",
      "127 2\n",
      "128 0\n",
      "128 1\n",
      "128 2\n",
      "129 0\n",
      "129 1\n",
      "129 2\n",
      "130 0\n",
      "130 1\n",
      "130 2\n",
      "131 0\n",
      "131 1\n",
      "131 2\n",
      "132 0\n",
      "132 1\n",
      "132 2\n",
      "133 0\n",
      "133 1\n",
      "133 2\n",
      "134 0\n",
      "134 1\n",
      "134 2\n",
      "135 0\n",
      "135 1\n",
      "135 2\n",
      "136 0\n",
      "136 1\n",
      "136 2\n",
      "137 0\n",
      "137 1\n",
      "137 2\n",
      "138 0\n",
      "138 1\n",
      "138 2\n",
      "139 0\n",
      "139 1\n",
      "139 2\n",
      "140 0\n",
      "140 1\n",
      "140 2\n",
      "141 0\n",
      "141 1\n",
      "141 2\n",
      "142 0\n",
      "142 1\n",
      "142 2\n",
      "143 0\n",
      "143 1\n",
      "143 2\n",
      "144 0\n",
      "144 1\n",
      "144 2\n",
      "145 0\n",
      "145 1\n",
      "145 2\n",
      "146 0\n",
      "146 1\n",
      "146 2\n",
      "147 0\n",
      "147 1\n",
      "147 2\n",
      "148 0\n",
      "148 1\n",
      "148 2\n",
      "149 0\n",
      "149 1\n",
      "149 2\n",
      "150 0\n",
      "150 1\n",
      "150 2\n",
      "151 0\n",
      "151 1\n",
      "151 2\n",
      "152 0\n",
      "152 1\n",
      "152 2\n",
      "153 0\n",
      "153 1\n",
      "153 2\n",
      "154 0\n",
      "154 1\n",
      "154 2\n",
      "155 0\n",
      "155 1\n",
      "155 2\n",
      "156 0\n",
      "156 1\n",
      "156 2\n",
      "157 0\n",
      "157 1\n",
      "157 2\n",
      "158 0\n",
      "158 1\n",
      "158 2\n",
      "159 0\n",
      "159 1\n",
      "159 2\n",
      "160 0\n",
      "160 1\n",
      "160 2\n",
      "161 0\n",
      "161 1\n",
      "161 2\n",
      "162 0\n",
      "162 1\n",
      "162 2\n",
      "163 0\n",
      "163 1\n",
      "163 2\n",
      "164 0\n",
      "164 1\n",
      "164 2\n",
      "165 0\n",
      "165 1\n",
      "165 2\n",
      "166 0\n",
      "166 1\n",
      "166 2\n",
      "167 0\n",
      "167 1\n",
      "167 2\n",
      "168 0\n",
      "168 1\n",
      "168 2\n",
      "169 0\n",
      "169 1\n",
      "169 2\n",
      "170 0\n",
      "170 1\n",
      "170 2\n",
      "171 0\n",
      "171 1\n",
      "171 2\n",
      "172 0\n",
      "172 1\n",
      "172 2\n",
      "173 0\n",
      "173 1\n",
      "173 2\n",
      "174 0\n",
      "174 1\n",
      "174 2\n",
      "175 0\n",
      "175 1\n",
      "175 2\n",
      "176 0\n",
      "176 1\n",
      "176 2\n",
      "177 0\n",
      "177 1\n",
      "177 2\n",
      "178 0\n",
      "178 1\n",
      "178 2\n",
      "179 0\n",
      "179 1\n",
      "179 2\n",
      "180 0\n",
      "180 1\n",
      "180 2\n",
      "181 0\n",
      "181 1\n",
      "181 2\n",
      "182 0\n",
      "182 1\n",
      "182 2\n",
      "183 0\n",
      "183 1\n",
      "183 2\n",
      "184 0\n",
      "184 1\n",
      "184 2\n",
      "185 0\n",
      "185 1\n",
      "185 2\n",
      "186 0\n",
      "186 1\n",
      "186 2\n",
      "187 0\n",
      "187 1\n",
      "187 2\n",
      "188 0\n",
      "188 1\n",
      "188 2\n",
      "189 0\n",
      "189 1\n",
      "189 2\n",
      "190 0\n",
      "190 1\n",
      "190 2\n",
      "191 0\n",
      "191 1\n",
      "191 2\n",
      "192 0\n",
      "192 1\n",
      "192 2\n",
      "193 0\n",
      "193 1\n",
      "193 2\n",
      "194 0\n",
      "194 1\n",
      "194 2\n",
      "195 0\n",
      "195 1\n",
      "195 2\n",
      "196 0\n",
      "196 1\n",
      "196 2\n",
      "197 0\n",
      "197 1\n",
      "197 2\n",
      "198 0\n",
      "198 1\n",
      "198 2\n",
      "199 0\n",
      "199 1\n",
      "199 2\n",
      "200 0\n",
      "200 1\n",
      "200 2\n",
      "201 0\n",
      "201 1\n",
      "201 2\n",
      "202 0\n",
      "202 1\n",
      "202 2\n",
      "203 0\n",
      "203 1\n",
      "203 2\n",
      "204 0\n",
      "204 1\n",
      "204 2\n",
      "205 0\n",
      "205 1\n",
      "205 2\n",
      "206 0\n",
      "206 1\n",
      "206 2\n",
      "207 0\n",
      "207 1\n",
      "207 2\n",
      "208 0\n",
      "208 1\n",
      "208 2\n",
      "209 0\n",
      "209 1\n",
      "209 2\n",
      "210 0\n",
      "210 1\n",
      "210 2\n",
      "211 0\n",
      "211 1\n",
      "211 2\n",
      "212 0\n",
      "212 1\n",
      "212 2\n",
      "213 0\n",
      "213 1\n",
      "213 2\n",
      "214 0\n",
      "214 1\n",
      "214 2\n"
     ]
    },
    {
     "name": "stderr",
     "output_type": "stream",
     "text": [
      "\n",
      "real\t80m19.823s\n",
      "user\t0m25.374s\n",
      "sys\t0m1.216s\n"
     ]
    }
   ],
   "source": [
    "%%bash\n",
    "cd /home/stotoshka/Documents/ANGEL_dev\n",
    "time python Proteasome/competitors/runPCPS.py -t I Proteasome/in_vitro/immuno/validation/val_seqs.txt Proteasome/in_vitro/immuno/results/validation"
   ],
   "metadata": {
    "collapsed": false,
    "ExecuteTime": {
     "end_time": "2023-05-12T02:11:31.215483569Z",
     "start_time": "2023-05-12T00:51:11.263857247Z"
    }
   }
  },
  {
   "cell_type": "code",
   "execution_count": null,
   "outputs": [],
   "source": [],
   "metadata": {
    "collapsed": false
   }
  }
 ],
 "metadata": {
  "kernelspec": {
   "display_name": "Python 3",
   "language": "python",
   "name": "python3"
  },
  "language_info": {
   "codemirror_mode": {
    "name": "ipython",
    "version": 2
   },
   "file_extension": ".py",
   "mimetype": "text/x-python",
   "name": "python",
   "nbconvert_exporter": "python",
   "pygments_lexer": "ipython2",
   "version": "2.7.6"
  }
 },
 "nbformat": 4,
 "nbformat_minor": 0
}
